{
 "cells": [
  {
   "cell_type": "code",
   "execution_count": 37,
   "id": "7ab5865f",
   "metadata": {},
   "outputs": [],
   "source": [
    "from pyspark.sql import SparkSession\n",
    "import getpass\n",
    "username = getpass.getuser()\n",
    "spark = SparkSession. \\\n",
    "    builder. \\\n",
    "    config('spark.ui.port','0'). \\\n",
    "    config(\"spark.sql.warehouse.dir\",f\"/user/itv010130/warehouse\"). \\\n",
    "    enableHiveSupport(). \\\n",
    "    master('yarn'). \\\n",
    "    getOrCreate()"
   ]
  },
  {
   "cell_type": "markdown",
   "id": "55037558",
   "metadata": {},
   "source": [
    "### Customer Data"
   ]
  },
  {
   "cell_type": "code",
   "execution_count": 38,
   "id": "afa45479",
   "metadata": {},
   "outputs": [],
   "source": [
    "customer_df = spark.read \\\n",
    ".option(\"header\", True) \\\n",
    ".format(\"csv\") \\\n",
    ".option(\"inferSchema\", True) \\\n",
    ".load(\"/user/itv010130/loanproject/raw/customer_data_csv\")"
   ]
  },
  {
   "cell_type": "code",
   "execution_count": 3,
   "id": "fbcf4c0f",
   "metadata": {},
   "outputs": [
    {
     "data": {
      "text/html": [
       "<table border='1'>\n",
       "<tr><th>member_id</th><th>emp_title</th><th>emp_length</th><th>home_ownership</th><th>annual_inc</th><th>addr_state</th><th>zip_code</th><th>country</th><th>grade</th><th>sub_grade</th><th>verification_status</th><th>tot_hi_cred_lim</th><th>application_type</th><th>annual_inc_joint</th><th>verification_status_joint</th></tr>\n",
       "<tr><td>6d5091b3fcaaeb4ea...</td><td>leadman</td><td>10+ years</td><td>MORTGAGE</td><td>55000.0</td><td>PA</td><td>190xx</td><td>USA</td><td>C</td><td>C4</td><td>Not Verified</td><td>178050.0</td><td>Individual</td><td>null</td><td>null</td></tr>\n",
       "<tr><td>b5e7938b0a2da4cea...</td><td>Engineer</td><td>10+ years</td><td>MORTGAGE</td><td>65000.0</td><td>SD</td><td>577xx</td><td>USA</td><td>C</td><td>C1</td><td>Not Verified</td><td>314017.0</td><td>Individual</td><td>null</td><td>null</td></tr>\n",
       "<tr><td>91060b858433e8a61...</td><td>truck driver</td><td>10+ years</td><td>MORTGAGE</td><td>63000.0</td><td>IL</td><td>605xx</td><td>USA</td><td>B</td><td>B4</td><td>Not Verified</td><td>218418.0</td><td>Joint App</td><td>71000.0</td><td>Not Verified</td></tr>\n",
       "<tr><td>cab1fa9f533688b0a...</td><td>Information Syste...</td><td>10+ years</td><td>MORTGAGE</td><td>110000.0</td><td>NJ</td><td>076xx</td><td>USA</td><td>C</td><td>C5</td><td>Source Verified</td><td>381215.0</td><td>Individual</td><td>null</td><td>null</td></tr>\n",
       "<tr><td>f74e401c1ab0adf78...</td><td>Contract Specialist</td><td>3 years</td><td>MORTGAGE</td><td>104433.0</td><td>PA</td><td>174xx</td><td>USA</td><td>F</td><td>F1</td><td>Source Verified</td><td>439570.0</td><td>Individual</td><td>null</td><td>null</td></tr>\n",
       "<tr><td>8aef4bb29d609d8d6...</td><td>Veterinary Tecnician</td><td>4 years</td><td>RENT</td><td>34000.0</td><td>GA</td><td>300xx</td><td>USA</td><td>C</td><td>C3</td><td>Source Verified</td><td>16900.0</td><td>Individual</td><td>null</td><td>null</td></tr>\n",
       "<tr><td>538b4653da3b1e814...</td><td>Vice President of...</td><td>10+ years</td><td>MORTGAGE</td><td>180000.0</td><td>MN</td><td>550xx</td><td>USA</td><td>B</td><td>B2</td><td>Not Verified</td><td>388852.0</td><td>Individual</td><td>null</td><td>null</td></tr>\n",
       "<tr><td>b24d55f21390533c5...</td><td>road driver</td><td>10+ years</td><td>MORTGAGE</td><td>85000.0</td><td>SC</td><td>293xx</td><td>USA</td><td>B</td><td>B1</td><td>Not Verified</td><td>193390.0</td><td>Individual</td><td>null</td><td>null</td></tr>\n",
       "<tr><td>1035c5401b0ca76d0...</td><td>SERVICE MANAGER</td><td>6 years</td><td>RENT</td><td>85000.0</td><td>PA</td><td>160xx</td><td>USA</td><td>A</td><td>A2</td><td>Not Verified</td><td>61099.0</td><td>Individual</td><td>null</td><td>null</td></tr>\n",
       "<tr><td>cb0f1777593e77909...</td><td>Vendor liaison</td><td>10+ years</td><td>MORTGAGE</td><td>42000.0</td><td>RI</td><td>029xx</td><td>USA</td><td>B</td><td>B5</td><td>Not Verified</td><td>256513.0</td><td>Individual</td><td>null</td><td>null</td></tr>\n",
       "<tr><td>a962f4d59caec5fa1...</td><td>Executive Director</td><td>6 years</td><td>MORTGAGE</td><td>95000.0</td><td>SC</td><td>290xx</td><td>USA</td><td>C</td><td>C2</td><td>Not Verified</td><td>436841.0</td><td>Individual</td><td>null</td><td>null</td></tr>\n",
       "<tr><td>e7592ab57b3afd9f1...</td><td>Senior Structural...</td><td>1 year</td><td>MORTGAGE</td><td>70000.0</td><td>TX</td><td>786xx</td><td>USA</td><td>C</td><td>C2</td><td>Not Verified</td><td>309638.0</td><td>Individual</td><td>null</td><td>null</td></tr>\n",
       "<tr><td>603afa9d1be879b7b...</td><td>Logistics Manager</td><td>3 years</td><td>MORTGAGE</td><td>64000.0</td><td>NC</td><td>275xx</td><td>USA</td><td>C</td><td>C2</td><td>Not Verified</td><td>372109.0</td><td>Individual</td><td>null</td><td>null</td></tr>\n",
       "<tr><td>9fe2d59ddf2a4f37e...</td><td>Software Manager</td><td>7 years</td><td>RENT</td><td>150000.0</td><td>CA</td><td>916xx</td><td>USA</td><td>E</td><td>E2</td><td>Not Verified</td><td>65819.0</td><td>Individual</td><td>null</td><td>null</td></tr>\n",
       "<tr><td>23857480ccf555ce4...</td><td>Senior Manager</td><td>10+ years</td><td>MORTGAGE</td><td>92000.0</td><td>NC</td><td>275xx</td><td>USA</td><td>A</td><td>A2</td><td>Not Verified</td><td>304003.0</td><td>Individual</td><td>null</td><td>null</td></tr>\n",
       "<tr><td>7c69d5f36fdabf6e1...</td><td>tech</td><td>8 years</td><td>MORTGAGE</td><td>60000.0</td><td>SC</td><td>299xx</td><td>USA</td><td>A</td><td>A4</td><td>Not Verified</td><td>88635.0</td><td>Individual</td><td>null</td><td>null</td></tr>\n",
       "<tr><td>08bf9e080503b0113...</td><td>Sales Manager</td><td>10+ years</td><td>MORTGAGE</td><td>109000.0</td><td>VA</td><td>226xx</td><td>USA</td><td>A</td><td>A4</td><td>Not Verified</td><td>373572.0</td><td>Individual</td><td>null</td><td>null</td></tr>\n",
       "<tr><td>1cafb05aa6c894c30...</td><td>GS-11</td><td>10+ years</td><td>MORTGAGE</td><td>112000.0</td><td>AZ</td><td>856xx</td><td>USA</td><td>C</td><td>C1</td><td>Not Verified</td><td>309710.0</td><td>Individual</td><td>null</td><td>null</td></tr>\n",
       "<tr><td>f2c4010f700d8c9c4...</td><td>Teacher</td><td>5 years</td><td>RENT</td><td>64000.0</td><td>NY</td><td>117xx</td><td>USA</td><td>B</td><td>B1</td><td>Not Verified</td><td>93962.0</td><td>Individual</td><td>null</td><td>null</td></tr>\n",
       "<tr><td>05ad4aed7c393035e...</td><td>Program Coordinator</td><td>8 years</td><td>RENT</td><td>55000.0</td><td>IN</td><td>462xx</td><td>USA</td><td>E</td><td>E3</td><td>Verified</td><td>38998.0</td><td>Individual</td><td>null</td><td>null</td></tr>\n",
       "</table>\n",
       "only showing top 20 rows\n"
      ],
      "text/plain": [
       "+--------------------+--------------------+----------+--------------+----------+----------+--------+-------+-----+---------+-------------------+---------------+----------------+----------------+-------------------------+\n",
       "|           member_id|           emp_title|emp_length|home_ownership|annual_inc|addr_state|zip_code|country|grade|sub_grade|verification_status|tot_hi_cred_lim|application_type|annual_inc_joint|verification_status_joint|\n",
       "+--------------------+--------------------+----------+--------------+----------+----------+--------+-------+-----+---------+-------------------+---------------+----------------+----------------+-------------------------+\n",
       "|6d5091b3fcaaeb4ea...|             leadman| 10+ years|      MORTGAGE|   55000.0|        PA|   190xx|    USA|    C|       C4|       Not Verified|       178050.0|      Individual|            null|                     null|\n",
       "|b5e7938b0a2da4cea...|            Engineer| 10+ years|      MORTGAGE|   65000.0|        SD|   577xx|    USA|    C|       C1|       Not Verified|       314017.0|      Individual|            null|                     null|\n",
       "|91060b858433e8a61...|        truck driver| 10+ years|      MORTGAGE|   63000.0|        IL|   605xx|    USA|    B|       B4|       Not Verified|       218418.0|       Joint App|         71000.0|             Not Verified|\n",
       "|cab1fa9f533688b0a...|Information Syste...| 10+ years|      MORTGAGE|  110000.0|        NJ|   076xx|    USA|    C|       C5|    Source Verified|       381215.0|      Individual|            null|                     null|\n",
       "|f74e401c1ab0adf78...| Contract Specialist|   3 years|      MORTGAGE|  104433.0|        PA|   174xx|    USA|    F|       F1|    Source Verified|       439570.0|      Individual|            null|                     null|\n",
       "|8aef4bb29d609d8d6...|Veterinary Tecnician|   4 years|          RENT|   34000.0|        GA|   300xx|    USA|    C|       C3|    Source Verified|        16900.0|      Individual|            null|                     null|\n",
       "|538b4653da3b1e814...|Vice President of...| 10+ years|      MORTGAGE|  180000.0|        MN|   550xx|    USA|    B|       B2|       Not Verified|       388852.0|      Individual|            null|                     null|\n",
       "|b24d55f21390533c5...|         road driver| 10+ years|      MORTGAGE|   85000.0|        SC|   293xx|    USA|    B|       B1|       Not Verified|       193390.0|      Individual|            null|                     null|\n",
       "|1035c5401b0ca76d0...|     SERVICE MANAGER|   6 years|          RENT|   85000.0|        PA|   160xx|    USA|    A|       A2|       Not Verified|        61099.0|      Individual|            null|                     null|\n",
       "|cb0f1777593e77909...|      Vendor liaison| 10+ years|      MORTGAGE|   42000.0|        RI|   029xx|    USA|    B|       B5|       Not Verified|       256513.0|      Individual|            null|                     null|\n",
       "|a962f4d59caec5fa1...|  Executive Director|   6 years|      MORTGAGE|   95000.0|        SC|   290xx|    USA|    C|       C2|       Not Verified|       436841.0|      Individual|            null|                     null|\n",
       "|e7592ab57b3afd9f1...|Senior Structural...|    1 year|      MORTGAGE|   70000.0|        TX|   786xx|    USA|    C|       C2|       Not Verified|       309638.0|      Individual|            null|                     null|\n",
       "|603afa9d1be879b7b...|   Logistics Manager|   3 years|      MORTGAGE|   64000.0|        NC|   275xx|    USA|    C|       C2|       Not Verified|       372109.0|      Individual|            null|                     null|\n",
       "|9fe2d59ddf2a4f37e...|    Software Manager|   7 years|          RENT|  150000.0|        CA|   916xx|    USA|    E|       E2|       Not Verified|        65819.0|      Individual|            null|                     null|\n",
       "|23857480ccf555ce4...|      Senior Manager| 10+ years|      MORTGAGE|   92000.0|        NC|   275xx|    USA|    A|       A2|       Not Verified|       304003.0|      Individual|            null|                     null|\n",
       "|7c69d5f36fdabf6e1...|                tech|   8 years|      MORTGAGE|   60000.0|        SC|   299xx|    USA|    A|       A4|       Not Verified|        88635.0|      Individual|            null|                     null|\n",
       "|08bf9e080503b0113...|       Sales Manager| 10+ years|      MORTGAGE|  109000.0|        VA|   226xx|    USA|    A|       A4|       Not Verified|       373572.0|      Individual|            null|                     null|\n",
       "|1cafb05aa6c894c30...|               GS-11| 10+ years|      MORTGAGE|  112000.0|        AZ|   856xx|    USA|    C|       C1|       Not Verified|       309710.0|      Individual|            null|                     null|\n",
       "|f2c4010f700d8c9c4...|             Teacher|   5 years|          RENT|   64000.0|        NY|   117xx|    USA|    B|       B1|       Not Verified|        93962.0|      Individual|            null|                     null|\n",
       "|05ad4aed7c393035e...| Program Coordinator|   8 years|          RENT|   55000.0|        IN|   462xx|    USA|    E|       E3|           Verified|        38998.0|      Individual|            null|                     null|\n",
       "+--------------------+--------------------+----------+--------------+----------+----------+--------+-------+-----+---------+-------------------+---------------+----------------+----------------+-------------------------+\n",
       "only showing top 20 rows"
      ]
     },
     "execution_count": 3,
     "metadata": {},
     "output_type": "execute_result"
    }
   ],
   "source": [
    "customer_df"
   ]
  },
  {
   "cell_type": "code",
   "execution_count": 4,
   "id": "70250f2c",
   "metadata": {},
   "outputs": [
    {
     "name": "stdout",
     "output_type": "stream",
     "text": [
      "root\n",
      " |-- member_id: string (nullable = true)\n",
      " |-- emp_title: string (nullable = true)\n",
      " |-- emp_length: string (nullable = true)\n",
      " |-- home_ownership: string (nullable = true)\n",
      " |-- annual_inc: string (nullable = true)\n",
      " |-- addr_state: string (nullable = true)\n",
      " |-- zip_code: string (nullable = true)\n",
      " |-- country: string (nullable = true)\n",
      " |-- grade: string (nullable = true)\n",
      " |-- sub_grade: string (nullable = true)\n",
      " |-- verification_status: string (nullable = true)\n",
      " |-- tot_hi_cred_lim: double (nullable = true)\n",
      " |-- application_type: string (nullable = true)\n",
      " |-- annual_inc_joint: string (nullable = true)\n",
      " |-- verification_status_joint: string (nullable = true)\n",
      "\n"
     ]
    }
   ],
   "source": [
    "customer_df.printSchema()"
   ]
  },
  {
   "cell_type": "code",
   "execution_count": 39,
   "id": "a67ec69e",
   "metadata": {},
   "outputs": [],
   "source": [
    "customer_schema = 'member_id string,emp_title string,emp_length string,home_ownership string,annual_inc float,addr_state string,zip_code string,country string,grade string,sub_grade string,verification_status string,tot_hi_cred_lim float,application_type string,annual_inc_joint float,verification_status_joint string'"
   ]
  },
  {
   "cell_type": "code",
   "execution_count": 40,
   "id": "7fc77d03",
   "metadata": {},
   "outputs": [],
   "source": [
    "customer_df = spark.read \\\n",
    ".option(\"header\", True) \\\n",
    ".format(\"csv\") \\\n",
    ".schema(customer_schema) \\\n",
    ".load(\"/user/itv010130/loanproject/raw/customer_data_csv\")"
   ]
  },
  {
   "cell_type": "code",
   "execution_count": 5,
   "id": "d14a07db",
   "metadata": {},
   "outputs": [
    {
     "name": "stdout",
     "output_type": "stream",
     "text": [
      "root\n",
      " |-- member_id: string (nullable = true)\n",
      " |-- emp_title: string (nullable = true)\n",
      " |-- emp_length: string (nullable = true)\n",
      " |-- home_ownership: string (nullable = true)\n",
      " |-- annual_inc: float (nullable = true)\n",
      " |-- addr_state: string (nullable = true)\n",
      " |-- zip_code: string (nullable = true)\n",
      " |-- country: string (nullable = true)\n",
      " |-- grade: string (nullable = true)\n",
      " |-- sub_grade: string (nullable = true)\n",
      " |-- verification_status: string (nullable = true)\n",
      " |-- tot_hi_cred_lim: float (nullable = true)\n",
      " |-- application_type: string (nullable = true)\n",
      " |-- annual_inc_joint: float (nullable = true)\n",
      " |-- verification_status_joint: string (nullable = true)\n",
      "\n"
     ]
    }
   ],
   "source": [
    "customer_df.printSchema()"
   ]
  },
  {
   "cell_type": "code",
   "execution_count": 41,
   "id": "2a19062c",
   "metadata": {},
   "outputs": [],
   "source": [
    "customer_modified_df = customer_df.withColumnRenamed(\"annual_inc\",\"annual_income\") \\\n",
    ".withColumnRenamed(\"addr_state\",\"address_state\") \\\n",
    ".withColumnRenamed(\"zip_code\",\"address_zipcode\") \\\n",
    ".withColumnRenamed(\"country\",\"address_country\") \\\n",
    ".withColumnRenamed(\"tot_hi_cred_lim\",\"total_high_credit_limit\") \\\n",
    ".withColumnRenamed(\"annual_inc_joint\",\"join_annual_income\") \\"
   ]
  },
  {
   "cell_type": "code",
   "execution_count": 7,
   "id": "53adc96e",
   "metadata": {},
   "outputs": [
    {
     "data": {
      "text/html": [
       "<table border='1'>\n",
       "<tr><th>member_id</th><th>emp_title</th><th>emp_length</th><th>home_ownership</th><th>annual_income</th><th>address_state</th><th>address_zipcode</th><th>address_country</th><th>grade</th><th>sub_grade</th><th>verification_status</th><th>total_high_credit_limit</th><th>application_type</th><th>join_annual_income</th><th>verification_status_joint</th></tr>\n",
       "<tr><td>5d7676571dee53d06...</td><td>CNC Machinist</td><td>8 years</td><td>MORTGAGE</td><td>50000.0</td><td>SD</td><td>571xx</td><td>USA</td><td>C</td><td>C2</td><td>Not Verified</td><td>226297.0</td><td>Individual</td><td>null</td><td>null</td></tr>\n",
       "<tr><td>31fd1ef036c5caf26...</td><td>null</td><td>null</td><td>OWN</td><td>34200.0</td><td>OH</td><td>458xx</td><td>USA</td><td>B</td><td>B1</td><td>Verified</td><td>93184.0</td><td>Individual</td><td>null</td><td>null</td></tr>\n",
       "<tr><td>9b48253ca5848fa78...</td><td>partner</td><td>10+ years</td><td>MORTGAGE</td><td>200000.0</td><td>NY</td><td>120xx</td><td>USA</td><td>B</td><td>B3</td><td>Verified</td><td>80595.0</td><td>Individual</td><td>null</td><td>null</td></tr>\n",
       "<tr><td>d6b8f2e32be148721...</td><td>dup. equip. opr</td><td>10+ years</td><td>RENT</td><td>33000.0</td><td>CA</td><td>908xx</td><td>USA</td><td>F</td><td>F1</td><td>Source Verified</td><td>18681.0</td><td>Individual</td><td>null</td><td>null</td></tr>\n",
       "<tr><td>0a81ad556e20bcdb9...</td><td>PRODUCTION MANAGER</td><td>10+ years</td><td>MORTGAGE</td><td>63000.0</td><td>KS</td><td>670xx</td><td>USA</td><td>B</td><td>B5</td><td>Verified</td><td>178551.0</td><td>Individual</td><td>null</td><td>null</td></tr>\n",
       "<tr><td>843b995d39160ddab...</td><td>POLISHER</td><td>10+ years</td><td>RENT</td><td>32000.0</td><td>OH</td><td>445xx</td><td>USA</td><td>B</td><td>B5</td><td>Source Verified</td><td>67635.0</td><td>Individual</td><td>null</td><td>null</td></tr>\n",
       "<tr><td>04a8bd7c4e1407ba8...</td><td>distribution</td><td>6 years</td><td>MORTGAGE</td><td>41000.0</td><td>MI</td><td>481xx</td><td>USA</td><td>D</td><td>D2</td><td>Source Verified</td><td>53500.0</td><td>Individual</td><td>null</td><td>null</td></tr>\n",
       "<tr><td>3e9a89fa96988af68...</td><td>Service Tech</td><td>10+ years</td><td>MORTGAGE</td><td>43520.0</td><td>TN</td><td>372xx</td><td>USA</td><td>D</td><td>D3</td><td>Verified</td><td>130051.0</td><td>Individual</td><td>null</td><td>null</td></tr>\n",
       "<tr><td>394a8db0bd3bcf7de...</td><td>registered nurse</td><td>10+ years</td><td>MORTGAGE</td><td>83000.0</td><td>VA</td><td>232xx</td><td>USA</td><td>B</td><td>B1</td><td>Not Verified</td><td>132267.0</td><td>Individual</td><td>null</td><td>null</td></tr>\n",
       "<tr><td>09cea8d2b6f1272f7...</td><td>null</td><td>null</td><td>RENT</td><td>22000.0</td><td>NY</td><td>103xx</td><td>USA</td><td>E</td><td>E2</td><td>Source Verified</td><td>9600.0</td><td>Individual</td><td>null</td><td>null</td></tr>\n",
       "<tr><td>bc13b4bf12b2fb93f...</td><td>Special Education...</td><td>7 years</td><td>RENT</td><td>59000.0</td><td>CT</td><td>063xx</td><td>USA</td><td>C</td><td>C5</td><td>Source Verified</td><td>49604.0</td><td>Individual</td><td>null</td><td>null</td></tr>\n",
       "<tr><td>dcc3cce84164a1a4f...</td><td>Member Service Ph...</td><td>10+ years</td><td>RENT</td><td>45000.0</td><td>NY</td><td>100xx</td><td>USA</td><td>D</td><td>D1</td><td>Source Verified</td><td>21100.0</td><td>Individual</td><td>null</td><td>null</td></tr>\n",
       "<tr><td>a8c2898592c8c34ea...</td><td>null</td><td>null</td><td>OWN</td><td>33000.0</td><td>NY</td><td>117xx</td><td>USA</td><td>E</td><td>E2</td><td>Verified</td><td>19900.0</td><td>Individual</td><td>null</td><td>null</td></tr>\n",
       "<tr><td>2ab161847c8ce1f3e...</td><td>Senior Project Ma...</td><td>10+ years</td><td>MORTGAGE</td><td>86736.0</td><td>IL</td><td>625xx</td><td>USA</td><td>E</td><td>E4</td><td>Not Verified</td><td>162533.0</td><td>Individual</td><td>null</td><td>null</td></tr>\n",
       "<tr><td>9886b3db401c1d460...</td><td>Electronic Techni...</td><td>10+ years</td><td>MORTGAGE</td><td>55000.0</td><td>NY</td><td>130xx</td><td>USA</td><td>C</td><td>C5</td><td>Source Verified</td><td>171521.0</td><td>Individual</td><td>null</td><td>null</td></tr>\n",
       "<tr><td>7b62e3c918a7f9eb8...</td><td>CNA</td><td>5 years</td><td>RENT</td><td>40000.0</td><td>CA</td><td>907xx</td><td>USA</td><td>C</td><td>C1</td><td>Verified</td><td>31540.0</td><td>Individual</td><td>null</td><td>null</td></tr>\n",
       "<tr><td>698b533486c4900d4...</td><td>Teacher</td><td>10+ years</td><td>RENT</td><td>80000.0</td><td>NY</td><td>113xx</td><td>USA</td><td>B</td><td>B1</td><td>Source Verified</td><td>67061.0</td><td>Individual</td><td>null</td><td>null</td></tr>\n",
       "<tr><td>0b07196bd0485e4c2...</td><td>boat captain</td><td>8 years</td><td>MORTGAGE</td><td>150000.0</td><td>LA</td><td>703xx</td><td>USA</td><td>B</td><td>B5</td><td>Source Verified</td><td>62251.0</td><td>Individual</td><td>null</td><td>null</td></tr>\n",
       "<tr><td>92e61f312d73c874d...</td><td>warehouse</td><td>10+ years</td><td>RENT</td><td>34122.0</td><td>RI</td><td>028xx</td><td>USA</td><td>E</td><td>E5</td><td>Not Verified</td><td>40494.0</td><td>Individual</td><td>null</td><td>null</td></tr>\n",
       "<tr><td>a2eb7934b6490e443...</td><td>Producer/Editor</td><td>1 year</td><td>MORTGAGE</td><td>50000.0</td><td>AR</td><td>722xx</td><td>USA</td><td>E</td><td>E4</td><td>Source Verified</td><td>34532.0</td><td>Individual</td><td>null</td><td>null</td></tr>\n",
       "</table>\n",
       "only showing top 20 rows\n"
      ],
      "text/plain": [
       "+--------------------+--------------------+----------+--------------+-------------+-------------+---------------+---------------+-----+---------+-------------------+-----------------------+----------------+------------------+-------------------------+\n",
       "|           member_id|           emp_title|emp_length|home_ownership|annual_income|address_state|address_zipcode|address_country|grade|sub_grade|verification_status|total_high_credit_limit|application_type|join_annual_income|verification_status_joint|\n",
       "+--------------------+--------------------+----------+--------------+-------------+-------------+---------------+---------------+-----+---------+-------------------+-----------------------+----------------+------------------+-------------------------+\n",
       "|5d7676571dee53d06...|       CNC Machinist|   8 years|      MORTGAGE|      50000.0|           SD|          571xx|            USA|    C|       C2|       Not Verified|               226297.0|      Individual|              null|                     null|\n",
       "|31fd1ef036c5caf26...|                null|      null|           OWN|      34200.0|           OH|          458xx|            USA|    B|       B1|           Verified|                93184.0|      Individual|              null|                     null|\n",
       "|9b48253ca5848fa78...|             partner| 10+ years|      MORTGAGE|     200000.0|           NY|          120xx|            USA|    B|       B3|           Verified|                80595.0|      Individual|              null|                     null|\n",
       "|d6b8f2e32be148721...|     dup. equip. opr| 10+ years|          RENT|      33000.0|           CA|          908xx|            USA|    F|       F1|    Source Verified|                18681.0|      Individual|              null|                     null|\n",
       "|0a81ad556e20bcdb9...|  PRODUCTION MANAGER| 10+ years|      MORTGAGE|      63000.0|           KS|          670xx|            USA|    B|       B5|           Verified|               178551.0|      Individual|              null|                     null|\n",
       "|843b995d39160ddab...|            POLISHER| 10+ years|          RENT|      32000.0|           OH|          445xx|            USA|    B|       B5|    Source Verified|                67635.0|      Individual|              null|                     null|\n",
       "|04a8bd7c4e1407ba8...|        distribution|   6 years|      MORTGAGE|      41000.0|           MI|          481xx|            USA|    D|       D2|    Source Verified|                53500.0|      Individual|              null|                     null|\n",
       "|3e9a89fa96988af68...|        Service Tech| 10+ years|      MORTGAGE|      43520.0|           TN|          372xx|            USA|    D|       D3|           Verified|               130051.0|      Individual|              null|                     null|\n",
       "|394a8db0bd3bcf7de...|    registered nurse| 10+ years|      MORTGAGE|      83000.0|           VA|          232xx|            USA|    B|       B1|       Not Verified|               132267.0|      Individual|              null|                     null|\n",
       "|09cea8d2b6f1272f7...|                null|      null|          RENT|      22000.0|           NY|          103xx|            USA|    E|       E2|    Source Verified|                 9600.0|      Individual|              null|                     null|\n",
       "|bc13b4bf12b2fb93f...|Special Education...|   7 years|          RENT|      59000.0|           CT|          063xx|            USA|    C|       C5|    Source Verified|                49604.0|      Individual|              null|                     null|\n",
       "|dcc3cce84164a1a4f...|Member Service Ph...| 10+ years|          RENT|      45000.0|           NY|          100xx|            USA|    D|       D1|    Source Verified|                21100.0|      Individual|              null|                     null|\n",
       "|a8c2898592c8c34ea...|                null|      null|           OWN|      33000.0|           NY|          117xx|            USA|    E|       E2|           Verified|                19900.0|      Individual|              null|                     null|\n",
       "|2ab161847c8ce1f3e...|Senior Project Ma...| 10+ years|      MORTGAGE|      86736.0|           IL|          625xx|            USA|    E|       E4|       Not Verified|               162533.0|      Individual|              null|                     null|\n",
       "|9886b3db401c1d460...|Electronic Techni...| 10+ years|      MORTGAGE|      55000.0|           NY|          130xx|            USA|    C|       C5|    Source Verified|               171521.0|      Individual|              null|                     null|\n",
       "|7b62e3c918a7f9eb8...|                 CNA|   5 years|          RENT|      40000.0|           CA|          907xx|            USA|    C|       C1|           Verified|                31540.0|      Individual|              null|                     null|\n",
       "|698b533486c4900d4...|             Teacher| 10+ years|          RENT|      80000.0|           NY|          113xx|            USA|    B|       B1|    Source Verified|                67061.0|      Individual|              null|                     null|\n",
       "|0b07196bd0485e4c2...|        boat captain|   8 years|      MORTGAGE|     150000.0|           LA|          703xx|            USA|    B|       B5|    Source Verified|                62251.0|      Individual|              null|                     null|\n",
       "|92e61f312d73c874d...|           warehouse| 10+ years|          RENT|      34122.0|           RI|          028xx|            USA|    E|       E5|       Not Verified|                40494.0|      Individual|              null|                     null|\n",
       "|a2eb7934b6490e443...|     Producer/Editor|    1 year|      MORTGAGE|      50000.0|           AR|          722xx|            USA|    E|       E4|    Source Verified|                34532.0|      Individual|              null|                     null|\n",
       "+--------------------+--------------------+----------+--------------+-------------+-------------+---------------+---------------+-----+---------+-------------------+-----------------------+----------------+------------------+-------------------------+\n",
       "only showing top 20 rows"
      ]
     },
     "execution_count": 7,
     "metadata": {},
     "output_type": "execute_result"
    }
   ],
   "source": [
    "customer_modified_df"
   ]
  },
  {
   "cell_type": "code",
   "execution_count": 42,
   "id": "9d70c19a",
   "metadata": {},
   "outputs": [],
   "source": [
    "from pyspark.sql.functions import current_timestamp"
   ]
  },
  {
   "cell_type": "code",
   "execution_count": 43,
   "id": "b8486566",
   "metadata": {},
   "outputs": [],
   "source": [
    "customer_df = customer_modified_df.withColumn(\"ingestion_date\",current_timestamp())"
   ]
  },
  {
   "cell_type": "code",
   "execution_count": 10,
   "id": "410b0e42",
   "metadata": {},
   "outputs": [
    {
     "data": {
      "text/html": [
       "<table border='1'>\n",
       "<tr><th>member_id</th><th>emp_title</th><th>emp_length</th><th>home_ownership</th><th>annual_income</th><th>address_state</th><th>address_zipcode</th><th>address_country</th><th>grade</th><th>sub_grade</th><th>verification_status</th><th>total_high_credit_limit</th><th>application_type</th><th>join_annual_income</th><th>verification_status_joint</th><th>ingestion_date</th></tr>\n",
       "<tr><td>5d7676571dee53d06...</td><td>CNC Machinist</td><td>8 years</td><td>MORTGAGE</td><td>50000.0</td><td>SD</td><td>571xx</td><td>USA</td><td>C</td><td>C2</td><td>Not Verified</td><td>226297.0</td><td>Individual</td><td>null</td><td>null</td><td>2024-07-15 16:34:...</td></tr>\n",
       "<tr><td>31fd1ef036c5caf26...</td><td>null</td><td>null</td><td>OWN</td><td>34200.0</td><td>OH</td><td>458xx</td><td>USA</td><td>B</td><td>B1</td><td>Verified</td><td>93184.0</td><td>Individual</td><td>null</td><td>null</td><td>2024-07-15 16:34:...</td></tr>\n",
       "<tr><td>9b48253ca5848fa78...</td><td>partner</td><td>10+ years</td><td>MORTGAGE</td><td>200000.0</td><td>NY</td><td>120xx</td><td>USA</td><td>B</td><td>B3</td><td>Verified</td><td>80595.0</td><td>Individual</td><td>null</td><td>null</td><td>2024-07-15 16:34:...</td></tr>\n",
       "<tr><td>d6b8f2e32be148721...</td><td>dup. equip. opr</td><td>10+ years</td><td>RENT</td><td>33000.0</td><td>CA</td><td>908xx</td><td>USA</td><td>F</td><td>F1</td><td>Source Verified</td><td>18681.0</td><td>Individual</td><td>null</td><td>null</td><td>2024-07-15 16:34:...</td></tr>\n",
       "<tr><td>0a81ad556e20bcdb9...</td><td>PRODUCTION MANAGER</td><td>10+ years</td><td>MORTGAGE</td><td>63000.0</td><td>KS</td><td>670xx</td><td>USA</td><td>B</td><td>B5</td><td>Verified</td><td>178551.0</td><td>Individual</td><td>null</td><td>null</td><td>2024-07-15 16:34:...</td></tr>\n",
       "<tr><td>843b995d39160ddab...</td><td>POLISHER</td><td>10+ years</td><td>RENT</td><td>32000.0</td><td>OH</td><td>445xx</td><td>USA</td><td>B</td><td>B5</td><td>Source Verified</td><td>67635.0</td><td>Individual</td><td>null</td><td>null</td><td>2024-07-15 16:34:...</td></tr>\n",
       "<tr><td>04a8bd7c4e1407ba8...</td><td>distribution</td><td>6 years</td><td>MORTGAGE</td><td>41000.0</td><td>MI</td><td>481xx</td><td>USA</td><td>D</td><td>D2</td><td>Source Verified</td><td>53500.0</td><td>Individual</td><td>null</td><td>null</td><td>2024-07-15 16:34:...</td></tr>\n",
       "<tr><td>3e9a89fa96988af68...</td><td>Service Tech</td><td>10+ years</td><td>MORTGAGE</td><td>43520.0</td><td>TN</td><td>372xx</td><td>USA</td><td>D</td><td>D3</td><td>Verified</td><td>130051.0</td><td>Individual</td><td>null</td><td>null</td><td>2024-07-15 16:34:...</td></tr>\n",
       "<tr><td>394a8db0bd3bcf7de...</td><td>registered nurse</td><td>10+ years</td><td>MORTGAGE</td><td>83000.0</td><td>VA</td><td>232xx</td><td>USA</td><td>B</td><td>B1</td><td>Not Verified</td><td>132267.0</td><td>Individual</td><td>null</td><td>null</td><td>2024-07-15 16:34:...</td></tr>\n",
       "<tr><td>09cea8d2b6f1272f7...</td><td>null</td><td>null</td><td>RENT</td><td>22000.0</td><td>NY</td><td>103xx</td><td>USA</td><td>E</td><td>E2</td><td>Source Verified</td><td>9600.0</td><td>Individual</td><td>null</td><td>null</td><td>2024-07-15 16:34:...</td></tr>\n",
       "<tr><td>bc13b4bf12b2fb93f...</td><td>Special Education...</td><td>7 years</td><td>RENT</td><td>59000.0</td><td>CT</td><td>063xx</td><td>USA</td><td>C</td><td>C5</td><td>Source Verified</td><td>49604.0</td><td>Individual</td><td>null</td><td>null</td><td>2024-07-15 16:34:...</td></tr>\n",
       "<tr><td>dcc3cce84164a1a4f...</td><td>Member Service Ph...</td><td>10+ years</td><td>RENT</td><td>45000.0</td><td>NY</td><td>100xx</td><td>USA</td><td>D</td><td>D1</td><td>Source Verified</td><td>21100.0</td><td>Individual</td><td>null</td><td>null</td><td>2024-07-15 16:34:...</td></tr>\n",
       "<tr><td>a8c2898592c8c34ea...</td><td>null</td><td>null</td><td>OWN</td><td>33000.0</td><td>NY</td><td>117xx</td><td>USA</td><td>E</td><td>E2</td><td>Verified</td><td>19900.0</td><td>Individual</td><td>null</td><td>null</td><td>2024-07-15 16:34:...</td></tr>\n",
       "<tr><td>2ab161847c8ce1f3e...</td><td>Senior Project Ma...</td><td>10+ years</td><td>MORTGAGE</td><td>86736.0</td><td>IL</td><td>625xx</td><td>USA</td><td>E</td><td>E4</td><td>Not Verified</td><td>162533.0</td><td>Individual</td><td>null</td><td>null</td><td>2024-07-15 16:34:...</td></tr>\n",
       "<tr><td>9886b3db401c1d460...</td><td>Electronic Techni...</td><td>10+ years</td><td>MORTGAGE</td><td>55000.0</td><td>NY</td><td>130xx</td><td>USA</td><td>C</td><td>C5</td><td>Source Verified</td><td>171521.0</td><td>Individual</td><td>null</td><td>null</td><td>2024-07-15 16:34:...</td></tr>\n",
       "<tr><td>7b62e3c918a7f9eb8...</td><td>CNA</td><td>5 years</td><td>RENT</td><td>40000.0</td><td>CA</td><td>907xx</td><td>USA</td><td>C</td><td>C1</td><td>Verified</td><td>31540.0</td><td>Individual</td><td>null</td><td>null</td><td>2024-07-15 16:34:...</td></tr>\n",
       "<tr><td>698b533486c4900d4...</td><td>Teacher</td><td>10+ years</td><td>RENT</td><td>80000.0</td><td>NY</td><td>113xx</td><td>USA</td><td>B</td><td>B1</td><td>Source Verified</td><td>67061.0</td><td>Individual</td><td>null</td><td>null</td><td>2024-07-15 16:34:...</td></tr>\n",
       "<tr><td>0b07196bd0485e4c2...</td><td>boat captain</td><td>8 years</td><td>MORTGAGE</td><td>150000.0</td><td>LA</td><td>703xx</td><td>USA</td><td>B</td><td>B5</td><td>Source Verified</td><td>62251.0</td><td>Individual</td><td>null</td><td>null</td><td>2024-07-15 16:34:...</td></tr>\n",
       "<tr><td>92e61f312d73c874d...</td><td>warehouse</td><td>10+ years</td><td>RENT</td><td>34122.0</td><td>RI</td><td>028xx</td><td>USA</td><td>E</td><td>E5</td><td>Not Verified</td><td>40494.0</td><td>Individual</td><td>null</td><td>null</td><td>2024-07-15 16:34:...</td></tr>\n",
       "<tr><td>a2eb7934b6490e443...</td><td>Producer/Editor</td><td>1 year</td><td>MORTGAGE</td><td>50000.0</td><td>AR</td><td>722xx</td><td>USA</td><td>E</td><td>E4</td><td>Source Verified</td><td>34532.0</td><td>Individual</td><td>null</td><td>null</td><td>2024-07-15 16:34:...</td></tr>\n",
       "</table>\n",
       "only showing top 20 rows\n"
      ],
      "text/plain": [
       "+--------------------+--------------------+----------+--------------+-------------+-------------+---------------+---------------+-----+---------+-------------------+-----------------------+----------------+------------------+-------------------------+--------------------+\n",
       "|           member_id|           emp_title|emp_length|home_ownership|annual_income|address_state|address_zipcode|address_country|grade|sub_grade|verification_status|total_high_credit_limit|application_type|join_annual_income|verification_status_joint|      ingestion_date|\n",
       "+--------------------+--------------------+----------+--------------+-------------+-------------+---------------+---------------+-----+---------+-------------------+-----------------------+----------------+------------------+-------------------------+--------------------+\n",
       "|5d7676571dee53d06...|       CNC Machinist|   8 years|      MORTGAGE|      50000.0|           SD|          571xx|            USA|    C|       C2|       Not Verified|               226297.0|      Individual|              null|                     null|2024-07-15 16:34:...|\n",
       "|31fd1ef036c5caf26...|                null|      null|           OWN|      34200.0|           OH|          458xx|            USA|    B|       B1|           Verified|                93184.0|      Individual|              null|                     null|2024-07-15 16:34:...|\n",
       "|9b48253ca5848fa78...|             partner| 10+ years|      MORTGAGE|     200000.0|           NY|          120xx|            USA|    B|       B3|           Verified|                80595.0|      Individual|              null|                     null|2024-07-15 16:34:...|\n",
       "|d6b8f2e32be148721...|     dup. equip. opr| 10+ years|          RENT|      33000.0|           CA|          908xx|            USA|    F|       F1|    Source Verified|                18681.0|      Individual|              null|                     null|2024-07-15 16:34:...|\n",
       "|0a81ad556e20bcdb9...|  PRODUCTION MANAGER| 10+ years|      MORTGAGE|      63000.0|           KS|          670xx|            USA|    B|       B5|           Verified|               178551.0|      Individual|              null|                     null|2024-07-15 16:34:...|\n",
       "|843b995d39160ddab...|            POLISHER| 10+ years|          RENT|      32000.0|           OH|          445xx|            USA|    B|       B5|    Source Verified|                67635.0|      Individual|              null|                     null|2024-07-15 16:34:...|\n",
       "|04a8bd7c4e1407ba8...|        distribution|   6 years|      MORTGAGE|      41000.0|           MI|          481xx|            USA|    D|       D2|    Source Verified|                53500.0|      Individual|              null|                     null|2024-07-15 16:34:...|\n",
       "|3e9a89fa96988af68...|        Service Tech| 10+ years|      MORTGAGE|      43520.0|           TN|          372xx|            USA|    D|       D3|           Verified|               130051.0|      Individual|              null|                     null|2024-07-15 16:34:...|\n",
       "|394a8db0bd3bcf7de...|    registered nurse| 10+ years|      MORTGAGE|      83000.0|           VA|          232xx|            USA|    B|       B1|       Not Verified|               132267.0|      Individual|              null|                     null|2024-07-15 16:34:...|\n",
       "|09cea8d2b6f1272f7...|                null|      null|          RENT|      22000.0|           NY|          103xx|            USA|    E|       E2|    Source Verified|                 9600.0|      Individual|              null|                     null|2024-07-15 16:34:...|\n",
       "|bc13b4bf12b2fb93f...|Special Education...|   7 years|          RENT|      59000.0|           CT|          063xx|            USA|    C|       C5|    Source Verified|                49604.0|      Individual|              null|                     null|2024-07-15 16:34:...|\n",
       "|dcc3cce84164a1a4f...|Member Service Ph...| 10+ years|          RENT|      45000.0|           NY|          100xx|            USA|    D|       D1|    Source Verified|                21100.0|      Individual|              null|                     null|2024-07-15 16:34:...|\n",
       "|a8c2898592c8c34ea...|                null|      null|           OWN|      33000.0|           NY|          117xx|            USA|    E|       E2|           Verified|                19900.0|      Individual|              null|                     null|2024-07-15 16:34:...|\n",
       "|2ab161847c8ce1f3e...|Senior Project Ma...| 10+ years|      MORTGAGE|      86736.0|           IL|          625xx|            USA|    E|       E4|       Not Verified|               162533.0|      Individual|              null|                     null|2024-07-15 16:34:...|\n",
       "|9886b3db401c1d460...|Electronic Techni...| 10+ years|      MORTGAGE|      55000.0|           NY|          130xx|            USA|    C|       C5|    Source Verified|               171521.0|      Individual|              null|                     null|2024-07-15 16:34:...|\n",
       "|7b62e3c918a7f9eb8...|                 CNA|   5 years|          RENT|      40000.0|           CA|          907xx|            USA|    C|       C1|           Verified|                31540.0|      Individual|              null|                     null|2024-07-15 16:34:...|\n",
       "|698b533486c4900d4...|             Teacher| 10+ years|          RENT|      80000.0|           NY|          113xx|            USA|    B|       B1|    Source Verified|                67061.0|      Individual|              null|                     null|2024-07-15 16:34:...|\n",
       "|0b07196bd0485e4c2...|        boat captain|   8 years|      MORTGAGE|     150000.0|           LA|          703xx|            USA|    B|       B5|    Source Verified|                62251.0|      Individual|              null|                     null|2024-07-15 16:34:...|\n",
       "|92e61f312d73c874d...|           warehouse| 10+ years|          RENT|      34122.0|           RI|          028xx|            USA|    E|       E5|       Not Verified|                40494.0|      Individual|              null|                     null|2024-07-15 16:34:...|\n",
       "|a2eb7934b6490e443...|     Producer/Editor|    1 year|      MORTGAGE|      50000.0|           AR|          722xx|            USA|    E|       E4|    Source Verified|                34532.0|      Individual|              null|                     null|2024-07-15 16:34:...|\n",
       "+--------------------+--------------------+----------+--------------+-------------+-------------+---------------+---------------+-----+---------+-------------------+-----------------------+----------------+------------------+-------------------------+--------------------+\n",
       "only showing top 20 rows"
      ]
     },
     "execution_count": 10,
     "metadata": {},
     "output_type": "execute_result"
    }
   ],
   "source": [
    "customer_df"
   ]
  },
  {
   "cell_type": "code",
   "execution_count": 13,
   "id": "25127620",
   "metadata": {},
   "outputs": [
    {
     "data": {
      "text/plain": [
       "2260701"
      ]
     },
     "execution_count": 13,
     "metadata": {},
     "output_type": "execute_result"
    }
   ],
   "source": [
    "customer_df.count()"
   ]
  },
  {
   "cell_type": "code",
   "execution_count": 14,
   "id": "9537b1fc",
   "metadata": {},
   "outputs": [
    {
     "data": {
      "text/plain": [
       "2260638"
      ]
     },
     "execution_count": 14,
     "metadata": {},
     "output_type": "execute_result"
    }
   ],
   "source": [
    "customer_df.distinct().count()"
   ]
  },
  {
   "cell_type": "code",
   "execution_count": 44,
   "id": "8dff3a83",
   "metadata": {},
   "outputs": [],
   "source": [
    "customer_distinct = customer_df.distinct()"
   ]
  },
  {
   "cell_type": "code",
   "execution_count": 45,
   "id": "b53c1816",
   "metadata": {},
   "outputs": [],
   "source": [
    "customer_distinct.createOrReplaceTempView(\"customer_data\")"
   ]
  },
  {
   "cell_type": "code",
   "execution_count": 17,
   "id": "cf76b5a5",
   "metadata": {},
   "outputs": [
    {
     "data": {
      "text/html": [
       "<table border='1'>\n",
       "<tr><th>count(1)</th></tr>\n",
       "<tr><td>5</td></tr>\n",
       "</table>\n"
      ],
      "text/plain": [
       "+--------+\n",
       "|count(1)|\n",
       "+--------+\n",
       "|       5|\n",
       "+--------+"
      ]
     },
     "execution_count": 17,
     "metadata": {},
     "output_type": "execute_result"
    }
   ],
   "source": [
    "spark.sql(\"select count(*) from customer_data where annual_income is null\")"
   ]
  },
  {
   "cell_type": "code",
   "execution_count": 46,
   "id": "5a152c15",
   "metadata": {},
   "outputs": [],
   "source": [
    "customer_filtered_df = spark.sql(\"select * from customer_data where annual_income is not null\")"
   ]
  },
  {
   "cell_type": "code",
   "execution_count": 47,
   "id": "2e0b64c9",
   "metadata": {},
   "outputs": [],
   "source": [
    "customer_filtered_df.createOrReplaceTempView(\"customer_data\")"
   ]
  },
  {
   "cell_type": "code",
   "execution_count": 20,
   "id": "b4724bd0",
   "metadata": {},
   "outputs": [
    {
     "data": {
      "text/html": [
       "<table border='1'>\n",
       "<tr><th>count(1)</th></tr>\n",
       "<tr><td>0</td></tr>\n",
       "</table>\n"
      ],
      "text/plain": [
       "+--------+\n",
       "|count(1)|\n",
       "+--------+\n",
       "|       0|\n",
       "+--------+"
      ]
     },
     "execution_count": 20,
     "metadata": {},
     "output_type": "execute_result"
    }
   ],
   "source": [
    "spark.sql(\"select count(*) from customer_data where annual_income is null\")"
   ]
  },
  {
   "cell_type": "code",
   "execution_count": 21,
   "id": "2c593ed6",
   "metadata": {},
   "outputs": [
    {
     "data": {
      "text/html": [
       "<table border='1'>\n",
       "<tr><th>emp_length</th></tr>\n",
       "<tr><td>5 years</td></tr>\n",
       "<tr><td>9 years</td></tr>\n",
       "<tr><td>null</td></tr>\n",
       "<tr><td>1 year</td></tr>\n",
       "<tr><td>2 years</td></tr>\n",
       "<tr><td>7 years</td></tr>\n",
       "<tr><td>8 years</td></tr>\n",
       "<tr><td>4 years</td></tr>\n",
       "<tr><td>6 years</td></tr>\n",
       "<tr><td>3 years</td></tr>\n",
       "<tr><td>10+ years</td></tr>\n",
       "<tr><td>&lt; 1 year</td></tr>\n",
       "</table>\n"
      ],
      "text/plain": [
       "+----------+\n",
       "|emp_length|\n",
       "+----------+\n",
       "|   5 years|\n",
       "|   9 years|\n",
       "|      null|\n",
       "|    1 year|\n",
       "|   2 years|\n",
       "|   7 years|\n",
       "|   8 years|\n",
       "|   4 years|\n",
       "|   6 years|\n",
       "|   3 years|\n",
       "| 10+ years|\n",
       "|  < 1 year|\n",
       "+----------+"
      ]
     },
     "execution_count": 21,
     "metadata": {},
     "output_type": "execute_result"
    }
   ],
   "source": [
    "spark.sql(\"select distinct(emp_length) from customer_data\")"
   ]
  },
  {
   "cell_type": "code",
   "execution_count": 48,
   "id": "1551a8bb",
   "metadata": {},
   "outputs": [],
   "source": [
    "from pyspark.sql.functions import regexp_replace, col"
   ]
  },
  {
   "cell_type": "code",
   "execution_count": 49,
   "id": "77f5e9ff",
   "metadata": {},
   "outputs": [],
   "source": [
    "customer_emplength_cleaned = customer_filtered_df.withColumn(\"emp_length\",regexp_replace(col(\"emp_length\"),\"\\D\",\"\"))"
   ]
  },
  {
   "cell_type": "code",
   "execution_count": 17,
   "id": "fe17627e",
   "metadata": {},
   "outputs": [
    {
     "data": {
      "text/html": [
       "<table border='1'>\n",
       "<tr><th>member_id</th><th>emp_title</th><th>emp_length</th><th>home_ownership</th><th>annual_income</th><th>address_state</th><th>address_zipcode</th><th>address_country</th><th>grade</th><th>sub_grade</th><th>verification_status</th><th>total_high_credit_limit</th><th>application_type</th><th>join_annual_income</th><th>verification_status_joint</th><th>ingestion_date</th></tr>\n",
       "<tr><td>822343b82b5af0f57...</td><td>Auditor</td><td>10</td><td>MORTGAGE</td><td>81510.0</td><td>TX</td><td>785xx</td><td>USA</td><td>D</td><td>D2</td><td>Not Verified</td><td>227048.0</td><td>Individual</td><td>null</td><td>null</td><td>2024-07-15 16:35:...</td></tr>\n",
       "<tr><td>07a1a1542b0868ba6...</td><td>Dell Technician</td><td>4</td><td>RENT</td><td>42000.0</td><td>MN</td><td>554xx</td><td>USA</td><td>C</td><td>C5</td><td>Verified</td><td>53020.0</td><td>Individual</td><td>null</td><td>null</td><td>2024-07-15 16:35:...</td></tr>\n",
       "<tr><td>9bccdf6275ce7a9ba...</td><td>Teacher</td><td>7</td><td>RENT</td><td>52000.0</td><td>AZ</td><td>853xx</td><td>USA</td><td>B</td><td>B5</td><td>Verified</td><td>80428.0</td><td>Individual</td><td>null</td><td>null</td><td>2024-07-15 16:35:...</td></tr>\n",
       "<tr><td>759ce5bfd8a51fc7a...</td><td>Teacher</td><td>7</td><td>RENT</td><td>29500.0</td><td>CA</td><td>956xx</td><td>USA</td><td>D</td><td>D1</td><td>Verified</td><td>38203.0</td><td>Individual</td><td>null</td><td>null</td><td>2024-07-15 16:35:...</td></tr>\n",
       "<tr><td>1aaaf230f71bcdde7...</td><td>TSO</td><td>10</td><td>MORTGAGE</td><td>41000.0</td><td>AZ</td><td>853xx</td><td>USA</td><td>D</td><td>D5</td><td>Not Verified</td><td>193947.0</td><td>Individual</td><td>null</td><td>null</td><td>2024-07-15 16:35:...</td></tr>\n",
       "<tr><td>43cd903c44be71bc8...</td><td>Operations Manager</td><td>10</td><td>MORTGAGE</td><td>138000.0</td><td>TX</td><td>784xx</td><td>USA</td><td>D</td><td>D4</td><td>Not Verified</td><td>343778.0</td><td>Individual</td><td>null</td><td>null</td><td>2024-07-15 16:35:...</td></tr>\n",
       "<tr><td>e051b73cd03a8e7ff...</td><td>Customer Service Mgr</td><td>10</td><td>MORTGAGE</td><td>50000.0</td><td>CO</td><td>802xx</td><td>USA</td><td>B</td><td>B2</td><td>Not Verified</td><td>225600.0</td><td>Individual</td><td>null</td><td>null</td><td>2024-07-15 16:35:...</td></tr>\n",
       "<tr><td>e1f93f12f57f8b7d6...</td><td>Counselor / Instr...</td><td>10</td><td>RENT</td><td>108000.0</td><td>CA</td><td>953xx</td><td>USA</td><td>B</td><td>B2</td><td>Source Verified</td><td>124830.0</td><td>Individual</td><td>null</td><td>null</td><td>2024-07-15 16:35:...</td></tr>\n",
       "<tr><td>55dd27ca5aeeea1c3...</td><td>Web Developer</td><td>3</td><td>MORTGAGE</td><td>92000.0</td><td>NH</td><td>032xx</td><td>USA</td><td>B</td><td>B1</td><td>Not Verified</td><td>226956.0</td><td>Individual</td><td>null</td><td>null</td><td>2024-07-15 16:35:...</td></tr>\n",
       "<tr><td>a3c407c00fddf6849...</td><td>Certified Communi...</td><td>5</td><td>RENT</td><td>48000.0</td><td>CA</td><td>945xx</td><td>USA</td><td>B</td><td>B5</td><td>Source Verified</td><td>68602.0</td><td>Individual</td><td>null</td><td>null</td><td>2024-07-15 16:35:...</td></tr>\n",
       "<tr><td>2f4bc4d29fdcef0a4...</td><td>teacher</td><td>6</td><td>MORTGAGE</td><td>39000.0</td><td>WV</td><td>251xx</td><td>USA</td><td>B</td><td>B2</td><td>Not Verified</td><td>161363.0</td><td>Individual</td><td>null</td><td>null</td><td>2024-07-15 16:35:...</td></tr>\n",
       "<tr><td>ccc4cbe5b59079f5b...</td><td>ProfitStars /Tech...</td><td>1</td><td>RENT</td><td>38500.0</td><td>TX</td><td>750xx</td><td>USA</td><td>B</td><td>B3</td><td>Source Verified</td><td>14300.0</td><td>Individual</td><td>null</td><td>null</td><td>2024-07-15 16:35:...</td></tr>\n",
       "<tr><td>7efe274c7e3b50397...</td><td>Occupational ther...</td><td>4</td><td>MORTGAGE</td><td>66560.0</td><td>CT</td><td>064xx</td><td>USA</td><td>B</td><td>B5</td><td>Verified</td><td>146772.0</td><td>Individual</td><td>null</td><td>null</td><td>2024-07-15 16:35:...</td></tr>\n",
       "<tr><td>9afc1a2a241f98f0a...</td><td>Payroll Specialist</td><td>7</td><td>RENT</td><td>56000.0</td><td>GA</td><td>300xx</td><td>USA</td><td>B</td><td>B2</td><td>Source Verified</td><td>86816.0</td><td>Individual</td><td>null</td><td>null</td><td>2024-07-15 16:35:...</td></tr>\n",
       "<tr><td>b057f27129f4983c3...</td><td>supervisor</td><td>6</td><td>RENT</td><td>36000.0</td><td>CA</td><td>928xx</td><td>USA</td><td>C</td><td>C4</td><td>Source Verified</td><td>57120.0</td><td>Individual</td><td>null</td><td>null</td><td>2024-07-15 16:35:...</td></tr>\n",
       "<tr><td>e2faa34042383e400...</td><td>Driver</td><td>7</td><td>MORTGAGE</td><td>50000.0</td><td>IL</td><td>601xx</td><td>USA</td><td>E</td><td>E5</td><td>Verified</td><td>40705.0</td><td>Individual</td><td>null</td><td>null</td><td>2024-07-15 16:35:...</td></tr>\n",
       "<tr><td>3b809a87a7032cdc9...</td><td>null</td><td>null</td><td>MORTGAGE</td><td>64800.0</td><td>CA</td><td>919xx</td><td>USA</td><td>E</td><td>E4</td><td>Verified</td><td>34168.0</td><td>Individual</td><td>null</td><td>null</td><td>2024-07-15 16:35:...</td></tr>\n",
       "<tr><td>afe43efa5e16a9042...</td><td>Detention Service...</td><td>10</td><td>OWN</td><td>92000.0</td><td>AL</td><td>360xx</td><td>USA</td><td>C</td><td>C2</td><td>Source Verified</td><td>259352.0</td><td>Individual</td><td>null</td><td>null</td><td>2024-07-15 16:35:...</td></tr>\n",
       "<tr><td>159ea5e0cf358dfee...</td><td>Sales representitive</td><td>7</td><td>MORTGAGE</td><td>50405.0</td><td>NV</td><td>895xx</td><td>USA</td><td>B</td><td>B2</td><td>Verified</td><td>281235.0</td><td>Individual</td><td>null</td><td>null</td><td>2024-07-15 16:35:...</td></tr>\n",
       "<tr><td>6fea8848131d59b35...</td><td>Sales</td><td>1</td><td>RENT</td><td>58000.0</td><td>OH</td><td>432xx</td><td>USA</td><td>E</td><td>E1</td><td>Source Verified</td><td>90500.0</td><td>Individual</td><td>null</td><td>null</td><td>2024-07-15 16:35:...</td></tr>\n",
       "</table>\n",
       "only showing top 20 rows\n"
      ],
      "text/plain": [
       "+--------------------+--------------------+----------+--------------+-------------+-------------+---------------+---------------+-----+---------+-------------------+-----------------------+----------------+------------------+-------------------------+--------------------+\n",
       "|           member_id|           emp_title|emp_length|home_ownership|annual_income|address_state|address_zipcode|address_country|grade|sub_grade|verification_status|total_high_credit_limit|application_type|join_annual_income|verification_status_joint|      ingestion_date|\n",
       "+--------------------+--------------------+----------+--------------+-------------+-------------+---------------+---------------+-----+---------+-------------------+-----------------------+----------------+------------------+-------------------------+--------------------+\n",
       "|f110849aeedf59847...|National Sales di...|         1|      MORTGAGE|     160000.0|           MD|          210xx|            USA|    C|       C3|       Not Verified|               558684.0|      Individual|              null|                     null|2024-07-15 16:35:...|\n",
       "|4704e54f8e8cbaf05...| warehouse associate|        10|          RENT|      49000.0|           CO|          802xx|            USA|    D|       D3|           Verified|                44172.0|      Individual|              null|                     null|2024-07-15 16:35:...|\n",
       "|9b1cb0d56cfbad924...|          Apprentice|         3|          RENT|      26880.0|           AR|          720xx|            USA|    C|       C2|           Verified|                42252.0|      Individual|              null|                     null|2024-07-15 16:35:...|\n",
       "|5dd518714e2607353...|    District Manager|         1|          RENT|     135000.0|           AR|          726xx|            USA|    C|       C5|    Source Verified|               360635.0|      Individual|              null|                     null|2024-07-15 16:35:...|\n",
       "|0a73b8fff9c95f0ae...|       Sales Manager|         6|      MORTGAGE|      68000.0|           NC|          284xx|            USA|    D|       D1|    Source Verified|               174801.0|      Individual|              null|                     null|2024-07-15 16:35:...|\n",
       "|dcfa26016bf8e4128...|              teacer|        10|      MORTGAGE|      52000.0|           TN|          385xx|            USA|    E|       E1|           Verified|               141746.0|      Individual|              null|                     null|2024-07-15 16:35:...|\n",
       "|d4bbf7e4e03ff45e8...|Guest Services Re...|         7|      MORTGAGE|      55000.0|           GA|          303xx|            USA|    C|       C5|       Not Verified|               269458.0|      Individual|              null|                     null|2024-07-15 16:35:...|\n",
       "|3ae78163ee778e44e...|     Project Manager|         1|          RENT|      60000.0|           CT|          061xx|            USA|    B|       B1|    Source Verified|                85281.0|      Individual|              null|                     null|2024-07-15 16:35:...|\n",
       "|ad0ce12c1733a7156...|            Engineer|        10|      MORTGAGE|      92000.0|           IL|          600xx|            USA|    D|       D4|    Source Verified|               296547.0|      Individual|              null|                     null|2024-07-15 16:35:...|\n",
       "|0e253796a06e21f36...|HR Info Systems Lead|        10|      MORTGAGE|     288500.0|           VA|          224xx|            USA|    A|       A3|       Not Verified|               864266.0|      Individual|              null|                     null|2024-07-15 16:35:...|\n",
       "|ab2de4005ed51bde1...|             Teacher|        10|      MORTGAGE|      61592.0|           GA|          304xx|            USA|    B|       B4|       Not Verified|               302217.0|      Individual|              null|                     null|2024-07-15 16:35:...|\n",
       "|1a89fe9960c329e73...|     Project Manager|         3|      MORTGAGE|     109000.0|           TX|          762xx|            USA|    D|       D5|           Verified|               388537.0|      Individual|              null|                     null|2024-07-15 16:35:...|\n",
       "|27d1d852def928670...|  Project Specialist|         4|      MORTGAGE|      98000.0|           MA|          020xx|            USA|    C|       C4|    Source Verified|               430705.0|      Individual|              null|                     null|2024-07-15 16:35:...|\n",
       "|8ef52b97e44909aed...|          proprietor|        10|      MORTGAGE|      60000.0|           FL|          327xx|            USA|    C|       C4|    Source Verified|               315080.0|      Individual|              null|                     null|2024-07-15 16:35:...|\n",
       "|4c27042ab27c9e849...|Laboratory Techno...|         7|          RENT|      51000.0|           WI|          531xx|            USA|    B|       B3|    Source Verified|                57136.0|      Individual|              null|                     null|2024-07-15 16:35:...|\n",
       "|5f1354c7e30305f7c...|     Staff Scientist|         2|          RENT|     100000.0|           CA|          920xx|            USA|    C|       C5|           Verified|               114810.0|      Individual|              null|                     null|2024-07-15 16:35:...|\n",
       "|8df5e6b7518fd1b41...|       Store Manager|        10|           OWN|      86000.0|           WV|          265xx|            USA|    E|       E4|    Source Verified|                95397.0|      Individual|              null|                     null|2024-07-15 16:35:...|\n",
       "|e47fd111bffcedcae...|Area Director of ...|        10|          RENT|     135000.0|           OR|          970xx|            USA|    A|       A4|       Not Verified|               146184.0|      Individual|              null|                     null|2024-07-15 16:35:...|\n",
       "|99ff9872d79fe5df6...|Loss Prevention M...|        10|      MORTGAGE|      58500.0|           GA|          302xx|            USA|    D|       D4|       Not Verified|               195237.0|      Individual|              null|                     null|2024-07-15 16:35:...|\n",
       "|2b96881750a1a0108...|plant superintendant|        10|           OWN|      64000.0|           IL|          611xx|            USA|    A|       A2|       Not Verified|               132819.0|      Individual|              null|                     null|2024-07-15 16:35:...|\n",
       "+--------------------+--------------------+----------+--------------+-------------+-------------+---------------+---------------+-----+---------+-------------------+-----------------------+----------------+------------------+-------------------------+--------------------+\n",
       "only showing top 20 rows"
      ]
     },
     "execution_count": 17,
     "metadata": {},
     "output_type": "execute_result"
    }
   ],
   "source": [
    "customer_emplength_cleaned"
   ]
  },
  {
   "cell_type": "code",
   "execution_count": 18,
   "id": "a8ca92df",
   "metadata": {},
   "outputs": [
    {
     "name": "stdout",
     "output_type": "stream",
     "text": [
      "root\n",
      " |-- member_id: string (nullable = true)\n",
      " |-- emp_title: string (nullable = true)\n",
      " |-- emp_length: string (nullable = true)\n",
      " |-- home_ownership: string (nullable = true)\n",
      " |-- annual_income: float (nullable = true)\n",
      " |-- address_state: string (nullable = true)\n",
      " |-- address_zipcode: string (nullable = true)\n",
      " |-- address_country: string (nullable = true)\n",
      " |-- grade: string (nullable = true)\n",
      " |-- sub_grade: string (nullable = true)\n",
      " |-- verification_status: string (nullable = true)\n",
      " |-- total_high_credit_limit: float (nullable = true)\n",
      " |-- application_type: string (nullable = true)\n",
      " |-- join_annual_income: float (nullable = true)\n",
      " |-- verification_status_joint: string (nullable = true)\n",
      " |-- ingestion_date: timestamp (nullable = false)\n",
      "\n"
     ]
    }
   ],
   "source": [
    "customer_emplength_cleaned.printSchema()"
   ]
  },
  {
   "cell_type": "code",
   "execution_count": 50,
   "id": "e215b72a",
   "metadata": {},
   "outputs": [],
   "source": [
    "customer_emplength_casted_df = customer_emplength_cleaned.withColumn(\"emp_length\",customer_emplength_cleaned.emp_length.cast(\"int\"))"
   ]
  },
  {
   "cell_type": "code",
   "execution_count": 27,
   "id": "57bd0510",
   "metadata": {},
   "outputs": [
    {
     "name": "stdout",
     "output_type": "stream",
     "text": [
      "root\n",
      " |-- member_id: string (nullable = true)\n",
      " |-- emp_title: string (nullable = true)\n",
      " |-- emp_length: integer (nullable = true)\n",
      " |-- home_ownership: string (nullable = true)\n",
      " |-- annual_income: float (nullable = true)\n",
      " |-- address_state: string (nullable = true)\n",
      " |-- address_zipcode: string (nullable = true)\n",
      " |-- address_country: string (nullable = true)\n",
      " |-- grade: string (nullable = true)\n",
      " |-- sub_grade: string (nullable = true)\n",
      " |-- verification_status: string (nullable = true)\n",
      " |-- total_high_credit_limit: float (nullable = true)\n",
      " |-- applicatio_type: string (nullable = true)\n",
      " |-- join_annual_income: float (nullable = true)\n",
      " |-- verification_status_joint: string (nullable = true)\n",
      " |-- ingestion_date: timestamp (nullable = false)\n",
      "\n"
     ]
    }
   ],
   "source": [
    "customer_emplength_casted_df.printSchema()"
   ]
  },
  {
   "cell_type": "code",
   "execution_count": 51,
   "id": "986903ef",
   "metadata": {},
   "outputs": [
    {
     "data": {
      "text/plain": [
       "146903"
      ]
     },
     "execution_count": 51,
     "metadata": {},
     "output_type": "execute_result"
    }
   ],
   "source": [
    "customer_emplength_casted_df.filter(\"emp_length is null\").count()"
   ]
  },
  {
   "cell_type": "code",
   "execution_count": 52,
   "id": "fb2ff3d7",
   "metadata": {},
   "outputs": [],
   "source": [
    "customer_emplength_casted_df.createOrReplaceTempView(\"customer_data\")"
   ]
  },
  {
   "cell_type": "code",
   "execution_count": 53,
   "id": "8a40e92a",
   "metadata": {},
   "outputs": [],
   "source": [
    "avg_emp_length = spark.sql(\"select floor(avg(emp_length)) as avg_emp_length from customer_data\").collect()"
   ]
  },
  {
   "cell_type": "code",
   "execution_count": 54,
   "id": "92183bec",
   "metadata": {},
   "outputs": [
    {
     "name": "stdout",
     "output_type": "stream",
     "text": [
      "[Row(avg_emp_length=6)]\n"
     ]
    }
   ],
   "source": [
    "print(avg_emp_length)"
   ]
  },
  {
   "cell_type": "code",
   "execution_count": 55,
   "id": "f7e04948",
   "metadata": {},
   "outputs": [],
   "source": [
    "avg_employment = avg_emp_length [0][0]"
   ]
  },
  {
   "cell_type": "code",
   "execution_count": 56,
   "id": "6b1154e7",
   "metadata": {},
   "outputs": [
    {
     "name": "stdout",
     "output_type": "stream",
     "text": [
      "6\n"
     ]
    }
   ],
   "source": [
    "print(avg_employment)"
   ]
  },
  {
   "cell_type": "code",
   "execution_count": 57,
   "id": "8ff18912",
   "metadata": {},
   "outputs": [],
   "source": [
    "customer_emp_length_filled =customer_emplength_casted_df.na.fill(avg_employment,subset=['emp_length'])"
   ]
  },
  {
   "cell_type": "code",
   "execution_count": 58,
   "id": "0ff53b9e",
   "metadata": {},
   "outputs": [
    {
     "data": {
      "text/html": [
       "<table border='1'>\n",
       "<tr><th>member_id</th><th>emp_title</th><th>emp_length</th><th>home_ownership</th><th>annual_income</th><th>address_state</th><th>address_zipcode</th><th>address_country</th><th>grade</th><th>sub_grade</th><th>verification_status</th><th>total_high_credit_limit</th><th>application_type</th><th>join_annual_income</th><th>verification_status_joint</th><th>ingestion_date</th></tr>\n",
       "<tr><td>a24daec4fd77b444b...</td><td>Sales service rep</td><td>10</td><td>RENT</td><td>80000.0</td><td>CA</td><td>913xx</td><td>USA</td><td>B</td><td>B5</td><td>Verified</td><td>59555.0</td><td>Individual</td><td>null</td><td>null</td><td>2024-07-15 16:42:...</td></tr>\n",
       "<tr><td>e3c96eb120864db54...</td><td>Administrative As...</td><td>10</td><td>MORTGAGE</td><td>61200.0</td><td>IL</td><td>606xx</td><td>USA</td><td>D</td><td>D4</td><td>Not Verified</td><td>250510.0</td><td>Individual</td><td>null</td><td>null</td><td>2024-07-15 16:42:...</td></tr>\n",
       "<tr><td>f49cfa6e34e2a8cab...</td><td>Registered Nurse</td><td>10</td><td>MORTGAGE</td><td>66240.0</td><td>KS</td><td>660xx</td><td>USA</td><td>C</td><td>C1</td><td>Source Verified</td><td>68534.0</td><td>Individual</td><td>null</td><td>null</td><td>2024-07-15 16:42:...</td></tr>\n",
       "<tr><td>9c097ba574c7905f1...</td><td>QA/QC Work Pack M...</td><td>6</td><td>MORTGAGE</td><td>185000.0</td><td>LA</td><td>705xx</td><td>USA</td><td>C</td><td>C5</td><td>Verified</td><td>407720.0</td><td>Individual</td><td>null</td><td>null</td><td>2024-07-15 16:42:...</td></tr>\n",
       "<tr><td>285ab34b0ca60ee0c...</td><td>null</td><td>6</td><td>MORTGAGE</td><td>60000.0</td><td>TX</td><td>796xx</td><td>USA</td><td>B</td><td>B1</td><td>Not Verified</td><td>276696.0</td><td>Individual</td><td>null</td><td>null</td><td>2024-07-15 16:42:...</td></tr>\n",
       "<tr><td>b5e06c59407a40c5b...</td><td>Mechanic</td><td>10</td><td>MORTGAGE</td><td>138000.0</td><td>MI</td><td>481xx</td><td>USA</td><td>D</td><td>D2</td><td>Not Verified</td><td>291711.0</td><td>Individual</td><td>null</td><td>null</td><td>2024-07-15 16:42:...</td></tr>\n",
       "<tr><td>f6d0370eade35302c...</td><td>Consultant</td><td>10</td><td>MORTGAGE</td><td>107000.0</td><td>SC</td><td>299xx</td><td>USA</td><td>C</td><td>C4</td><td>Verified</td><td>347960.0</td><td>Individual</td><td>null</td><td>null</td><td>2024-07-15 16:42:...</td></tr>\n",
       "<tr><td>c0bb9289fe49993f7...</td><td>Officer</td><td>8</td><td>OWN</td><td>75000.0</td><td>NV</td><td>891xx</td><td>USA</td><td>C</td><td>C1</td><td>Verified</td><td>437853.0</td><td>Individual</td><td>null</td><td>null</td><td>2024-07-15 16:42:...</td></tr>\n",
       "<tr><td>3592fa0f11829591d...</td><td>Nurse Practitioner</td><td>6</td><td>OWN</td><td>108000.0</td><td>TX</td><td>750xx</td><td>USA</td><td>C</td><td>C1</td><td>Source Verified</td><td>242000.0</td><td>Individual</td><td>null</td><td>null</td><td>2024-07-15 16:42:...</td></tr>\n",
       "<tr><td>ed5c7c5077bb66ac4...</td><td>null</td><td>6</td><td>MORTGAGE</td><td>49000.0</td><td>AZ</td><td>850xx</td><td>USA</td><td>D</td><td>D4</td><td>Not Verified</td><td>263027.0</td><td>Individual</td><td>null</td><td>null</td><td>2024-07-15 16:42:...</td></tr>\n",
       "<tr><td>166fe098d770d9331...</td><td>Church Secretary</td><td>1</td><td>RENT</td><td>21008.0</td><td>TX</td><td>785xx</td><td>USA</td><td>B</td><td>B4</td><td>Source Verified</td><td>73842.0</td><td>Joint App</td><td>66008.0</td><td>Not Verified</td><td>2024-07-15 16:42:...</td></tr>\n",
       "<tr><td>a9c4103f5b27ccb7b...</td><td>null</td><td>6</td><td>RENT</td><td>36000.0</td><td>TX</td><td>770xx</td><td>USA</td><td>B</td><td>B5</td><td>Verified</td><td>28836.0</td><td>Individual</td><td>null</td><td>null</td><td>2024-07-15 16:42:...</td></tr>\n",
       "<tr><td>d9aa853c1c9d58b92...</td><td>Microbiology Spec...</td><td>1</td><td>MORTGAGE</td><td>85000.0</td><td>TX</td><td>786xx</td><td>USA</td><td>A</td><td>A1</td><td>Source Verified</td><td>232231.0</td><td>Individual</td><td>null</td><td>null</td><td>2024-07-15 16:42:...</td></tr>\n",
       "<tr><td>5cd084eca4567990e...</td><td>Deputy Sheriff</td><td>10</td><td>MORTGAGE</td><td>135000.0</td><td>FL</td><td>330xx</td><td>USA</td><td>C</td><td>C2</td><td>Verified</td><td>390559.0</td><td>Individual</td><td>null</td><td>null</td><td>2024-07-15 16:42:...</td></tr>\n",
       "<tr><td>6217e7a0d90586d24...</td><td>general manager</td><td>10</td><td>RENT</td><td>70000.0</td><td>NJ</td><td>077xx</td><td>USA</td><td>B</td><td>B2</td><td>Not Verified</td><td>85719.0</td><td>Individual</td><td>null</td><td>null</td><td>2024-07-15 16:42:...</td></tr>\n",
       "<tr><td>93ce14dc05175a8b6...</td><td>Human Resources</td><td>6</td><td>MORTGAGE</td><td>60000.0</td><td>MN</td><td>559xx</td><td>USA</td><td>C</td><td>C5</td><td>Not Verified</td><td>315525.0</td><td>Individual</td><td>null</td><td>null</td><td>2024-07-15 16:42:...</td></tr>\n",
       "<tr><td>f4402774fced4bcd3...</td><td>Chemical Operator</td><td>1</td><td>OWN</td><td>45000.0</td><td>TN</td><td>373xx</td><td>USA</td><td>D</td><td>D3</td><td>Verified</td><td>30037.0</td><td>Individual</td><td>null</td><td>null</td><td>2024-07-15 16:42:...</td></tr>\n",
       "<tr><td>b0b2ac0cda6138817...</td><td>Sr. Project Engineer</td><td>10</td><td>OWN</td><td>150000.0</td><td>WI</td><td>530xx</td><td>USA</td><td>B</td><td>B3</td><td>Not Verified</td><td>772667.0</td><td>Individual</td><td>null</td><td>null</td><td>2024-07-15 16:42:...</td></tr>\n",
       "<tr><td>8ef4d4bcf85ac6007...</td><td>E-5</td><td>7</td><td>RENT</td><td>60000.0</td><td>SC</td><td>294xx</td><td>USA</td><td>C</td><td>C5</td><td>Not Verified</td><td>81791.0</td><td>Individual</td><td>null</td><td>null</td><td>2024-07-15 16:42:...</td></tr>\n",
       "<tr><td>ae886e3c0b1daaf5c...</td><td>Sales Manager</td><td>4</td><td>MORTGAGE</td><td>148000.0</td><td>KS</td><td>662xx</td><td>USA</td><td>F</td><td>F3</td><td>Source Verified</td><td>417875.0</td><td>Individual</td><td>null</td><td>null</td><td>2024-07-15 16:42:...</td></tr>\n",
       "</table>\n",
       "only showing top 20 rows\n"
      ],
      "text/plain": [
       "+--------------------+--------------------+----------+--------------+-------------+-------------+---------------+---------------+-----+---------+-------------------+-----------------------+----------------+------------------+-------------------------+--------------------+\n",
       "|           member_id|           emp_title|emp_length|home_ownership|annual_income|address_state|address_zipcode|address_country|grade|sub_grade|verification_status|total_high_credit_limit|application_type|join_annual_income|verification_status_joint|      ingestion_date|\n",
       "+--------------------+--------------------+----------+--------------+-------------+-------------+---------------+---------------+-----+---------+-------------------+-----------------------+----------------+------------------+-------------------------+--------------------+\n",
       "|49a37a2fdc4c7c0da...|              Sprint|         1|          RENT|      28000.0|           PA|          152xx|            USA|    D|       D2|    Source Verified|                 9400.0|      Individual|              null|                     null|2024-07-15 16:42:...|\n",
       "|1c647a1157361effb...|Johnson Memorial ...|         3|          RENT|      55000.0|           CT|          062xx|            USA|    C|       C5|       Not Verified|                42166.0|      Individual|              null|                     null|2024-07-15 16:42:...|\n",
       "|d4e668e590f91cf5f...|     Bank Of America|         2|          RENT|      32000.0|           FL|          336xx|            USA|    D|       D4|       Not Verified|                30936.0|      Individual|              null|                     null|2024-07-15 16:42:...|\n",
       "|8585786b0bff80675...|Telluride Marshal...|         6|      MORTGAGE|      85000.0|           CO|          814xx|            USA|    A|       A3|    Source Verified|               380300.0|      Individual|              null|                     null|2024-07-15 16:42:...|\n",
       "|6c9a65e33ff65ef1c...|    ZF SERVICES, LLC|         2|          RENT|      60000.0|           IL|          601xx|            USA|    B|       B5|           Verified|                74263.0|      Individual|              null|                     null|2024-07-15 16:42:...|\n",
       "|2374a99f2456253b3...|     Hsbc securities|        10|          RENT|     145000.0|           NY|          112xx|            USA|    F|       F5|           Verified|                93920.0|      Individual|              null|                     null|2024-07-15 16:42:...|\n",
       "|094ff9f5cda65be50...|                USMC|         4|          RENT|      41724.0|           NC|          285xx|            USA|    E|       E5|           Verified|                35544.0|      Individual|              null|                     null|2024-07-15 16:42:...|\n",
       "|35eb3093d467ca7bc...|Buyers Protection...|        10|      MORTGAGE|      63200.0|           NJ|          088xx|            USA|    A|       A4|    Source Verified|               319074.0|      Individual|              null|                     null|2024-07-15 16:42:...|\n",
       "|ceb6274741a7d0a0e...|   Alcon Corporation|         9|      MORTGAGE|      58902.0|           GA|          305xx|            USA|    C|       C1|           Verified|               180583.0|      Individual|              null|                     null|2024-07-15 16:42:...|\n",
       "|db197a79a19f4b510...|Santa Clara Count...|         7|      MORTGAGE|      98000.0|           CA|          950xx|            USA|    C|       C2|       Not Verified|               166994.0|      Individual|              null|                     null|2024-07-15 16:42:...|\n",
       "|a596950441a377745...|      Schenck Trebel|         3|      MORTGAGE|      83000.0|           NY|          117xx|            USA|    A|       A2|       Not Verified|                 8200.0|      Individual|              null|                     null|2024-07-15 16:42:...|\n",
       "|1f90396cbc3b37fe2...|McCue Mortgage Co...|         1|      MORTGAGE|      42500.0|           CT|          060xx|            USA|    A|       A5|       Not Verified|               158592.0|      Individual|              null|                     null|2024-07-15 16:42:...|\n",
       "|94ba114aa2fd7cf2d...|         State of NJ|        10|      MORTGAGE|      60000.0|           NJ|          088xx|            USA|    B|       B4|       Not Verified|               248143.0|      Individual|              null|                     null|2024-07-15 16:42:...|\n",
       "|75bed9299060abbb7...|  Walgreens Pharmacy|         7|      MORTGAGE|     122000.0|           VA|          240xx|            USA|    E|       E2|    Source Verified|               156002.0|      Individual|              null|                     null|2024-07-15 16:42:...|\n",
       "|41d7b8ebef572f43c...|PERMORMANCE HOME ...|         1|      MORTGAGE|      47000.0|           WA|          992xx|            USA|    B|       B3|       Not Verified|                14900.0|      Individual|              null|                     null|2024-07-15 16:42:...|\n",
       "|0f1aab803277a82f1...|Koly Internationa...|         9|           OWN|      63000.0|           FL|          337xx|            USA|    E|       E4|    Source Verified|                44594.0|      Individual|              null|                     null|2024-07-15 16:42:...|\n",
       "|4eaa19ae6c207ade0...|   rental assistence|        10|      MORTGAGE|      43000.0|           NY|          142xx|            USA|    E|       E3|           Verified|                97272.0|      Individual|              null|                     null|2024-07-15 16:42:...|\n",
       "|85ceb4bd8245e5a14...|         MPI Release|         8|      MORTGAGE|      87000.0|           MA|          018xx|            USA|    A|       A4|       Not Verified|               383823.0|      Individual|              null|                     null|2024-07-15 16:42:...|\n",
       "|8e909fa89897905ae...|       Genentech,Inc|         3|          RENT|      55184.0|           OR|          972xx|            USA|    D|       D5|           Verified|                48229.0|      Individual|              null|                     null|2024-07-15 16:42:...|\n",
       "|3f9e4a58715abe825...|                FDNY|         8|           OWN|     110000.0|           NY|          112xx|            USA|    C|       C2|       Not Verified|               117238.0|      Individual|              null|                     null|2024-07-15 16:42:...|\n",
       "+--------------------+--------------------+----------+--------------+-------------+-------------+---------------+---------------+-----+---------+-------------------+-----------------------+----------------+------------------+-------------------------+--------------------+\n",
       "only showing top 20 rows"
      ]
     },
     "execution_count": 58,
     "metadata": {},
     "output_type": "execute_result"
    }
   ],
   "source": [
    "customer_emp_length_filled"
   ]
  },
  {
   "cell_type": "code",
   "execution_count": 45,
   "id": "a8c95775",
   "metadata": {},
   "outputs": [
    {
     "data": {
      "text/plain": [
       "0"
      ]
     },
     "execution_count": 45,
     "metadata": {},
     "output_type": "execute_result"
    }
   ],
   "source": [
    "customer_emp_length_filled.filter(\"emp_length is null\").count()"
   ]
  },
  {
   "cell_type": "code",
   "execution_count": 59,
   "id": "89a5d875",
   "metadata": {},
   "outputs": [],
   "source": [
    "customer_emp_length_filled.createOrReplaceTempView(\"customer_data\")"
   ]
  },
  {
   "cell_type": "code",
   "execution_count": 54,
   "id": "2fec8218",
   "metadata": {},
   "outputs": [
    {
     "data": {
      "text/html": [
       "<table border='1'>\n",
       "<tr><th>count(1)</th></tr>\n",
       "<tr><td>254</td></tr>\n",
       "</table>\n"
      ],
      "text/plain": [
       "+--------+\n",
       "|count(1)|\n",
       "+--------+\n",
       "|     254|\n",
       "+--------+"
      ]
     },
     "execution_count": 54,
     "metadata": {},
     "output_type": "execute_result"
    }
   ],
   "source": [
    "spark.sql(\"select count(*) from customer_data where length(address_state) > 2\")"
   ]
  },
  {
   "cell_type": "code",
   "execution_count": 55,
   "id": "458d3830",
   "metadata": {},
   "outputs": [
    {
     "data": {
      "text/html": [
       "<table border='1'>\n",
       "<tr><th>address_state</th></tr>\n",
       "<tr><td>Helping Kenya&#x27;s D...</td></tr>\n",
       "<tr><td>175 (total projec...</td></tr>\n",
       "<tr><td>223xx</td></tr>\n",
       "<tr><td>SC</td></tr>\n",
       "<tr><td>AZ</td></tr>\n",
       "<tr><td>so Plan &quot;&quot;C&quot;&quot; is ...</td></tr>\n",
       "<tr><td>I am 56 yrs. old ...</td></tr>\n",
       "<tr><td>financially I mad...</td></tr>\n",
       "<tr><td>but no one will l...</td></tr>\n",
       "<tr><td>LA</td></tr>\n",
       "<tr><td>etc.  First</td></tr>\n",
       "<tr><td>MN</td></tr>\n",
       "<tr><td>yet Capital One n...</td></tr>\n",
       "<tr><td>850xx</td></tr>\n",
       "<tr><td>499xx</td></tr>\n",
       "<tr><td>Eliminating Credi...</td></tr>\n",
       "<tr><td>and MBA&#x27;s are ove...</td></tr>\n",
       "<tr><td>Advocate business...</td></tr>\n",
       "<tr><td>662xx</td></tr>\n",
       "<tr><td>I the credit card...</td></tr>\n",
       "</table>\n",
       "only showing top 20 rows\n"
      ],
      "text/plain": [
       "+--------------------+\n",
       "|       address_state|\n",
       "+--------------------+\n",
       "|Helping Kenya's D...|\n",
       "|               223xx|\n",
       "|175 (total projec...|\n",
       "|                  AZ|\n",
       "|                  SC|\n",
       "|I am 56 yrs. old ...|\n",
       "|so Plan \"\"C\"\" is ...|\n",
       "|financially I mad...|\n",
       "|but no one will l...|\n",
       "|                  LA|\n",
       "|         etc.  First|\n",
       "|                  MN|\n",
       "|yet Capital One n...|\n",
       "|               499xx|\n",
       "|               850xx|\n",
       "|Eliminating Credi...|\n",
       "|Advocate business...|\n",
       "|and MBA's are ove...|\n",
       "|I the credit card...|\n",
       "|               662xx|\n",
       "+--------------------+\n",
       "only showing top 20 rows"
      ]
     },
     "execution_count": 55,
     "metadata": {},
     "output_type": "execute_result"
    }
   ],
   "source": [
    "spark.sql(\"select distinct(address_state) from customer_data\")"
   ]
  },
  {
   "cell_type": "code",
   "execution_count": 60,
   "id": "a53eb56f",
   "metadata": {},
   "outputs": [],
   "source": [
    "from pyspark.sql.functions import when,col,length"
   ]
  },
  {
   "cell_type": "code",
   "execution_count": 61,
   "id": "5c8da204",
   "metadata": {},
   "outputs": [],
   "source": [
    "customer_cleaned_state = customer_emp_length_filled.withColumn(\"address_state\",when(length(col(\"address_state\"))>2,\"NA\").otherwise(col(\"address_state\")))"
   ]
  },
  {
   "cell_type": "code",
   "execution_count": 62,
   "id": "1ae66c3a",
   "metadata": {},
   "outputs": [
    {
     "data": {
      "text/html": [
       "<table border='1'>\n",
       "<tr><th>member_id</th><th>emp_title</th><th>emp_length</th><th>home_ownership</th><th>annual_income</th><th>address_state</th><th>address_zipcode</th><th>address_country</th><th>grade</th><th>sub_grade</th><th>verification_status</th><th>total_high_credit_limit</th><th>application_type</th><th>join_annual_income</th><th>verification_status_joint</th><th>ingestion_date</th></tr>\n",
       "<tr><td>48a5b0ce15cf60f22...</td><td>Master plumber</td><td>9</td><td>MORTGAGE</td><td>82000.0</td><td>TX</td><td>786xx</td><td>USA</td><td>A</td><td>A1</td><td>Not Verified</td><td>269602.0</td><td>Individual</td><td>null</td><td>null</td><td>2024-07-15 16:42:...</td></tr>\n",
       "<tr><td>addcb2ba3af6093fd...</td><td>RN</td><td>2</td><td>MORTGAGE</td><td>77000.0</td><td>NC</td><td>275xx</td><td>USA</td><td>C</td><td>C4</td><td>Not Verified</td><td>196996.0</td><td>Individual</td><td>null</td><td>null</td><td>2024-07-15 16:42:...</td></tr>\n",
       "<tr><td>7e3a4a08471b9c9fe...</td><td>null</td><td>6</td><td>RENT</td><td>52000.0</td><td>NY</td><td>104xx</td><td>USA</td><td>D</td><td>D2</td><td>Verified</td><td>61680.0</td><td>Individual</td><td>null</td><td>null</td><td>2024-07-15 16:42:...</td></tr>\n",
       "<tr><td>f711d0bcb50ffddc6...</td><td>Field Supervisor</td><td>3</td><td>RENT</td><td>41600.0</td><td>CA</td><td>900xx</td><td>USA</td><td>C</td><td>C5</td><td>Not Verified</td><td>66669.0</td><td>Individual</td><td>null</td><td>null</td><td>2024-07-15 16:42:...</td></tr>\n",
       "<tr><td>108a5455f8677dde7...</td><td>Electronics Techn...</td><td>10</td><td>MORTGAGE</td><td>60000.0</td><td>FL</td><td>325xx</td><td>USA</td><td>C</td><td>C2</td><td>Source Verified</td><td>252989.0</td><td>Individual</td><td>null</td><td>null</td><td>2024-07-15 16:42:...</td></tr>\n",
       "<tr><td>29d01335818a5a136...</td><td>Owner</td><td>2</td><td>RENT</td><td>45000.0</td><td>MO</td><td>917xx</td><td>USA</td><td>A</td><td>A3</td><td>Not Verified</td><td>32700.0</td><td>Individual</td><td>null</td><td>null</td><td>2024-07-15 16:42:...</td></tr>\n",
       "<tr><td>b059206082b413ccc...</td><td>company driver</td><td>7</td><td>MORTGAGE</td><td>107000.0</td><td>TX</td><td>770xx</td><td>USA</td><td>B</td><td>B3</td><td>Not Verified</td><td>277857.0</td><td>Individual</td><td>null</td><td>null</td><td>2024-07-15 16:42:...</td></tr>\n",
       "<tr><td>77593860aff0057eb...</td><td>Director of Recor...</td><td>8</td><td>MORTGAGE</td><td>163000.0</td><td>NY</td><td>101xx</td><td>USA</td><td>E</td><td>E3</td><td>Verified</td><td>298115.0</td><td>Individual</td><td>null</td><td>null</td><td>2024-07-15 16:42:...</td></tr>\n",
       "<tr><td>2ef0cf2cee6cdb2aa...</td><td>QA Engineer</td><td>1</td><td>MORTGAGE</td><td>83000.0</td><td>NC</td><td>275xx</td><td>USA</td><td>B</td><td>B1</td><td>Not Verified</td><td>537048.0</td><td>Individual</td><td>null</td><td>null</td><td>2024-07-15 16:42:...</td></tr>\n",
       "<tr><td>d5355d40322ab3b20...</td><td>Building Code Off...</td><td>10</td><td>MORTGAGE</td><td>69000.0</td><td>NC</td><td>275xx</td><td>USA</td><td>C</td><td>C1</td><td>Source Verified</td><td>56262.0</td><td>Individual</td><td>null</td><td>null</td><td>2024-07-15 16:42:...</td></tr>\n",
       "<tr><td>f985066f1327ca448...</td><td>null</td><td>6</td><td>RENT</td><td>60000.0</td><td>NC</td><td>276xx</td><td>USA</td><td>C</td><td>C5</td><td>Source Verified</td><td>15700.0</td><td>Individual</td><td>null</td><td>null</td><td>2024-07-15 16:42:...</td></tr>\n",
       "<tr><td>bf22ceda6603903e9...</td><td>LPN</td><td>2</td><td>RENT</td><td>40000.0</td><td>IN</td><td>473xx</td><td>USA</td><td>B</td><td>B3</td><td>Source Verified</td><td>54515.0</td><td>Individual</td><td>null</td><td>null</td><td>2024-07-15 16:42:...</td></tr>\n",
       "<tr><td>693a96f2fbf7d06af...</td><td>Equipment operator</td><td>10</td><td>MORTGAGE</td><td>45000.0</td><td>FL</td><td>328xx</td><td>USA</td><td>C</td><td>C1</td><td>Not Verified</td><td>15400.0</td><td>Individual</td><td>null</td><td>null</td><td>2024-07-15 16:42:...</td></tr>\n",
       "<tr><td>329d02acd94d858bc...</td><td>Landlord/ propert...</td><td>5</td><td>OWN</td><td>28000.0</td><td>FL</td><td>322xx</td><td>USA</td><td>B</td><td>B3</td><td>Source Verified</td><td>14324.0</td><td>Individual</td><td>null</td><td>null</td><td>2024-07-15 16:42:...</td></tr>\n",
       "<tr><td>80787ce8f760168ab...</td><td>null</td><td>6</td><td>MORTGAGE</td><td>35000.0</td><td>GA</td><td>302xx</td><td>USA</td><td>A</td><td>A1</td><td>Verified</td><td>181670.0</td><td>Individual</td><td>null</td><td>null</td><td>2024-07-15 16:42:...</td></tr>\n",
       "<tr><td>61c84c4c04565ac24...</td><td>Security Specialist</td><td>8</td><td>MORTGAGE</td><td>65000.0</td><td>VA</td><td>226xx</td><td>USA</td><td>D</td><td>D1</td><td>Not Verified</td><td>225471.0</td><td>Individual</td><td>null</td><td>null</td><td>2024-07-15 16:42:...</td></tr>\n",
       "<tr><td>14c8623287ca1d9c4...</td><td>Print Producer</td><td>10</td><td>MORTGAGE</td><td>46000.0</td><td>MI</td><td>482xx</td><td>USA</td><td>E</td><td>E3</td><td>Not Verified</td><td>98950.0</td><td>Individual</td><td>null</td><td>null</td><td>2024-07-15 16:42:...</td></tr>\n",
       "<tr><td>716c02f6ca69da3d8...</td><td>Licensed Nurse Su...</td><td>7</td><td>RENT</td><td>59000.0</td><td>VA</td><td>223xx</td><td>USA</td><td>C</td><td>C4</td><td>Source Verified</td><td>21253.0</td><td>Individual</td><td>null</td><td>null</td><td>2024-07-15 16:42:...</td></tr>\n",
       "<tr><td>8f6c07419ec8c7083...</td><td>null</td><td>6</td><td>OWN</td><td>57000.0</td><td>IL</td><td>606xx</td><td>USA</td><td>D</td><td>D4</td><td>Verified</td><td>100021.0</td><td>Individual</td><td>null</td><td>null</td><td>2024-07-15 16:42:...</td></tr>\n",
       "<tr><td>6b907e82546d33e5d...</td><td>Project Lead in IT</td><td>10</td><td>OWN</td><td>225000.0</td><td>CA</td><td>917xx</td><td>USA</td><td>A</td><td>A1</td><td>Source Verified</td><td>468500.0</td><td>Individual</td><td>null</td><td>null</td><td>2024-07-15 16:42:...</td></tr>\n",
       "</table>\n",
       "only showing top 20 rows\n"
      ],
      "text/plain": [
       "+--------------------+--------------------+----------+--------------+-------------+-------------+---------------+---------------+-----+---------+-------------------+-----------------------+----------------+------------------+-------------------------+--------------------+\n",
       "|           member_id|           emp_title|emp_length|home_ownership|annual_income|address_state|address_zipcode|address_country|grade|sub_grade|verification_status|total_high_credit_limit|application_type|join_annual_income|verification_status_joint|      ingestion_date|\n",
       "+--------------------+--------------------+----------+--------------+-------------+-------------+---------------+---------------+-----+---------+-------------------+-----------------------+----------------+------------------+-------------------------+--------------------+\n",
       "|7a226d473029169e3...|           Professor|         2|          RENT|      59000.0|           SC|          295xx|            USA|    B|       B4|       Not Verified|                15625.0|      Individual|              null|                     null|2024-07-15 16:42:...|\n",
       "|cfd57ca5af3db8e48...|Patient access Sp...|         3|      MORTGAGE|      35000.0|           OR|          974xx|            USA|    B|       B1|           Verified|               289212.0|       Joint App|          130000.0|                 Verified|2024-07-15 16:42:...|\n",
       "|af719b924aa1a4616...|          Technician|         1|          RENT|      35000.0|           CA|          940xx|            USA|    C|       C1|       Not Verified|                28976.0|      Individual|              null|                     null|2024-07-15 16:42:...|\n",
       "|dcd37326953f85e2a...|Senior Programmer...|         5|          RENT|      94000.0|           WA|          980xx|            USA|    C|       C4|           Verified|                62210.0|      Individual|              null|                     null|2024-07-15 16:42:...|\n",
       "|6d2291dbc07e9dc49...|             Manager|        10|          RENT|      80000.0|           SC|          297xx|            USA|    A|       A3|       Not Verified|                90999.0|      Individual|              null|                     null|2024-07-15 16:42:...|\n",
       "|faad8824023d7c375...|         Maintenance|         6|           OWN|      50000.0|           WA|          981xx|            USA|    A|       A5|           Verified|               103013.0|      Individual|              null|                     null|2024-07-15 16:42:...|\n",
       "|e688cda38d1e1ed64...|    Registered Nurse|         3|          RENT|      60000.0|           PA|          191xx|            USA|    C|       C1|       Not Verified|                48981.0|      Individual|              null|                     null|2024-07-15 16:42:...|\n",
       "|343240350f1fc8b4f...|               Owner|        10|           OWN|      65000.0|           MS|          386xx|            USA|    D|       D5|       Not Verified|               173816.0|       Joint App|           94000.0|             Not Verified|2024-07-15 16:42:...|\n",
       "|10bdf6fc287642b39...| AVP Member Services|         9|      MORTGAGE|      70000.0|           NE|          681xx|            USA|    D|       D2|           Verified|               348834.0|      Individual|              null|                     null|2024-07-15 16:42:...|\n",
       "|f3653af954a1b9248...|Licensed vocation...|         1|          RENT|      50000.0|           CA|          952xx|            USA|    C|       C3|       Not Verified|                70945.0|      Individual|              null|                     null|2024-07-15 16:42:...|\n",
       "|26dc1f965800e2c08...|     Attorney at Law|         2|      MORTGAGE|     215000.0|           CA|          912xx|            USA|    B|       B1|           Verified|               149248.0|      Individual|              null|                     null|2024-07-15 16:42:...|\n",
       "|efe514658e9a4c27e...|                null|         6|           OWN|      40000.0|           NY|          104xx|            USA|    C|       C3|       Not Verified|                54856.0|      Individual|              null|                     null|2024-07-15 16:42:...|\n",
       "|84ba8fa3d67c4a762...|Managing Editoria...|         2|          RENT|      39000.0|           NY|          100xx|            USA|    C|       C2|    Source Verified|                32927.0|      Individual|              null|                     null|2024-07-15 16:42:...|\n",
       "|795280bf1f82377c2...|     Director of RCM|         1|      MORTGAGE|     225000.0|           TX|          761xx|            USA|    A|       A3|           Verified|               471234.0|      Individual|              null|                     null|2024-07-15 16:42:...|\n",
       "|b93e7736324fabc54...|Senior product ma...|        10|           OWN|     109200.0|           CO|          801xx|            USA|    A|       A5|    Source Verified|               463000.0|      Individual|              null|                     null|2024-07-15 16:42:...|\n",
       "|acb8edaaf0ca4f1da...|     Claims Examiner|         2|          RENT|      39520.0|           FL|          331xx|            USA|    A|       A5|       Not Verified|                84088.0|      Individual|              null|                     null|2024-07-15 16:42:...|\n",
       "|a1508f9dee70edc14...|             Manager|         2|          RENT|     130000.0|           NJ|          070xx|            USA|    A|       A2|    Source Verified|               124423.0|      Individual|              null|                     null|2024-07-15 16:42:...|\n",
       "|da0398564a5e861fb...|  Research Associate|         6|           OWN|      77000.0|           TX|          782xx|            USA|    A|       A5|       Not Verified|                64800.0|      Individual|              null|                     null|2024-07-15 16:42:...|\n",
       "|62240215b4aba40b0...|             Teacher|         5|      MORTGAGE|     104000.0|           NY|          135xx|            USA|    B|       B5|       Not Verified|               169361.0|      Individual|              null|                     null|2024-07-15 16:42:...|\n",
       "|9e538a5b71b13e51a...|Patient Experienc...|         2|          RENT|      59000.0|           WA|          981xx|            USA|    A|       A4|       Not Verified|               124534.0|      Individual|              null|                     null|2024-07-15 16:42:...|\n",
       "+--------------------+--------------------+----------+--------------+-------------+-------------+---------------+---------------+-----+---------+-------------------+-----------------------+----------------+------------------+-------------------------+--------------------+\n",
       "only showing top 20 rows"
      ]
     },
     "execution_count": 62,
     "metadata": {},
     "output_type": "execute_result"
    }
   ],
   "source": [
    "customer_cleaned_state"
   ]
  },
  {
   "cell_type": "code",
   "execution_count": 63,
   "id": "96276a8c",
   "metadata": {},
   "outputs": [],
   "source": [
    "customer_cleaned_state.createOrReplaceTempView(\"customer_data\")"
   ]
  },
  {
   "cell_type": "code",
   "execution_count": 65,
   "id": "4c407886",
   "metadata": {},
   "outputs": [
    {
     "data": {
      "text/html": [
       "<table border='1'>\n",
       "<tr><th>count(1)</th></tr>\n",
       "<tr><td>0</td></tr>\n",
       "</table>\n"
      ],
      "text/plain": [
       "+--------+\n",
       "|count(1)|\n",
       "+--------+\n",
       "|       0|\n",
       "+--------+"
      ]
     },
     "execution_count": 65,
     "metadata": {},
     "output_type": "execute_result"
    }
   ],
   "source": [
    "spark.sql(\"select count(*) from customer_data where length(address_state) > 2\")"
   ]
  },
  {
   "cell_type": "code",
   "execution_count": 64,
   "id": "c2cc302d",
   "metadata": {},
   "outputs": [],
   "source": [
    "customer_cleaned_state.write \\\n",
    ".option(\"header\", True) \\\n",
    ".format(\"csv\") \\\n",
    ".mode(\"overwrite\") \\\n",
    ".option(\"path\",\"/user/itv010130/loanproject/clean/customer_data_csv\") \\\n",
    ".save()"
   ]
  },
  {
   "cell_type": "code",
   "execution_count": 65,
   "id": "c169c103",
   "metadata": {},
   "outputs": [],
   "source": [
    "customer_cleaned_state.write \\\n",
    ".format(\"parquet\") \\\n",
    ".mode(\"overwrite\") \\\n",
    ".option(\"path\",\"/user/itv010130/loanproject/clean/customer_data_parquet\") \\\n",
    ".save()"
   ]
  },
  {
   "cell_type": "markdown",
   "id": "61778d4e",
   "metadata": {},
   "source": [
    "### Loan Data"
   ]
  },
  {
   "cell_type": "code",
   "execution_count": 103,
   "id": "01733c66",
   "metadata": {},
   "outputs": [],
   "source": [
    "loan_df = spark.read \\\n",
    ".option(\"header\", True) \\\n",
    ".format(\"csv\") \\\n",
    ".option(\"inferSchema\", True) \\\n",
    ".load(\"/user/itv010130/loanproject/raw/loan_data_csv\")"
   ]
  },
  {
   "cell_type": "code",
   "execution_count": 26,
   "id": "4d46d543",
   "metadata": {},
   "outputs": [
    {
     "data": {
      "text/html": [
       "<table border='1'>\n",
       "<tr><th>loan_id</th><th>member_id</th><th>loan_amnt</th><th>funded_amnt</th><th>term</th><th>int_rate</th><th>installment</th><th>issue_d</th><th>loan_status</th><th>purpose</th><th>title</th></tr>\n",
       "<tr><td>491699</td><td>961ae110ec063761f...</td><td>7000.0</td><td>7000.0</td><td>36 months</td><td>12.73</td><td>234.97</td><td>Mar-2010</td><td>Fully Paid</td><td>debt_consolidation</td><td>Noelle&#x27;s debt con...</td></tr>\n",
       "<tr><td>491685</td><td>291854d244748c911...</td><td>15000.0</td><td>15000.0</td><td>36 months</td><td>10.62</td><td>488.4</td><td>Mar-2010</td><td>Fully Paid</td><td>other</td><td>Education</td></tr>\n",
       "<tr><td>491667</td><td>b5cf66b90193da9d2...</td><td>6400.0</td><td>6400.0</td><td>36 months</td><td>7.88</td><td>200.2</td><td>Mar-2010</td><td>Fully Paid</td><td>debt_consolidation</td><td>Make money easily</td></tr>\n",
       "<tr><td>491160</td><td>7f53fd1acb7759e5b...</td><td>4000.0</td><td>4000.0</td><td>36 months</td><td>14.59</td><td>137.86</td><td>Mar-2010</td><td>Fully Paid</td><td>wedding</td><td>wedding expenses</td></tr>\n",
       "<tr><td>491675</td><td>12edc8e328b993914...</td><td>20000.0</td><td>20000.0</td><td>36 months</td><td>13.85</td><td>682.08</td><td>Mar-2010</td><td>Fully Paid</td><td>other</td><td>Short Term Tax Loan</td></tr>\n",
       "<tr><td>491668</td><td>e18a847f091332ff6...</td><td>6000.0</td><td>6000.0</td><td>36 months</td><td>11.36</td><td>197.47</td><td>Mar-2010</td><td>Charged Off</td><td>debt_consolidation</td><td>GREAT BORROWER --...</td></tr>\n",
       "<tr><td>491663</td><td>d6fe0000e876ab76d...</td><td>5500.0</td><td>5500.0</td><td>36 months</td><td>11.36</td><td>181.02</td><td>Mar-2010</td><td>Fully Paid</td><td>credit_card</td><td>Road to Success</td></tr>\n",
       "<tr><td>491632</td><td>62c38934f3a2ebcd2...</td><td>10000.0</td><td>10000.0</td><td>36 months</td><td>15.7</td><td>350.11</td><td>Mar-2010</td><td>Fully Paid</td><td>credit_card</td><td>Finish Paying off...</td></tr>\n",
       "<tr><td>491618</td><td>7701762ef5d302b0d...</td><td>25000.0</td><td>25000.0</td><td>36 months</td><td>15.33</td><td>870.71</td><td>Mar-2010</td><td>Fully Paid</td><td>debt_consolidation</td><td>Pay off my high i...</td></tr>\n",
       "<tr><td>491622</td><td>42a2df45b02b21b9a...</td><td>25000.0</td><td>25000.0</td><td>36 months</td><td>16.07</td><td>879.85</td><td>Mar-2010</td><td>Fully Paid</td><td>debt_consolidation</td><td>Debt Pay Off</td></tr>\n",
       "<tr><td>491552</td><td>b1ba0adce0baea939...</td><td>22000.0</td><td>22000.0</td><td>36 months</td><td>11.36</td><td>724.05</td><td>Mar-2010</td><td>Fully Paid</td><td>debt_consolidation</td><td>Getting rid of Ne...</td></tr>\n",
       "<tr><td>491477</td><td>82cdc418e3907686a...</td><td>16750.0</td><td>16750.0</td><td>36 months</td><td>13.11</td><td>565.23</td><td>Mar-2010</td><td>Fully Paid</td><td>debt_consolidation</td><td>Special Ed teache...</td></tr>\n",
       "<tr><td>491596</td><td>6cbc67caa30708b24...</td><td>3600.0</td><td>3600.0</td><td>36 months</td><td>15.7</td><td>126.04</td><td>Mar-2010</td><td>Fully Paid</td><td>credit_card</td><td>Credit Card Elimi...</td></tr>\n",
       "<tr><td>491575</td><td>3bae7a88975616641...</td><td>13750.0</td><td>13750.0</td><td>36 months</td><td>14.96</td><td>476.39</td><td>Mar-2010</td><td>Fully Paid</td><td>debt_consolidation</td><td>Personal Loan</td></tr>\n",
       "<tr><td>491581</td><td>55694e52b6a698777...</td><td>8500.0</td><td>8500.0</td><td>36 months</td><td>10.62</td><td>276.76</td><td>Mar-2010</td><td>Fully Paid</td><td>debt_consolidation</td><td>Reduce Debt befor...</td></tr>\n",
       "<tr><td>423260</td><td>c666d309594cceae5...</td><td>10000.0</td><td>10000.0</td><td>36 months</td><td>7.88</td><td>312.81</td><td>Mar-2010</td><td>Fully Paid</td><td>first as a Borrow...</td><td>first as a relati...</td></tr>\n",
       "<tr><td>488022</td><td>cc859b4c14c9eb521...</td><td>8000.0</td><td>8000.0</td><td>36 months</td><td>9.88</td><td>257.69</td><td>Mar-2010</td><td>Fully Paid</td><td>debt_consolidation</td><td>pay off credit ca...</td></tr>\n",
       "<tr><td>491557</td><td>dc1eeb967d0041bec...</td><td>12000.0</td><td>12000.0</td><td>36 months</td><td>13.48</td><td>407.09</td><td>Mar-2010</td><td>Fully Paid</td><td>other</td><td>Payoff Easy!</td></tr>\n",
       "<tr><td>491494</td><td>123126e86ba5ecd5d...</td><td>10000.0</td><td>10000.0</td><td>36 months</td><td>14.96</td><td>346.47</td><td>Mar-2010</td><td>Fully Paid</td><td>debt_consolidation</td><td>Credit Card Conso...</td></tr>\n",
       "<tr><td>491487</td><td>aeb1851b33df8f924...</td><td>11000.0</td><td>11000.0</td><td>36 months</td><td>13.85</td><td>375.15</td><td>Mar-2010</td><td>Fully Paid</td><td>debt_consolidation</td><td>Credit card conso...</td></tr>\n",
       "</table>\n",
       "only showing top 20 rows\n"
      ],
      "text/plain": [
       "+-------+--------------------+---------+-----------+---------+--------+-----------+--------+-----------+--------------------+--------------------+\n",
       "|loan_id|           member_id|loan_amnt|funded_amnt|     term|int_rate|installment| issue_d|loan_status|             purpose|               title|\n",
       "+-------+--------------------+---------+-----------+---------+--------+-----------+--------+-----------+--------------------+--------------------+\n",
       "| 491699|961ae110ec063761f...|   7000.0|     7000.0|36 months|   12.73|     234.97|Mar-2010| Fully Paid|  debt_consolidation|Noelle's debt con...|\n",
       "| 491685|291854d244748c911...|  15000.0|    15000.0|36 months|   10.62|      488.4|Mar-2010| Fully Paid|               other|           Education|\n",
       "| 491667|b5cf66b90193da9d2...|   6400.0|     6400.0|36 months|    7.88|      200.2|Mar-2010| Fully Paid|  debt_consolidation|   Make money easily|\n",
       "| 491160|7f53fd1acb7759e5b...|   4000.0|     4000.0|36 months|   14.59|     137.86|Mar-2010| Fully Paid|             wedding|    wedding expenses|\n",
       "| 491675|12edc8e328b993914...|  20000.0|    20000.0|36 months|   13.85|     682.08|Mar-2010| Fully Paid|               other| Short Term Tax Loan|\n",
       "| 491668|e18a847f091332ff6...|   6000.0|     6000.0|36 months|   11.36|     197.47|Mar-2010|Charged Off|  debt_consolidation|GREAT BORROWER --...|\n",
       "| 491663|d6fe0000e876ab76d...|   5500.0|     5500.0|36 months|   11.36|     181.02|Mar-2010| Fully Paid|         credit_card|     Road to Success|\n",
       "| 491632|62c38934f3a2ebcd2...|  10000.0|    10000.0|36 months|    15.7|     350.11|Mar-2010| Fully Paid|         credit_card|Finish Paying off...|\n",
       "| 491618|7701762ef5d302b0d...|  25000.0|    25000.0|36 months|   15.33|     870.71|Mar-2010| Fully Paid|  debt_consolidation|Pay off my high i...|\n",
       "| 491622|42a2df45b02b21b9a...|  25000.0|    25000.0|36 months|   16.07|     879.85|Mar-2010| Fully Paid|  debt_consolidation|        Debt Pay Off|\n",
       "| 491552|b1ba0adce0baea939...|  22000.0|    22000.0|36 months|   11.36|     724.05|Mar-2010| Fully Paid|  debt_consolidation|Getting rid of Ne...|\n",
       "| 491477|82cdc418e3907686a...|  16750.0|    16750.0|36 months|   13.11|     565.23|Mar-2010| Fully Paid|  debt_consolidation|Special Ed teache...|\n",
       "| 491596|6cbc67caa30708b24...|   3600.0|     3600.0|36 months|    15.7|     126.04|Mar-2010| Fully Paid|         credit_card|Credit Card Elimi...|\n",
       "| 491575|3bae7a88975616641...|  13750.0|    13750.0|36 months|   14.96|     476.39|Mar-2010| Fully Paid|  debt_consolidation|       Personal Loan|\n",
       "| 491581|55694e52b6a698777...|   8500.0|     8500.0|36 months|   10.62|     276.76|Mar-2010| Fully Paid|  debt_consolidation|Reduce Debt befor...|\n",
       "| 423260|c666d309594cceae5...|  10000.0|    10000.0|36 months|    7.88|     312.81|Mar-2010| Fully Paid|first as a Borrow...|first as a relati...|\n",
       "| 488022|cc859b4c14c9eb521...|   8000.0|     8000.0|36 months|    9.88|     257.69|Mar-2010| Fully Paid|  debt_consolidation|pay off credit ca...|\n",
       "| 491557|dc1eeb967d0041bec...|  12000.0|    12000.0|36 months|   13.48|     407.09|Mar-2010| Fully Paid|               other|        Payoff Easy!|\n",
       "| 491494|123126e86ba5ecd5d...|  10000.0|    10000.0|36 months|   14.96|     346.47|Mar-2010| Fully Paid|  debt_consolidation|Credit Card Conso...|\n",
       "| 491487|aeb1851b33df8f924...|  11000.0|    11000.0|36 months|   13.85|     375.15|Mar-2010| Fully Paid|  debt_consolidation|Credit card conso...|\n",
       "+-------+--------------------+---------+-----------+---------+--------+-----------+--------+-----------+--------------------+--------------------+\n",
       "only showing top 20 rows"
      ]
     },
     "execution_count": 26,
     "metadata": {},
     "output_type": "execute_result"
    }
   ],
   "source": [
    "loan_df"
   ]
  },
  {
   "cell_type": "code",
   "execution_count": 27,
   "id": "2ab1dc73",
   "metadata": {},
   "outputs": [
    {
     "name": "stdout",
     "output_type": "stream",
     "text": [
      "root\n",
      " |-- loan_id: string (nullable = true)\n",
      " |-- member_id: string (nullable = true)\n",
      " |-- loan_amnt: double (nullable = true)\n",
      " |-- funded_amnt: double (nullable = true)\n",
      " |-- term: string (nullable = true)\n",
      " |-- int_rate: double (nullable = true)\n",
      " |-- installment: double (nullable = true)\n",
      " |-- issue_d: string (nullable = true)\n",
      " |-- loan_status: string (nullable = true)\n",
      " |-- purpose: string (nullable = true)\n",
      " |-- title: string (nullable = true)\n",
      "\n"
     ]
    }
   ],
   "source": [
    "loan_df.printSchema()"
   ]
  },
  {
   "cell_type": "code",
   "execution_count": 104,
   "id": "2bc4a16d",
   "metadata": {},
   "outputs": [],
   "source": [
    "loan_schema = 'loan_id string,member_id string,loan_amount float,funded_amount float,loan_term_month string,interest_rate float,monthly_installment float,issue_date string,loan_status string,loan_purpose string,loan_title string'"
   ]
  },
  {
   "cell_type": "code",
   "execution_count": 105,
   "id": "a8af9b9c",
   "metadata": {},
   "outputs": [],
   "source": [
    "loan_df = spark.read \\\n",
    ".option(\"header\", True) \\\n",
    ".format(\"csv\") \\\n",
    ".schema(loan_schema) \\\n",
    ".load(\"/user/itv010130/loanproject/raw/loan_data_csv\")"
   ]
  },
  {
   "cell_type": "code",
   "execution_count": 31,
   "id": "161c56a0",
   "metadata": {},
   "outputs": [
    {
     "data": {
      "text/html": [
       "<table border='1'>\n",
       "<tr><th>loan_id</th><th>member_id</th><th>loan_amount</th><th>funded_amount</th><th>loan_term_month</th><th>interest_rate</th><th>monthly_installment</th><th>issue_date</th><th>loan_status</th><th>loan_purpose</th><th>loan_title</th></tr>\n",
       "<tr><td>491699</td><td>961ae110ec063761f...</td><td>7000.0</td><td>7000.0</td><td>36 months</td><td>12.73</td><td>234.97</td><td>Mar-2010</td><td>Fully Paid</td><td>debt_consolidation</td><td>Noelle&#x27;s debt con...</td></tr>\n",
       "<tr><td>491685</td><td>291854d244748c911...</td><td>15000.0</td><td>15000.0</td><td>36 months</td><td>10.62</td><td>488.4</td><td>Mar-2010</td><td>Fully Paid</td><td>other</td><td>Education</td></tr>\n",
       "<tr><td>491667</td><td>b5cf66b90193da9d2...</td><td>6400.0</td><td>6400.0</td><td>36 months</td><td>7.88</td><td>200.2</td><td>Mar-2010</td><td>Fully Paid</td><td>debt_consolidation</td><td>Make money easily</td></tr>\n",
       "<tr><td>491160</td><td>7f53fd1acb7759e5b...</td><td>4000.0</td><td>4000.0</td><td>36 months</td><td>14.59</td><td>137.86</td><td>Mar-2010</td><td>Fully Paid</td><td>wedding</td><td>wedding expenses</td></tr>\n",
       "<tr><td>491675</td><td>12edc8e328b993914...</td><td>20000.0</td><td>20000.0</td><td>36 months</td><td>13.85</td><td>682.08</td><td>Mar-2010</td><td>Fully Paid</td><td>other</td><td>Short Term Tax Loan</td></tr>\n",
       "<tr><td>491668</td><td>e18a847f091332ff6...</td><td>6000.0</td><td>6000.0</td><td>36 months</td><td>11.36</td><td>197.47</td><td>Mar-2010</td><td>Charged Off</td><td>debt_consolidation</td><td>GREAT BORROWER --...</td></tr>\n",
       "<tr><td>491663</td><td>d6fe0000e876ab76d...</td><td>5500.0</td><td>5500.0</td><td>36 months</td><td>11.36</td><td>181.02</td><td>Mar-2010</td><td>Fully Paid</td><td>credit_card</td><td>Road to Success</td></tr>\n",
       "<tr><td>491632</td><td>62c38934f3a2ebcd2...</td><td>10000.0</td><td>10000.0</td><td>36 months</td><td>15.7</td><td>350.11</td><td>Mar-2010</td><td>Fully Paid</td><td>credit_card</td><td>Finish Paying off...</td></tr>\n",
       "<tr><td>491618</td><td>7701762ef5d302b0d...</td><td>25000.0</td><td>25000.0</td><td>36 months</td><td>15.33</td><td>870.71</td><td>Mar-2010</td><td>Fully Paid</td><td>debt_consolidation</td><td>Pay off my high i...</td></tr>\n",
       "<tr><td>491622</td><td>42a2df45b02b21b9a...</td><td>25000.0</td><td>25000.0</td><td>36 months</td><td>16.07</td><td>879.85</td><td>Mar-2010</td><td>Fully Paid</td><td>debt_consolidation</td><td>Debt Pay Off</td></tr>\n",
       "<tr><td>491552</td><td>b1ba0adce0baea939...</td><td>22000.0</td><td>22000.0</td><td>36 months</td><td>11.36</td><td>724.05</td><td>Mar-2010</td><td>Fully Paid</td><td>debt_consolidation</td><td>Getting rid of Ne...</td></tr>\n",
       "<tr><td>491477</td><td>82cdc418e3907686a...</td><td>16750.0</td><td>16750.0</td><td>36 months</td><td>13.11</td><td>565.23</td><td>Mar-2010</td><td>Fully Paid</td><td>debt_consolidation</td><td>Special Ed teache...</td></tr>\n",
       "<tr><td>491596</td><td>6cbc67caa30708b24...</td><td>3600.0</td><td>3600.0</td><td>36 months</td><td>15.7</td><td>126.04</td><td>Mar-2010</td><td>Fully Paid</td><td>credit_card</td><td>Credit Card Elimi...</td></tr>\n",
       "<tr><td>491575</td><td>3bae7a88975616641...</td><td>13750.0</td><td>13750.0</td><td>36 months</td><td>14.96</td><td>476.39</td><td>Mar-2010</td><td>Fully Paid</td><td>debt_consolidation</td><td>Personal Loan</td></tr>\n",
       "<tr><td>491581</td><td>55694e52b6a698777...</td><td>8500.0</td><td>8500.0</td><td>36 months</td><td>10.62</td><td>276.76</td><td>Mar-2010</td><td>Fully Paid</td><td>debt_consolidation</td><td>Reduce Debt befor...</td></tr>\n",
       "<tr><td>423260</td><td>c666d309594cceae5...</td><td>10000.0</td><td>10000.0</td><td>36 months</td><td>7.88</td><td>312.81</td><td>Mar-2010</td><td>Fully Paid</td><td>first as a Borrow...</td><td>first as a relati...</td></tr>\n",
       "<tr><td>488022</td><td>cc859b4c14c9eb521...</td><td>8000.0</td><td>8000.0</td><td>36 months</td><td>9.88</td><td>257.69</td><td>Mar-2010</td><td>Fully Paid</td><td>debt_consolidation</td><td>pay off credit ca...</td></tr>\n",
       "<tr><td>491557</td><td>dc1eeb967d0041bec...</td><td>12000.0</td><td>12000.0</td><td>36 months</td><td>13.48</td><td>407.09</td><td>Mar-2010</td><td>Fully Paid</td><td>other</td><td>Payoff Easy!</td></tr>\n",
       "<tr><td>491494</td><td>123126e86ba5ecd5d...</td><td>10000.0</td><td>10000.0</td><td>36 months</td><td>14.96</td><td>346.47</td><td>Mar-2010</td><td>Fully Paid</td><td>debt_consolidation</td><td>Credit Card Conso...</td></tr>\n",
       "<tr><td>491487</td><td>aeb1851b33df8f924...</td><td>11000.0</td><td>11000.0</td><td>36 months</td><td>13.85</td><td>375.15</td><td>Mar-2010</td><td>Fully Paid</td><td>debt_consolidation</td><td>Credit card conso...</td></tr>\n",
       "</table>\n",
       "only showing top 20 rows\n"
      ],
      "text/plain": [
       "DataFrame[loan_id: string, member_id: string, loan_amount: float, funded_amount: float, loan_term_month: string, interest_rate: float, monthly_installment: float, issue_date: string, loan_status: string, loan_purpose: string, loan_title: string]"
      ]
     },
     "execution_count": 31,
     "metadata": {},
     "output_type": "execute_result"
    }
   ],
   "source": [
    "loan_df"
   ]
  },
  {
   "cell_type": "code",
   "execution_count": 32,
   "id": "2cf236d5",
   "metadata": {},
   "outputs": [
    {
     "name": "stdout",
     "output_type": "stream",
     "text": [
      "root\n",
      " |-- loan_id: string (nullable = true)\n",
      " |-- member_id: string (nullable = true)\n",
      " |-- loan_amount: float (nullable = true)\n",
      " |-- funded_amount: float (nullable = true)\n",
      " |-- loan_term_month: string (nullable = true)\n",
      " |-- interest_rate: float (nullable = true)\n",
      " |-- monthly_installment: float (nullable = true)\n",
      " |-- issue_date: string (nullable = true)\n",
      " |-- loan_status: string (nullable = true)\n",
      " |-- loan_purpose: string (nullable = true)\n",
      " |-- loan_title: string (nullable = true)\n",
      "\n"
     ]
    }
   ],
   "source": [
    "loan_df.printSchema()"
   ]
  },
  {
   "cell_type": "code",
   "execution_count": 106,
   "id": "481ad0ba",
   "metadata": {},
   "outputs": [],
   "source": [
    "from pyspark.sql.functions import current_timestamp"
   ]
  },
  {
   "cell_type": "code",
   "execution_count": 107,
   "id": "f5953c20",
   "metadata": {},
   "outputs": [],
   "source": [
    "new_loan_df = loan_df.withColumn(\"ingestion_date\",current_timestamp())"
   ]
  },
  {
   "cell_type": "code",
   "execution_count": 108,
   "id": "a41f049a",
   "metadata": {},
   "outputs": [],
   "source": [
    "new_loan_df.createOrReplaceTempView(\"loan_data\")"
   ]
  },
  {
   "cell_type": "code",
   "execution_count": 56,
   "id": "7f1e1ddf",
   "metadata": {},
   "outputs": [
    {
     "data": {
      "text/html": [
       "<table border='1'>\n",
       "<tr><th>count(1)</th></tr>\n",
       "<tr><td>2260701</td></tr>\n",
       "</table>\n"
      ],
      "text/plain": [
       "+--------+\n",
       "|count(1)|\n",
       "+--------+\n",
       "| 2260701|\n",
       "+--------+"
      ]
     },
     "execution_count": 56,
     "metadata": {},
     "output_type": "execute_result"
    }
   ],
   "source": [
    "spark.sql(\"select count(*) from loan_data\")"
   ]
  },
  {
   "cell_type": "code",
   "execution_count": 57,
   "id": "8591f835",
   "metadata": {},
   "outputs": [
    {
     "data": {
      "text/html": [
       "<table border='1'>\n",
       "<tr><th>loan_id</th><th>member_id</th><th>loan_amount</th><th>funded_amount</th><th>loan_term_month</th><th>interest_rate</th><th>monthly_installment</th><th>issue_date</th><th>loan_status</th><th>loan_purpose</th><th>loan_title</th><th>ingestion_date</th></tr>\n",
       "<tr><td>491699</td><td>961ae110ec063761f...</td><td>7000.0</td><td>7000.0</td><td>36 months</td><td>12.73</td><td>234.97</td><td>Mar-2010</td><td>Fully Paid</td><td>debt_consolidation</td><td>Noelle&#x27;s debt con...</td><td>2024-07-04 22:34:...</td></tr>\n",
       "<tr><td>491685</td><td>291854d244748c911...</td><td>15000.0</td><td>15000.0</td><td>36 months</td><td>10.62</td><td>488.4</td><td>Mar-2010</td><td>Fully Paid</td><td>other</td><td>Education</td><td>2024-07-04 22:34:...</td></tr>\n",
       "<tr><td>491667</td><td>b5cf66b90193da9d2...</td><td>6400.0</td><td>6400.0</td><td>36 months</td><td>7.88</td><td>200.2</td><td>Mar-2010</td><td>Fully Paid</td><td>debt_consolidation</td><td>Make money easily</td><td>2024-07-04 22:34:...</td></tr>\n",
       "<tr><td>491160</td><td>7f53fd1acb7759e5b...</td><td>4000.0</td><td>4000.0</td><td>36 months</td><td>14.59</td><td>137.86</td><td>Mar-2010</td><td>Fully Paid</td><td>wedding</td><td>wedding expenses</td><td>2024-07-04 22:34:...</td></tr>\n",
       "<tr><td>491675</td><td>12edc8e328b993914...</td><td>20000.0</td><td>20000.0</td><td>36 months</td><td>13.85</td><td>682.08</td><td>Mar-2010</td><td>Fully Paid</td><td>other</td><td>Short Term Tax Loan</td><td>2024-07-04 22:34:...</td></tr>\n",
       "<tr><td>491668</td><td>e18a847f091332ff6...</td><td>6000.0</td><td>6000.0</td><td>36 months</td><td>11.36</td><td>197.47</td><td>Mar-2010</td><td>Charged Off</td><td>debt_consolidation</td><td>GREAT BORROWER --...</td><td>2024-07-04 22:34:...</td></tr>\n",
       "<tr><td>491663</td><td>d6fe0000e876ab76d...</td><td>5500.0</td><td>5500.0</td><td>36 months</td><td>11.36</td><td>181.02</td><td>Mar-2010</td><td>Fully Paid</td><td>credit_card</td><td>Road to Success</td><td>2024-07-04 22:34:...</td></tr>\n",
       "<tr><td>491632</td><td>62c38934f3a2ebcd2...</td><td>10000.0</td><td>10000.0</td><td>36 months</td><td>15.7</td><td>350.11</td><td>Mar-2010</td><td>Fully Paid</td><td>credit_card</td><td>Finish Paying off...</td><td>2024-07-04 22:34:...</td></tr>\n",
       "<tr><td>491618</td><td>7701762ef5d302b0d...</td><td>25000.0</td><td>25000.0</td><td>36 months</td><td>15.33</td><td>870.71</td><td>Mar-2010</td><td>Fully Paid</td><td>debt_consolidation</td><td>Pay off my high i...</td><td>2024-07-04 22:34:...</td></tr>\n",
       "<tr><td>491622</td><td>42a2df45b02b21b9a...</td><td>25000.0</td><td>25000.0</td><td>36 months</td><td>16.07</td><td>879.85</td><td>Mar-2010</td><td>Fully Paid</td><td>debt_consolidation</td><td>Debt Pay Off</td><td>2024-07-04 22:34:...</td></tr>\n",
       "<tr><td>491552</td><td>b1ba0adce0baea939...</td><td>22000.0</td><td>22000.0</td><td>36 months</td><td>11.36</td><td>724.05</td><td>Mar-2010</td><td>Fully Paid</td><td>debt_consolidation</td><td>Getting rid of Ne...</td><td>2024-07-04 22:34:...</td></tr>\n",
       "<tr><td>491477</td><td>82cdc418e3907686a...</td><td>16750.0</td><td>16750.0</td><td>36 months</td><td>13.11</td><td>565.23</td><td>Mar-2010</td><td>Fully Paid</td><td>debt_consolidation</td><td>Special Ed teache...</td><td>2024-07-04 22:34:...</td></tr>\n",
       "<tr><td>491596</td><td>6cbc67caa30708b24...</td><td>3600.0</td><td>3600.0</td><td>36 months</td><td>15.7</td><td>126.04</td><td>Mar-2010</td><td>Fully Paid</td><td>credit_card</td><td>Credit Card Elimi...</td><td>2024-07-04 22:34:...</td></tr>\n",
       "<tr><td>491575</td><td>3bae7a88975616641...</td><td>13750.0</td><td>13750.0</td><td>36 months</td><td>14.96</td><td>476.39</td><td>Mar-2010</td><td>Fully Paid</td><td>debt_consolidation</td><td>Personal Loan</td><td>2024-07-04 22:34:...</td></tr>\n",
       "<tr><td>491581</td><td>55694e52b6a698777...</td><td>8500.0</td><td>8500.0</td><td>36 months</td><td>10.62</td><td>276.76</td><td>Mar-2010</td><td>Fully Paid</td><td>debt_consolidation</td><td>Reduce Debt befor...</td><td>2024-07-04 22:34:...</td></tr>\n",
       "<tr><td>423260</td><td>c666d309594cceae5...</td><td>10000.0</td><td>10000.0</td><td>36 months</td><td>7.88</td><td>312.81</td><td>Mar-2010</td><td>Fully Paid</td><td>first as a Borrow...</td><td>first as a relati...</td><td>2024-07-04 22:34:...</td></tr>\n",
       "<tr><td>488022</td><td>cc859b4c14c9eb521...</td><td>8000.0</td><td>8000.0</td><td>36 months</td><td>9.88</td><td>257.69</td><td>Mar-2010</td><td>Fully Paid</td><td>debt_consolidation</td><td>pay off credit ca...</td><td>2024-07-04 22:34:...</td></tr>\n",
       "<tr><td>491557</td><td>dc1eeb967d0041bec...</td><td>12000.0</td><td>12000.0</td><td>36 months</td><td>13.48</td><td>407.09</td><td>Mar-2010</td><td>Fully Paid</td><td>other</td><td>Payoff Easy!</td><td>2024-07-04 22:34:...</td></tr>\n",
       "<tr><td>491494</td><td>123126e86ba5ecd5d...</td><td>10000.0</td><td>10000.0</td><td>36 months</td><td>14.96</td><td>346.47</td><td>Mar-2010</td><td>Fully Paid</td><td>debt_consolidation</td><td>Credit Card Conso...</td><td>2024-07-04 22:34:...</td></tr>\n",
       "<tr><td>491487</td><td>aeb1851b33df8f924...</td><td>11000.0</td><td>11000.0</td><td>36 months</td><td>13.85</td><td>375.15</td><td>Mar-2010</td><td>Fully Paid</td><td>debt_consolidation</td><td>Credit card conso...</td><td>2024-07-04 22:34:...</td></tr>\n",
       "</table>\n",
       "only showing top 20 rows\n"
      ],
      "text/plain": [
       "+-------+--------------------+-----------+-------------+---------------+-------------+-------------------+----------+-----------+--------------------+--------------------+--------------------+\n",
       "|loan_id|           member_id|loan_amount|funded_amount|loan_term_month|interest_rate|monthly_installment|issue_date|loan_status|        loan_purpose|          loan_title|      ingestion_date|\n",
       "+-------+--------------------+-----------+-------------+---------------+-------------+-------------------+----------+-----------+--------------------+--------------------+--------------------+\n",
       "| 491699|961ae110ec063761f...|     7000.0|       7000.0|      36 months|        12.73|             234.97|  Mar-2010| Fully Paid|  debt_consolidation|Noelle's debt con...|2024-07-04 22:34:...|\n",
       "| 491685|291854d244748c911...|    15000.0|      15000.0|      36 months|        10.62|              488.4|  Mar-2010| Fully Paid|               other|           Education|2024-07-04 22:34:...|\n",
       "| 491667|b5cf66b90193da9d2...|     6400.0|       6400.0|      36 months|         7.88|              200.2|  Mar-2010| Fully Paid|  debt_consolidation|   Make money easily|2024-07-04 22:34:...|\n",
       "| 491160|7f53fd1acb7759e5b...|     4000.0|       4000.0|      36 months|        14.59|             137.86|  Mar-2010| Fully Paid|             wedding|    wedding expenses|2024-07-04 22:34:...|\n",
       "| 491675|12edc8e328b993914...|    20000.0|      20000.0|      36 months|        13.85|             682.08|  Mar-2010| Fully Paid|               other| Short Term Tax Loan|2024-07-04 22:34:...|\n",
       "| 491668|e18a847f091332ff6...|     6000.0|       6000.0|      36 months|        11.36|             197.47|  Mar-2010|Charged Off|  debt_consolidation|GREAT BORROWER --...|2024-07-04 22:34:...|\n",
       "| 491663|d6fe0000e876ab76d...|     5500.0|       5500.0|      36 months|        11.36|             181.02|  Mar-2010| Fully Paid|         credit_card|     Road to Success|2024-07-04 22:34:...|\n",
       "| 491632|62c38934f3a2ebcd2...|    10000.0|      10000.0|      36 months|         15.7|             350.11|  Mar-2010| Fully Paid|         credit_card|Finish Paying off...|2024-07-04 22:34:...|\n",
       "| 491618|7701762ef5d302b0d...|    25000.0|      25000.0|      36 months|        15.33|             870.71|  Mar-2010| Fully Paid|  debt_consolidation|Pay off my high i...|2024-07-04 22:34:...|\n",
       "| 491622|42a2df45b02b21b9a...|    25000.0|      25000.0|      36 months|        16.07|             879.85|  Mar-2010| Fully Paid|  debt_consolidation|        Debt Pay Off|2024-07-04 22:34:...|\n",
       "| 491552|b1ba0adce0baea939...|    22000.0|      22000.0|      36 months|        11.36|             724.05|  Mar-2010| Fully Paid|  debt_consolidation|Getting rid of Ne...|2024-07-04 22:34:...|\n",
       "| 491477|82cdc418e3907686a...|    16750.0|      16750.0|      36 months|        13.11|             565.23|  Mar-2010| Fully Paid|  debt_consolidation|Special Ed teache...|2024-07-04 22:34:...|\n",
       "| 491596|6cbc67caa30708b24...|     3600.0|       3600.0|      36 months|         15.7|             126.04|  Mar-2010| Fully Paid|         credit_card|Credit Card Elimi...|2024-07-04 22:34:...|\n",
       "| 491575|3bae7a88975616641...|    13750.0|      13750.0|      36 months|        14.96|             476.39|  Mar-2010| Fully Paid|  debt_consolidation|       Personal Loan|2024-07-04 22:34:...|\n",
       "| 491581|55694e52b6a698777...|     8500.0|       8500.0|      36 months|        10.62|             276.76|  Mar-2010| Fully Paid|  debt_consolidation|Reduce Debt befor...|2024-07-04 22:34:...|\n",
       "| 423260|c666d309594cceae5...|    10000.0|      10000.0|      36 months|         7.88|             312.81|  Mar-2010| Fully Paid|first as a Borrow...|first as a relati...|2024-07-04 22:34:...|\n",
       "| 488022|cc859b4c14c9eb521...|     8000.0|       8000.0|      36 months|         9.88|             257.69|  Mar-2010| Fully Paid|  debt_consolidation|pay off credit ca...|2024-07-04 22:34:...|\n",
       "| 491557|dc1eeb967d0041bec...|    12000.0|      12000.0|      36 months|        13.48|             407.09|  Mar-2010| Fully Paid|               other|        Payoff Easy!|2024-07-04 22:34:...|\n",
       "| 491494|123126e86ba5ecd5d...|    10000.0|      10000.0|      36 months|        14.96|             346.47|  Mar-2010| Fully Paid|  debt_consolidation|Credit Card Conso...|2024-07-04 22:34:...|\n",
       "| 491487|aeb1851b33df8f924...|    11000.0|      11000.0|      36 months|        13.85|             375.15|  Mar-2010| Fully Paid|  debt_consolidation|Credit card conso...|2024-07-04 22:34:...|\n",
       "+-------+--------------------+-----------+-------------+---------------+-------------+-------------------+----------+-----------+--------------------+--------------------+--------------------+\n",
       "only showing top 20 rows"
      ]
     },
     "execution_count": 57,
     "metadata": {},
     "output_type": "execute_result"
    }
   ],
   "source": [
    "spark.sql(\"select * from loan_data\")"
   ]
  },
  {
   "cell_type": "code",
   "execution_count": 63,
   "id": "9d956b91",
   "metadata": {},
   "outputs": [
    {
     "data": {
      "text/html": [
       "<table border='1'>\n",
       "<tr><th>count(1)</th></tr>\n",
       "<tr><td>33</td></tr>\n",
       "</table>\n"
      ],
      "text/plain": [
       "+--------+\n",
       "|count(1)|\n",
       "+--------+\n",
       "|      33|\n",
       "+--------+"
      ]
     },
     "execution_count": 63,
     "metadata": {},
     "output_type": "execute_result"
    }
   ],
   "source": [
    "spark.sql(\"select count(*) from loan_data where loan_amount is null\")"
   ]
  },
  {
   "cell_type": "code",
   "execution_count": 64,
   "id": "8e8cda39",
   "metadata": {},
   "outputs": [
    {
     "data": {
      "text/html": [
       "<table border='1'>\n",
       "<tr><th>loan_id</th><th>member_id</th><th>loan_amount</th><th>funded_amount</th><th>loan_term_month</th><th>interest_rate</th><th>monthly_installment</th><th>issue_date</th><th>loan_status</th><th>loan_purpose</th><th>loan_title</th><th>ingestion_date</th></tr>\n",
       "<tr><td>Loans that do not...</td><td>e3b0c44298fc1c149...</td><td>null</td><td>null</td><td>null</td><td>null</td><td>null</td><td>null</td><td>null</td><td>null</td><td>null</td><td>2024-07-04 22:37:...</td></tr>\n",
       "<tr><td>Total amount fund...</td><td>e3b0c44298fc1c149...</td><td>null</td><td>null</td><td>null</td><td>null</td><td>null</td><td>null</td><td>null</td><td>null</td><td>null</td><td>2024-07-04 22:37:...</td></tr>\n",
       "<tr><td>Total amount fund...</td><td>e3b0c44298fc1c149...</td><td>null</td><td>null</td><td>null</td><td>null</td><td>null</td><td>null</td><td>null</td><td>null</td><td>null</td><td>2024-07-04 22:37:...</td></tr>\n",
       "<tr><td>Total amount fund...</td><td>e3b0c44298fc1c149...</td><td>null</td><td>null</td><td>null</td><td>null</td><td>null</td><td>null</td><td>null</td><td>null</td><td>null</td><td>2024-07-04 22:37:...</td></tr>\n",
       "<tr><td>Total amount fund...</td><td>e3b0c44298fc1c149...</td><td>null</td><td>null</td><td>null</td><td>null</td><td>null</td><td>null</td><td>null</td><td>null</td><td>null</td><td>2024-07-04 22:37:...</td></tr>\n",
       "<tr><td>Total amount fund...</td><td>e3b0c44298fc1c149...</td><td>null</td><td>null</td><td>null</td><td>null</td><td>null</td><td>null</td><td>null</td><td>null</td><td>null</td><td>2024-07-04 22:37:...</td></tr>\n",
       "<tr><td>Total amount fund...</td><td>e3b0c44298fc1c149...</td><td>null</td><td>null</td><td>null</td><td>null</td><td>null</td><td>null</td><td>null</td><td>null</td><td>null</td><td>2024-07-04 22:37:...</td></tr>\n",
       "<tr><td>Total amount fund...</td><td>e3b0c44298fc1c149...</td><td>null</td><td>null</td><td>null</td><td>null</td><td>null</td><td>null</td><td>null</td><td>null</td><td>null</td><td>2024-07-04 22:37:...</td></tr>\n",
       "<tr><td>Total amount fund...</td><td>e3b0c44298fc1c149...</td><td>null</td><td>null</td><td>null</td><td>null</td><td>null</td><td>null</td><td>null</td><td>null</td><td>null</td><td>2024-07-04 22:37:...</td></tr>\n",
       "<tr><td>Total amount fund...</td><td>e3b0c44298fc1c149...</td><td>null</td><td>null</td><td>null</td><td>null</td><td>null</td><td>null</td><td>null</td><td>null</td><td>null</td><td>2024-07-04 22:37:...</td></tr>\n",
       "<tr><td>Total amount fund...</td><td>e3b0c44298fc1c149...</td><td>null</td><td>null</td><td>null</td><td>null</td><td>null</td><td>null</td><td>null</td><td>null</td><td>null</td><td>2024-07-04 22:37:...</td></tr>\n",
       "<tr><td>Total amount fund...</td><td>e3b0c44298fc1c149...</td><td>null</td><td>null</td><td>null</td><td>null</td><td>null</td><td>null</td><td>null</td><td>null</td><td>null</td><td>2024-07-04 22:37:...</td></tr>\n",
       "<tr><td>Total amount fund...</td><td>e3b0c44298fc1c149...</td><td>null</td><td>null</td><td>null</td><td>null</td><td>null</td><td>null</td><td>null</td><td>null</td><td>null</td><td>2024-07-04 22:37:...</td></tr>\n",
       "<tr><td>Total amount fund...</td><td>e3b0c44298fc1c149...</td><td>null</td><td>null</td><td>null</td><td>null</td><td>null</td><td>null</td><td>null</td><td>null</td><td>null</td><td>2024-07-04 22:37:...</td></tr>\n",
       "<tr><td>Total amount fund...</td><td>e3b0c44298fc1c149...</td><td>null</td><td>null</td><td>null</td><td>null</td><td>null</td><td>null</td><td>null</td><td>null</td><td>null</td><td>2024-07-04 22:37:...</td></tr>\n",
       "<tr><td>Total amount fund...</td><td>e3b0c44298fc1c149...</td><td>null</td><td>null</td><td>null</td><td>null</td><td>null</td><td>null</td><td>null</td><td>null</td><td>null</td><td>2024-07-04 22:37:...</td></tr>\n",
       "<tr><td>Total amount fund...</td><td>e3b0c44298fc1c149...</td><td>null</td><td>null</td><td>null</td><td>null</td><td>null</td><td>null</td><td>null</td><td>null</td><td>null</td><td>2024-07-04 22:37:...</td></tr>\n",
       "<tr><td>Total amount fund...</td><td>e3b0c44298fc1c149...</td><td>null</td><td>null</td><td>null</td><td>null</td><td>null</td><td>null</td><td>null</td><td>null</td><td>null</td><td>2024-07-04 22:37:...</td></tr>\n",
       "<tr><td>Total amount fund...</td><td>e3b0c44298fc1c149...</td><td>null</td><td>null</td><td>null</td><td>null</td><td>null</td><td>null</td><td>null</td><td>null</td><td>null</td><td>2024-07-04 22:37:...</td></tr>\n",
       "<tr><td>Total amount fund...</td><td>e3b0c44298fc1c149...</td><td>null</td><td>null</td><td>null</td><td>null</td><td>null</td><td>null</td><td>null</td><td>null</td><td>null</td><td>2024-07-04 22:37:...</td></tr>\n",
       "</table>\n",
       "only showing top 20 rows\n"
      ],
      "text/plain": [
       "+--------------------+--------------------+-----------+-------------+---------------+-------------+-------------------+----------+-----------+------------+----------+--------------------+\n",
       "|             loan_id|           member_id|loan_amount|funded_amount|loan_term_month|interest_rate|monthly_installment|issue_date|loan_status|loan_purpose|loan_title|      ingestion_date|\n",
       "+--------------------+--------------------+-----------+-------------+---------------+-------------+-------------------+----------+-----------+------------+----------+--------------------+\n",
       "|Loans that do not...|e3b0c44298fc1c149...|       null|         null|           null|         null|               null|      null|       null|        null|      null|2024-07-04 22:37:...|\n",
       "|Total amount fund...|e3b0c44298fc1c149...|       null|         null|           null|         null|               null|      null|       null|        null|      null|2024-07-04 22:37:...|\n",
       "|Total amount fund...|e3b0c44298fc1c149...|       null|         null|           null|         null|               null|      null|       null|        null|      null|2024-07-04 22:37:...|\n",
       "|Total amount fund...|e3b0c44298fc1c149...|       null|         null|           null|         null|               null|      null|       null|        null|      null|2024-07-04 22:37:...|\n",
       "|Total amount fund...|e3b0c44298fc1c149...|       null|         null|           null|         null|               null|      null|       null|        null|      null|2024-07-04 22:37:...|\n",
       "|Total amount fund...|e3b0c44298fc1c149...|       null|         null|           null|         null|               null|      null|       null|        null|      null|2024-07-04 22:37:...|\n",
       "|Total amount fund...|e3b0c44298fc1c149...|       null|         null|           null|         null|               null|      null|       null|        null|      null|2024-07-04 22:37:...|\n",
       "|Total amount fund...|e3b0c44298fc1c149...|       null|         null|           null|         null|               null|      null|       null|        null|      null|2024-07-04 22:37:...|\n",
       "|Total amount fund...|e3b0c44298fc1c149...|       null|         null|           null|         null|               null|      null|       null|        null|      null|2024-07-04 22:37:...|\n",
       "|Total amount fund...|e3b0c44298fc1c149...|       null|         null|           null|         null|               null|      null|       null|        null|      null|2024-07-04 22:37:...|\n",
       "|Total amount fund...|e3b0c44298fc1c149...|       null|         null|           null|         null|               null|      null|       null|        null|      null|2024-07-04 22:37:...|\n",
       "|Total amount fund...|e3b0c44298fc1c149...|       null|         null|           null|         null|               null|      null|       null|        null|      null|2024-07-04 22:37:...|\n",
       "|Total amount fund...|e3b0c44298fc1c149...|       null|         null|           null|         null|               null|      null|       null|        null|      null|2024-07-04 22:37:...|\n",
       "|Total amount fund...|e3b0c44298fc1c149...|       null|         null|           null|         null|               null|      null|       null|        null|      null|2024-07-04 22:37:...|\n",
       "|Total amount fund...|e3b0c44298fc1c149...|       null|         null|           null|         null|               null|      null|       null|        null|      null|2024-07-04 22:37:...|\n",
       "|Total amount fund...|e3b0c44298fc1c149...|       null|         null|           null|         null|               null|      null|       null|        null|      null|2024-07-04 22:37:...|\n",
       "|Total amount fund...|e3b0c44298fc1c149...|       null|         null|           null|         null|               null|      null|       null|        null|      null|2024-07-04 22:37:...|\n",
       "|Total amount fund...|e3b0c44298fc1c149...|       null|         null|           null|         null|               null|      null|       null|        null|      null|2024-07-04 22:37:...|\n",
       "|Total amount fund...|e3b0c44298fc1c149...|       null|         null|           null|         null|               null|      null|       null|        null|      null|2024-07-04 22:37:...|\n",
       "|Total amount fund...|e3b0c44298fc1c149...|       null|         null|           null|         null|               null|      null|       null|        null|      null|2024-07-04 22:37:...|\n",
       "+--------------------+--------------------+-----------+-------------+---------------+-------------+-------------------+----------+-----------+------------+----------+--------------------+\n",
       "only showing top 20 rows"
      ]
     },
     "execution_count": 64,
     "metadata": {},
     "output_type": "execute_result"
    }
   ],
   "source": [
    "spark.sql(\"select * from loan_data where loan_amount is null\")"
   ]
  },
  {
   "cell_type": "code",
   "execution_count": 109,
   "id": "b42c64ce",
   "metadata": {},
   "outputs": [],
   "source": [
    "null_columns = ['loan_amount','funded_amount','loan_term_month','interest_rate','monthly_installment','issue_date','loan_status','loan_purpose']"
   ]
  },
  {
   "cell_type": "code",
   "execution_count": 110,
   "id": "722d9283",
   "metadata": {},
   "outputs": [],
   "source": [
    "loan_filtered_df = new_loan_df.na.drop(subset=null_columns)"
   ]
  },
  {
   "cell_type": "code",
   "execution_count": 67,
   "id": "7b339b5d",
   "metadata": {},
   "outputs": [
    {
     "data": {
      "text/plain": [
       "2260667"
      ]
     },
     "execution_count": 67,
     "metadata": {},
     "output_type": "execute_result"
    }
   ],
   "source": [
    "loan_filtered_df.count()"
   ]
  },
  {
   "cell_type": "code",
   "execution_count": 111,
   "id": "9260eab8",
   "metadata": {},
   "outputs": [],
   "source": [
    "loan_filtered_df.createOrReplaceTempView(\"loan_data\")"
   ]
  },
  {
   "cell_type": "code",
   "execution_count": 68,
   "id": "198dfaea",
   "metadata": {},
   "outputs": [
    {
     "data": {
      "text/html": [
       "<table border='1'>\n",
       "<tr><th>loan_id</th><th>member_id</th><th>loan_amount</th><th>funded_amount</th><th>loan_term_month</th><th>interest_rate</th><th>monthly_installment</th><th>issue_date</th><th>loan_status</th><th>loan_purpose</th><th>loan_title</th><th>ingestion_date</th></tr>\n",
       "<tr><td>491699</td><td>961ae110ec063761f...</td><td>7000.0</td><td>7000.0</td><td>36 months</td><td>12.73</td><td>234.97</td><td>Mar-2010</td><td>Fully Paid</td><td>debt_consolidation</td><td>Noelle&#x27;s debt con...</td><td>2024-07-04 22:46:...</td></tr>\n",
       "<tr><td>491685</td><td>291854d244748c911...</td><td>15000.0</td><td>15000.0</td><td>36 months</td><td>10.62</td><td>488.4</td><td>Mar-2010</td><td>Fully Paid</td><td>other</td><td>Education</td><td>2024-07-04 22:46:...</td></tr>\n",
       "<tr><td>491667</td><td>b5cf66b90193da9d2...</td><td>6400.0</td><td>6400.0</td><td>36 months</td><td>7.88</td><td>200.2</td><td>Mar-2010</td><td>Fully Paid</td><td>debt_consolidation</td><td>Make money easily</td><td>2024-07-04 22:46:...</td></tr>\n",
       "<tr><td>491160</td><td>7f53fd1acb7759e5b...</td><td>4000.0</td><td>4000.0</td><td>36 months</td><td>14.59</td><td>137.86</td><td>Mar-2010</td><td>Fully Paid</td><td>wedding</td><td>wedding expenses</td><td>2024-07-04 22:46:...</td></tr>\n",
       "<tr><td>491675</td><td>12edc8e328b993914...</td><td>20000.0</td><td>20000.0</td><td>36 months</td><td>13.85</td><td>682.08</td><td>Mar-2010</td><td>Fully Paid</td><td>other</td><td>Short Term Tax Loan</td><td>2024-07-04 22:46:...</td></tr>\n",
       "<tr><td>491668</td><td>e18a847f091332ff6...</td><td>6000.0</td><td>6000.0</td><td>36 months</td><td>11.36</td><td>197.47</td><td>Mar-2010</td><td>Charged Off</td><td>debt_consolidation</td><td>GREAT BORROWER --...</td><td>2024-07-04 22:46:...</td></tr>\n",
       "<tr><td>491663</td><td>d6fe0000e876ab76d...</td><td>5500.0</td><td>5500.0</td><td>36 months</td><td>11.36</td><td>181.02</td><td>Mar-2010</td><td>Fully Paid</td><td>credit_card</td><td>Road to Success</td><td>2024-07-04 22:46:...</td></tr>\n",
       "<tr><td>491632</td><td>62c38934f3a2ebcd2...</td><td>10000.0</td><td>10000.0</td><td>36 months</td><td>15.7</td><td>350.11</td><td>Mar-2010</td><td>Fully Paid</td><td>credit_card</td><td>Finish Paying off...</td><td>2024-07-04 22:46:...</td></tr>\n",
       "<tr><td>491618</td><td>7701762ef5d302b0d...</td><td>25000.0</td><td>25000.0</td><td>36 months</td><td>15.33</td><td>870.71</td><td>Mar-2010</td><td>Fully Paid</td><td>debt_consolidation</td><td>Pay off my high i...</td><td>2024-07-04 22:46:...</td></tr>\n",
       "<tr><td>491622</td><td>42a2df45b02b21b9a...</td><td>25000.0</td><td>25000.0</td><td>36 months</td><td>16.07</td><td>879.85</td><td>Mar-2010</td><td>Fully Paid</td><td>debt_consolidation</td><td>Debt Pay Off</td><td>2024-07-04 22:46:...</td></tr>\n",
       "<tr><td>491552</td><td>b1ba0adce0baea939...</td><td>22000.0</td><td>22000.0</td><td>36 months</td><td>11.36</td><td>724.05</td><td>Mar-2010</td><td>Fully Paid</td><td>debt_consolidation</td><td>Getting rid of Ne...</td><td>2024-07-04 22:46:...</td></tr>\n",
       "<tr><td>491477</td><td>82cdc418e3907686a...</td><td>16750.0</td><td>16750.0</td><td>36 months</td><td>13.11</td><td>565.23</td><td>Mar-2010</td><td>Fully Paid</td><td>debt_consolidation</td><td>Special Ed teache...</td><td>2024-07-04 22:46:...</td></tr>\n",
       "<tr><td>491596</td><td>6cbc67caa30708b24...</td><td>3600.0</td><td>3600.0</td><td>36 months</td><td>15.7</td><td>126.04</td><td>Mar-2010</td><td>Fully Paid</td><td>credit_card</td><td>Credit Card Elimi...</td><td>2024-07-04 22:46:...</td></tr>\n",
       "<tr><td>491575</td><td>3bae7a88975616641...</td><td>13750.0</td><td>13750.0</td><td>36 months</td><td>14.96</td><td>476.39</td><td>Mar-2010</td><td>Fully Paid</td><td>debt_consolidation</td><td>Personal Loan</td><td>2024-07-04 22:46:...</td></tr>\n",
       "<tr><td>491581</td><td>55694e52b6a698777...</td><td>8500.0</td><td>8500.0</td><td>36 months</td><td>10.62</td><td>276.76</td><td>Mar-2010</td><td>Fully Paid</td><td>debt_consolidation</td><td>Reduce Debt befor...</td><td>2024-07-04 22:46:...</td></tr>\n",
       "<tr><td>423260</td><td>c666d309594cceae5...</td><td>10000.0</td><td>10000.0</td><td>36 months</td><td>7.88</td><td>312.81</td><td>Mar-2010</td><td>Fully Paid</td><td>first as a Borrow...</td><td>first as a relati...</td><td>2024-07-04 22:46:...</td></tr>\n",
       "<tr><td>488022</td><td>cc859b4c14c9eb521...</td><td>8000.0</td><td>8000.0</td><td>36 months</td><td>9.88</td><td>257.69</td><td>Mar-2010</td><td>Fully Paid</td><td>debt_consolidation</td><td>pay off credit ca...</td><td>2024-07-04 22:46:...</td></tr>\n",
       "<tr><td>491557</td><td>dc1eeb967d0041bec...</td><td>12000.0</td><td>12000.0</td><td>36 months</td><td>13.48</td><td>407.09</td><td>Mar-2010</td><td>Fully Paid</td><td>other</td><td>Payoff Easy!</td><td>2024-07-04 22:46:...</td></tr>\n",
       "<tr><td>491494</td><td>123126e86ba5ecd5d...</td><td>10000.0</td><td>10000.0</td><td>36 months</td><td>14.96</td><td>346.47</td><td>Mar-2010</td><td>Fully Paid</td><td>debt_consolidation</td><td>Credit Card Conso...</td><td>2024-07-04 22:46:...</td></tr>\n",
       "<tr><td>491487</td><td>aeb1851b33df8f924...</td><td>11000.0</td><td>11000.0</td><td>36 months</td><td>13.85</td><td>375.15</td><td>Mar-2010</td><td>Fully Paid</td><td>debt_consolidation</td><td>Credit card conso...</td><td>2024-07-04 22:46:...</td></tr>\n",
       "</table>\n",
       "only showing top 20 rows\n"
      ],
      "text/plain": [
       "+-------+--------------------+-----------+-------------+---------------+-------------+-------------------+----------+-----------+--------------------+--------------------+--------------------+\n",
       "|loan_id|           member_id|loan_amount|funded_amount|loan_term_month|interest_rate|monthly_installment|issue_date|loan_status|        loan_purpose|          loan_title|      ingestion_date|\n",
       "+-------+--------------------+-----------+-------------+---------------+-------------+-------------------+----------+-----------+--------------------+--------------------+--------------------+\n",
       "| 491699|961ae110ec063761f...|     7000.0|       7000.0|      36 months|        12.73|             234.97|  Mar-2010| Fully Paid|  debt_consolidation|Noelle's debt con...|2024-07-04 22:46:...|\n",
       "| 491685|291854d244748c911...|    15000.0|      15000.0|      36 months|        10.62|              488.4|  Mar-2010| Fully Paid|               other|           Education|2024-07-04 22:46:...|\n",
       "| 491667|b5cf66b90193da9d2...|     6400.0|       6400.0|      36 months|         7.88|              200.2|  Mar-2010| Fully Paid|  debt_consolidation|   Make money easily|2024-07-04 22:46:...|\n",
       "| 491160|7f53fd1acb7759e5b...|     4000.0|       4000.0|      36 months|        14.59|             137.86|  Mar-2010| Fully Paid|             wedding|    wedding expenses|2024-07-04 22:46:...|\n",
       "| 491675|12edc8e328b993914...|    20000.0|      20000.0|      36 months|        13.85|             682.08|  Mar-2010| Fully Paid|               other| Short Term Tax Loan|2024-07-04 22:46:...|\n",
       "| 491668|e18a847f091332ff6...|     6000.0|       6000.0|      36 months|        11.36|             197.47|  Mar-2010|Charged Off|  debt_consolidation|GREAT BORROWER --...|2024-07-04 22:46:...|\n",
       "| 491663|d6fe0000e876ab76d...|     5500.0|       5500.0|      36 months|        11.36|             181.02|  Mar-2010| Fully Paid|         credit_card|     Road to Success|2024-07-04 22:46:...|\n",
       "| 491632|62c38934f3a2ebcd2...|    10000.0|      10000.0|      36 months|         15.7|             350.11|  Mar-2010| Fully Paid|         credit_card|Finish Paying off...|2024-07-04 22:46:...|\n",
       "| 491618|7701762ef5d302b0d...|    25000.0|      25000.0|      36 months|        15.33|             870.71|  Mar-2010| Fully Paid|  debt_consolidation|Pay off my high i...|2024-07-04 22:46:...|\n",
       "| 491622|42a2df45b02b21b9a...|    25000.0|      25000.0|      36 months|        16.07|             879.85|  Mar-2010| Fully Paid|  debt_consolidation|        Debt Pay Off|2024-07-04 22:46:...|\n",
       "| 491552|b1ba0adce0baea939...|    22000.0|      22000.0|      36 months|        11.36|             724.05|  Mar-2010| Fully Paid|  debt_consolidation|Getting rid of Ne...|2024-07-04 22:46:...|\n",
       "| 491477|82cdc418e3907686a...|    16750.0|      16750.0|      36 months|        13.11|             565.23|  Mar-2010| Fully Paid|  debt_consolidation|Special Ed teache...|2024-07-04 22:46:...|\n",
       "| 491596|6cbc67caa30708b24...|     3600.0|       3600.0|      36 months|         15.7|             126.04|  Mar-2010| Fully Paid|         credit_card|Credit Card Elimi...|2024-07-04 22:46:...|\n",
       "| 491575|3bae7a88975616641...|    13750.0|      13750.0|      36 months|        14.96|             476.39|  Mar-2010| Fully Paid|  debt_consolidation|       Personal Loan|2024-07-04 22:46:...|\n",
       "| 491581|55694e52b6a698777...|     8500.0|       8500.0|      36 months|        10.62|             276.76|  Mar-2010| Fully Paid|  debt_consolidation|Reduce Debt befor...|2024-07-04 22:46:...|\n",
       "| 423260|c666d309594cceae5...|    10000.0|      10000.0|      36 months|         7.88|             312.81|  Mar-2010| Fully Paid|first as a Borrow...|first as a relati...|2024-07-04 22:46:...|\n",
       "| 488022|cc859b4c14c9eb521...|     8000.0|       8000.0|      36 months|         9.88|             257.69|  Mar-2010| Fully Paid|  debt_consolidation|pay off credit ca...|2024-07-04 22:46:...|\n",
       "| 491557|dc1eeb967d0041bec...|    12000.0|      12000.0|      36 months|        13.48|             407.09|  Mar-2010| Fully Paid|               other|        Payoff Easy!|2024-07-04 22:46:...|\n",
       "| 491494|123126e86ba5ecd5d...|    10000.0|      10000.0|      36 months|        14.96|             346.47|  Mar-2010| Fully Paid|  debt_consolidation|Credit Card Conso...|2024-07-04 22:46:...|\n",
       "| 491487|aeb1851b33df8f924...|    11000.0|      11000.0|      36 months|        13.85|             375.15|  Mar-2010| Fully Paid|  debt_consolidation|Credit card conso...|2024-07-04 22:46:...|\n",
       "+-------+--------------------+-----------+-------------+---------------+-------------+-------------------+----------+-----------+--------------------+--------------------+--------------------+\n",
       "only showing top 20 rows"
      ]
     },
     "execution_count": 68,
     "metadata": {},
     "output_type": "execute_result"
    }
   ],
   "source": [
    "loan_filtered_df"
   ]
  },
  {
   "cell_type": "code",
   "execution_count": 112,
   "id": "2eb4911d",
   "metadata": {},
   "outputs": [],
   "source": [
    "from pyspark.sql.functions import regexp_replace, col"
   ]
  },
  {
   "cell_type": "code",
   "execution_count": 113,
   "id": "523f4f90",
   "metadata": {},
   "outputs": [],
   "source": [
    "loan_term_fixed_df = loan_filtered_df.withColumn(\"loan_term_month\",(regexp_replace(col(\"loan_term_month\"),\"months\",\"\") \\\n",
    ".cast(\"int\")/12) \\\n",
    ".cast(\"int\")) \\\n",
    ".withColumnRenamed(\"loan_term_month\",\"loan_term_years\")"
   ]
  },
  {
   "cell_type": "code",
   "execution_count": 114,
   "id": "ba266e19",
   "metadata": {},
   "outputs": [
    {
     "data": {
      "text/html": [
       "<table border='1'>\n",
       "<tr><th>loan_id</th><th>member_id</th><th>loan_amount</th><th>funded_amount</th><th>loan_term_years</th><th>interest_rate</th><th>monthly_installment</th><th>issue_date</th><th>loan_status</th><th>loan_purpose</th><th>loan_title</th><th>ingestion_date</th></tr>\n",
       "<tr><td>491699</td><td>961ae110ec063761f...</td><td>7000.0</td><td>7000.0</td><td>3</td><td>12.73</td><td>234.97</td><td>Mar-2010</td><td>Fully Paid</td><td>debt_consolidation</td><td>Noelle&#x27;s debt con...</td><td>2024-07-04 23:20:...</td></tr>\n",
       "<tr><td>491685</td><td>291854d244748c911...</td><td>15000.0</td><td>15000.0</td><td>3</td><td>10.62</td><td>488.4</td><td>Mar-2010</td><td>Fully Paid</td><td>other</td><td>Education</td><td>2024-07-04 23:20:...</td></tr>\n",
       "<tr><td>491667</td><td>b5cf66b90193da9d2...</td><td>6400.0</td><td>6400.0</td><td>3</td><td>7.88</td><td>200.2</td><td>Mar-2010</td><td>Fully Paid</td><td>debt_consolidation</td><td>Make money easily</td><td>2024-07-04 23:20:...</td></tr>\n",
       "<tr><td>491160</td><td>7f53fd1acb7759e5b...</td><td>4000.0</td><td>4000.0</td><td>3</td><td>14.59</td><td>137.86</td><td>Mar-2010</td><td>Fully Paid</td><td>wedding</td><td>wedding expenses</td><td>2024-07-04 23:20:...</td></tr>\n",
       "<tr><td>491675</td><td>12edc8e328b993914...</td><td>20000.0</td><td>20000.0</td><td>3</td><td>13.85</td><td>682.08</td><td>Mar-2010</td><td>Fully Paid</td><td>other</td><td>Short Term Tax Loan</td><td>2024-07-04 23:20:...</td></tr>\n",
       "<tr><td>491668</td><td>e18a847f091332ff6...</td><td>6000.0</td><td>6000.0</td><td>3</td><td>11.36</td><td>197.47</td><td>Mar-2010</td><td>Charged Off</td><td>debt_consolidation</td><td>GREAT BORROWER --...</td><td>2024-07-04 23:20:...</td></tr>\n",
       "<tr><td>491663</td><td>d6fe0000e876ab76d...</td><td>5500.0</td><td>5500.0</td><td>3</td><td>11.36</td><td>181.02</td><td>Mar-2010</td><td>Fully Paid</td><td>credit_card</td><td>Road to Success</td><td>2024-07-04 23:20:...</td></tr>\n",
       "<tr><td>491632</td><td>62c38934f3a2ebcd2...</td><td>10000.0</td><td>10000.0</td><td>3</td><td>15.7</td><td>350.11</td><td>Mar-2010</td><td>Fully Paid</td><td>credit_card</td><td>Finish Paying off...</td><td>2024-07-04 23:20:...</td></tr>\n",
       "<tr><td>491618</td><td>7701762ef5d302b0d...</td><td>25000.0</td><td>25000.0</td><td>3</td><td>15.33</td><td>870.71</td><td>Mar-2010</td><td>Fully Paid</td><td>debt_consolidation</td><td>Pay off my high i...</td><td>2024-07-04 23:20:...</td></tr>\n",
       "<tr><td>491622</td><td>42a2df45b02b21b9a...</td><td>25000.0</td><td>25000.0</td><td>3</td><td>16.07</td><td>879.85</td><td>Mar-2010</td><td>Fully Paid</td><td>debt_consolidation</td><td>Debt Pay Off</td><td>2024-07-04 23:20:...</td></tr>\n",
       "<tr><td>491552</td><td>b1ba0adce0baea939...</td><td>22000.0</td><td>22000.0</td><td>3</td><td>11.36</td><td>724.05</td><td>Mar-2010</td><td>Fully Paid</td><td>debt_consolidation</td><td>Getting rid of Ne...</td><td>2024-07-04 23:20:...</td></tr>\n",
       "<tr><td>491477</td><td>82cdc418e3907686a...</td><td>16750.0</td><td>16750.0</td><td>3</td><td>13.11</td><td>565.23</td><td>Mar-2010</td><td>Fully Paid</td><td>debt_consolidation</td><td>Special Ed teache...</td><td>2024-07-04 23:20:...</td></tr>\n",
       "<tr><td>491596</td><td>6cbc67caa30708b24...</td><td>3600.0</td><td>3600.0</td><td>3</td><td>15.7</td><td>126.04</td><td>Mar-2010</td><td>Fully Paid</td><td>credit_card</td><td>Credit Card Elimi...</td><td>2024-07-04 23:20:...</td></tr>\n",
       "<tr><td>491575</td><td>3bae7a88975616641...</td><td>13750.0</td><td>13750.0</td><td>3</td><td>14.96</td><td>476.39</td><td>Mar-2010</td><td>Fully Paid</td><td>debt_consolidation</td><td>Personal Loan</td><td>2024-07-04 23:20:...</td></tr>\n",
       "<tr><td>491581</td><td>55694e52b6a698777...</td><td>8500.0</td><td>8500.0</td><td>3</td><td>10.62</td><td>276.76</td><td>Mar-2010</td><td>Fully Paid</td><td>debt_consolidation</td><td>Reduce Debt befor...</td><td>2024-07-04 23:20:...</td></tr>\n",
       "<tr><td>423260</td><td>c666d309594cceae5...</td><td>10000.0</td><td>10000.0</td><td>3</td><td>7.88</td><td>312.81</td><td>Mar-2010</td><td>Fully Paid</td><td>first as a Borrow...</td><td>first as a relati...</td><td>2024-07-04 23:20:...</td></tr>\n",
       "<tr><td>488022</td><td>cc859b4c14c9eb521...</td><td>8000.0</td><td>8000.0</td><td>3</td><td>9.88</td><td>257.69</td><td>Mar-2010</td><td>Fully Paid</td><td>debt_consolidation</td><td>pay off credit ca...</td><td>2024-07-04 23:20:...</td></tr>\n",
       "<tr><td>491557</td><td>dc1eeb967d0041bec...</td><td>12000.0</td><td>12000.0</td><td>3</td><td>13.48</td><td>407.09</td><td>Mar-2010</td><td>Fully Paid</td><td>other</td><td>Payoff Easy!</td><td>2024-07-04 23:20:...</td></tr>\n",
       "<tr><td>491494</td><td>123126e86ba5ecd5d...</td><td>10000.0</td><td>10000.0</td><td>3</td><td>14.96</td><td>346.47</td><td>Mar-2010</td><td>Fully Paid</td><td>debt_consolidation</td><td>Credit Card Conso...</td><td>2024-07-04 23:20:...</td></tr>\n",
       "<tr><td>491487</td><td>aeb1851b33df8f924...</td><td>11000.0</td><td>11000.0</td><td>3</td><td>13.85</td><td>375.15</td><td>Mar-2010</td><td>Fully Paid</td><td>debt_consolidation</td><td>Credit card conso...</td><td>2024-07-04 23:20:...</td></tr>\n",
       "</table>\n",
       "only showing top 20 rows\n"
      ],
      "text/plain": [
       "+-------+--------------------+-----------+-------------+---------------+-------------+-------------------+----------+-----------+--------------------+--------------------+--------------------+\n",
       "|loan_id|           member_id|loan_amount|funded_amount|loan_term_years|interest_rate|monthly_installment|issue_date|loan_status|        loan_purpose|          loan_title|      ingestion_date|\n",
       "+-------+--------------------+-----------+-------------+---------------+-------------+-------------------+----------+-----------+--------------------+--------------------+--------------------+\n",
       "| 491699|961ae110ec063761f...|     7000.0|       7000.0|              3|        12.73|             234.97|  Mar-2010| Fully Paid|  debt_consolidation|Noelle's debt con...|2024-07-04 23:20:...|\n",
       "| 491685|291854d244748c911...|    15000.0|      15000.0|              3|        10.62|              488.4|  Mar-2010| Fully Paid|               other|           Education|2024-07-04 23:20:...|\n",
       "| 491667|b5cf66b90193da9d2...|     6400.0|       6400.0|              3|         7.88|              200.2|  Mar-2010| Fully Paid|  debt_consolidation|   Make money easily|2024-07-04 23:20:...|\n",
       "| 491160|7f53fd1acb7759e5b...|     4000.0|       4000.0|              3|        14.59|             137.86|  Mar-2010| Fully Paid|             wedding|    wedding expenses|2024-07-04 23:20:...|\n",
       "| 491675|12edc8e328b993914...|    20000.0|      20000.0|              3|        13.85|             682.08|  Mar-2010| Fully Paid|               other| Short Term Tax Loan|2024-07-04 23:20:...|\n",
       "| 491668|e18a847f091332ff6...|     6000.0|       6000.0|              3|        11.36|             197.47|  Mar-2010|Charged Off|  debt_consolidation|GREAT BORROWER --...|2024-07-04 23:20:...|\n",
       "| 491663|d6fe0000e876ab76d...|     5500.0|       5500.0|              3|        11.36|             181.02|  Mar-2010| Fully Paid|         credit_card|     Road to Success|2024-07-04 23:20:...|\n",
       "| 491632|62c38934f3a2ebcd2...|    10000.0|      10000.0|              3|         15.7|             350.11|  Mar-2010| Fully Paid|         credit_card|Finish Paying off...|2024-07-04 23:20:...|\n",
       "| 491618|7701762ef5d302b0d...|    25000.0|      25000.0|              3|        15.33|             870.71|  Mar-2010| Fully Paid|  debt_consolidation|Pay off my high i...|2024-07-04 23:20:...|\n",
       "| 491622|42a2df45b02b21b9a...|    25000.0|      25000.0|              3|        16.07|             879.85|  Mar-2010| Fully Paid|  debt_consolidation|        Debt Pay Off|2024-07-04 23:20:...|\n",
       "| 491552|b1ba0adce0baea939...|    22000.0|      22000.0|              3|        11.36|             724.05|  Mar-2010| Fully Paid|  debt_consolidation|Getting rid of Ne...|2024-07-04 23:20:...|\n",
       "| 491477|82cdc418e3907686a...|    16750.0|      16750.0|              3|        13.11|             565.23|  Mar-2010| Fully Paid|  debt_consolidation|Special Ed teache...|2024-07-04 23:20:...|\n",
       "| 491596|6cbc67caa30708b24...|     3600.0|       3600.0|              3|         15.7|             126.04|  Mar-2010| Fully Paid|         credit_card|Credit Card Elimi...|2024-07-04 23:20:...|\n",
       "| 491575|3bae7a88975616641...|    13750.0|      13750.0|              3|        14.96|             476.39|  Mar-2010| Fully Paid|  debt_consolidation|       Personal Loan|2024-07-04 23:20:...|\n",
       "| 491581|55694e52b6a698777...|     8500.0|       8500.0|              3|        10.62|             276.76|  Mar-2010| Fully Paid|  debt_consolidation|Reduce Debt befor...|2024-07-04 23:20:...|\n",
       "| 423260|c666d309594cceae5...|    10000.0|      10000.0|              3|         7.88|             312.81|  Mar-2010| Fully Paid|first as a Borrow...|first as a relati...|2024-07-04 23:20:...|\n",
       "| 488022|cc859b4c14c9eb521...|     8000.0|       8000.0|              3|         9.88|             257.69|  Mar-2010| Fully Paid|  debt_consolidation|pay off credit ca...|2024-07-04 23:20:...|\n",
       "| 491557|dc1eeb967d0041bec...|    12000.0|      12000.0|              3|        13.48|             407.09|  Mar-2010| Fully Paid|               other|        Payoff Easy!|2024-07-04 23:20:...|\n",
       "| 491494|123126e86ba5ecd5d...|    10000.0|      10000.0|              3|        14.96|             346.47|  Mar-2010| Fully Paid|  debt_consolidation|Credit Card Conso...|2024-07-04 23:20:...|\n",
       "| 491487|aeb1851b33df8f924...|    11000.0|      11000.0|              3|        13.85|             375.15|  Mar-2010| Fully Paid|  debt_consolidation|Credit card conso...|2024-07-04 23:20:...|\n",
       "+-------+--------------------+-----------+-------------+---------------+-------------+-------------------+----------+-----------+--------------------+--------------------+--------------------+\n",
       "only showing top 20 rows"
      ]
     },
     "execution_count": 114,
     "metadata": {},
     "output_type": "execute_result"
    }
   ],
   "source": [
    "loan_term_fixed_df"
   ]
  },
  {
   "cell_type": "code",
   "execution_count": 93,
   "id": "8ca7811c",
   "metadata": {},
   "outputs": [
    {
     "name": "stdout",
     "output_type": "stream",
     "text": [
      "root\n",
      " |-- loan_id: string (nullable = true)\n",
      " |-- member_id: string (nullable = true)\n",
      " |-- loan_amount: float (nullable = true)\n",
      " |-- funded_amount: float (nullable = true)\n",
      " |-- loan_term_years: integer (nullable = true)\n",
      " |-- interest_rate: float (nullable = true)\n",
      " |-- monthly_installment: float (nullable = true)\n",
      " |-- issue_date: string (nullable = true)\n",
      " |-- loan_status: string (nullable = true)\n",
      " |-- loan_purpose: string (nullable = true)\n",
      " |-- loan_title: string (nullable = true)\n",
      " |-- ingestion_date: timestamp (nullable = false)\n",
      "\n"
     ]
    }
   ],
   "source": [
    "loan_term_fixed_df.printSchema()"
   ]
  },
  {
   "cell_type": "code",
   "execution_count": 115,
   "id": "683aafb2",
   "metadata": {},
   "outputs": [],
   "source": [
    "loan_term_fixed_df.createOrReplaceTempView(\"loan_data\")"
   ]
  },
  {
   "cell_type": "code",
   "execution_count": 117,
   "id": "5de938bb",
   "metadata": {},
   "outputs": [
    {
     "data": {
      "text/html": [
       "<table border='1'>\n",
       "<tr><th>loan_purpose</th><th>total_count</th></tr>\n",
       "<tr><td>debt_consolidation</td><td>1277790</td></tr>\n",
       "<tr><td>credit_card</td><td>516926</td></tr>\n",
       "<tr><td>home_improvement</td><td>150440</td></tr>\n",
       "<tr><td>other</td><td>139413</td></tr>\n",
       "<tr><td>major_purchase</td><td>50429</td></tr>\n",
       "<tr><td>medical</td><td>27481</td></tr>\n",
       "<tr><td>small_business</td><td>24659</td></tr>\n",
       "<tr><td>car</td><td>24009</td></tr>\n",
       "<tr><td>vacation</td><td>15525</td></tr>\n",
       "<tr><td>moving</td><td>15402</td></tr>\n",
       "<tr><td>house</td><td>14131</td></tr>\n",
       "<tr><td>wedding</td><td>2351</td></tr>\n",
       "<tr><td>renewable_energy</td><td>1445</td></tr>\n",
       "<tr><td>educational</td><td>412</td></tr>\n",
       "<tr><td>on one of the bus...</td><td>1</td></tr>\n",
       "<tr><td>never had any tro...</td><td>1</td></tr>\n",
       "<tr><td>Bank of America c...</td><td>1</td></tr>\n",
       "<tr><td>&lt;br/&gt;&lt;br/&gt;Lending...</td><td>1</td></tr>\n",
       "<tr><td>because of the na...</td><td>1</td></tr>\n",
       "<tr><td>but we cant all b...</td><td>1</td></tr>\n",
       "</table>\n",
       "only showing top 20 rows\n"
      ],
      "text/plain": [
       "+--------------------+-----------+\n",
       "|        loan_purpose|total_count|\n",
       "+--------------------+-----------+\n",
       "|  debt_consolidation|    1277790|\n",
       "|         credit_card|     516926|\n",
       "|    home_improvement|     150440|\n",
       "|               other|     139413|\n",
       "|      major_purchase|      50429|\n",
       "|             medical|      27481|\n",
       "|      small_business|      24659|\n",
       "|                 car|      24009|\n",
       "|            vacation|      15525|\n",
       "|              moving|      15402|\n",
       "|               house|      14131|\n",
       "|             wedding|       2351|\n",
       "|    renewable_energy|       1445|\n",
       "|         educational|        412|\n",
       "|                 768|          1|\n",
       "|              stocks|          1|\n",
       "|putting together ...|          1|\n",
       "|but we cant all b...|          1|\n",
       "|              brakes|          1|\n",
       "|please feel free ...|          1|\n",
       "+--------------------+-----------+\n",
       "only showing top 20 rows"
      ]
     },
     "execution_count": 117,
     "metadata": {},
     "output_type": "execute_result"
    }
   ],
   "source": [
    "spark.sql(\"select loan_purpose,count(*) as total_count from loan_data group by loan_purpose order by total_count desc\")"
   ]
  },
  {
   "cell_type": "code",
   "execution_count": 118,
   "id": "ecf59aed",
   "metadata": {},
   "outputs": [],
   "source": [
    "loan_purpose_lookup = ['debt_consolidation','credit_card','home_improvement','other','major_purchase','medical','small_business','car','vacation','moving','house','wedding','renewable_energy','educational']"
   ]
  },
  {
   "cell_type": "code",
   "execution_count": 119,
   "id": "0ddf83ab",
   "metadata": {},
   "outputs": [],
   "source": [
    "from pyspark.sql.functions import when"
   ]
  },
  {
   "cell_type": "code",
   "execution_count": 120,
   "id": "94ebf7bd",
   "metadata": {},
   "outputs": [],
   "source": [
    "loans_purpose_fixed_df = loan_term_fixed_df.withColumn(\"loan_purpose\",when(col(\"loan_purpose\").isin(loan_purpose_lookup),col(\"loan_purpose\")).otherwise(\"other\"))"
   ]
  },
  {
   "cell_type": "code",
   "execution_count": 121,
   "id": "3a8a118a",
   "metadata": {},
   "outputs": [],
   "source": [
    "loans_purpose_fixed_df.createOrReplaceTempView(\"loan_data\")"
   ]
  },
  {
   "cell_type": "code",
   "execution_count": 122,
   "id": "c9fb89df",
   "metadata": {},
   "outputs": [
    {
     "data": {
      "text/html": [
       "<table border='1'>\n",
       "<tr><th>loan_id</th><th>member_id</th><th>loan_amount</th><th>funded_amount</th><th>loan_term_years</th><th>interest_rate</th><th>monthly_installment</th><th>issue_date</th><th>loan_status</th><th>loan_purpose</th><th>loan_title</th><th>ingestion_date</th></tr>\n",
       "<tr><td>491699</td><td>961ae110ec063761f...</td><td>7000.0</td><td>7000.0</td><td>3</td><td>12.73</td><td>234.97</td><td>Mar-2010</td><td>Fully Paid</td><td>debt_consolidation</td><td>Noelle&#x27;s debt con...</td><td>2024-07-04 23:21:...</td></tr>\n",
       "<tr><td>491685</td><td>291854d244748c911...</td><td>15000.0</td><td>15000.0</td><td>3</td><td>10.62</td><td>488.4</td><td>Mar-2010</td><td>Fully Paid</td><td>other</td><td>Education</td><td>2024-07-04 23:21:...</td></tr>\n",
       "<tr><td>491667</td><td>b5cf66b90193da9d2...</td><td>6400.0</td><td>6400.0</td><td>3</td><td>7.88</td><td>200.2</td><td>Mar-2010</td><td>Fully Paid</td><td>debt_consolidation</td><td>Make money easily</td><td>2024-07-04 23:21:...</td></tr>\n",
       "<tr><td>491160</td><td>7f53fd1acb7759e5b...</td><td>4000.0</td><td>4000.0</td><td>3</td><td>14.59</td><td>137.86</td><td>Mar-2010</td><td>Fully Paid</td><td>wedding</td><td>wedding expenses</td><td>2024-07-04 23:21:...</td></tr>\n",
       "<tr><td>491675</td><td>12edc8e328b993914...</td><td>20000.0</td><td>20000.0</td><td>3</td><td>13.85</td><td>682.08</td><td>Mar-2010</td><td>Fully Paid</td><td>other</td><td>Short Term Tax Loan</td><td>2024-07-04 23:21:...</td></tr>\n",
       "<tr><td>491668</td><td>e18a847f091332ff6...</td><td>6000.0</td><td>6000.0</td><td>3</td><td>11.36</td><td>197.47</td><td>Mar-2010</td><td>Charged Off</td><td>debt_consolidation</td><td>GREAT BORROWER --...</td><td>2024-07-04 23:21:...</td></tr>\n",
       "<tr><td>491663</td><td>d6fe0000e876ab76d...</td><td>5500.0</td><td>5500.0</td><td>3</td><td>11.36</td><td>181.02</td><td>Mar-2010</td><td>Fully Paid</td><td>credit_card</td><td>Road to Success</td><td>2024-07-04 23:21:...</td></tr>\n",
       "<tr><td>491632</td><td>62c38934f3a2ebcd2...</td><td>10000.0</td><td>10000.0</td><td>3</td><td>15.7</td><td>350.11</td><td>Mar-2010</td><td>Fully Paid</td><td>credit_card</td><td>Finish Paying off...</td><td>2024-07-04 23:21:...</td></tr>\n",
       "<tr><td>491618</td><td>7701762ef5d302b0d...</td><td>25000.0</td><td>25000.0</td><td>3</td><td>15.33</td><td>870.71</td><td>Mar-2010</td><td>Fully Paid</td><td>debt_consolidation</td><td>Pay off my high i...</td><td>2024-07-04 23:21:...</td></tr>\n",
       "<tr><td>491622</td><td>42a2df45b02b21b9a...</td><td>25000.0</td><td>25000.0</td><td>3</td><td>16.07</td><td>879.85</td><td>Mar-2010</td><td>Fully Paid</td><td>debt_consolidation</td><td>Debt Pay Off</td><td>2024-07-04 23:21:...</td></tr>\n",
       "<tr><td>491552</td><td>b1ba0adce0baea939...</td><td>22000.0</td><td>22000.0</td><td>3</td><td>11.36</td><td>724.05</td><td>Mar-2010</td><td>Fully Paid</td><td>debt_consolidation</td><td>Getting rid of Ne...</td><td>2024-07-04 23:21:...</td></tr>\n",
       "<tr><td>491477</td><td>82cdc418e3907686a...</td><td>16750.0</td><td>16750.0</td><td>3</td><td>13.11</td><td>565.23</td><td>Mar-2010</td><td>Fully Paid</td><td>debt_consolidation</td><td>Special Ed teache...</td><td>2024-07-04 23:21:...</td></tr>\n",
       "<tr><td>491596</td><td>6cbc67caa30708b24...</td><td>3600.0</td><td>3600.0</td><td>3</td><td>15.7</td><td>126.04</td><td>Mar-2010</td><td>Fully Paid</td><td>credit_card</td><td>Credit Card Elimi...</td><td>2024-07-04 23:21:...</td></tr>\n",
       "<tr><td>491575</td><td>3bae7a88975616641...</td><td>13750.0</td><td>13750.0</td><td>3</td><td>14.96</td><td>476.39</td><td>Mar-2010</td><td>Fully Paid</td><td>debt_consolidation</td><td>Personal Loan</td><td>2024-07-04 23:21:...</td></tr>\n",
       "<tr><td>491581</td><td>55694e52b6a698777...</td><td>8500.0</td><td>8500.0</td><td>3</td><td>10.62</td><td>276.76</td><td>Mar-2010</td><td>Fully Paid</td><td>debt_consolidation</td><td>Reduce Debt befor...</td><td>2024-07-04 23:21:...</td></tr>\n",
       "<tr><td>423260</td><td>c666d309594cceae5...</td><td>10000.0</td><td>10000.0</td><td>3</td><td>7.88</td><td>312.81</td><td>Mar-2010</td><td>Fully Paid</td><td>other</td><td>first as a relati...</td><td>2024-07-04 23:21:...</td></tr>\n",
       "<tr><td>488022</td><td>cc859b4c14c9eb521...</td><td>8000.0</td><td>8000.0</td><td>3</td><td>9.88</td><td>257.69</td><td>Mar-2010</td><td>Fully Paid</td><td>debt_consolidation</td><td>pay off credit ca...</td><td>2024-07-04 23:21:...</td></tr>\n",
       "<tr><td>491557</td><td>dc1eeb967d0041bec...</td><td>12000.0</td><td>12000.0</td><td>3</td><td>13.48</td><td>407.09</td><td>Mar-2010</td><td>Fully Paid</td><td>other</td><td>Payoff Easy!</td><td>2024-07-04 23:21:...</td></tr>\n",
       "<tr><td>491494</td><td>123126e86ba5ecd5d...</td><td>10000.0</td><td>10000.0</td><td>3</td><td>14.96</td><td>346.47</td><td>Mar-2010</td><td>Fully Paid</td><td>debt_consolidation</td><td>Credit Card Conso...</td><td>2024-07-04 23:21:...</td></tr>\n",
       "<tr><td>491487</td><td>aeb1851b33df8f924...</td><td>11000.0</td><td>11000.0</td><td>3</td><td>13.85</td><td>375.15</td><td>Mar-2010</td><td>Fully Paid</td><td>debt_consolidation</td><td>Credit card conso...</td><td>2024-07-04 23:21:...</td></tr>\n",
       "</table>\n",
       "only showing top 20 rows\n"
      ],
      "text/plain": [
       "+-------+--------------------+-----------+-------------+---------------+-------------+-------------------+----------+-----------+------------------+--------------------+--------------------+\n",
       "|loan_id|           member_id|loan_amount|funded_amount|loan_term_years|interest_rate|monthly_installment|issue_date|loan_status|      loan_purpose|          loan_title|      ingestion_date|\n",
       "+-------+--------------------+-----------+-------------+---------------+-------------+-------------------+----------+-----------+------------------+--------------------+--------------------+\n",
       "| 491699|961ae110ec063761f...|     7000.0|       7000.0|              3|        12.73|             234.97|  Mar-2010| Fully Paid|debt_consolidation|Noelle's debt con...|2024-07-04 23:21:...|\n",
       "| 491685|291854d244748c911...|    15000.0|      15000.0|              3|        10.62|              488.4|  Mar-2010| Fully Paid|             other|           Education|2024-07-04 23:21:...|\n",
       "| 491667|b5cf66b90193da9d2...|     6400.0|       6400.0|              3|         7.88|              200.2|  Mar-2010| Fully Paid|debt_consolidation|   Make money easily|2024-07-04 23:21:...|\n",
       "| 491160|7f53fd1acb7759e5b...|     4000.0|       4000.0|              3|        14.59|             137.86|  Mar-2010| Fully Paid|           wedding|    wedding expenses|2024-07-04 23:21:...|\n",
       "| 491675|12edc8e328b993914...|    20000.0|      20000.0|              3|        13.85|             682.08|  Mar-2010| Fully Paid|             other| Short Term Tax Loan|2024-07-04 23:21:...|\n",
       "| 491668|e18a847f091332ff6...|     6000.0|       6000.0|              3|        11.36|             197.47|  Mar-2010|Charged Off|debt_consolidation|GREAT BORROWER --...|2024-07-04 23:21:...|\n",
       "| 491663|d6fe0000e876ab76d...|     5500.0|       5500.0|              3|        11.36|             181.02|  Mar-2010| Fully Paid|       credit_card|     Road to Success|2024-07-04 23:21:...|\n",
       "| 491632|62c38934f3a2ebcd2...|    10000.0|      10000.0|              3|         15.7|             350.11|  Mar-2010| Fully Paid|       credit_card|Finish Paying off...|2024-07-04 23:21:...|\n",
       "| 491618|7701762ef5d302b0d...|    25000.0|      25000.0|              3|        15.33|             870.71|  Mar-2010| Fully Paid|debt_consolidation|Pay off my high i...|2024-07-04 23:21:...|\n",
       "| 491622|42a2df45b02b21b9a...|    25000.0|      25000.0|              3|        16.07|             879.85|  Mar-2010| Fully Paid|debt_consolidation|        Debt Pay Off|2024-07-04 23:21:...|\n",
       "| 491552|b1ba0adce0baea939...|    22000.0|      22000.0|              3|        11.36|             724.05|  Mar-2010| Fully Paid|debt_consolidation|Getting rid of Ne...|2024-07-04 23:21:...|\n",
       "| 491477|82cdc418e3907686a...|    16750.0|      16750.0|              3|        13.11|             565.23|  Mar-2010| Fully Paid|debt_consolidation|Special Ed teache...|2024-07-04 23:21:...|\n",
       "| 491596|6cbc67caa30708b24...|     3600.0|       3600.0|              3|         15.7|             126.04|  Mar-2010| Fully Paid|       credit_card|Credit Card Elimi...|2024-07-04 23:21:...|\n",
       "| 491575|3bae7a88975616641...|    13750.0|      13750.0|              3|        14.96|             476.39|  Mar-2010| Fully Paid|debt_consolidation|       Personal Loan|2024-07-04 23:21:...|\n",
       "| 491581|55694e52b6a698777...|     8500.0|       8500.0|              3|        10.62|             276.76|  Mar-2010| Fully Paid|debt_consolidation|Reduce Debt befor...|2024-07-04 23:21:...|\n",
       "| 423260|c666d309594cceae5...|    10000.0|      10000.0|              3|         7.88|             312.81|  Mar-2010| Fully Paid|             other|first as a relati...|2024-07-04 23:21:...|\n",
       "| 488022|cc859b4c14c9eb521...|     8000.0|       8000.0|              3|         9.88|             257.69|  Mar-2010| Fully Paid|debt_consolidation|pay off credit ca...|2024-07-04 23:21:...|\n",
       "| 491557|dc1eeb967d0041bec...|    12000.0|      12000.0|              3|        13.48|             407.09|  Mar-2010| Fully Paid|             other|        Payoff Easy!|2024-07-04 23:21:...|\n",
       "| 491494|123126e86ba5ecd5d...|    10000.0|      10000.0|              3|        14.96|             346.47|  Mar-2010| Fully Paid|debt_consolidation|Credit Card Conso...|2024-07-04 23:21:...|\n",
       "| 491487|aeb1851b33df8f924...|    11000.0|      11000.0|              3|        13.85|             375.15|  Mar-2010| Fully Paid|debt_consolidation|Credit card conso...|2024-07-04 23:21:...|\n",
       "+-------+--------------------+-----------+-------------+---------------+-------------+-------------------+----------+-----------+------------------+--------------------+--------------------+\n",
       "only showing top 20 rows"
      ]
     },
     "execution_count": 122,
     "metadata": {},
     "output_type": "execute_result"
    }
   ],
   "source": [
    "loans_purpose_fixed_df"
   ]
  },
  {
   "cell_type": "code",
   "execution_count": 132,
   "id": "c18ec980",
   "metadata": {},
   "outputs": [
    {
     "data": {
      "text/html": [
       "<table border='1'>\n",
       "<tr><th>loan_purpose</th><th>total_count</th></tr>\n",
       "<tr><td>debt_consolidation</td><td>1277790</td></tr>\n",
       "<tr><td>credit_card</td><td>516926</td></tr>\n",
       "<tr><td>home_improvement</td><td>150440</td></tr>\n",
       "<tr><td>other</td><td>139667</td></tr>\n",
       "<tr><td>major_purchase</td><td>50429</td></tr>\n",
       "<tr><td>medical</td><td>27481</td></tr>\n",
       "<tr><td>small_business</td><td>24659</td></tr>\n",
       "<tr><td>car</td><td>24009</td></tr>\n",
       "<tr><td>vacation</td><td>15525</td></tr>\n",
       "<tr><td>moving</td><td>15402</td></tr>\n",
       "<tr><td>house</td><td>14131</td></tr>\n",
       "<tr><td>wedding</td><td>2351</td></tr>\n",
       "<tr><td>renewable_energy</td><td>1445</td></tr>\n",
       "<tr><td>educational</td><td>412</td></tr>\n",
       "</table>\n"
      ],
      "text/plain": [
       "+------------------+-----------+\n",
       "|      loan_purpose|total_count|\n",
       "+------------------+-----------+\n",
       "|debt_consolidation|    1277790|\n",
       "|       credit_card|     516926|\n",
       "|  home_improvement|     150440|\n",
       "|             other|     139667|\n",
       "|    major_purchase|      50429|\n",
       "|           medical|      27481|\n",
       "|    small_business|      24659|\n",
       "|               car|      24009|\n",
       "|          vacation|      15525|\n",
       "|            moving|      15402|\n",
       "|             house|      14131|\n",
       "|           wedding|       2351|\n",
       "|  renewable_energy|       1445|\n",
       "|       educational|        412|\n",
       "+------------------+-----------+"
      ]
     },
     "execution_count": 132,
     "metadata": {},
     "output_type": "execute_result"
    }
   ],
   "source": [
    "spark.sql(\"select loan_purpose,count(*) as total_count from loan_data group by loan_purpose order by total_count desc\")"
   ]
  },
  {
   "cell_type": "code",
   "execution_count": 133,
   "id": "615da33c",
   "metadata": {},
   "outputs": [],
   "source": [
    "from pyspark.sql.functions import count"
   ]
  },
  {
   "cell_type": "code",
   "execution_count": 134,
   "id": "dc4b38eb",
   "metadata": {},
   "outputs": [
    {
     "data": {
      "text/html": [
       "<table border='1'>\n",
       "<tr><th>loan_purpose</th><th>total_count</th></tr>\n",
       "<tr><td>debt_consolidation</td><td>1277790</td></tr>\n",
       "<tr><td>credit_card</td><td>516926</td></tr>\n",
       "<tr><td>home_improvement</td><td>150440</td></tr>\n",
       "<tr><td>other</td><td>139667</td></tr>\n",
       "<tr><td>major_purchase</td><td>50429</td></tr>\n",
       "<tr><td>medical</td><td>27481</td></tr>\n",
       "<tr><td>small_business</td><td>24659</td></tr>\n",
       "<tr><td>car</td><td>24009</td></tr>\n",
       "<tr><td>vacation</td><td>15525</td></tr>\n",
       "<tr><td>moving</td><td>15402</td></tr>\n",
       "<tr><td>house</td><td>14131</td></tr>\n",
       "<tr><td>wedding</td><td>2351</td></tr>\n",
       "<tr><td>renewable_energy</td><td>1445</td></tr>\n",
       "<tr><td>educational</td><td>412</td></tr>\n",
       "</table>\n"
      ],
      "text/plain": [
       "+------------------+-----------+\n",
       "|      loan_purpose|total_count|\n",
       "+------------------+-----------+\n",
       "|debt_consolidation|    1277790|\n",
       "|       credit_card|     516926|\n",
       "|  home_improvement|     150440|\n",
       "|             other|     139667|\n",
       "|    major_purchase|      50429|\n",
       "|           medical|      27481|\n",
       "|    small_business|      24659|\n",
       "|               car|      24009|\n",
       "|          vacation|      15525|\n",
       "|            moving|      15402|\n",
       "|             house|      14131|\n",
       "|           wedding|       2351|\n",
       "|  renewable_energy|       1445|\n",
       "|       educational|        412|\n",
       "+------------------+-----------+"
      ]
     },
     "execution_count": 134,
     "metadata": {},
     "output_type": "execute_result"
    }
   ],
   "source": [
    "loans_purpose_fixed_df \\\n",
    ".groupBy(\"loan_purpose\") \\\n",
    ".agg(count(\"*\").alias(\"total_count\")) \\\n",
    ".orderBy(col(\"total_count\").desc())"
   ]
  },
  {
   "cell_type": "code",
   "execution_count": 136,
   "id": "eeffea6a",
   "metadata": {},
   "outputs": [],
   "source": [
    "loans_purpose_fixed_df.write \\\n",
    ".option(\"header\", True) \\\n",
    ".format(\"csv\") \\\n",
    ".mode(\"overwrite\") \\\n",
    ".option(\"path\",\"/user/itv010130/loanproject/clean/loan_data_csv\") \\\n",
    ".save()"
   ]
  },
  {
   "cell_type": "code",
   "execution_count": 137,
   "id": "9b16c1fb",
   "metadata": {},
   "outputs": [],
   "source": [
    "loans_purpose_fixed_df.write \\\n",
    ".format(\"parquet\") \\\n",
    ".mode(\"overwrite\") \\\n",
    ".option(\"path\",\"/user/itv010130/loanproject/clean/loan_data_parquet\") \\\n",
    ".save()"
   ]
  },
  {
   "cell_type": "markdown",
   "id": "b150f697",
   "metadata": {},
   "source": [
    "### Loan Repayment Data"
   ]
  },
  {
   "cell_type": "code",
   "execution_count": 2,
   "id": "fc94d898",
   "metadata": {},
   "outputs": [
    {
     "name": "stdout",
     "output_type": "stream",
     "text": [
      "Found 4 items\n",
      "drwxr-xr-x   - itv010130 supergroup          0 2024-06-29 00:32 /user/itv010130/loanproject/raw/customer_data_csv\n",
      "drwxr-xr-x   - itv010130 supergroup          0 2024-06-29 01:00 /user/itv010130/loanproject/raw/loan_data_csv\n",
      "drwxr-xr-x   - itv010130 supergroup          0 2024-06-29 01:12 /user/itv010130/loanproject/raw/loan_defaulters_data_csv\n",
      "drwxr-xr-x   - itv010130 supergroup          0 2024-06-29 01:06 /user/itv010130/loanproject/raw/loan_repayment_data_csv\n"
     ]
    }
   ],
   "source": [
    "!hadoop fs -ls /user/itv010130/loanproject/raw"
   ]
  },
  {
   "cell_type": "code",
   "execution_count": 2,
   "id": "8d7256e7",
   "metadata": {},
   "outputs": [],
   "source": [
    "repayment_df = spark.read \\\n",
    ".option(\"header\", True) \\\n",
    ".format(\"csv\") \\\n",
    ".option(\"inferSchema\", True) \\\n",
    ".load(\"/user/itv010130/loanproject/raw/loan_repayment_data_csv\")"
   ]
  },
  {
   "cell_type": "code",
   "execution_count": 93,
   "id": "cb058bda",
   "metadata": {},
   "outputs": [
    {
     "data": {
      "text/html": [
       "<table border='1'>\n",
       "<tr><th>loan_id</th><th>total_rec_prncp</th><th>total_rec_int</th><th>total_rec_late_fee</th><th>total_pymnt</th><th>last_pymnt_amnt</th><th>last_pymnt_d</th><th>next_pymnt_d</th></tr>\n",
       "<tr><td>84647143</td><td>4000.0</td><td>614.11</td><td>0.0</td><td>4614.1105673405</td><td>1235.28</td><td>Oct-2018</td><td>null</td></tr>\n",
       "<tr><td>86463837</td><td>9967.93</td><td>6417.24</td><td>0.0</td><td>16385.17</td><td>529.11</td><td>Mar-2019</td><td>Apr-2019</td></tr>\n",
       "<tr><td>86643264</td><td>15200.0</td><td>2329.24</td><td>0.0</td><td>17529.2443508552</td><td>14837.07</td><td>Mar-2017</td><td>null</td></tr>\n",
       "<tr><td>85610005</td><td>1001.45</td><td>469.25</td><td>0.0</td><td>1470.7</td><td>246.05</td><td>Feb-2017</td><td>null</td></tr>\n",
       "<tr><td>86101113</td><td>1316.02</td><td>517.0</td><td>0.0</td><td>2001.23</td><td>87.39</td><td>May-2018</td><td>null</td></tr>\n",
       "<tr><td>85952284</td><td>14000.0</td><td>1851.72</td><td>0.0</td><td>15851.717567248501</td><td>4733.71</td><td>Oct-2018</td><td>null</td></tr>\n",
       "<tr><td>84666301</td><td>25193.35</td><td>5450.84</td><td>0.0</td><td>30644.19</td><td>989.14</td><td>Mar-2019</td><td>Apr-2019</td></tr>\n",
       "<tr><td>85872910</td><td>4525.0</td><td>616.49</td><td>0.0</td><td>5141.4886605540005</td><td>3693.97</td><td>Jun-2017</td><td>null</td></tr>\n",
       "<tr><td>85615895</td><td>7500.0</td><td>1764.84</td><td>0.0</td><td>9264.8432563596</td><td>2976.53</td><td>Sep-2018</td><td>null</td></tr>\n",
       "<tr><td>86523233</td><td>2522.48</td><td>520.2</td><td>0.0</td><td>3042.68</td><td>98.21</td><td>Mar-2019</td><td>Apr-2019</td></tr>\n",
       "<tr><td>86022413</td><td>40000.0</td><td>2302.1</td><td>0.0</td><td>42302.0960220822</td><td>36827.7</td><td>Jan-2017</td><td>null</td></tr>\n",
       "<tr><td>86432956</td><td>12000.0</td><td>1173.17</td><td>0.0</td><td>13173.1676151676</td><td>7455.91</td><td>Dec-2017</td><td>null</td></tr>\n",
       "<tr><td>85992799</td><td>7566.74</td><td>1555.18</td><td>0.0</td><td>9121.92</td><td>294.61</td><td>Mar-2019</td><td>Apr-2019</td></tr>\n",
       "<tr><td>86453222</td><td>9484.55</td><td>4480.34</td><td>0.0</td><td>13964.89</td><td>451.27</td><td>Mar-2019</td><td>Apr-2019</td></tr>\n",
       "<tr><td>85805832</td><td>12611.0</td><td>2591.99</td><td>0.0</td><td>15202.99</td><td>491.01</td><td>Mar-2019</td><td>Apr-2019</td></tr>\n",
       "<tr><td>86423193</td><td>5000.0</td><td>315.32</td><td>0.0</td><td>5315.3234522254</td><td>4318.04</td><td>Mar-2017</td><td>null</td></tr>\n",
       "<tr><td>86012238</td><td>1168.63</td><td>420.17</td><td>0.0</td><td>1588.8</td><td>196.41</td><td>Apr-2017</td><td>null</td></tr>\n",
       "<tr><td>86377338</td><td>12147.78</td><td>2142.14</td><td>0.0</td><td>14289.92</td><td>461.21</td><td>Mar-2019</td><td>Apr-2019</td></tr>\n",
       "<tr><td>86602165</td><td>10000.0</td><td>1565.31</td><td>0.0</td><td>11565.311524212</td><td>334.3</td><td>May-2018</td><td>null</td></tr>\n",
       "<tr><td>86206722</td><td>8800.0</td><td>1485.9</td><td>0.0</td><td>10285.901937121</td><td>790.63</td><td>Jan-2019</td><td>null</td></tr>\n",
       "</table>\n",
       "only showing top 20 rows\n"
      ],
      "text/plain": [
       "+--------+---------------+-------------+------------------+------------------+---------------+------------+------------+\n",
       "| loan_id|total_rec_prncp|total_rec_int|total_rec_late_fee|       total_pymnt|last_pymnt_amnt|last_pymnt_d|next_pymnt_d|\n",
       "+--------+---------------+-------------+------------------+------------------+---------------+------------+------------+\n",
       "|84647143|         4000.0|       614.11|               0.0|   4614.1105673405|        1235.28|    Oct-2018|        null|\n",
       "|86463837|        9967.93|      6417.24|               0.0|          16385.17|         529.11|    Mar-2019|    Apr-2019|\n",
       "|86643264|        15200.0|      2329.24|               0.0|  17529.2443508552|       14837.07|    Mar-2017|        null|\n",
       "|85610005|        1001.45|       469.25|               0.0|            1470.7|         246.05|    Feb-2017|        null|\n",
       "|86101113|        1316.02|        517.0|               0.0|           2001.23|          87.39|    May-2018|        null|\n",
       "|85952284|        14000.0|      1851.72|               0.0|15851.717567248501|        4733.71|    Oct-2018|        null|\n",
       "|84666301|       25193.35|      5450.84|               0.0|          30644.19|         989.14|    Mar-2019|    Apr-2019|\n",
       "|85872910|         4525.0|       616.49|               0.0|5141.4886605540005|        3693.97|    Jun-2017|        null|\n",
       "|85615895|         7500.0|      1764.84|               0.0|   9264.8432563596|        2976.53|    Sep-2018|        null|\n",
       "|86523233|        2522.48|        520.2|               0.0|           3042.68|          98.21|    Mar-2019|    Apr-2019|\n",
       "|86022413|        40000.0|       2302.1|               0.0|  42302.0960220822|        36827.7|    Jan-2017|        null|\n",
       "|86432956|        12000.0|      1173.17|               0.0|  13173.1676151676|        7455.91|    Dec-2017|        null|\n",
       "|85992799|        7566.74|      1555.18|               0.0|           9121.92|         294.61|    Mar-2019|    Apr-2019|\n",
       "|86453222|        9484.55|      4480.34|               0.0|          13964.89|         451.27|    Mar-2019|    Apr-2019|\n",
       "|85805832|        12611.0|      2591.99|               0.0|          15202.99|         491.01|    Mar-2019|    Apr-2019|\n",
       "|86423193|         5000.0|       315.32|               0.0|   5315.3234522254|        4318.04|    Mar-2017|        null|\n",
       "|86012238|        1168.63|       420.17|               0.0|            1588.8|         196.41|    Apr-2017|        null|\n",
       "|86377338|       12147.78|      2142.14|               0.0|          14289.92|         461.21|    Mar-2019|    Apr-2019|\n",
       "|86602165|        10000.0|      1565.31|               0.0|   11565.311524212|          334.3|    May-2018|        null|\n",
       "|86206722|         8800.0|       1485.9|               0.0|   10285.901937121|         790.63|    Jan-2019|        null|\n",
       "+--------+---------------+-------------+------------------+------------------+---------------+------------+------------+\n",
       "only showing top 20 rows"
      ]
     },
     "execution_count": 93,
     "metadata": {},
     "output_type": "execute_result"
    }
   ],
   "source": [
    "repayment_df"
   ]
  },
  {
   "cell_type": "code",
   "execution_count": 94,
   "id": "a1a8d7b5",
   "metadata": {},
   "outputs": [
    {
     "name": "stdout",
     "output_type": "stream",
     "text": [
      "root\n",
      " |-- loan_id: string (nullable = true)\n",
      " |-- total_rec_prncp: string (nullable = true)\n",
      " |-- total_rec_int: string (nullable = true)\n",
      " |-- total_rec_late_fee: string (nullable = true)\n",
      " |-- total_pymnt: string (nullable = true)\n",
      " |-- last_pymnt_amnt: string (nullable = true)\n",
      " |-- last_pymnt_d: string (nullable = true)\n",
      " |-- next_pymnt_d: string (nullable = true)\n",
      "\n"
     ]
    }
   ],
   "source": [
    "repayment_df.printSchema()"
   ]
  },
  {
   "cell_type": "code",
   "execution_count": 3,
   "id": "eca5570b",
   "metadata": {},
   "outputs": [],
   "source": [
    "repayment_schema = 'loan_id string,total_principle_received float,total_interest_received float,total_late_fee_received float,total_payment float,last_payment_amount float,last_payment_date string,next_payment_date string'"
   ]
  },
  {
   "cell_type": "code",
   "execution_count": 4,
   "id": "30cb51ed",
   "metadata": {},
   "outputs": [],
   "source": [
    "repayment_df = spark.read \\\n",
    ".option(\"header\", True) \\\n",
    ".format(\"csv\") \\\n",
    ".schema(repayment_schema) \\\n",
    ".load(\"/user/itv010130/loanproject/raw/loan_repayment_data_csv\")"
   ]
  },
  {
   "cell_type": "code",
   "execution_count": 97,
   "id": "42b698ee",
   "metadata": {},
   "outputs": [
    {
     "name": "stdout",
     "output_type": "stream",
     "text": [
      "root\n",
      " |-- loan_id: string (nullable = true)\n",
      " |-- total_principle_received: float (nullable = true)\n",
      " |-- total_interest_received: float (nullable = true)\n",
      " |-- total_late_fee_received: float (nullable = true)\n",
      " |-- total_payment: float (nullable = true)\n",
      " |-- last_payment_amount: float (nullable = true)\n",
      " |-- last_payment_date: string (nullable = true)\n",
      " |-- next_payment_date: string (nullable = true)\n",
      "\n"
     ]
    }
   ],
   "source": [
    "repayment_df.printSchema()"
   ]
  },
  {
   "cell_type": "code",
   "execution_count": 5,
   "id": "c87a424c",
   "metadata": {},
   "outputs": [],
   "source": [
    "from pyspark.sql.functions import current_timestamp"
   ]
  },
  {
   "cell_type": "code",
   "execution_count": 6,
   "id": "cfa97c7c",
   "metadata": {},
   "outputs": [],
   "source": [
    "repayment_ingestion_df = repayment_df.withColumn('ingestion_date',current_timestamp())"
   ]
  },
  {
   "cell_type": "code",
   "execution_count": 100,
   "id": "39e78535",
   "metadata": {},
   "outputs": [
    {
     "data": {
      "text/html": [
       "<table border='1'>\n",
       "<tr><th>loan_id</th><th>total_principle_received</th><th>total_interest_received</th><th>total_late_fee_received</th><th>total_payment</th><th>last_payment_amount</th><th>last_payment_date</th><th>next_payment_date</th><th>ingestion_date</th></tr>\n",
       "<tr><td>84647143</td><td>4000.0</td><td>614.11</td><td>0.0</td><td>4614.1104</td><td>1235.28</td><td>Oct-2018</td><td>null</td><td>2024-07-05 14:48:...</td></tr>\n",
       "<tr><td>86463837</td><td>9967.93</td><td>6417.24</td><td>0.0</td><td>16385.17</td><td>529.11</td><td>Mar-2019</td><td>Apr-2019</td><td>2024-07-05 14:48:...</td></tr>\n",
       "<tr><td>86643264</td><td>15200.0</td><td>2329.24</td><td>0.0</td><td>17529.244</td><td>14837.07</td><td>Mar-2017</td><td>null</td><td>2024-07-05 14:48:...</td></tr>\n",
       "<tr><td>85610005</td><td>1001.45</td><td>469.25</td><td>0.0</td><td>1470.7</td><td>246.05</td><td>Feb-2017</td><td>null</td><td>2024-07-05 14:48:...</td></tr>\n",
       "<tr><td>86101113</td><td>1316.02</td><td>517.0</td><td>0.0</td><td>2001.23</td><td>87.39</td><td>May-2018</td><td>null</td><td>2024-07-05 14:48:...</td></tr>\n",
       "<tr><td>85952284</td><td>14000.0</td><td>1851.72</td><td>0.0</td><td>15851.718</td><td>4733.71</td><td>Oct-2018</td><td>null</td><td>2024-07-05 14:48:...</td></tr>\n",
       "<tr><td>84666301</td><td>25193.35</td><td>5450.84</td><td>0.0</td><td>30644.19</td><td>989.14</td><td>Mar-2019</td><td>Apr-2019</td><td>2024-07-05 14:48:...</td></tr>\n",
       "<tr><td>85872910</td><td>4525.0</td><td>616.49</td><td>0.0</td><td>5141.489</td><td>3693.97</td><td>Jun-2017</td><td>null</td><td>2024-07-05 14:48:...</td></tr>\n",
       "<tr><td>85615895</td><td>7500.0</td><td>1764.84</td><td>0.0</td><td>9264.843</td><td>2976.53</td><td>Sep-2018</td><td>null</td><td>2024-07-05 14:48:...</td></tr>\n",
       "<tr><td>86523233</td><td>2522.48</td><td>520.2</td><td>0.0</td><td>3042.68</td><td>98.21</td><td>Mar-2019</td><td>Apr-2019</td><td>2024-07-05 14:48:...</td></tr>\n",
       "<tr><td>86022413</td><td>40000.0</td><td>2302.1</td><td>0.0</td><td>42302.098</td><td>36827.7</td><td>Jan-2017</td><td>null</td><td>2024-07-05 14:48:...</td></tr>\n",
       "<tr><td>86432956</td><td>12000.0</td><td>1173.17</td><td>0.0</td><td>13173.168</td><td>7455.91</td><td>Dec-2017</td><td>null</td><td>2024-07-05 14:48:...</td></tr>\n",
       "<tr><td>85992799</td><td>7566.74</td><td>1555.18</td><td>0.0</td><td>9121.92</td><td>294.61</td><td>Mar-2019</td><td>Apr-2019</td><td>2024-07-05 14:48:...</td></tr>\n",
       "<tr><td>86453222</td><td>9484.55</td><td>4480.34</td><td>0.0</td><td>13964.89</td><td>451.27</td><td>Mar-2019</td><td>Apr-2019</td><td>2024-07-05 14:48:...</td></tr>\n",
       "<tr><td>85805832</td><td>12611.0</td><td>2591.99</td><td>0.0</td><td>15202.99</td><td>491.01</td><td>Mar-2019</td><td>Apr-2019</td><td>2024-07-05 14:48:...</td></tr>\n",
       "<tr><td>86423193</td><td>5000.0</td><td>315.32</td><td>0.0</td><td>5315.323</td><td>4318.04</td><td>Mar-2017</td><td>null</td><td>2024-07-05 14:48:...</td></tr>\n",
       "<tr><td>86012238</td><td>1168.63</td><td>420.17</td><td>0.0</td><td>1588.8</td><td>196.41</td><td>Apr-2017</td><td>null</td><td>2024-07-05 14:48:...</td></tr>\n",
       "<tr><td>86377338</td><td>12147.78</td><td>2142.14</td><td>0.0</td><td>14289.92</td><td>461.21</td><td>Mar-2019</td><td>Apr-2019</td><td>2024-07-05 14:48:...</td></tr>\n",
       "<tr><td>86602165</td><td>10000.0</td><td>1565.31</td><td>0.0</td><td>11565.312</td><td>334.3</td><td>May-2018</td><td>null</td><td>2024-07-05 14:48:...</td></tr>\n",
       "<tr><td>86206722</td><td>8800.0</td><td>1485.9</td><td>0.0</td><td>10285.902</td><td>790.63</td><td>Jan-2019</td><td>null</td><td>2024-07-05 14:48:...</td></tr>\n",
       "</table>\n",
       "only showing top 20 rows\n"
      ],
      "text/plain": [
       "+--------+------------------------+-----------------------+-----------------------+-------------+-------------------+-----------------+-----------------+--------------------+\n",
       "| loan_id|total_principle_received|total_interest_received|total_late_fee_received|total_payment|last_payment_amount|last_payment_date|next_payment_date|      ingestion_date|\n",
       "+--------+------------------------+-----------------------+-----------------------+-------------+-------------------+-----------------+-----------------+--------------------+\n",
       "|84647143|                  4000.0|                 614.11|                    0.0|    4614.1104|            1235.28|         Oct-2018|             null|2024-07-05 14:48:...|\n",
       "|86463837|                 9967.93|                6417.24|                    0.0|     16385.17|             529.11|         Mar-2019|         Apr-2019|2024-07-05 14:48:...|\n",
       "|86643264|                 15200.0|                2329.24|                    0.0|    17529.244|           14837.07|         Mar-2017|             null|2024-07-05 14:48:...|\n",
       "|85610005|                 1001.45|                 469.25|                    0.0|       1470.7|             246.05|         Feb-2017|             null|2024-07-05 14:48:...|\n",
       "|86101113|                 1316.02|                  517.0|                    0.0|      2001.23|              87.39|         May-2018|             null|2024-07-05 14:48:...|\n",
       "|85952284|                 14000.0|                1851.72|                    0.0|    15851.718|            4733.71|         Oct-2018|             null|2024-07-05 14:48:...|\n",
       "|84666301|                25193.35|                5450.84|                    0.0|     30644.19|             989.14|         Mar-2019|         Apr-2019|2024-07-05 14:48:...|\n",
       "|85872910|                  4525.0|                 616.49|                    0.0|     5141.489|            3693.97|         Jun-2017|             null|2024-07-05 14:48:...|\n",
       "|85615895|                  7500.0|                1764.84|                    0.0|     9264.843|            2976.53|         Sep-2018|             null|2024-07-05 14:48:...|\n",
       "|86523233|                 2522.48|                  520.2|                    0.0|      3042.68|              98.21|         Mar-2019|         Apr-2019|2024-07-05 14:48:...|\n",
       "|86022413|                 40000.0|                 2302.1|                    0.0|    42302.098|            36827.7|         Jan-2017|             null|2024-07-05 14:48:...|\n",
       "|86432956|                 12000.0|                1173.17|                    0.0|    13173.168|            7455.91|         Dec-2017|             null|2024-07-05 14:48:...|\n",
       "|85992799|                 7566.74|                1555.18|                    0.0|      9121.92|             294.61|         Mar-2019|         Apr-2019|2024-07-05 14:48:...|\n",
       "|86453222|                 9484.55|                4480.34|                    0.0|     13964.89|             451.27|         Mar-2019|         Apr-2019|2024-07-05 14:48:...|\n",
       "|85805832|                 12611.0|                2591.99|                    0.0|     15202.99|             491.01|         Mar-2019|         Apr-2019|2024-07-05 14:48:...|\n",
       "|86423193|                  5000.0|                 315.32|                    0.0|     5315.323|            4318.04|         Mar-2017|             null|2024-07-05 14:48:...|\n",
       "|86012238|                 1168.63|                 420.17|                    0.0|       1588.8|             196.41|         Apr-2017|             null|2024-07-05 14:48:...|\n",
       "|86377338|                12147.78|                2142.14|                    0.0|     14289.92|             461.21|         Mar-2019|         Apr-2019|2024-07-05 14:48:...|\n",
       "|86602165|                 10000.0|                1565.31|                    0.0|    11565.312|              334.3|         May-2018|             null|2024-07-05 14:48:...|\n",
       "|86206722|                  8800.0|                 1485.9|                    0.0|    10285.902|             790.63|         Jan-2019|             null|2024-07-05 14:48:...|\n",
       "+--------+------------------------+-----------------------+-----------------------+-------------+-------------------+-----------------+-----------------+--------------------+\n",
       "only showing top 20 rows"
      ]
     },
     "execution_count": 100,
     "metadata": {},
     "output_type": "execute_result"
    }
   ],
   "source": [
    "repayment_ingestion_df"
   ]
  },
  {
   "cell_type": "code",
   "execution_count": 7,
   "id": "8fdcece0",
   "metadata": {},
   "outputs": [],
   "source": [
    "repayment_ingestion_df.createOrReplaceTempView(\"repayment_data\")"
   ]
  },
  {
   "cell_type": "code",
   "execution_count": 102,
   "id": "3556cd1c",
   "metadata": {},
   "outputs": [
    {
     "data": {
      "text/html": [
       "<table border='1'>\n",
       "<tr><th>count(1)</th></tr>\n",
       "<tr><td>2260701</td></tr>\n",
       "</table>\n"
      ],
      "text/plain": [
       "+--------+\n",
       "|count(1)|\n",
       "+--------+\n",
       "| 2260701|\n",
       "+--------+"
      ]
     },
     "execution_count": 102,
     "metadata": {},
     "output_type": "execute_result"
    }
   ],
   "source": [
    "spark.sql(\"select count(*) from repayment_data\")"
   ]
  },
  {
   "cell_type": "code",
   "execution_count": 103,
   "id": "6ea29440",
   "metadata": {},
   "outputs": [
    {
     "data": {
      "text/html": [
       "<table border='1'>\n",
       "<tr><th>count(1)</th></tr>\n",
       "<tr><td>69</td></tr>\n",
       "</table>\n"
      ],
      "text/plain": [
       "+--------+\n",
       "|count(1)|\n",
       "+--------+\n",
       "|      69|\n",
       "+--------+"
      ]
     },
     "execution_count": 103,
     "metadata": {},
     "output_type": "execute_result"
    }
   ],
   "source": [
    "spark.sql(\"select count(*) from repayment_data where total_principle_received is null\")"
   ]
  },
  {
   "cell_type": "code",
   "execution_count": 104,
   "id": "a5bbd714",
   "metadata": {},
   "outputs": [
    {
     "data": {
      "text/html": [
       "<table border='1'>\n",
       "<tr><th>count(1)</th></tr>\n",
       "<tr><td>50</td></tr>\n",
       "</table>\n"
      ],
      "text/plain": [
       "+--------+\n",
       "|count(1)|\n",
       "+--------+\n",
       "|      50|\n",
       "+--------+"
      ]
     },
     "execution_count": 104,
     "metadata": {},
     "output_type": "execute_result"
    }
   ],
   "source": [
    "spark.sql(\"select count(*) from repayment_data where total_interest_received is null\")"
   ]
  },
  {
   "cell_type": "code",
   "execution_count": 105,
   "id": "0d28127b",
   "metadata": {},
   "outputs": [
    {
     "data": {
      "text/html": [
       "<table border='1'>\n",
       "<tr><th>count(1)</th></tr>\n",
       "<tr><td>51</td></tr>\n",
       "</table>\n"
      ],
      "text/plain": [
       "+--------+\n",
       "|count(1)|\n",
       "+--------+\n",
       "|      51|\n",
       "+--------+"
      ]
     },
     "execution_count": 105,
     "metadata": {},
     "output_type": "execute_result"
    }
   ],
   "source": [
    "spark.sql(\"select count(*) from repayment_data where total_late_fee_received is null\")"
   ]
  },
  {
   "cell_type": "code",
   "execution_count": 106,
   "id": "d524d3c0",
   "metadata": {},
   "outputs": [
    {
     "data": {
      "text/html": [
       "<table border='1'>\n",
       "<tr><th>count(1)</th></tr>\n",
       "<tr><td>94</td></tr>\n",
       "</table>\n"
      ],
      "text/plain": [
       "+--------+\n",
       "|count(1)|\n",
       "+--------+\n",
       "|      94|\n",
       "+--------+"
      ]
     },
     "execution_count": 106,
     "metadata": {},
     "output_type": "execute_result"
    }
   ],
   "source": [
    "spark.sql(\"select count(*) from repayment_data where total_payment is null\")"
   ]
  },
  {
   "cell_type": "code",
   "execution_count": 107,
   "id": "05edc590",
   "metadata": {},
   "outputs": [
    {
     "data": {
      "text/html": [
       "<table border='1'>\n",
       "<tr><th>count(1)</th></tr>\n",
       "<tr><td>101</td></tr>\n",
       "</table>\n"
      ],
      "text/plain": [
       "+--------+\n",
       "|count(1)|\n",
       "+--------+\n",
       "|     101|\n",
       "+--------+"
      ]
     },
     "execution_count": 107,
     "metadata": {},
     "output_type": "execute_result"
    }
   ],
   "source": [
    "spark.sql(\"select count(*) from repayment_data where last_payment_amount is null\")"
   ]
  },
  {
   "cell_type": "code",
   "execution_count": 8,
   "id": "1f1c24b7",
   "metadata": {},
   "outputs": [],
   "source": [
    "columns_to_check = ['total_principle_received','total_interest_received','total_late_fee_received','total_payment','last_payment_amount']"
   ]
  },
  {
   "cell_type": "code",
   "execution_count": 9,
   "id": "25e1e000",
   "metadata": {},
   "outputs": [],
   "source": [
    "repayment_filtered = repayment_ingestion_df.na.drop(subset=columns_to_check)"
   ]
  },
  {
   "cell_type": "code",
   "execution_count": 110,
   "id": "e6f9edd7",
   "metadata": {},
   "outputs": [
    {
     "data": {
      "text/plain": [
       "2260498"
      ]
     },
     "execution_count": 110,
     "metadata": {},
     "output_type": "execute_result"
    }
   ],
   "source": [
    "repayment_filtered.count()"
   ]
  },
  {
   "cell_type": "code",
   "execution_count": 10,
   "id": "87cc411b",
   "metadata": {},
   "outputs": [],
   "source": [
    "repayment_filtered.createOrReplaceTempView(\"repayment_data\")"
   ]
  },
  {
   "cell_type": "code",
   "execution_count": 112,
   "id": "ece6dec2",
   "metadata": {},
   "outputs": [
    {
     "data": {
      "text/html": [
       "<table border='1'>\n",
       "<tr><th>count(1)</th></tr>\n",
       "<tr><td>0</td></tr>\n",
       "</table>\n"
      ],
      "text/plain": [
       "+--------+\n",
       "|count(1)|\n",
       "+--------+\n",
       "|       0|\n",
       "+--------+"
      ]
     },
     "execution_count": 112,
     "metadata": {},
     "output_type": "execute_result"
    }
   ],
   "source": [
    "spark.sql(\"select count(*) from repayment_data where total_payment is null\")"
   ]
  },
  {
   "cell_type": "code",
   "execution_count": 113,
   "id": "60366703",
   "metadata": {},
   "outputs": [
    {
     "data": {
      "text/html": [
       "<table border='1'>\n",
       "<tr><th>loan_id</th><th>total_principle_received</th><th>total_interest_received</th><th>total_late_fee_received</th><th>total_payment</th><th>last_payment_amount</th><th>last_payment_date</th><th>next_payment_date</th><th>ingestion_date</th></tr>\n",
       "<tr><td>85686669</td><td>0.0</td><td>0.0</td><td>0.0</td><td>0.0</td><td>0.0</td><td>null</td><td>null</td><td>2024-07-05 14:49:...</td></tr>\n",
       "<tr><td>84574291</td><td>0.0</td><td>0.0</td><td>0.0</td><td>0.0</td><td>0.0</td><td>null</td><td>null</td><td>2024-07-05 14:49:...</td></tr>\n",
       "<tr><td>85735063</td><td>0.0</td><td>0.0</td><td>0.0</td><td>0.0</td><td>0.0</td><td>null</td><td>null</td><td>2024-07-05 14:49:...</td></tr>\n",
       "<tr><td>84999414</td><td>0.0</td><td>0.0</td><td>0.0</td><td>0.0</td><td>0.0</td><td>null</td><td>null</td><td>2024-07-05 14:49:...</td></tr>\n",
       "<tr><td>85623818</td><td>0.0</td><td>0.0</td><td>0.0</td><td>0.0</td><td>0.0</td><td>null</td><td>null</td><td>2024-07-05 14:49:...</td></tr>\n",
       "<tr><td>85066928</td><td>0.0</td><td>0.0</td><td>0.0</td><td>0.0</td><td>0.0</td><td>null</td><td>null</td><td>2024-07-05 14:49:...</td></tr>\n",
       "<tr><td>83941993</td><td>0.0</td><td>0.0</td><td>0.0</td><td>0.0</td><td>0.0</td><td>null</td><td>null</td><td>2024-07-05 14:49:...</td></tr>\n",
       "<tr><td>84486431</td><td>0.0</td><td>0.0</td><td>0.0</td><td>0.0</td><td>0.0</td><td>null</td><td>null</td><td>2024-07-05 14:49:...</td></tr>\n",
       "<tr><td>85471064</td><td>0.0</td><td>0.0</td><td>0.0</td><td>0.0</td><td>0.0</td><td>null</td><td>null</td><td>2024-07-05 14:49:...</td></tr>\n",
       "<tr><td>84092358</td><td>0.0</td><td>0.0</td><td>0.0</td><td>0.0</td><td>0.0</td><td>null</td><td>null</td><td>2024-07-05 14:49:...</td></tr>\n",
       "<tr><td>85076472</td><td>0.0</td><td>0.0</td><td>0.0</td><td>0.0</td><td>0.0</td><td>null</td><td>null</td><td>2024-07-05 14:49:...</td></tr>\n",
       "<tr><td>84234900</td><td>0.0</td><td>0.0</td><td>0.0</td><td>0.0</td><td>0.0</td><td>null</td><td>null</td><td>2024-07-05 14:49:...</td></tr>\n",
       "<tr><td>83624648</td><td>0.0</td><td>0.0</td><td>0.0</td><td>0.0</td><td>0.0</td><td>null</td><td>null</td><td>2024-07-05 14:49:...</td></tr>\n",
       "<tr><td>83990826</td><td>0.0</td><td>0.0</td><td>0.0</td><td>0.0</td><td>0.0</td><td>null</td><td>null</td><td>2024-07-05 14:49:...</td></tr>\n",
       "<tr><td>84111917</td><td>0.0</td><td>0.0</td><td>0.0</td><td>0.0</td><td>0.0</td><td>null</td><td>null</td><td>2024-07-05 14:49:...</td></tr>\n",
       "<tr><td>126378962</td><td>0.0</td><td>0.0</td><td>0.0</td><td>0.0</td><td>0.0</td><td>null</td><td>null</td><td>2024-07-05 14:49:...</td></tr>\n",
       "<tr><td>126175336</td><td>0.0</td><td>0.0</td><td>0.0</td><td>0.0</td><td>0.0</td><td>null</td><td>null</td><td>2024-07-05 14:49:...</td></tr>\n",
       "<tr><td>126148156</td><td>0.0</td><td>0.0</td><td>0.0</td><td>0.0</td><td>0.0</td><td>null</td><td>null</td><td>2024-07-05 14:49:...</td></tr>\n",
       "<tr><td>125968581</td><td>0.0</td><td>0.0</td><td>0.0</td><td>0.0</td><td>0.0</td><td>null</td><td>null</td><td>2024-07-05 14:49:...</td></tr>\n",
       "<tr><td>125512918</td><td>0.0</td><td>0.0</td><td>0.0</td><td>0.0</td><td>0.0</td><td>null</td><td>null</td><td>2024-07-05 14:49:...</td></tr>\n",
       "</table>\n",
       "only showing top 20 rows\n"
      ],
      "text/plain": [
       "+---------+------------------------+-----------------------+-----------------------+-------------+-------------------+-----------------+-----------------+--------------------+\n",
       "|  loan_id|total_principle_received|total_interest_received|total_late_fee_received|total_payment|last_payment_amount|last_payment_date|next_payment_date|      ingestion_date|\n",
       "+---------+------------------------+-----------------------+-----------------------+-------------+-------------------+-----------------+-----------------+--------------------+\n",
       "| 85686669|                     0.0|                    0.0|                    0.0|          0.0|                0.0|             null|             null|2024-07-05 14:49:...|\n",
       "| 84574291|                     0.0|                    0.0|                    0.0|          0.0|                0.0|             null|             null|2024-07-05 14:49:...|\n",
       "| 85735063|                     0.0|                    0.0|                    0.0|          0.0|                0.0|             null|             null|2024-07-05 14:49:...|\n",
       "| 84999414|                     0.0|                    0.0|                    0.0|          0.0|                0.0|             null|             null|2024-07-05 14:49:...|\n",
       "| 85623818|                     0.0|                    0.0|                    0.0|          0.0|                0.0|             null|             null|2024-07-05 14:49:...|\n",
       "| 85066928|                     0.0|                    0.0|                    0.0|          0.0|                0.0|             null|             null|2024-07-05 14:49:...|\n",
       "| 83941993|                     0.0|                    0.0|                    0.0|          0.0|                0.0|             null|             null|2024-07-05 14:49:...|\n",
       "| 84486431|                     0.0|                    0.0|                    0.0|          0.0|                0.0|             null|             null|2024-07-05 14:49:...|\n",
       "| 85471064|                     0.0|                    0.0|                    0.0|          0.0|                0.0|             null|             null|2024-07-05 14:49:...|\n",
       "| 84092358|                     0.0|                    0.0|                    0.0|          0.0|                0.0|             null|             null|2024-07-05 14:49:...|\n",
       "| 85076472|                     0.0|                    0.0|                    0.0|          0.0|                0.0|             null|             null|2024-07-05 14:49:...|\n",
       "| 84234900|                     0.0|                    0.0|                    0.0|          0.0|                0.0|             null|             null|2024-07-05 14:49:...|\n",
       "| 83624648|                     0.0|                    0.0|                    0.0|          0.0|                0.0|             null|             null|2024-07-05 14:49:...|\n",
       "| 83990826|                     0.0|                    0.0|                    0.0|          0.0|                0.0|             null|             null|2024-07-05 14:49:...|\n",
       "| 84111917|                     0.0|                    0.0|                    0.0|          0.0|                0.0|             null|             null|2024-07-05 14:49:...|\n",
       "|126378962|                     0.0|                    0.0|                    0.0|          0.0|                0.0|             null|             null|2024-07-05 14:49:...|\n",
       "|126175336|                     0.0|                    0.0|                    0.0|          0.0|                0.0|             null|             null|2024-07-05 14:49:...|\n",
       "|126148156|                     0.0|                    0.0|                    0.0|          0.0|                0.0|             null|             null|2024-07-05 14:49:...|\n",
       "|125968581|                     0.0|                    0.0|                    0.0|          0.0|                0.0|             null|             null|2024-07-05 14:49:...|\n",
       "|125512918|                     0.0|                    0.0|                    0.0|          0.0|                0.0|             null|             null|2024-07-05 14:49:...|\n",
       "+---------+------------------------+-----------------------+-----------------------+-------------+-------------------+-----------------+-----------------+--------------------+\n",
       "only showing top 20 rows"
      ]
     },
     "execution_count": 113,
     "metadata": {},
     "output_type": "execute_result"
    }
   ],
   "source": [
    "spark.sql(\"select * from repayment_data where total_payment==0\")"
   ]
  },
  {
   "cell_type": "code",
   "execution_count": 114,
   "id": "76409946",
   "metadata": {},
   "outputs": [
    {
     "data": {
      "text/html": [
       "<table border='1'>\n",
       "<tr><th>loan_id</th><th>total_principle_received</th><th>total_interest_received</th><th>total_late_fee_received</th><th>total_payment</th><th>last_payment_amount</th><th>last_payment_date</th><th>next_payment_date</th><th>ingestion_date</th></tr>\n",
       "<tr><td>1064185</td><td>11600.98</td><td>11600.98</td><td>10000.0</td><td>0.0</td><td>0.0</td><td>0.0</td><td>Dec-2014</td><td>2024-07-05 14:49:...</td></tr>\n",
       "<tr><td>516382</td><td>21890.229</td><td>21856.03</td><td>16000.0</td><td>0.0</td><td>0.0</td><td>0.0</td><td>Mar-2014</td><td>2024-07-05 14:49:...</td></tr>\n",
       "<tr><td>528899</td><td>3045.0364</td><td>3019.64</td><td>2500.0</td><td>0.0</td><td>0.0</td><td>0.0</td><td>Jan-2013</td><td>2024-07-05 14:49:...</td></tr>\n",
       "<tr><td>527598</td><td>2398.9092</td><td>2220.51</td><td>2200.0</td><td>0.0</td><td>0.0</td><td>0.0</td><td>Jul-2011</td><td>2024-07-05 14:49:...</td></tr>\n",
       "<tr><td>525697</td><td>21797.86</td><td>19894.9</td><td>15750.0</td><td>0.0</td><td>0.0</td><td>0.0</td><td>Jun-2015</td><td>2024-07-05 14:49:...</td></tr>\n",
       "<tr><td>522641</td><td>3146.8193</td><td>3146.82</td><td>3000.0</td><td>0.0</td><td>0.0</td><td>0.0</td><td>Sep-2011</td><td>2024-07-05 14:49:...</td></tr>\n",
       "<tr><td>515655</td><td>29938.576</td><td>29905.75</td><td>22800.0</td><td>0.0</td><td>0.0</td><td>0.0</td><td>May-2013</td><td>2024-07-05 14:49:...</td></tr>\n",
       "<tr><td>501234</td><td>15219.313</td><td>15155.9</td><td>12000.0</td><td>0.0</td><td>0.0</td><td>0.0</td><td>May-2013</td><td>2024-07-05 14:49:...</td></tr>\n",
       "<tr><td>498194</td><td>11642.714</td><td>11031.47</td><td>10000.0</td><td>0.0</td><td>0.0</td><td>0.0</td><td>Jan-2013</td><td>2024-07-05 14:49:...</td></tr>\n",
       "<tr><td>495171</td><td>11138.843</td><td>10024.96</td><td>10000.0</td><td>0.0</td><td>0.0</td><td>0.0</td><td>Apr-2013</td><td>2024-07-05 14:49:...</td></tr>\n",
       "<tr><td>493508</td><td>28732.803</td><td>28495.83</td><td>24250.0</td><td>0.0</td><td>0.0</td><td>0.0</td><td>Apr-2013</td><td>2024-07-05 14:49:...</td></tr>\n",
       "<tr><td>485818</td><td>14640.096</td><td>13388.84</td><td>13000.0</td><td>0.0</td><td>0.0</td><td>0.0</td><td>Mar-2013</td><td>2024-07-05 14:49:...</td></tr>\n",
       "<tr><td>485471</td><td>29620.818</td><td>29134.64</td><td>25000.0</td><td>0.0</td><td>0.0</td><td>0.0</td><td>Mar-2013</td><td>2024-07-05 14:49:...</td></tr>\n",
       "<tr><td>482256</td><td>8735.611</td><td>7479.87</td><td>8000.0</td><td>0.0</td><td>0.0</td><td>0.0</td><td>Feb-2011</td><td>2024-07-05 14:49:...</td></tr>\n",
       "<tr><td>478160</td><td>410.0</td><td>407.36</td><td>0.0</td><td>0.0</td><td>143.1</td><td>410.0</td><td>null</td><td>2024-07-05 14:49:...</td></tr>\n",
       "<tr><td>476557</td><td>28865.18</td><td>24164.67</td><td>5692.31</td><td>0.0</td><td>6972.59</td><td>19916.78</td><td>Dec-2010</td><td>2024-07-05 14:49:...</td></tr>\n",
       "<tr><td>472516</td><td>25951.482</td><td>24731.76</td><td>25000.0</td><td>0.0</td><td>0.0</td><td>0.0</td><td>May-2010</td><td>2024-07-05 14:49:...</td></tr>\n",
       "<tr><td>472197</td><td>12048.13</td><td>12018.01</td><td>10000.0</td><td>0.0</td><td>0.0</td><td>0.0</td><td>Jan-2013</td><td>2024-07-05 14:49:...</td></tr>\n",
       "<tr><td>467364</td><td>29216.791</td><td>29066.19</td><td>24250.0</td><td>0.0</td><td>0.0</td><td>0.0</td><td>Dec-2012</td><td>2024-07-05 14:49:...</td></tr>\n",
       "<tr><td>399499</td><td>26557.729</td><td>26336.41</td><td>24000.0</td><td>0.0</td><td>0.0</td><td>0.0</td><td>Dec-2010</td><td>2024-07-05 14:49:...</td></tr>\n",
       "</table>\n",
       "only showing top 20 rows\n"
      ],
      "text/plain": [
       "+-------+------------------------+-----------------------+-----------------------+-------------+-------------------+-----------------+-----------------+--------------------+\n",
       "|loan_id|total_principle_received|total_interest_received|total_late_fee_received|total_payment|last_payment_amount|last_payment_date|next_payment_date|      ingestion_date|\n",
       "+-------+------------------------+-----------------------+-----------------------+-------------+-------------------+-----------------+-----------------+--------------------+\n",
       "|1064185|                11600.98|               11600.98|                10000.0|          0.0|                0.0|              0.0|         Dec-2014|2024-07-05 14:49:...|\n",
       "| 516382|               21890.229|               21856.03|                16000.0|          0.0|                0.0|              0.0|         Mar-2014|2024-07-05 14:49:...|\n",
       "| 528899|               3045.0364|                3019.64|                 2500.0|          0.0|                0.0|              0.0|         Jan-2013|2024-07-05 14:49:...|\n",
       "| 527598|               2398.9092|                2220.51|                 2200.0|          0.0|                0.0|              0.0|         Jul-2011|2024-07-05 14:49:...|\n",
       "| 525697|                21797.86|                19894.9|                15750.0|          0.0|                0.0|              0.0|         Jun-2015|2024-07-05 14:49:...|\n",
       "| 522641|               3146.8193|                3146.82|                 3000.0|          0.0|                0.0|              0.0|         Sep-2011|2024-07-05 14:49:...|\n",
       "| 515655|               29938.576|               29905.75|                22800.0|          0.0|                0.0|              0.0|         May-2013|2024-07-05 14:49:...|\n",
       "| 501234|               15219.313|                15155.9|                12000.0|          0.0|                0.0|              0.0|         May-2013|2024-07-05 14:49:...|\n",
       "| 498194|               11642.714|               11031.47|                10000.0|          0.0|                0.0|              0.0|         Jan-2013|2024-07-05 14:49:...|\n",
       "| 495171|               11138.843|               10024.96|                10000.0|          0.0|                0.0|              0.0|         Apr-2013|2024-07-05 14:49:...|\n",
       "| 493508|               28732.803|               28495.83|                24250.0|          0.0|                0.0|              0.0|         Apr-2013|2024-07-05 14:49:...|\n",
       "| 485818|               14640.096|               13388.84|                13000.0|          0.0|                0.0|              0.0|         Mar-2013|2024-07-05 14:49:...|\n",
       "| 485471|               29620.818|               29134.64|                25000.0|          0.0|                0.0|              0.0|         Mar-2013|2024-07-05 14:49:...|\n",
       "| 482256|                8735.611|                7479.87|                 8000.0|          0.0|                0.0|              0.0|         Feb-2011|2024-07-05 14:49:...|\n",
       "| 478160|                   410.0|                 407.36|                    0.0|          0.0|              143.1|            410.0|             null|2024-07-05 14:49:...|\n",
       "| 476557|                28865.18|               24164.67|                5692.31|          0.0|            6972.59|         19916.78|         Dec-2010|2024-07-05 14:49:...|\n",
       "| 472516|               25951.482|               24731.76|                25000.0|          0.0|                0.0|              0.0|         May-2010|2024-07-05 14:49:...|\n",
       "| 472197|                12048.13|               12018.01|                10000.0|          0.0|                0.0|              0.0|         Jan-2013|2024-07-05 14:49:...|\n",
       "| 467364|               29216.791|               29066.19|                24250.0|          0.0|                0.0|              0.0|         Dec-2012|2024-07-05 14:49:...|\n",
       "| 399499|               26557.729|               26336.41|                24000.0|          0.0|                0.0|              0.0|         Dec-2010|2024-07-05 14:49:...|\n",
       "+-------+------------------------+-----------------------+-----------------------+-------------+-------------------+-----------------+-----------------+--------------------+\n",
       "only showing top 20 rows"
      ]
     },
     "execution_count": 114,
     "metadata": {},
     "output_type": "execute_result"
    }
   ],
   "source": [
    "spark.sql(\"select * from repayment_data where total_payment==0 AND total_principle_received !=0\")"
   ]
  },
  {
   "cell_type": "code",
   "execution_count": 11,
   "id": "2667bc48",
   "metadata": {},
   "outputs": [],
   "source": [
    "from pyspark.sql.functions import when, col"
   ]
  },
  {
   "cell_type": "code",
   "execution_count": 12,
   "id": "c185058f",
   "metadata": {},
   "outputs": [],
   "source": [
    "total_repayment_modified_df = repayment_filtered.withColumn(\"total_payment\", when((col(\"total_principle_received\")!=0.0) & (col(\"total_payment\")==0.0),col(\"total_principle_received\")+col(\"total_interest_received\")+col(\"total_late_fee_received\")).otherwise(col(\"total_payment\")))"
   ]
  },
  {
   "cell_type": "code",
   "execution_count": 117,
   "id": "c10ae175",
   "metadata": {},
   "outputs": [
    {
     "data": {
      "text/html": [
       "<table border='1'>\n",
       "<tr><th>loan_id</th><th>total_principle_received</th><th>total_interest_received</th><th>total_late_fee_received</th><th>total_payment</th><th>last_payment_amount</th><th>last_payment_date</th><th>next_payment_date</th><th>ingestion_date</th></tr>\n",
       "<tr><td>84647143</td><td>4000.0</td><td>614.11</td><td>0.0</td><td>4614.1104</td><td>1235.28</td><td>Oct-2018</td><td>null</td><td>2024-07-05 14:49:...</td></tr>\n",
       "<tr><td>86463837</td><td>9967.93</td><td>6417.24</td><td>0.0</td><td>16385.17</td><td>529.11</td><td>Mar-2019</td><td>Apr-2019</td><td>2024-07-05 14:49:...</td></tr>\n",
       "<tr><td>86643264</td><td>15200.0</td><td>2329.24</td><td>0.0</td><td>17529.244</td><td>14837.07</td><td>Mar-2017</td><td>null</td><td>2024-07-05 14:49:...</td></tr>\n",
       "<tr><td>85610005</td><td>1001.45</td><td>469.25</td><td>0.0</td><td>1470.7</td><td>246.05</td><td>Feb-2017</td><td>null</td><td>2024-07-05 14:49:...</td></tr>\n",
       "<tr><td>86101113</td><td>1316.02</td><td>517.0</td><td>0.0</td><td>2001.23</td><td>87.39</td><td>May-2018</td><td>null</td><td>2024-07-05 14:49:...</td></tr>\n",
       "<tr><td>85952284</td><td>14000.0</td><td>1851.72</td><td>0.0</td><td>15851.718</td><td>4733.71</td><td>Oct-2018</td><td>null</td><td>2024-07-05 14:49:...</td></tr>\n",
       "<tr><td>84666301</td><td>25193.35</td><td>5450.84</td><td>0.0</td><td>30644.19</td><td>989.14</td><td>Mar-2019</td><td>Apr-2019</td><td>2024-07-05 14:49:...</td></tr>\n",
       "<tr><td>85872910</td><td>4525.0</td><td>616.49</td><td>0.0</td><td>5141.489</td><td>3693.97</td><td>Jun-2017</td><td>null</td><td>2024-07-05 14:49:...</td></tr>\n",
       "<tr><td>85615895</td><td>7500.0</td><td>1764.84</td><td>0.0</td><td>9264.843</td><td>2976.53</td><td>Sep-2018</td><td>null</td><td>2024-07-05 14:49:...</td></tr>\n",
       "<tr><td>86523233</td><td>2522.48</td><td>520.2</td><td>0.0</td><td>3042.68</td><td>98.21</td><td>Mar-2019</td><td>Apr-2019</td><td>2024-07-05 14:49:...</td></tr>\n",
       "<tr><td>86022413</td><td>40000.0</td><td>2302.1</td><td>0.0</td><td>42302.098</td><td>36827.7</td><td>Jan-2017</td><td>null</td><td>2024-07-05 14:49:...</td></tr>\n",
       "<tr><td>86432956</td><td>12000.0</td><td>1173.17</td><td>0.0</td><td>13173.168</td><td>7455.91</td><td>Dec-2017</td><td>null</td><td>2024-07-05 14:49:...</td></tr>\n",
       "<tr><td>85992799</td><td>7566.74</td><td>1555.18</td><td>0.0</td><td>9121.92</td><td>294.61</td><td>Mar-2019</td><td>Apr-2019</td><td>2024-07-05 14:49:...</td></tr>\n",
       "<tr><td>86453222</td><td>9484.55</td><td>4480.34</td><td>0.0</td><td>13964.89</td><td>451.27</td><td>Mar-2019</td><td>Apr-2019</td><td>2024-07-05 14:49:...</td></tr>\n",
       "<tr><td>85805832</td><td>12611.0</td><td>2591.99</td><td>0.0</td><td>15202.99</td><td>491.01</td><td>Mar-2019</td><td>Apr-2019</td><td>2024-07-05 14:49:...</td></tr>\n",
       "<tr><td>86423193</td><td>5000.0</td><td>315.32</td><td>0.0</td><td>5315.323</td><td>4318.04</td><td>Mar-2017</td><td>null</td><td>2024-07-05 14:49:...</td></tr>\n",
       "<tr><td>86012238</td><td>1168.63</td><td>420.17</td><td>0.0</td><td>1588.8</td><td>196.41</td><td>Apr-2017</td><td>null</td><td>2024-07-05 14:49:...</td></tr>\n",
       "<tr><td>86377338</td><td>12147.78</td><td>2142.14</td><td>0.0</td><td>14289.92</td><td>461.21</td><td>Mar-2019</td><td>Apr-2019</td><td>2024-07-05 14:49:...</td></tr>\n",
       "<tr><td>86602165</td><td>10000.0</td><td>1565.31</td><td>0.0</td><td>11565.312</td><td>334.3</td><td>May-2018</td><td>null</td><td>2024-07-05 14:49:...</td></tr>\n",
       "<tr><td>86206722</td><td>8800.0</td><td>1485.9</td><td>0.0</td><td>10285.902</td><td>790.63</td><td>Jan-2019</td><td>null</td><td>2024-07-05 14:49:...</td></tr>\n",
       "</table>\n",
       "only showing top 20 rows\n"
      ],
      "text/plain": [
       "+--------+------------------------+-----------------------+-----------------------+-------------+-------------------+-----------------+-----------------+--------------------+\n",
       "| loan_id|total_principle_received|total_interest_received|total_late_fee_received|total_payment|last_payment_amount|last_payment_date|next_payment_date|      ingestion_date|\n",
       "+--------+------------------------+-----------------------+-----------------------+-------------+-------------------+-----------------+-----------------+--------------------+\n",
       "|84647143|                  4000.0|                 614.11|                    0.0|    4614.1104|            1235.28|         Oct-2018|             null|2024-07-05 14:49:...|\n",
       "|86463837|                 9967.93|                6417.24|                    0.0|     16385.17|             529.11|         Mar-2019|         Apr-2019|2024-07-05 14:49:...|\n",
       "|86643264|                 15200.0|                2329.24|                    0.0|    17529.244|           14837.07|         Mar-2017|             null|2024-07-05 14:49:...|\n",
       "|85610005|                 1001.45|                 469.25|                    0.0|       1470.7|             246.05|         Feb-2017|             null|2024-07-05 14:49:...|\n",
       "|86101113|                 1316.02|                  517.0|                    0.0|      2001.23|              87.39|         May-2018|             null|2024-07-05 14:49:...|\n",
       "|85952284|                 14000.0|                1851.72|                    0.0|    15851.718|            4733.71|         Oct-2018|             null|2024-07-05 14:49:...|\n",
       "|84666301|                25193.35|                5450.84|                    0.0|     30644.19|             989.14|         Mar-2019|         Apr-2019|2024-07-05 14:49:...|\n",
       "|85872910|                  4525.0|                 616.49|                    0.0|     5141.489|            3693.97|         Jun-2017|             null|2024-07-05 14:49:...|\n",
       "|85615895|                  7500.0|                1764.84|                    0.0|     9264.843|            2976.53|         Sep-2018|             null|2024-07-05 14:49:...|\n",
       "|86523233|                 2522.48|                  520.2|                    0.0|      3042.68|              98.21|         Mar-2019|         Apr-2019|2024-07-05 14:49:...|\n",
       "|86022413|                 40000.0|                 2302.1|                    0.0|    42302.098|            36827.7|         Jan-2017|             null|2024-07-05 14:49:...|\n",
       "|86432956|                 12000.0|                1173.17|                    0.0|    13173.168|            7455.91|         Dec-2017|             null|2024-07-05 14:49:...|\n",
       "|85992799|                 7566.74|                1555.18|                    0.0|      9121.92|             294.61|         Mar-2019|         Apr-2019|2024-07-05 14:49:...|\n",
       "|86453222|                 9484.55|                4480.34|                    0.0|     13964.89|             451.27|         Mar-2019|         Apr-2019|2024-07-05 14:49:...|\n",
       "|85805832|                 12611.0|                2591.99|                    0.0|     15202.99|             491.01|         Mar-2019|         Apr-2019|2024-07-05 14:49:...|\n",
       "|86423193|                  5000.0|                 315.32|                    0.0|     5315.323|            4318.04|         Mar-2017|             null|2024-07-05 14:49:...|\n",
       "|86012238|                 1168.63|                 420.17|                    0.0|       1588.8|             196.41|         Apr-2017|             null|2024-07-05 14:49:...|\n",
       "|86377338|                12147.78|                2142.14|                    0.0|     14289.92|             461.21|         Mar-2019|         Apr-2019|2024-07-05 14:49:...|\n",
       "|86602165|                 10000.0|                1565.31|                    0.0|    11565.312|              334.3|         May-2018|             null|2024-07-05 14:49:...|\n",
       "|86206722|                  8800.0|                 1485.9|                    0.0|    10285.902|             790.63|         Jan-2019|             null|2024-07-05 14:49:...|\n",
       "+--------+------------------------+-----------------------+-----------------------+-------------+-------------------+-----------------+-----------------+--------------------+\n",
       "only showing top 20 rows"
      ]
     },
     "execution_count": 117,
     "metadata": {},
     "output_type": "execute_result"
    }
   ],
   "source": [
    "total_repayment_modified_df"
   ]
  },
  {
   "cell_type": "code",
   "execution_count": 13,
   "id": "f013d0c2",
   "metadata": {},
   "outputs": [],
   "source": [
    "total_repayment_modified_df.createOrReplaceTempView(\"repayment_data\")"
   ]
  },
  {
   "cell_type": "code",
   "execution_count": 119,
   "id": "d4163508",
   "metadata": {},
   "outputs": [
    {
     "data": {
      "text/html": [
       "<table border='1'>\n",
       "<tr><th>count(1)</th></tr>\n",
       "<tr><td>0</td></tr>\n",
       "</table>\n"
      ],
      "text/plain": [
       "+--------+\n",
       "|count(1)|\n",
       "+--------+\n",
       "|       0|\n",
       "+--------+"
      ]
     },
     "execution_count": 119,
     "metadata": {},
     "output_type": "execute_result"
    }
   ],
   "source": [
    "spark.sql(\"select count(*) from repayment_data where total_payment==0 AND total_principle_received !=0\")"
   ]
  },
  {
   "cell_type": "code",
   "execution_count": 120,
   "id": "3bedca59",
   "metadata": {},
   "outputs": [
    {
     "data": {
      "text/html": [
       "<table border='1'>\n",
       "<tr><th>count(1)</th></tr>\n",
       "<tr><td>949</td></tr>\n",
       "</table>\n"
      ],
      "text/plain": [
       "+--------+\n",
       "|count(1)|\n",
       "+--------+\n",
       "|     949|\n",
       "+--------+"
      ]
     },
     "execution_count": 120,
     "metadata": {},
     "output_type": "execute_result"
    }
   ],
   "source": [
    "spark.sql(\"select count(*) from repayment_data where total_payment==0\")"
   ]
  },
  {
   "cell_type": "code",
   "execution_count": 14,
   "id": "326553ae",
   "metadata": {},
   "outputs": [],
   "source": [
    "total_repayment_clean_df = spark.sql(\"select * from repayment_data where total_payment!=0\")"
   ]
  },
  {
   "cell_type": "code",
   "execution_count": 122,
   "id": "43c73c26",
   "metadata": {},
   "outputs": [
    {
     "data": {
      "text/html": [
       "<table border='1'>\n",
       "<tr><th>loan_id</th><th>total_principle_received</th><th>total_interest_received</th><th>total_late_fee_received</th><th>total_payment</th><th>last_payment_amount</th><th>last_payment_date</th><th>next_payment_date</th><th>ingestion_date</th></tr>\n",
       "<tr><td>84647143</td><td>4000.0</td><td>614.11</td><td>0.0</td><td>4614.1104</td><td>1235.28</td><td>Oct-2018</td><td>null</td><td>2024-07-05 14:50:...</td></tr>\n",
       "<tr><td>86463837</td><td>9967.93</td><td>6417.24</td><td>0.0</td><td>16385.17</td><td>529.11</td><td>Mar-2019</td><td>Apr-2019</td><td>2024-07-05 14:50:...</td></tr>\n",
       "<tr><td>86643264</td><td>15200.0</td><td>2329.24</td><td>0.0</td><td>17529.244</td><td>14837.07</td><td>Mar-2017</td><td>null</td><td>2024-07-05 14:50:...</td></tr>\n",
       "<tr><td>85610005</td><td>1001.45</td><td>469.25</td><td>0.0</td><td>1470.7</td><td>246.05</td><td>Feb-2017</td><td>null</td><td>2024-07-05 14:50:...</td></tr>\n",
       "<tr><td>86101113</td><td>1316.02</td><td>517.0</td><td>0.0</td><td>2001.23</td><td>87.39</td><td>May-2018</td><td>null</td><td>2024-07-05 14:50:...</td></tr>\n",
       "<tr><td>85952284</td><td>14000.0</td><td>1851.72</td><td>0.0</td><td>15851.718</td><td>4733.71</td><td>Oct-2018</td><td>null</td><td>2024-07-05 14:50:...</td></tr>\n",
       "<tr><td>84666301</td><td>25193.35</td><td>5450.84</td><td>0.0</td><td>30644.19</td><td>989.14</td><td>Mar-2019</td><td>Apr-2019</td><td>2024-07-05 14:50:...</td></tr>\n",
       "<tr><td>85872910</td><td>4525.0</td><td>616.49</td><td>0.0</td><td>5141.489</td><td>3693.97</td><td>Jun-2017</td><td>null</td><td>2024-07-05 14:50:...</td></tr>\n",
       "<tr><td>85615895</td><td>7500.0</td><td>1764.84</td><td>0.0</td><td>9264.843</td><td>2976.53</td><td>Sep-2018</td><td>null</td><td>2024-07-05 14:50:...</td></tr>\n",
       "<tr><td>86523233</td><td>2522.48</td><td>520.2</td><td>0.0</td><td>3042.68</td><td>98.21</td><td>Mar-2019</td><td>Apr-2019</td><td>2024-07-05 14:50:...</td></tr>\n",
       "<tr><td>86022413</td><td>40000.0</td><td>2302.1</td><td>0.0</td><td>42302.098</td><td>36827.7</td><td>Jan-2017</td><td>null</td><td>2024-07-05 14:50:...</td></tr>\n",
       "<tr><td>86432956</td><td>12000.0</td><td>1173.17</td><td>0.0</td><td>13173.168</td><td>7455.91</td><td>Dec-2017</td><td>null</td><td>2024-07-05 14:50:...</td></tr>\n",
       "<tr><td>85992799</td><td>7566.74</td><td>1555.18</td><td>0.0</td><td>9121.92</td><td>294.61</td><td>Mar-2019</td><td>Apr-2019</td><td>2024-07-05 14:50:...</td></tr>\n",
       "<tr><td>86453222</td><td>9484.55</td><td>4480.34</td><td>0.0</td><td>13964.89</td><td>451.27</td><td>Mar-2019</td><td>Apr-2019</td><td>2024-07-05 14:50:...</td></tr>\n",
       "<tr><td>85805832</td><td>12611.0</td><td>2591.99</td><td>0.0</td><td>15202.99</td><td>491.01</td><td>Mar-2019</td><td>Apr-2019</td><td>2024-07-05 14:50:...</td></tr>\n",
       "<tr><td>86423193</td><td>5000.0</td><td>315.32</td><td>0.0</td><td>5315.323</td><td>4318.04</td><td>Mar-2017</td><td>null</td><td>2024-07-05 14:50:...</td></tr>\n",
       "<tr><td>86012238</td><td>1168.63</td><td>420.17</td><td>0.0</td><td>1588.8</td><td>196.41</td><td>Apr-2017</td><td>null</td><td>2024-07-05 14:50:...</td></tr>\n",
       "<tr><td>86377338</td><td>12147.78</td><td>2142.14</td><td>0.0</td><td>14289.92</td><td>461.21</td><td>Mar-2019</td><td>Apr-2019</td><td>2024-07-05 14:50:...</td></tr>\n",
       "<tr><td>86602165</td><td>10000.0</td><td>1565.31</td><td>0.0</td><td>11565.312</td><td>334.3</td><td>May-2018</td><td>null</td><td>2024-07-05 14:50:...</td></tr>\n",
       "<tr><td>86206722</td><td>8800.0</td><td>1485.9</td><td>0.0</td><td>10285.902</td><td>790.63</td><td>Jan-2019</td><td>null</td><td>2024-07-05 14:50:...</td></tr>\n",
       "</table>\n",
       "only showing top 20 rows\n"
      ],
      "text/plain": [
       "+--------+------------------------+-----------------------+-----------------------+-------------+-------------------+-----------------+-----------------+--------------------+\n",
       "| loan_id|total_principle_received|total_interest_received|total_late_fee_received|total_payment|last_payment_amount|last_payment_date|next_payment_date|      ingestion_date|\n",
       "+--------+------------------------+-----------------------+-----------------------+-------------+-------------------+-----------------+-----------------+--------------------+\n",
       "|84647143|                  4000.0|                 614.11|                    0.0|    4614.1104|            1235.28|         Oct-2018|             null|2024-07-05 14:50:...|\n",
       "|86463837|                 9967.93|                6417.24|                    0.0|     16385.17|             529.11|         Mar-2019|         Apr-2019|2024-07-05 14:50:...|\n",
       "|86643264|                 15200.0|                2329.24|                    0.0|    17529.244|           14837.07|         Mar-2017|             null|2024-07-05 14:50:...|\n",
       "|85610005|                 1001.45|                 469.25|                    0.0|       1470.7|             246.05|         Feb-2017|             null|2024-07-05 14:50:...|\n",
       "|86101113|                 1316.02|                  517.0|                    0.0|      2001.23|              87.39|         May-2018|             null|2024-07-05 14:50:...|\n",
       "|85952284|                 14000.0|                1851.72|                    0.0|    15851.718|            4733.71|         Oct-2018|             null|2024-07-05 14:50:...|\n",
       "|84666301|                25193.35|                5450.84|                    0.0|     30644.19|             989.14|         Mar-2019|         Apr-2019|2024-07-05 14:50:...|\n",
       "|85872910|                  4525.0|                 616.49|                    0.0|     5141.489|            3693.97|         Jun-2017|             null|2024-07-05 14:50:...|\n",
       "|85615895|                  7500.0|                1764.84|                    0.0|     9264.843|            2976.53|         Sep-2018|             null|2024-07-05 14:50:...|\n",
       "|86523233|                 2522.48|                  520.2|                    0.0|      3042.68|              98.21|         Mar-2019|         Apr-2019|2024-07-05 14:50:...|\n",
       "|86022413|                 40000.0|                 2302.1|                    0.0|    42302.098|            36827.7|         Jan-2017|             null|2024-07-05 14:50:...|\n",
       "|86432956|                 12000.0|                1173.17|                    0.0|    13173.168|            7455.91|         Dec-2017|             null|2024-07-05 14:50:...|\n",
       "|85992799|                 7566.74|                1555.18|                    0.0|      9121.92|             294.61|         Mar-2019|         Apr-2019|2024-07-05 14:50:...|\n",
       "|86453222|                 9484.55|                4480.34|                    0.0|     13964.89|             451.27|         Mar-2019|         Apr-2019|2024-07-05 14:50:...|\n",
       "|85805832|                 12611.0|                2591.99|                    0.0|     15202.99|             491.01|         Mar-2019|         Apr-2019|2024-07-05 14:50:...|\n",
       "|86423193|                  5000.0|                 315.32|                    0.0|     5315.323|            4318.04|         Mar-2017|             null|2024-07-05 14:50:...|\n",
       "|86012238|                 1168.63|                 420.17|                    0.0|       1588.8|             196.41|         Apr-2017|             null|2024-07-05 14:50:...|\n",
       "|86377338|                12147.78|                2142.14|                    0.0|     14289.92|             461.21|         Mar-2019|         Apr-2019|2024-07-05 14:50:...|\n",
       "|86602165|                 10000.0|                1565.31|                    0.0|    11565.312|              334.3|         May-2018|             null|2024-07-05 14:50:...|\n",
       "|86206722|                  8800.0|                 1485.9|                    0.0|    10285.902|             790.63|         Jan-2019|             null|2024-07-05 14:50:...|\n",
       "+--------+------------------------+-----------------------+-----------------------+-------------+-------------------+-----------------+-----------------+--------------------+\n",
       "only showing top 20 rows"
      ]
     },
     "execution_count": 122,
     "metadata": {},
     "output_type": "execute_result"
    }
   ],
   "source": [
    "total_repayment_clean_df"
   ]
  },
  {
   "cell_type": "code",
   "execution_count": 123,
   "id": "7a38a2a4",
   "metadata": {},
   "outputs": [
    {
     "data": {
      "text/plain": [
       "0"
      ]
     },
     "execution_count": 123,
     "metadata": {},
     "output_type": "execute_result"
    }
   ],
   "source": [
    "total_repayment_clean_df.filter(\"total_payment==0\").count()"
   ]
  },
  {
   "cell_type": "code",
   "execution_count": 124,
   "id": "fef04b6b",
   "metadata": {},
   "outputs": [
    {
     "data": {
      "text/plain": [
       "48"
      ]
     },
     "execution_count": 124,
     "metadata": {},
     "output_type": "execute_result"
    }
   ],
   "source": [
    "total_repayment_clean_df.filter(\"last_payment_date = 0.0\").count()"
   ]
  },
  {
   "cell_type": "code",
   "execution_count": 125,
   "id": "0ccc941d",
   "metadata": {},
   "outputs": [
    {
     "data": {
      "text/plain": [
       "24"
      ]
     },
     "execution_count": 125,
     "metadata": {},
     "output_type": "execute_result"
    }
   ],
   "source": [
    "total_repayment_clean_df.filter(\"next_payment_date = 0.0\").count()"
   ]
  },
  {
   "cell_type": "code",
   "execution_count": 126,
   "id": "15038778",
   "metadata": {},
   "outputs": [
    {
     "data": {
      "text/plain": [
       "1477"
      ]
     },
     "execution_count": 126,
     "metadata": {},
     "output_type": "execute_result"
    }
   ],
   "source": [
    "total_repayment_clean_df.filter(\"last_payment_date is null\").count()"
   ]
  },
  {
   "cell_type": "code",
   "execution_count": 127,
   "id": "262d8ec4",
   "metadata": {},
   "outputs": [
    {
     "data": {
      "text/plain": [
       "1344240"
      ]
     },
     "execution_count": 127,
     "metadata": {},
     "output_type": "execute_result"
    }
   ],
   "source": [
    "total_repayment_clean_df.filter(\"next_payment_date is null\").count()"
   ]
  },
  {
   "cell_type": "code",
   "execution_count": 15,
   "id": "3f3df708",
   "metadata": {},
   "outputs": [],
   "source": [
    "last_payment_cleaned_df = total_repayment_clean_df.withColumn(\"last_payment_date\",when((col(\"last_payment_date\")==0.0),None).otherwise(col(\"last_payment_date\")))"
   ]
  },
  {
   "cell_type": "code",
   "execution_count": 16,
   "id": "8b69186c",
   "metadata": {},
   "outputs": [],
   "source": [
    "last_payment_cleaned_df=last_payment_cleaned_df.withColumn(\"next_payment_date\",when((col(\"next_payment_date\")==0.0),None).otherwise(col(\"next_payment_date\")))"
   ]
  },
  {
   "cell_type": "code",
   "execution_count": 133,
   "id": "331711d1",
   "metadata": {},
   "outputs": [
    {
     "data": {
      "text/plain": [
       "0"
      ]
     },
     "execution_count": 133,
     "metadata": {},
     "output_type": "execute_result"
    }
   ],
   "source": [
    "last_payment_cleaned_df.filter(\"last_payment_date = 0.0\").count()"
   ]
  },
  {
   "cell_type": "code",
   "execution_count": 134,
   "id": "b921c250",
   "metadata": {},
   "outputs": [
    {
     "data": {
      "text/plain": [
       "0"
      ]
     },
     "execution_count": 134,
     "metadata": {},
     "output_type": "execute_result"
    }
   ],
   "source": [
    "last_payment_cleaned_df.filter(\"next_payment_date = 0.0\").count()"
   ]
  },
  {
   "cell_type": "code",
   "execution_count": 135,
   "id": "ecc39e60",
   "metadata": {},
   "outputs": [],
   "source": [
    "last_payment_cleaned_df.write \\\n",
    ".option(\"header\", True) \\\n",
    ".format(\"csv\") \\\n",
    ".mode(\"overwrite\") \\\n",
    ".option(\"path\",\"/user/itv010130/loanproject/clean/repayment_data_csv\") \\\n",
    ".save()"
   ]
  },
  {
   "cell_type": "code",
   "execution_count": 136,
   "id": "7d5a164e",
   "metadata": {},
   "outputs": [],
   "source": [
    "last_payment_cleaned_df.write \\\n",
    ".format(\"parquet\") \\\n",
    ".mode(\"overwrite\") \\\n",
    ".option(\"path\",\"/user/itv010130/loanproject/clean/repayment_data_parquet\") \\\n",
    ".save()"
   ]
  },
  {
   "cell_type": "code",
   "execution_count": 137,
   "id": "78e509c5",
   "metadata": {},
   "outputs": [
    {
     "name": "stdout",
     "output_type": "stream",
     "text": [
      "Found 6 items\n",
      "drwxr-xr-x   - itv010130 supergroup          0 2024-07-02 01:08 /user/itv010130/loanproject/clean/customer_data_csv\n",
      "drwxr-xr-x   - itv010130 supergroup          0 2024-07-04 21:51 /user/itv010130/loanproject/clean/customer_data_parquet\n",
      "drwxr-xr-x   - itv010130 supergroup          0 2024-07-04 23:42 /user/itv010130/loanproject/clean/loan_data_csv\n",
      "drwxr-xr-x   - itv010130 supergroup          0 2024-07-04 23:43 /user/itv010130/loanproject/clean/loan_data_parquet\n",
      "drwxr-xr-x   - itv010130 supergroup          0 2024-07-05 15:01 /user/itv010130/loanproject/clean/repayment_data_csv\n",
      "drwxr-xr-x   - itv010130 supergroup          0 2024-07-05 15:02 /user/itv010130/loanproject/clean/repayment_data_parquet\n"
     ]
    }
   ],
   "source": [
    "!hadoop fs -ls /user/itv010130/loanproject/clean"
   ]
  },
  {
   "cell_type": "markdown",
   "id": "52d1e762",
   "metadata": {},
   "source": [
    "### Loan Defaulters"
   ]
  },
  {
   "cell_type": "code",
   "execution_count": 2,
   "id": "cbd3d084",
   "metadata": {},
   "outputs": [
    {
     "name": "stdout",
     "output_type": "stream",
     "text": [
      "Found 4 items\n",
      "drwxr-xr-x   - itv010130 supergroup          0 2024-06-29 00:32 /user/itv010130/loanproject/raw/customer_data_csv\n",
      "drwxr-xr-x   - itv010130 supergroup          0 2024-06-29 01:00 /user/itv010130/loanproject/raw/loan_data_csv\n",
      "drwxr-xr-x   - itv010130 supergroup          0 2024-06-29 01:12 /user/itv010130/loanproject/raw/loan_defaulters_data_csv\n",
      "drwxr-xr-x   - itv010130 supergroup          0 2024-06-29 01:06 /user/itv010130/loanproject/raw/loan_repayment_data_csv\n"
     ]
    }
   ],
   "source": [
    "! hadoop fs -ls /user/itv010130/loanproject/raw"
   ]
  },
  {
   "cell_type": "code",
   "execution_count": 42,
   "id": "64ddc587",
   "metadata": {},
   "outputs": [],
   "source": [
    "defaulters_df = spark.read \\\n",
    ".option(\"header\", True) \\\n",
    ".format(\"csv\") \\\n",
    ".option(\"inferSchema\", True) \\\n",
    ".load(\"/user/itv010130/loanproject/raw/loan_defaulters_data_csv\")"
   ]
  },
  {
   "cell_type": "code",
   "execution_count": 81,
   "id": "a5cc717e",
   "metadata": {},
   "outputs": [
    {
     "data": {
      "text/html": [
       "<table border='1'>\n",
       "<tr><th>member_id</th><th>delinq_2yrs</th><th>delinq_amnt</th><th>pub_rec</th><th>pub_rec_bankruptcies</th><th>inq_last_6mths</th><th>total_rec_late_fee</th><th>mths_since_last_delinq</th><th>mths_since_last_record</th></tr>\n",
       "<tr><td>b59d80da191f5b573...</td><td>0.0</td><td>0.0</td><td>0.0</td><td>0.0</td><td>1.0</td><td>0.0</td><td>31.0</td><td>null</td></tr>\n",
       "<tr><td>202d9f56ecb7c3bc9...</td><td>1.0</td><td>0.0</td><td>0.0</td><td>0.0</td><td>0.0</td><td>0.0</td><td>6.0</td><td>null</td></tr>\n",
       "<tr><td>e5a140c0922b554b9...</td><td>0.0</td><td>0.0</td><td>0.0</td><td>0.0</td><td>0.0</td><td>0.0</td><td>47.0</td><td>null</td></tr>\n",
       "<tr><td>e12aefc548f750777...</td><td>0.0</td><td>0.0</td><td>0.0</td><td>0.0</td><td>0.0</td><td>0.0</td><td>33.0</td><td>null</td></tr>\n",
       "<tr><td>1b3a50d854fbbf97e...</td><td>1.0</td><td>0.0</td><td>0.0</td><td>0.0</td><td>0.0</td><td>0.0</td><td>21.0</td><td>null</td></tr>\n",
       "<tr><td>1c4329e5f17697127...</td><td>0.0</td><td>0.0</td><td>0.0</td><td>0.0</td><td>0.0</td><td>0.0</td><td>null</td><td>null</td></tr>\n",
       "<tr><td>5026c86ad983175eb...</td><td>0.0</td><td>0.0</td><td>1.0</td><td>0.0</td><td>2.0</td><td>0.0</td><td>null</td><td>71.0</td></tr>\n",
       "<tr><td>9847d8c1e9d0b2084...</td><td>1.0</td><td>0.0</td><td>2.0</td><td>0.0</td><td>0.0</td><td>0.0</td><td>6.0</td><td>63.0</td></tr>\n",
       "<tr><td>8340dbe1adea41fb4...</td><td>0.0</td><td>0.0</td><td>0.0</td><td>0.0</td><td>0.0</td><td>0.0</td><td>36.0</td><td>null</td></tr>\n",
       "<tr><td>d4de0de3ab7d79ad4...</td><td>0.0</td><td>0.0</td><td>0.0</td><td>0.0</td><td>0.0</td><td>0.0</td><td>35.0</td><td>null</td></tr>\n",
       "<tr><td>3df3cdeddb74a8712...</td><td>0.0</td><td>0.0</td><td>0.0</td><td>0.0</td><td>0.0</td><td>0.0</td><td>null</td><td>null</td></tr>\n",
       "<tr><td>9dd72636b1b4045b4...</td><td>0.0</td><td>0.0</td><td>0.0</td><td>0.0</td><td>3.0</td><td>0.0</td><td>null</td><td>null</td></tr>\n",
       "<tr><td>1d4e1ef4353b73c00...</td><td>0.0</td><td>0.0</td><td>0.0</td><td>0.0</td><td>2.0</td><td>0.0</td><td>30.0</td><td>null</td></tr>\n",
       "<tr><td>6f196952e71277fd4...</td><td>4.0</td><td>0.0</td><td>0.0</td><td>0.0</td><td>0.0</td><td>0.0</td><td>5.0</td><td>null</td></tr>\n",
       "<tr><td>9c617cbc6e3e3d6a1...</td><td>1.0</td><td>0.0</td><td>0.0</td><td>0.0</td><td>2.0</td><td>0.0</td><td>20.0</td><td>null</td></tr>\n",
       "<tr><td>45eb04dd75400a942...</td><td>0.0</td><td>0.0</td><td>0.0</td><td>0.0</td><td>2.0</td><td>0.0</td><td>28.0</td><td>null</td></tr>\n",
       "<tr><td>08d233c81f9e50726...</td><td>0.0</td><td>0.0</td><td>0.0</td><td>0.0</td><td>1.0</td><td>0.0</td><td>null</td><td>null</td></tr>\n",
       "<tr><td>8ff4d0ed17a1cab92...</td><td>1.0</td><td>0.0</td><td>2.0</td><td>0.0</td><td>2.0</td><td>0.0</td><td>15.0</td><td>32.0</td></tr>\n",
       "<tr><td>aec13cfd611b2cfea...</td><td>1.0</td><td>0.0</td><td>0.0</td><td>0.0</td><td>1.0</td><td>0.0</td><td>19.0</td><td>null</td></tr>\n",
       "<tr><td>9ba8c96ccba6cd1f0...</td><td>0.0</td><td>0.0</td><td>0.0</td><td>0.0</td><td>0.0</td><td>0.0</td><td>37.0</td><td>null</td></tr>\n",
       "</table>\n",
       "only showing top 20 rows\n"
      ],
      "text/plain": [
       "+--------------------+-----------+-----------+-------+--------------------+--------------+------------------+----------------------+----------------------+\n",
       "|           member_id|delinq_2yrs|delinq_amnt|pub_rec|pub_rec_bankruptcies|inq_last_6mths|total_rec_late_fee|mths_since_last_delinq|mths_since_last_record|\n",
       "+--------------------+-----------+-----------+-------+--------------------+--------------+------------------+----------------------+----------------------+\n",
       "|b59d80da191f5b573...|        0.0|        0.0|    0.0|                 0.0|           1.0|               0.0|                  31.0|                  null|\n",
       "|202d9f56ecb7c3bc9...|        1.0|        0.0|    0.0|                 0.0|           0.0|               0.0|                   6.0|                  null|\n",
       "|e5a140c0922b554b9...|        0.0|        0.0|    0.0|                 0.0|           0.0|               0.0|                  47.0|                  null|\n",
       "|e12aefc548f750777...|        0.0|        0.0|    0.0|                 0.0|           0.0|               0.0|                  33.0|                  null|\n",
       "|1b3a50d854fbbf97e...|        1.0|        0.0|    0.0|                 0.0|           0.0|               0.0|                  21.0|                  null|\n",
       "|1c4329e5f17697127...|        0.0|        0.0|    0.0|                 0.0|           0.0|               0.0|                  null|                  null|\n",
       "|5026c86ad983175eb...|        0.0|        0.0|    1.0|                 0.0|           2.0|               0.0|                  null|                  71.0|\n",
       "|9847d8c1e9d0b2084...|        1.0|        0.0|    2.0|                 0.0|           0.0|               0.0|                   6.0|                  63.0|\n",
       "|8340dbe1adea41fb4...|        0.0|        0.0|    0.0|                 0.0|           0.0|               0.0|                  36.0|                  null|\n",
       "|d4de0de3ab7d79ad4...|        0.0|        0.0|    0.0|                 0.0|           0.0|               0.0|                  35.0|                  null|\n",
       "|3df3cdeddb74a8712...|        0.0|        0.0|    0.0|                 0.0|           0.0|               0.0|                  null|                  null|\n",
       "|9dd72636b1b4045b4...|        0.0|        0.0|    0.0|                 0.0|           3.0|               0.0|                  null|                  null|\n",
       "|1d4e1ef4353b73c00...|        0.0|        0.0|    0.0|                 0.0|           2.0|               0.0|                  30.0|                  null|\n",
       "|6f196952e71277fd4...|        4.0|        0.0|    0.0|                 0.0|           0.0|               0.0|                   5.0|                  null|\n",
       "|9c617cbc6e3e3d6a1...|        1.0|        0.0|    0.0|                 0.0|           2.0|               0.0|                  20.0|                  null|\n",
       "|45eb04dd75400a942...|        0.0|        0.0|    0.0|                 0.0|           2.0|               0.0|                  28.0|                  null|\n",
       "|08d233c81f9e50726...|        0.0|        0.0|    0.0|                 0.0|           1.0|               0.0|                  null|                  null|\n",
       "|8ff4d0ed17a1cab92...|        1.0|        0.0|    2.0|                 0.0|           2.0|               0.0|                  15.0|                  32.0|\n",
       "|aec13cfd611b2cfea...|        1.0|        0.0|    0.0|                 0.0|           1.0|               0.0|                  19.0|                  null|\n",
       "|9ba8c96ccba6cd1f0...|        0.0|        0.0|    0.0|                 0.0|           0.0|               0.0|                  37.0|                  null|\n",
       "+--------------------+-----------+-----------+-------+--------------------+--------------+------------------+----------------------+----------------------+\n",
       "only showing top 20 rows"
      ]
     },
     "execution_count": 81,
     "metadata": {},
     "output_type": "execute_result"
    }
   ],
   "source": [
    "defaulters_df"
   ]
  },
  {
   "cell_type": "code",
   "execution_count": 82,
   "id": "e9947c69",
   "metadata": {},
   "outputs": [
    {
     "name": "stdout",
     "output_type": "stream",
     "text": [
      "root\n",
      " |-- member_id: string (nullable = true)\n",
      " |-- delinq_2yrs: string (nullable = true)\n",
      " |-- delinq_amnt: double (nullable = true)\n",
      " |-- pub_rec: string (nullable = true)\n",
      " |-- pub_rec_bankruptcies: double (nullable = true)\n",
      " |-- inq_last_6mths: string (nullable = true)\n",
      " |-- total_rec_late_fee: string (nullable = true)\n",
      " |-- mths_since_last_delinq: string (nullable = true)\n",
      " |-- mths_since_last_record: string (nullable = true)\n",
      "\n"
     ]
    }
   ],
   "source": [
    "defaulters_df.printSchema()"
   ]
  },
  {
   "cell_type": "code",
   "execution_count": 43,
   "id": "b442509b",
   "metadata": {},
   "outputs": [],
   "source": [
    "defaulters_df.createOrReplaceTempView(\"defaulters_data\")"
   ]
  },
  {
   "cell_type": "code",
   "execution_count": 84,
   "id": "b4db2115",
   "metadata": {},
   "outputs": [
    {
     "data": {
      "text/html": [
       "<table border='1'>\n",
       "<tr><th>delinq_2yrs</th></tr>\n",
       "<tr><td>1.0</td></tr>\n",
       "<tr><td>271 monthly payme...</td></tr>\n",
       "<tr><td>I bike to work on...</td></tr>\n",
       "<tr><td>VISA and AMEX cre...</td></tr>\n",
       "<tr><td>etc. and I feel t...</td></tr>\n",
       "<tr><td>183xx</td></tr>\n",
       "<tr><td>AZ</td></tr>\n",
       "<tr><td>017xx</td></tr>\n",
       "<tr><td>923xx</td></tr>\n",
       "<tr><td>446xx</td></tr>\n",
       "<tr><td>who is a financia...</td></tr>\n",
       "<tr><td>and all of that c...</td></tr>\n",
       "<tr><td>LA</td></tr>\n",
       "<tr><td>24.66</td></tr>\n",
       "<tr><td>and the removal o...</td></tr>\n",
       "<tr><td>I would like to c...</td></tr>\n",
       "<tr><td>12.24</td></tr>\n",
       "<tr><td>22.0</td></tr>\n",
       "<tr><td>so most of my inc...</td></tr>\n",
       "<tr><td>I would like to p...</td></tr>\n",
       "</table>\n",
       "only showing top 20 rows\n"
      ],
      "text/plain": [
       "+--------------------+\n",
       "|         delinq_2yrs|\n",
       "+--------------------+\n",
       "|                 1.0|\n",
       "|I bike to work on...|\n",
       "|271 monthly payme...|\n",
       "|               183xx|\n",
       "|VISA and AMEX cre...|\n",
       "|etc. and I feel t...|\n",
       "|                  AZ|\n",
       "|               017xx|\n",
       "|               923xx|\n",
       "|               446xx|\n",
       "|who is a financia...|\n",
       "|and all of that c...|\n",
       "|                  LA|\n",
       "|               24.66|\n",
       "|and the removal o...|\n",
       "|I would like to c...|\n",
       "|               12.24|\n",
       "|                22.0|\n",
       "|so most of my inc...|\n",
       "|I would like to p...|\n",
       "+--------------------+\n",
       "only showing top 20 rows"
      ]
     },
     "execution_count": 84,
     "metadata": {},
     "output_type": "execute_result"
    }
   ],
   "source": [
    "spark.sql(\"select distinct(delinq_2yrs) from defaulters_data\")"
   ]
  },
  {
   "cell_type": "code",
   "execution_count": 85,
   "id": "9bd71f43",
   "metadata": {},
   "outputs": [
    {
     "data": {
      "text/html": [
       "<table border='1'>\n",
       "<tr><th>inq_last_6mths</th></tr>\n",
       "<tr><td>1.0</td></tr>\n",
       "<tr><td>705.0</td></tr>\n",
       "<tr><td>685.0</td></tr>\n",
       "<tr><td>675.0</td></tr>\n",
       "<tr><td>923xx</td></tr>\n",
       "<tr><td>244xx</td></tr>\n",
       "<tr><td>Aug-1995</td></tr>\n",
       "<tr><td>754.0</td></tr>\n",
       "<tr><td>Apr-1997</td></tr>\n",
       "<tr><td>Oct-1999</td></tr>\n",
       "<tr><td>11.64</td></tr>\n",
       "<tr><td>997xx</td></tr>\n",
       "<tr><td>which is the most...</td></tr>\n",
       "<tr><td>729.0</td></tr>\n",
       "<tr><td>Jan-1984</td></tr>\n",
       "<tr><td>745.0</td></tr>\n",
       "<tr><td>674.0</td></tr>\n",
       "<tr><td>20.0</td></tr>\n",
       "<tr><td>Jan-1994</td></tr>\n",
       "<tr><td>15.0</td></tr>\n",
       "</table>\n",
       "only showing top 20 rows\n"
      ],
      "text/plain": [
       "+--------------------+\n",
       "|      inq_last_6mths|\n",
       "+--------------------+\n",
       "|                 1.0|\n",
       "|               705.0|\n",
       "|               685.0|\n",
       "|               675.0|\n",
       "|               923xx|\n",
       "|               244xx|\n",
       "|            Aug-1995|\n",
       "|               754.0|\n",
       "|            Apr-1997|\n",
       "|            Oct-1999|\n",
       "|               11.64|\n",
       "|               997xx|\n",
       "|which is the most...|\n",
       "|               729.0|\n",
       "|            Jan-1984|\n",
       "|               745.0|\n",
       "|               674.0|\n",
       "|                20.0|\n",
       "|            Jan-1994|\n",
       "|                15.0|\n",
       "+--------------------+\n",
       "only showing top 20 rows"
      ]
     },
     "execution_count": 85,
     "metadata": {},
     "output_type": "execute_result"
    }
   ],
   "source": [
    "spark.sql(\"select distinct(inq_last_6mths) from defaulters_data\")"
   ]
  },
  {
   "cell_type": "code",
   "execution_count": 86,
   "id": "dc453df9",
   "metadata": {},
   "outputs": [
    {
     "data": {
      "text/html": [
       "<table border='1'>\n",
       "<tr><th>total_rec_late_fee</th></tr>\n",
       "<tr><td>89.46</td></tr>\n",
       "<tr><td>36.65</td></tr>\n",
       "<tr><td>21.3500000043</td></tr>\n",
       "<tr><td>58.7</td></tr>\n",
       "<tr><td>102.0</td></tr>\n",
       "<tr><td>373.38000096220003</td></tr>\n",
       "<tr><td>28.37</td></tr>\n",
       "<tr><td>39.2800000276</td></tr>\n",
       "<tr><td>132.7000000479</td></tr>\n",
       "<tr><td>28.79</td></tr>\n",
       "<tr><td>15.0000000397</td></tr>\n",
       "<tr><td>24.7900001302</td></tr>\n",
       "<tr><td>91.8</td></tr>\n",
       "<tr><td>19.06</td></tr>\n",
       "<tr><td>51.49000007</td></tr>\n",
       "<tr><td>17.42</td></tr>\n",
       "<tr><td>65.32</td></tr>\n",
       "<tr><td>67.7600000802</td></tr>\n",
       "<tr><td>34.71</td></tr>\n",
       "<tr><td>105.42</td></tr>\n",
       "</table>\n",
       "only showing top 20 rows\n"
      ],
      "text/plain": [
       "+------------------+\n",
       "|total_rec_late_fee|\n",
       "+------------------+\n",
       "|             89.46|\n",
       "|             36.65|\n",
       "|     21.3500000043|\n",
       "|              58.7|\n",
       "|             102.0|\n",
       "|373.38000096220003|\n",
       "|             28.37|\n",
       "|     39.2800000276|\n",
       "|    132.7000000479|\n",
       "|             28.79|\n",
       "|     15.0000000397|\n",
       "|     24.7900001302|\n",
       "|              91.8|\n",
       "|             19.06|\n",
       "|       51.49000007|\n",
       "|             17.42|\n",
       "|             65.32|\n",
       "|     67.7600000802|\n",
       "|             34.71|\n",
       "|            105.42|\n",
       "+------------------+\n",
       "only showing top 20 rows"
      ]
     },
     "execution_count": 86,
     "metadata": {},
     "output_type": "execute_result"
    }
   ],
   "source": [
    "spark.sql(\"select distinct(total_rec_late_fee) from defaulters_data\")"
   ]
  },
  {
   "cell_type": "code",
   "execution_count": 87,
   "id": "00fa46fc",
   "metadata": {},
   "outputs": [
    {
     "data": {
      "text/html": [
       "<table border='1'>\n",
       "<tr><th>mths_since_last_delinq</th></tr>\n",
       "<tr><td>102.0</td></tr>\n",
       "<tr><td>151.0</td></tr>\n",
       "<tr><td>1.0</td></tr>\n",
       "<tr><td>Debt Smash &amp; Capi...</td></tr>\n",
       "<tr><td>May-1993</td></tr>\n",
       "<tr><td>Sep-1998</td></tr>\n",
       "<tr><td>685.0</td></tr>\n",
       "<tr><td>Salaries</td></tr>\n",
       "<tr><td>Sep-2003</td></tr>\n",
       "<tr><td>675.0</td></tr>\n",
       "<tr><td>12.8</td></tr>\n",
       "<tr><td>84.0</td></tr>\n",
       "<tr><td>116.0</td></tr>\n",
       "<tr><td>784.0</td></tr>\n",
       "<tr><td>non tax declared ...</td></tr>\n",
       "<tr><td>754.0</td></tr>\n",
       "<tr><td>LA</td></tr>\n",
       "<tr><td>145.0</td></tr>\n",
       "<tr><td>127.0</td></tr>\n",
       "<tr><td>Oct-1999</td></tr>\n",
       "</table>\n",
       "only showing top 20 rows\n"
      ],
      "text/plain": [
       "+----------------------+\n",
       "|mths_since_last_delinq|\n",
       "+----------------------+\n",
       "|                 102.0|\n",
       "|                 151.0|\n",
       "|                   1.0|\n",
       "|              May-1993|\n",
       "|              Sep-1998|\n",
       "|  Debt Smash & Capi...|\n",
       "|                 685.0|\n",
       "|              Salaries|\n",
       "|              Sep-2003|\n",
       "|                 675.0|\n",
       "|                  12.8|\n",
       "|                  84.0|\n",
       "|                 116.0|\n",
       "|                 784.0|\n",
       "|  non tax declared ...|\n",
       "|                 754.0|\n",
       "|                    LA|\n",
       "|                 145.0|\n",
       "|                 127.0|\n",
       "|              Oct-1999|\n",
       "+----------------------+\n",
       "only showing top 20 rows"
      ]
     },
     "execution_count": 87,
     "metadata": {},
     "output_type": "execute_result"
    }
   ],
   "source": [
    "spark.sql(\"select distinct(mths_since_last_delinq) from defaulters_data\")"
   ]
  },
  {
   "cell_type": "code",
   "execution_count": 88,
   "id": "1e605019",
   "metadata": {},
   "outputs": [
    {
     "data": {
      "text/html": [
       "<table border='1'>\n",
       "<tr><th>mths_since_last_record</th></tr>\n",
       "<tr><td>102.0</td></tr>\n",
       "<tr><td>1.0</td></tr>\n",
       "<tr><td>685.0</td></tr>\n",
       "<tr><td>705.0</td></tr>\n",
       "<tr><td>Dec-1981</td></tr>\n",
       "<tr><td>AZ</td></tr>\n",
       "<tr><td>84.0</td></tr>\n",
       "<tr><td>116.0</td></tr>\n",
       "<tr><td>Working Capital</td></tr>\n",
       "<tr><td>754.0</td></tr>\n",
       "<tr><td>127.0</td></tr>\n",
       "<tr><td>75.0</td></tr>\n",
       "<tr><td>50.0</td></tr>\n",
       "<tr><td>22.0</td></tr>\n",
       "<tr><td>669.0</td></tr>\n",
       "<tr><td>65.0</td></tr>\n",
       "<tr><td>729.0</td></tr>\n",
       "<tr><td>118.0</td></tr>\n",
       "<tr><td>38.0</td></tr>\n",
       "<tr><td>745.0</td></tr>\n",
       "</table>\n",
       "only showing top 20 rows\n"
      ],
      "text/plain": [
       "+----------------------+\n",
       "|mths_since_last_record|\n",
       "+----------------------+\n",
       "|                 102.0|\n",
       "|                   1.0|\n",
       "|                 685.0|\n",
       "|                 705.0|\n",
       "|              Dec-1981|\n",
       "|                    AZ|\n",
       "|                  84.0|\n",
       "|                 116.0|\n",
       "|       Working Capital|\n",
       "|                 754.0|\n",
       "|                 127.0|\n",
       "|                  75.0|\n",
       "|                  50.0|\n",
       "|                  22.0|\n",
       "|                 669.0|\n",
       "|                  65.0|\n",
       "|                 729.0|\n",
       "|                 118.0|\n",
       "|                  38.0|\n",
       "|                 745.0|\n",
       "+----------------------+\n",
       "only showing top 20 rows"
      ]
     },
     "execution_count": 88,
     "metadata": {},
     "output_type": "execute_result"
    }
   ],
   "source": [
    "spark.sql(\"select distinct(mths_since_last_record) from defaulters_data\")"
   ]
  },
  {
   "cell_type": "code",
   "execution_count": 89,
   "id": "cd427e39",
   "metadata": {},
   "outputs": [
    {
     "name": "stdout",
     "output_type": "stream",
     "text": [
      "+------------------+-----------+\n",
      "|       delinq_2yrs|total_count|\n",
      "+------------------+-----------+\n",
      "|               0.0|    1838878|\n",
      "|               1.0|     281335|\n",
      "|               2.0|      81285|\n",
      "|               3.0|      29539|\n",
      "|               4.0|      13179|\n",
      "|               5.0|       6599|\n",
      "|               6.0|       3717|\n",
      "|               7.0|       2062|\n",
      "|               8.0|       1223|\n",
      "|               9.0|        818|\n",
      "|              10.0|        556|\n",
      "|              11.0|        363|\n",
      "|              12.0|        264|\n",
      "|              13.0|        165|\n",
      "|              14.0|        120|\n",
      "|              15.0|         87|\n",
      "|              16.0|         55|\n",
      "|              17.0|         30|\n",
      "|              18.0|         30|\n",
      "|              19.0|         23|\n",
      "|              20.0|         17|\n",
      "|              21.0|         12|\n",
      "|                CA|          8|\n",
      "|                TX|          6|\n",
      "|              22.0|          5|\n",
      "|debt_consolidation|          5|\n",
      "|    small_business|          5|\n",
      "|                IL|          5|\n",
      "|                FL|          4|\n",
      "|              24.0|          4|\n",
      "|              26.0|          3|\n",
      "|             452xx|          3|\n",
      "|                NY|          3|\n",
      "|                NJ|          3|\n",
      "|              29.0|          2|\n",
      "|                MD|          2|\n",
      "|              30.0|          2|\n",
      "|             other|          2|\n",
      "|              3.44|          2|\n",
      "|       credit_card|          2|\n",
      "+------------------+-----------+\n",
      "only showing top 40 rows\n",
      "\n"
     ]
    }
   ],
   "source": [
    "spark.sql(\"select delinq_2yrs,count(delinq_2yrs) as total_count from defaulters_data group by delinq_2yrs order by total_count desc\").show(40)"
   ]
  },
  {
   "cell_type": "code",
   "execution_count": 44,
   "id": "a1edfff5",
   "metadata": {},
   "outputs": [],
   "source": [
    "defaulters_schema ='member_id string, delinq_in_2yrs float, delinq_amount float, pub_rec float, pub_record_bankruptcies float, inquiry_in_last_6mths float, total_late_fee_received float, months_since_last_delinq float, months_since_last_record float'"
   ]
  },
  {
   "cell_type": "code",
   "execution_count": 45,
   "id": "9de0bcc0",
   "metadata": {},
   "outputs": [],
   "source": [
    "defaulters_df = spark.read \\\n",
    ".option(\"header\", True) \\\n",
    ".format(\"csv\") \\\n",
    ".schema(defaulters_schema) \\\n",
    ".load(\"/user/itv010130/loanproject/raw/loan_defaulters_data_csv\")"
   ]
  },
  {
   "cell_type": "code",
   "execution_count": 92,
   "id": "385bf194",
   "metadata": {},
   "outputs": [
    {
     "data": {
      "text/html": [
       "<table border='1'>\n",
       "<tr><th>member_id</th><th>delinq_in_2yrs</th><th>delinq_amount</th><th>pub_rec</th><th>pub_record_bankruptcies</th><th>inquiry_in_last_6mths</th><th>total_late_fee_received</th><th>months_since_last_delinq</th><th>months_since_last_record</th></tr>\n",
       "<tr><td>b59d80da191f5b573...</td><td>0.0</td><td>0.0</td><td>0.0</td><td>0.0</td><td>1.0</td><td>0.0</td><td>31.0</td><td>null</td></tr>\n",
       "<tr><td>202d9f56ecb7c3bc9...</td><td>1.0</td><td>0.0</td><td>0.0</td><td>0.0</td><td>0.0</td><td>0.0</td><td>6.0</td><td>null</td></tr>\n",
       "<tr><td>e5a140c0922b554b9...</td><td>0.0</td><td>0.0</td><td>0.0</td><td>0.0</td><td>0.0</td><td>0.0</td><td>47.0</td><td>null</td></tr>\n",
       "<tr><td>e12aefc548f750777...</td><td>0.0</td><td>0.0</td><td>0.0</td><td>0.0</td><td>0.0</td><td>0.0</td><td>33.0</td><td>null</td></tr>\n",
       "<tr><td>1b3a50d854fbbf97e...</td><td>1.0</td><td>0.0</td><td>0.0</td><td>0.0</td><td>0.0</td><td>0.0</td><td>21.0</td><td>null</td></tr>\n",
       "<tr><td>1c4329e5f17697127...</td><td>0.0</td><td>0.0</td><td>0.0</td><td>0.0</td><td>0.0</td><td>0.0</td><td>null</td><td>null</td></tr>\n",
       "<tr><td>5026c86ad983175eb...</td><td>0.0</td><td>0.0</td><td>1.0</td><td>0.0</td><td>2.0</td><td>0.0</td><td>null</td><td>71.0</td></tr>\n",
       "<tr><td>9847d8c1e9d0b2084...</td><td>1.0</td><td>0.0</td><td>2.0</td><td>0.0</td><td>0.0</td><td>0.0</td><td>6.0</td><td>63.0</td></tr>\n",
       "<tr><td>8340dbe1adea41fb4...</td><td>0.0</td><td>0.0</td><td>0.0</td><td>0.0</td><td>0.0</td><td>0.0</td><td>36.0</td><td>null</td></tr>\n",
       "<tr><td>d4de0de3ab7d79ad4...</td><td>0.0</td><td>0.0</td><td>0.0</td><td>0.0</td><td>0.0</td><td>0.0</td><td>35.0</td><td>null</td></tr>\n",
       "<tr><td>3df3cdeddb74a8712...</td><td>0.0</td><td>0.0</td><td>0.0</td><td>0.0</td><td>0.0</td><td>0.0</td><td>null</td><td>null</td></tr>\n",
       "<tr><td>9dd72636b1b4045b4...</td><td>0.0</td><td>0.0</td><td>0.0</td><td>0.0</td><td>3.0</td><td>0.0</td><td>null</td><td>null</td></tr>\n",
       "<tr><td>1d4e1ef4353b73c00...</td><td>0.0</td><td>0.0</td><td>0.0</td><td>0.0</td><td>2.0</td><td>0.0</td><td>30.0</td><td>null</td></tr>\n",
       "<tr><td>6f196952e71277fd4...</td><td>4.0</td><td>0.0</td><td>0.0</td><td>0.0</td><td>0.0</td><td>0.0</td><td>5.0</td><td>null</td></tr>\n",
       "<tr><td>9c617cbc6e3e3d6a1...</td><td>1.0</td><td>0.0</td><td>0.0</td><td>0.0</td><td>2.0</td><td>0.0</td><td>20.0</td><td>null</td></tr>\n",
       "<tr><td>45eb04dd75400a942...</td><td>0.0</td><td>0.0</td><td>0.0</td><td>0.0</td><td>2.0</td><td>0.0</td><td>28.0</td><td>null</td></tr>\n",
       "<tr><td>08d233c81f9e50726...</td><td>0.0</td><td>0.0</td><td>0.0</td><td>0.0</td><td>1.0</td><td>0.0</td><td>null</td><td>null</td></tr>\n",
       "<tr><td>8ff4d0ed17a1cab92...</td><td>1.0</td><td>0.0</td><td>2.0</td><td>0.0</td><td>2.0</td><td>0.0</td><td>15.0</td><td>32.0</td></tr>\n",
       "<tr><td>aec13cfd611b2cfea...</td><td>1.0</td><td>0.0</td><td>0.0</td><td>0.0</td><td>1.0</td><td>0.0</td><td>19.0</td><td>null</td></tr>\n",
       "<tr><td>9ba8c96ccba6cd1f0...</td><td>0.0</td><td>0.0</td><td>0.0</td><td>0.0</td><td>0.0</td><td>0.0</td><td>37.0</td><td>null</td></tr>\n",
       "</table>\n",
       "only showing top 20 rows\n"
      ],
      "text/plain": [
       "+--------------------+--------------+-------------+-------+-----------------------+---------------------+-----------------------+------------------------+------------------------+\n",
       "|           member_id|delinq_in_2yrs|delinq_amount|pub_rec|pub_record_bankruptcies|inquiry_in_last_6mths|total_late_fee_received|months_since_last_delinq|months_since_last_record|\n",
       "+--------------------+--------------+-------------+-------+-----------------------+---------------------+-----------------------+------------------------+------------------------+\n",
       "|b59d80da191f5b573...|           0.0|          0.0|    0.0|                    0.0|                  1.0|                    0.0|                    31.0|                    null|\n",
       "|202d9f56ecb7c3bc9...|           1.0|          0.0|    0.0|                    0.0|                  0.0|                    0.0|                     6.0|                    null|\n",
       "|e5a140c0922b554b9...|           0.0|          0.0|    0.0|                    0.0|                  0.0|                    0.0|                    47.0|                    null|\n",
       "|e12aefc548f750777...|           0.0|          0.0|    0.0|                    0.0|                  0.0|                    0.0|                    33.0|                    null|\n",
       "|1b3a50d854fbbf97e...|           1.0|          0.0|    0.0|                    0.0|                  0.0|                    0.0|                    21.0|                    null|\n",
       "|1c4329e5f17697127...|           0.0|          0.0|    0.0|                    0.0|                  0.0|                    0.0|                    null|                    null|\n",
       "|5026c86ad983175eb...|           0.0|          0.0|    1.0|                    0.0|                  2.0|                    0.0|                    null|                    71.0|\n",
       "|9847d8c1e9d0b2084...|           1.0|          0.0|    2.0|                    0.0|                  0.0|                    0.0|                     6.0|                    63.0|\n",
       "|8340dbe1adea41fb4...|           0.0|          0.0|    0.0|                    0.0|                  0.0|                    0.0|                    36.0|                    null|\n",
       "|d4de0de3ab7d79ad4...|           0.0|          0.0|    0.0|                    0.0|                  0.0|                    0.0|                    35.0|                    null|\n",
       "|3df3cdeddb74a8712...|           0.0|          0.0|    0.0|                    0.0|                  0.0|                    0.0|                    null|                    null|\n",
       "|9dd72636b1b4045b4...|           0.0|          0.0|    0.0|                    0.0|                  3.0|                    0.0|                    null|                    null|\n",
       "|1d4e1ef4353b73c00...|           0.0|          0.0|    0.0|                    0.0|                  2.0|                    0.0|                    30.0|                    null|\n",
       "|6f196952e71277fd4...|           4.0|          0.0|    0.0|                    0.0|                  0.0|                    0.0|                     5.0|                    null|\n",
       "|9c617cbc6e3e3d6a1...|           1.0|          0.0|    0.0|                    0.0|                  2.0|                    0.0|                    20.0|                    null|\n",
       "|45eb04dd75400a942...|           0.0|          0.0|    0.0|                    0.0|                  2.0|                    0.0|                    28.0|                    null|\n",
       "|08d233c81f9e50726...|           0.0|          0.0|    0.0|                    0.0|                  1.0|                    0.0|                    null|                    null|\n",
       "|8ff4d0ed17a1cab92...|           1.0|          0.0|    2.0|                    0.0|                  2.0|                    0.0|                    15.0|                    32.0|\n",
       "|aec13cfd611b2cfea...|           1.0|          0.0|    0.0|                    0.0|                  1.0|                    0.0|                    19.0|                    null|\n",
       "|9ba8c96ccba6cd1f0...|           0.0|          0.0|    0.0|                    0.0|                  0.0|                    0.0|                    37.0|                    null|\n",
       "+--------------------+--------------+-------------+-------+-----------------------+---------------------+-----------------------+------------------------+------------------------+\n",
       "only showing top 20 rows"
      ]
     },
     "execution_count": 92,
     "metadata": {},
     "output_type": "execute_result"
    }
   ],
   "source": [
    "defaulters_df"
   ]
  },
  {
   "cell_type": "code",
   "execution_count": 46,
   "id": "c081a61d",
   "metadata": {},
   "outputs": [],
   "source": [
    "defaulters_df.createOrReplaceTempView(\"defaulters_data\")"
   ]
  },
  {
   "cell_type": "code",
   "execution_count": 59,
   "id": "12938bb7",
   "metadata": {},
   "outputs": [
    {
     "name": "stdout",
     "output_type": "stream",
     "text": [
      "+--------------+-----------+\n",
      "|delinq_in_2yrs|total_count|\n",
      "+--------------+-----------+\n",
      "|           0.0|    1838878|\n",
      "|           1.0|     281335|\n",
      "|           2.0|      81285|\n",
      "|           3.0|      29539|\n",
      "|           4.0|      13179|\n",
      "|           5.0|       6599|\n",
      "|           6.0|       3717|\n",
      "|           7.0|       2062|\n",
      "|           8.0|       1223|\n",
      "|           9.0|        818|\n",
      "|          10.0|        556|\n",
      "|          11.0|        363|\n",
      "|          12.0|        264|\n",
      "|          13.0|        165|\n",
      "|          14.0|        120|\n",
      "|          15.0|         87|\n",
      "|          16.0|         55|\n",
      "|          18.0|         30|\n",
      "|          17.0|         30|\n",
      "|          19.0|         23|\n",
      "|          20.0|         17|\n",
      "|          21.0|         12|\n",
      "|          22.0|          5|\n",
      "|          24.0|          4|\n",
      "|          26.0|          3|\n",
      "|          23.0|          2|\n",
      "|          25.0|          2|\n",
      "|          3.44|          2|\n",
      "|          30.0|          2|\n",
      "|          29.0|          2|\n",
      "|          3.45|          1|\n",
      "|         13.76|          1|\n",
      "|         20.04|          1|\n",
      "|         21.72|          1|\n",
      "|          58.0|          1|\n",
      "|         22.62|          1|\n",
      "|          39.0|          1|\n",
      "|          5.52|          1|\n",
      "|         22.95|          1|\n",
      "|         17.17|          1|\n",
      "+--------------+-----------+\n",
      "only showing top 40 rows\n",
      "\n"
     ]
    }
   ],
   "source": [
    "spark.sql(\"select delinq_in_2yrs,count(delinq_in_2yrs) as total_count from defaulters_data group by delinq_in_2yrs order by total_count desc\").show(40)"
   ]
  },
  {
   "cell_type": "code",
   "execution_count": 94,
   "id": "622de330",
   "metadata": {},
   "outputs": [
    {
     "data": {
      "text/html": [
       "<table border='1'>\n",
       "<tr><th>count(1)</th></tr>\n",
       "<tr><td>261</td></tr>\n",
       "</table>\n"
      ],
      "text/plain": [
       "+--------+\n",
       "|count(1)|\n",
       "+--------+\n",
       "|     261|\n",
       "+--------+"
      ]
     },
     "execution_count": 94,
     "metadata": {},
     "output_type": "execute_result"
    }
   ],
   "source": [
    "spark.sql(\"select count(*) from defaulters_data where delinq_in_2yrs is null\")"
   ]
  },
  {
   "cell_type": "code",
   "execution_count": 47,
   "id": "c03bf70c",
   "metadata": {},
   "outputs": [],
   "source": [
    "from pyspark.sql.functions import col"
   ]
  },
  {
   "cell_type": "code",
   "execution_count": 48,
   "id": "99d32b1c",
   "metadata": {},
   "outputs": [],
   "source": [
    "delinq_modified_df = defaulters_df.withColumn(\"delinq_in_2yrs\",col(\"delinq_in_2yrs\").cast(\"int\")).fillna(0,subset=[\"delinq_in_2yrs\"])"
   ]
  },
  {
   "cell_type": "code",
   "execution_count": 51,
   "id": "d16df459",
   "metadata": {},
   "outputs": [],
   "source": [
    "delinq_modified_df.createOrReplaceTempView(\"defaulters_data\")"
   ]
  },
  {
   "cell_type": "code",
   "execution_count": 98,
   "id": "dc0b0f22",
   "metadata": {},
   "outputs": [
    {
     "data": {
      "text/html": [
       "<table border='1'>\n",
       "<tr><th>count(1)</th></tr>\n",
       "<tr><td>0</td></tr>\n",
       "</table>\n"
      ],
      "text/plain": [
       "+--------+\n",
       "|count(1)|\n",
       "+--------+\n",
       "|       0|\n",
       "+--------+"
      ]
     },
     "execution_count": 98,
     "metadata": {},
     "output_type": "execute_result"
    }
   ],
   "source": [
    "spark.sql(\"select count(*) from defaulters_data where delinq_in_2yrs is null\")"
   ]
  },
  {
   "cell_type": "code",
   "execution_count": 99,
   "id": "91f2da5d",
   "metadata": {},
   "outputs": [
    {
     "data": {
      "text/html": [
       "<table border='1'>\n",
       "<tr><th>member_id</th><th>delinq_in_2yrs</th><th>delinq_amount</th><th>pub_rec</th><th>pub_record_bankruptcies</th><th>inquiry_in_last_6mths</th><th>total_late_fee_received</th><th>months_since_last_delinq</th><th>months_since_last_record</th></tr>\n",
       "<tr><td>b59d80da191f5b573...</td><td>0</td><td>0.0</td><td>0.0</td><td>0.0</td><td>1.0</td><td>0.0</td><td>31.0</td><td>null</td></tr>\n",
       "<tr><td>202d9f56ecb7c3bc9...</td><td>1</td><td>0.0</td><td>0.0</td><td>0.0</td><td>0.0</td><td>0.0</td><td>6.0</td><td>null</td></tr>\n",
       "<tr><td>e5a140c0922b554b9...</td><td>0</td><td>0.0</td><td>0.0</td><td>0.0</td><td>0.0</td><td>0.0</td><td>47.0</td><td>null</td></tr>\n",
       "<tr><td>e12aefc548f750777...</td><td>0</td><td>0.0</td><td>0.0</td><td>0.0</td><td>0.0</td><td>0.0</td><td>33.0</td><td>null</td></tr>\n",
       "<tr><td>1b3a50d854fbbf97e...</td><td>1</td><td>0.0</td><td>0.0</td><td>0.0</td><td>0.0</td><td>0.0</td><td>21.0</td><td>null</td></tr>\n",
       "<tr><td>1c4329e5f17697127...</td><td>0</td><td>0.0</td><td>0.0</td><td>0.0</td><td>0.0</td><td>0.0</td><td>null</td><td>null</td></tr>\n",
       "<tr><td>5026c86ad983175eb...</td><td>0</td><td>0.0</td><td>1.0</td><td>0.0</td><td>2.0</td><td>0.0</td><td>null</td><td>71.0</td></tr>\n",
       "<tr><td>9847d8c1e9d0b2084...</td><td>1</td><td>0.0</td><td>2.0</td><td>0.0</td><td>0.0</td><td>0.0</td><td>6.0</td><td>63.0</td></tr>\n",
       "<tr><td>8340dbe1adea41fb4...</td><td>0</td><td>0.0</td><td>0.0</td><td>0.0</td><td>0.0</td><td>0.0</td><td>36.0</td><td>null</td></tr>\n",
       "<tr><td>d4de0de3ab7d79ad4...</td><td>0</td><td>0.0</td><td>0.0</td><td>0.0</td><td>0.0</td><td>0.0</td><td>35.0</td><td>null</td></tr>\n",
       "<tr><td>3df3cdeddb74a8712...</td><td>0</td><td>0.0</td><td>0.0</td><td>0.0</td><td>0.0</td><td>0.0</td><td>null</td><td>null</td></tr>\n",
       "<tr><td>9dd72636b1b4045b4...</td><td>0</td><td>0.0</td><td>0.0</td><td>0.0</td><td>3.0</td><td>0.0</td><td>null</td><td>null</td></tr>\n",
       "<tr><td>1d4e1ef4353b73c00...</td><td>0</td><td>0.0</td><td>0.0</td><td>0.0</td><td>2.0</td><td>0.0</td><td>30.0</td><td>null</td></tr>\n",
       "<tr><td>6f196952e71277fd4...</td><td>4</td><td>0.0</td><td>0.0</td><td>0.0</td><td>0.0</td><td>0.0</td><td>5.0</td><td>null</td></tr>\n",
       "<tr><td>9c617cbc6e3e3d6a1...</td><td>1</td><td>0.0</td><td>0.0</td><td>0.0</td><td>2.0</td><td>0.0</td><td>20.0</td><td>null</td></tr>\n",
       "<tr><td>45eb04dd75400a942...</td><td>0</td><td>0.0</td><td>0.0</td><td>0.0</td><td>2.0</td><td>0.0</td><td>28.0</td><td>null</td></tr>\n",
       "<tr><td>08d233c81f9e50726...</td><td>0</td><td>0.0</td><td>0.0</td><td>0.0</td><td>1.0</td><td>0.0</td><td>null</td><td>null</td></tr>\n",
       "<tr><td>8ff4d0ed17a1cab92...</td><td>1</td><td>0.0</td><td>2.0</td><td>0.0</td><td>2.0</td><td>0.0</td><td>15.0</td><td>32.0</td></tr>\n",
       "<tr><td>aec13cfd611b2cfea...</td><td>1</td><td>0.0</td><td>0.0</td><td>0.0</td><td>1.0</td><td>0.0</td><td>19.0</td><td>null</td></tr>\n",
       "<tr><td>9ba8c96ccba6cd1f0...</td><td>0</td><td>0.0</td><td>0.0</td><td>0.0</td><td>0.0</td><td>0.0</td><td>37.0</td><td>null</td></tr>\n",
       "</table>\n",
       "only showing top 20 rows\n"
      ],
      "text/plain": [
       "+--------------------+--------------+-------------+-------+-----------------------+---------------------+-----------------------+------------------------+------------------------+\n",
       "|           member_id|delinq_in_2yrs|delinq_amount|pub_rec|pub_record_bankruptcies|inquiry_in_last_6mths|total_late_fee_received|months_since_last_delinq|months_since_last_record|\n",
       "+--------------------+--------------+-------------+-------+-----------------------+---------------------+-----------------------+------------------------+------------------------+\n",
       "|b59d80da191f5b573...|             0|          0.0|    0.0|                    0.0|                  1.0|                    0.0|                    31.0|                    null|\n",
       "|202d9f56ecb7c3bc9...|             1|          0.0|    0.0|                    0.0|                  0.0|                    0.0|                     6.0|                    null|\n",
       "|e5a140c0922b554b9...|             0|          0.0|    0.0|                    0.0|                  0.0|                    0.0|                    47.0|                    null|\n",
       "|e12aefc548f750777...|             0|          0.0|    0.0|                    0.0|                  0.0|                    0.0|                    33.0|                    null|\n",
       "|1b3a50d854fbbf97e...|             1|          0.0|    0.0|                    0.0|                  0.0|                    0.0|                    21.0|                    null|\n",
       "|1c4329e5f17697127...|             0|          0.0|    0.0|                    0.0|                  0.0|                    0.0|                    null|                    null|\n",
       "|5026c86ad983175eb...|             0|          0.0|    1.0|                    0.0|                  2.0|                    0.0|                    null|                    71.0|\n",
       "|9847d8c1e9d0b2084...|             1|          0.0|    2.0|                    0.0|                  0.0|                    0.0|                     6.0|                    63.0|\n",
       "|8340dbe1adea41fb4...|             0|          0.0|    0.0|                    0.0|                  0.0|                    0.0|                    36.0|                    null|\n",
       "|d4de0de3ab7d79ad4...|             0|          0.0|    0.0|                    0.0|                  0.0|                    0.0|                    35.0|                    null|\n",
       "|3df3cdeddb74a8712...|             0|          0.0|    0.0|                    0.0|                  0.0|                    0.0|                    null|                    null|\n",
       "|9dd72636b1b4045b4...|             0|          0.0|    0.0|                    0.0|                  3.0|                    0.0|                    null|                    null|\n",
       "|1d4e1ef4353b73c00...|             0|          0.0|    0.0|                    0.0|                  2.0|                    0.0|                    30.0|                    null|\n",
       "|6f196952e71277fd4...|             4|          0.0|    0.0|                    0.0|                  0.0|                    0.0|                     5.0|                    null|\n",
       "|9c617cbc6e3e3d6a1...|             1|          0.0|    0.0|                    0.0|                  2.0|                    0.0|                    20.0|                    null|\n",
       "|45eb04dd75400a942...|             0|          0.0|    0.0|                    0.0|                  2.0|                    0.0|                    28.0|                    null|\n",
       "|08d233c81f9e50726...|             0|          0.0|    0.0|                    0.0|                  1.0|                    0.0|                    null|                    null|\n",
       "|8ff4d0ed17a1cab92...|             1|          0.0|    2.0|                    0.0|                  2.0|                    0.0|                    15.0|                    32.0|\n",
       "|aec13cfd611b2cfea...|             1|          0.0|    0.0|                    0.0|                  1.0|                    0.0|                    19.0|                    null|\n",
       "|9ba8c96ccba6cd1f0...|             0|          0.0|    0.0|                    0.0|                  0.0|                    0.0|                    37.0|                    null|\n",
       "+--------------------+--------------+-------------+-------+-----------------------+---------------------+-----------------------+------------------------+------------------------+\n",
       "only showing top 20 rows"
      ]
     },
     "execution_count": 99,
     "metadata": {},
     "output_type": "execute_result"
    }
   ],
   "source": [
    "spark.sql(\"select * from defaulters_data\")"
   ]
  },
  {
   "cell_type": "code",
   "execution_count": 50,
   "id": "8d9b8322",
   "metadata": {},
   "outputs": [],
   "source": [
    "defaulters_delinq_cleaned_df = spark.sql(\"select member_id,delinq_in_2yrs,delinq_amount,months_since_last_delinq from defaulters_data where delinq_in_2yrs > 0 or months_since_last_delinq > 0\")"
   ]
  },
  {
   "cell_type": "code",
   "execution_count": 101,
   "id": "9951881f",
   "metadata": {},
   "outputs": [
    {
     "data": {
      "text/html": [
       "<table border='1'>\n",
       "<tr><th>member_id</th><th>delinq_in_2yrs</th><th>delinq_amount</th><th>months_since_last_delinq</th></tr>\n",
       "<tr><td>b59d80da191f5b573...</td><td>0</td><td>0.0</td><td>31.0</td></tr>\n",
       "<tr><td>202d9f56ecb7c3bc9...</td><td>1</td><td>0.0</td><td>6.0</td></tr>\n",
       "<tr><td>e5a140c0922b554b9...</td><td>0</td><td>0.0</td><td>47.0</td></tr>\n",
       "<tr><td>e12aefc548f750777...</td><td>0</td><td>0.0</td><td>33.0</td></tr>\n",
       "<tr><td>1b3a50d854fbbf97e...</td><td>1</td><td>0.0</td><td>21.0</td></tr>\n",
       "<tr><td>9847d8c1e9d0b2084...</td><td>1</td><td>0.0</td><td>6.0</td></tr>\n",
       "<tr><td>8340dbe1adea41fb4...</td><td>0</td><td>0.0</td><td>36.0</td></tr>\n",
       "<tr><td>d4de0de3ab7d79ad4...</td><td>0</td><td>0.0</td><td>35.0</td></tr>\n",
       "<tr><td>1d4e1ef4353b73c00...</td><td>0</td><td>0.0</td><td>30.0</td></tr>\n",
       "<tr><td>6f196952e71277fd4...</td><td>4</td><td>0.0</td><td>5.0</td></tr>\n",
       "<tr><td>9c617cbc6e3e3d6a1...</td><td>1</td><td>0.0</td><td>20.0</td></tr>\n",
       "<tr><td>45eb04dd75400a942...</td><td>0</td><td>0.0</td><td>28.0</td></tr>\n",
       "<tr><td>8ff4d0ed17a1cab92...</td><td>1</td><td>0.0</td><td>15.0</td></tr>\n",
       "<tr><td>aec13cfd611b2cfea...</td><td>1</td><td>0.0</td><td>19.0</td></tr>\n",
       "<tr><td>9ba8c96ccba6cd1f0...</td><td>0</td><td>0.0</td><td>37.0</td></tr>\n",
       "<tr><td>2cf47faee0c996343...</td><td>0</td><td>0.0</td><td>24.0</td></tr>\n",
       "<tr><td>220e4dd490018abff...</td><td>0</td><td>0.0</td><td>57.0</td></tr>\n",
       "<tr><td>aaa32c29cb9ccc7ff...</td><td>0</td><td>0.0</td><td>35.0</td></tr>\n",
       "<tr><td>af7a8a661df3318bd...</td><td>2</td><td>0.0</td><td>7.0</td></tr>\n",
       "<tr><td>0e744cffa05697dfa...</td><td>0</td><td>0.0</td><td>45.0</td></tr>\n",
       "</table>\n",
       "only showing top 20 rows\n"
      ],
      "text/plain": [
       "+--------------------+--------------+-------------+------------------------+\n",
       "|           member_id|delinq_in_2yrs|delinq_amount|months_since_last_delinq|\n",
       "+--------------------+--------------+-------------+------------------------+\n",
       "|b59d80da191f5b573...|             0|          0.0|                    31.0|\n",
       "|202d9f56ecb7c3bc9...|             1|          0.0|                     6.0|\n",
       "|e5a140c0922b554b9...|             0|          0.0|                    47.0|\n",
       "|e12aefc548f750777...|             0|          0.0|                    33.0|\n",
       "|1b3a50d854fbbf97e...|             1|          0.0|                    21.0|\n",
       "|9847d8c1e9d0b2084...|             1|          0.0|                     6.0|\n",
       "|8340dbe1adea41fb4...|             0|          0.0|                    36.0|\n",
       "|d4de0de3ab7d79ad4...|             0|          0.0|                    35.0|\n",
       "|1d4e1ef4353b73c00...|             0|          0.0|                    30.0|\n",
       "|6f196952e71277fd4...|             4|          0.0|                     5.0|\n",
       "|9c617cbc6e3e3d6a1...|             1|          0.0|                    20.0|\n",
       "|45eb04dd75400a942...|             0|          0.0|                    28.0|\n",
       "|8ff4d0ed17a1cab92...|             1|          0.0|                    15.0|\n",
       "|aec13cfd611b2cfea...|             1|          0.0|                    19.0|\n",
       "|9ba8c96ccba6cd1f0...|             0|          0.0|                    37.0|\n",
       "|2cf47faee0c996343...|             0|          0.0|                    24.0|\n",
       "|220e4dd490018abff...|             0|          0.0|                    57.0|\n",
       "|aaa32c29cb9ccc7ff...|             0|          0.0|                    35.0|\n",
       "|af7a8a661df3318bd...|             2|          0.0|                     7.0|\n",
       "|0e744cffa05697dfa...|             0|          0.0|                    45.0|\n",
       "+--------------------+--------------+-------------+------------------------+\n",
       "only showing top 20 rows"
      ]
     },
     "execution_count": 101,
     "metadata": {},
     "output_type": "execute_result"
    }
   ],
   "source": [
    "defaulters_delinq_cleaned_df"
   ]
  },
  {
   "cell_type": "code",
   "execution_count": 26,
   "id": "5a375b0a",
   "metadata": {},
   "outputs": [],
   "source": [
    "defaulters_pubrec_df = spark.sql(\"select member_id from defaulters_data where pub_rec > 0.0 or pub_record_bankruptcies > 0.0 or inquiry_in_last_6mths > 0.0\")"
   ]
  },
  {
   "cell_type": "code",
   "execution_count": 27,
   "id": "79a7c968",
   "metadata": {},
   "outputs": [
    {
     "data": {
      "text/html": [
       "<table border='1'>\n",
       "<tr><th>member_id</th></tr>\n",
       "<tr><td>b59d80da191f5b573...</td></tr>\n",
       "<tr><td>5026c86ad983175eb...</td></tr>\n",
       "<tr><td>9847d8c1e9d0b2084...</td></tr>\n",
       "<tr><td>9dd72636b1b4045b4...</td></tr>\n",
       "<tr><td>1d4e1ef4353b73c00...</td></tr>\n",
       "<tr><td>9c617cbc6e3e3d6a1...</td></tr>\n",
       "<tr><td>45eb04dd75400a942...</td></tr>\n",
       "<tr><td>08d233c81f9e50726...</td></tr>\n",
       "<tr><td>8ff4d0ed17a1cab92...</td></tr>\n",
       "<tr><td>aec13cfd611b2cfea...</td></tr>\n",
       "<tr><td>9a51bdc18e2728f9d...</td></tr>\n",
       "<tr><td>2cf47faee0c996343...</td></tr>\n",
       "<tr><td>220e4dd490018abff...</td></tr>\n",
       "<tr><td>aaa32c29cb9ccc7ff...</td></tr>\n",
       "<tr><td>af7a8a661df3318bd...</td></tr>\n",
       "<tr><td>50616b8d1d05cb02a...</td></tr>\n",
       "<tr><td>fbee3f20b9ef84a11...</td></tr>\n",
       "<tr><td>09acc6aa8fd3b0bc8...</td></tr>\n",
       "<tr><td>54b5f6d81c74dd11c...</td></tr>\n",
       "<tr><td>176d6002f8f60ea33...</td></tr>\n",
       "</table>\n",
       "only showing top 20 rows\n"
      ],
      "text/plain": [
       "+--------------------+\n",
       "|           member_id|\n",
       "+--------------------+\n",
       "|b59d80da191f5b573...|\n",
       "|5026c86ad983175eb...|\n",
       "|9847d8c1e9d0b2084...|\n",
       "|9dd72636b1b4045b4...|\n",
       "|1d4e1ef4353b73c00...|\n",
       "|9c617cbc6e3e3d6a1...|\n",
       "|45eb04dd75400a942...|\n",
       "|08d233c81f9e50726...|\n",
       "|8ff4d0ed17a1cab92...|\n",
       "|aec13cfd611b2cfea...|\n",
       "|9a51bdc18e2728f9d...|\n",
       "|2cf47faee0c996343...|\n",
       "|220e4dd490018abff...|\n",
       "|aaa32c29cb9ccc7ff...|\n",
       "|af7a8a661df3318bd...|\n",
       "|50616b8d1d05cb02a...|\n",
       "|fbee3f20b9ef84a11...|\n",
       "|09acc6aa8fd3b0bc8...|\n",
       "|54b5f6d81c74dd11c...|\n",
       "|176d6002f8f60ea33...|\n",
       "+--------------------+\n",
       "only showing top 20 rows"
      ]
     },
     "execution_count": 27,
     "metadata": {},
     "output_type": "execute_result"
    }
   ],
   "source": [
    "defaulters_pubrec_df"
   ]
  },
  {
   "cell_type": "code",
   "execution_count": 28,
   "id": "e90e8e9f",
   "metadata": {},
   "outputs": [],
   "source": [
    "defaulters_pubrec_df.write \\\n",
    ".option(\"header\", True) \\\n",
    ".format(\"csv\") \\\n",
    ".mode(\"overwrite\") \\\n",
    ".option(\"path\",\"/user/itv010130/loanproject/clean/defaulters_delinq_id_csv\") \\\n",
    ".save()"
   ]
  },
  {
   "cell_type": "code",
   "execution_count": 29,
   "id": "f1f6c8a6",
   "metadata": {},
   "outputs": [],
   "source": [
    "defaulters_pubrec_df.write \\\n",
    ".format(\"parquet\") \\\n",
    ".mode(\"overwrite\") \\\n",
    ".option(\"path\",\"/user/itv010130/loanproject/clean/defaulters_delinq_id_parquet\") \\\n",
    ".save()"
   ]
  },
  {
   "cell_type": "code",
   "execution_count": 109,
   "id": "6c70a342",
   "metadata": {},
   "outputs": [],
   "source": [
    "defaulters_delinq_cleaned_df.write \\\n",
    ".option(\"header\", True) \\\n",
    ".format(\"csv\") \\\n",
    ".mode(\"overwrite\") \\\n",
    ".option(\"path\",\"/user/itv010130/loanproject/clean/defaulters_data_csv\") \\\n",
    ".save()"
   ]
  },
  {
   "cell_type": "code",
   "execution_count": 110,
   "id": "d9b56b1f",
   "metadata": {},
   "outputs": [],
   "source": [
    "defaulters_delinq_cleaned_df.write \\\n",
    ".format(\"parquet\") \\\n",
    ".mode(\"overwrite\") \\\n",
    ".option(\"path\",\"/user/itv010130/loanproject/clean/defaulters_data_parquet\") \\\n",
    ".save()"
   ]
  },
  {
   "cell_type": "code",
   "execution_count": 52,
   "id": "63755e62",
   "metadata": {},
   "outputs": [],
   "source": [
    "pubrec_modified_df = delinq_modified_df.withColumn(\"pub_rec\",col(\"pub_rec\").cast(\"int\")).fillna(0,subset=[\"pub_rec\"])"
   ]
  },
  {
   "cell_type": "code",
   "execution_count": 53,
   "id": "e5560007",
   "metadata": {},
   "outputs": [],
   "source": [
    "pubrecbank_modified_df = pubrec_modified_df.withColumn(\"pub_record_bankruptcies\",col(\"pub_record_bankruptcies\").cast(\"int\")).fillna(0,subset=[\"pub_record_bankruptcies\"])"
   ]
  },
  {
   "cell_type": "code",
   "execution_count": 54,
   "id": "7765733f",
   "metadata": {},
   "outputs": [],
   "source": [
    "inquiry_modified_df = pubrecbank_modified_df.withColumn(\"inquiry_in_last_6mths\",col(\"inquiry_in_last_6mths\").cast(\"int\")).fillna(0,subset=[\"inquiry_in_last_6mths\"])"
   ]
  },
  {
   "cell_type": "code",
   "execution_count": 55,
   "id": "5ccb1479",
   "metadata": {},
   "outputs": [],
   "source": [
    "inquiry_modified_df.createOrReplaceTempView(\"defaulters_data\")"
   ]
  },
  {
   "cell_type": "code",
   "execution_count": 56,
   "id": "1733fb1b",
   "metadata": {},
   "outputs": [],
   "source": [
    "detailed_defaulters_df = spark.sql(\"select member_id, pub_rec, pub_record_bankruptcies, inquiry_in_last_6mths from defaulters_data\")"
   ]
  },
  {
   "cell_type": "code",
   "execution_count": 57,
   "id": "1e7b8618",
   "metadata": {},
   "outputs": [],
   "source": [
    "detailed_defaulters_df.write \\\n",
    ".option(\"header\", True) \\\n",
    ".format(\"csv\") \\\n",
    ".mode(\"overwrite\") \\\n",
    ".option(\"path\",\"/user/itv010130/loanproject/clean/detailed_defaulters_data_csv\") \\\n",
    ".save()"
   ]
  },
  {
   "cell_type": "code",
   "execution_count": 58,
   "id": "17adfa82",
   "metadata": {},
   "outputs": [],
   "source": [
    "detailed_defaulters_df.write \\\n",
    ".format(\"parquet\") \\\n",
    ".mode(\"overwrite\") \\\n",
    ".option(\"path\",\"/user/itv010130/loanproject/clean/detailed_defaulters_data_parquet\") \\\n",
    ".save()"
   ]
  },
  {
   "cell_type": "code",
   "execution_count": 59,
   "id": "6b216d08",
   "metadata": {},
   "outputs": [
    {
     "name": "stdout",
     "output_type": "stream",
     "text": [
      "Found 12 items\n",
      "drwxr-xr-x   - itv010130 supergroup          0 2024-07-02 01:08 /user/itv010130/loanproject/clean/customer_data_csv\n",
      "drwxr-xr-x   - itv010130 supergroup          0 2024-07-04 21:51 /user/itv010130/loanproject/clean/customer_data_parquet\n",
      "drwxr-xr-x   - itv010130 supergroup          0 2024-07-07 20:50 /user/itv010130/loanproject/clean/defaulters_data_csv\n",
      "drwxr-xr-x   - itv010130 supergroup          0 2024-07-07 20:50 /user/itv010130/loanproject/clean/defaulters_data_parquet\n",
      "drwxr-xr-x   - itv010130 supergroup          0 2024-07-13 23:13 /user/itv010130/loanproject/clean/defaulters_delinq_id_csv\n",
      "drwxr-xr-x   - itv010130 supergroup          0 2024-07-13 23:13 /user/itv010130/loanproject/clean/defaulters_delinq_id_parquet\n",
      "drwxr-xr-x   - itv010130 supergroup          0 2024-07-13 23:35 /user/itv010130/loanproject/clean/detailed_defaulters_data_csv\n",
      "drwxr-xr-x   - itv010130 supergroup          0 2024-07-13 23:35 /user/itv010130/loanproject/clean/detailed_defaulters_data_parquet\n",
      "drwxr-xr-x   - itv010130 supergroup          0 2024-07-04 23:42 /user/itv010130/loanproject/clean/loan_data_csv\n",
      "drwxr-xr-x   - itv010130 supergroup          0 2024-07-04 23:43 /user/itv010130/loanproject/clean/loan_data_parquet\n",
      "drwxr-xr-x   - itv010130 supergroup          0 2024-07-05 15:01 /user/itv010130/loanproject/clean/repayment_data_csv\n",
      "drwxr-xr-x   - itv010130 supergroup          0 2024-07-05 15:02 /user/itv010130/loanproject/clean/repayment_data_parquet\n"
     ]
    }
   ],
   "source": [
    "! hadoop fs -ls /user/itv010130/loanproject/clean"
   ]
  },
  {
   "cell_type": "code",
   "execution_count": 66,
   "id": "5797e936",
   "metadata": {},
   "outputs": [],
   "source": [
    "spark.stop()"
   ]
  },
  {
   "cell_type": "code",
   "execution_count": null,
   "id": "aab8886c",
   "metadata": {},
   "outputs": [],
   "source": []
  }
 ],
 "metadata": {
  "kernelspec": {
   "display_name": "Pyspark 3",
   "language": "python",
   "name": "pyspark3"
  },
  "language_info": {
   "codemirror_mode": {
    "name": "ipython",
    "version": 3
   },
   "file_extension": ".py",
   "mimetype": "text/x-python",
   "name": "python",
   "nbconvert_exporter": "python",
   "pygments_lexer": "ipython3",
   "version": "3.6.12"
  }
 },
 "nbformat": 4,
 "nbformat_minor": 5
}
