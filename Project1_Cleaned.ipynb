{
 "cells": [
  {
   "cell_type": "code",
   "execution_count": 79,
   "id": "4e030b76",
   "metadata": {},
   "outputs": [],
   "source": [
    "from pyspark.sql import SparkSession\n",
    "import getpass\n",
    "username = getpass.getuser()\n",
    "spark = SparkSession. \\\n",
    "    builder. \\\n",
    "    config('spark.ui.port','0'). \\\n",
    "    config(\"spark.sql.warehouse.dir\",f\"/user/itv010130/warehouse\"). \\\n",
    "    enableHiveSupport(). \\\n",
    "    master('yarn'). \\\n",
    "    getOrCreate()"
   ]
  },
  {
   "cell_type": "markdown",
   "id": "a173f694",
   "metadata": {},
   "source": [
    "### Customer Data"
   ]
  },
  {
   "cell_type": "code",
   "execution_count": 2,
   "id": "a98acc99",
   "metadata": {},
   "outputs": [],
   "source": [
    "customer_df = spark.read \\\n",
    ".option(\"header\", True) \\\n",
    ".format(\"csv\") \\\n",
    ".option(\"inferSchema\", True) \\\n",
    ".load(\"/user/itv010130/loanproject/raw/customer_data_csv\")"
   ]
  },
  {
   "cell_type": "code",
   "execution_count": 3,
   "id": "5b22467e",
   "metadata": {},
   "outputs": [
    {
     "data": {
      "text/html": [
       "<table border='1'>\n",
       "<tr><th>member_id</th><th>emp_title</th><th>emp_length</th><th>home_ownership</th><th>annual_inc</th><th>addr_state</th><th>zip_code</th><th>country</th><th>grade</th><th>sub_grade</th><th>verification_status</th><th>tot_hi_cred_lim</th><th>application_type</th><th>annual_inc_joint</th><th>verification_status_joint</th></tr>\n",
       "<tr><td>6d5091b3fcaaeb4ea...</td><td>leadman</td><td>10+ years</td><td>MORTGAGE</td><td>55000.0</td><td>PA</td><td>190xx</td><td>USA</td><td>C</td><td>C4</td><td>Not Verified</td><td>178050.0</td><td>Individual</td><td>null</td><td>null</td></tr>\n",
       "<tr><td>b5e7938b0a2da4cea...</td><td>Engineer</td><td>10+ years</td><td>MORTGAGE</td><td>65000.0</td><td>SD</td><td>577xx</td><td>USA</td><td>C</td><td>C1</td><td>Not Verified</td><td>314017.0</td><td>Individual</td><td>null</td><td>null</td></tr>\n",
       "<tr><td>91060b858433e8a61...</td><td>truck driver</td><td>10+ years</td><td>MORTGAGE</td><td>63000.0</td><td>IL</td><td>605xx</td><td>USA</td><td>B</td><td>B4</td><td>Not Verified</td><td>218418.0</td><td>Joint App</td><td>71000.0</td><td>Not Verified</td></tr>\n",
       "<tr><td>cab1fa9f533688b0a...</td><td>Information Syste...</td><td>10+ years</td><td>MORTGAGE</td><td>110000.0</td><td>NJ</td><td>076xx</td><td>USA</td><td>C</td><td>C5</td><td>Source Verified</td><td>381215.0</td><td>Individual</td><td>null</td><td>null</td></tr>\n",
       "<tr><td>f74e401c1ab0adf78...</td><td>Contract Specialist</td><td>3 years</td><td>MORTGAGE</td><td>104433.0</td><td>PA</td><td>174xx</td><td>USA</td><td>F</td><td>F1</td><td>Source Verified</td><td>439570.0</td><td>Individual</td><td>null</td><td>null</td></tr>\n",
       "<tr><td>8aef4bb29d609d8d6...</td><td>Veterinary Tecnician</td><td>4 years</td><td>RENT</td><td>34000.0</td><td>GA</td><td>300xx</td><td>USA</td><td>C</td><td>C3</td><td>Source Verified</td><td>16900.0</td><td>Individual</td><td>null</td><td>null</td></tr>\n",
       "<tr><td>538b4653da3b1e814...</td><td>Vice President of...</td><td>10+ years</td><td>MORTGAGE</td><td>180000.0</td><td>MN</td><td>550xx</td><td>USA</td><td>B</td><td>B2</td><td>Not Verified</td><td>388852.0</td><td>Individual</td><td>null</td><td>null</td></tr>\n",
       "<tr><td>b24d55f21390533c5...</td><td>road driver</td><td>10+ years</td><td>MORTGAGE</td><td>85000.0</td><td>SC</td><td>293xx</td><td>USA</td><td>B</td><td>B1</td><td>Not Verified</td><td>193390.0</td><td>Individual</td><td>null</td><td>null</td></tr>\n",
       "<tr><td>1035c5401b0ca76d0...</td><td>SERVICE MANAGER</td><td>6 years</td><td>RENT</td><td>85000.0</td><td>PA</td><td>160xx</td><td>USA</td><td>A</td><td>A2</td><td>Not Verified</td><td>61099.0</td><td>Individual</td><td>null</td><td>null</td></tr>\n",
       "<tr><td>cb0f1777593e77909...</td><td>Vendor liaison</td><td>10+ years</td><td>MORTGAGE</td><td>42000.0</td><td>RI</td><td>029xx</td><td>USA</td><td>B</td><td>B5</td><td>Not Verified</td><td>256513.0</td><td>Individual</td><td>null</td><td>null</td></tr>\n",
       "<tr><td>a962f4d59caec5fa1...</td><td>Executive Director</td><td>6 years</td><td>MORTGAGE</td><td>95000.0</td><td>SC</td><td>290xx</td><td>USA</td><td>C</td><td>C2</td><td>Not Verified</td><td>436841.0</td><td>Individual</td><td>null</td><td>null</td></tr>\n",
       "<tr><td>e7592ab57b3afd9f1...</td><td>Senior Structural...</td><td>1 year</td><td>MORTGAGE</td><td>70000.0</td><td>TX</td><td>786xx</td><td>USA</td><td>C</td><td>C2</td><td>Not Verified</td><td>309638.0</td><td>Individual</td><td>null</td><td>null</td></tr>\n",
       "<tr><td>603afa9d1be879b7b...</td><td>Logistics Manager</td><td>3 years</td><td>MORTGAGE</td><td>64000.0</td><td>NC</td><td>275xx</td><td>USA</td><td>C</td><td>C2</td><td>Not Verified</td><td>372109.0</td><td>Individual</td><td>null</td><td>null</td></tr>\n",
       "<tr><td>9fe2d59ddf2a4f37e...</td><td>Software Manager</td><td>7 years</td><td>RENT</td><td>150000.0</td><td>CA</td><td>916xx</td><td>USA</td><td>E</td><td>E2</td><td>Not Verified</td><td>65819.0</td><td>Individual</td><td>null</td><td>null</td></tr>\n",
       "<tr><td>23857480ccf555ce4...</td><td>Senior Manager</td><td>10+ years</td><td>MORTGAGE</td><td>92000.0</td><td>NC</td><td>275xx</td><td>USA</td><td>A</td><td>A2</td><td>Not Verified</td><td>304003.0</td><td>Individual</td><td>null</td><td>null</td></tr>\n",
       "<tr><td>7c69d5f36fdabf6e1...</td><td>tech</td><td>8 years</td><td>MORTGAGE</td><td>60000.0</td><td>SC</td><td>299xx</td><td>USA</td><td>A</td><td>A4</td><td>Not Verified</td><td>88635.0</td><td>Individual</td><td>null</td><td>null</td></tr>\n",
       "<tr><td>08bf9e080503b0113...</td><td>Sales Manager</td><td>10+ years</td><td>MORTGAGE</td><td>109000.0</td><td>VA</td><td>226xx</td><td>USA</td><td>A</td><td>A4</td><td>Not Verified</td><td>373572.0</td><td>Individual</td><td>null</td><td>null</td></tr>\n",
       "<tr><td>1cafb05aa6c894c30...</td><td>GS-11</td><td>10+ years</td><td>MORTGAGE</td><td>112000.0</td><td>AZ</td><td>856xx</td><td>USA</td><td>C</td><td>C1</td><td>Not Verified</td><td>309710.0</td><td>Individual</td><td>null</td><td>null</td></tr>\n",
       "<tr><td>f2c4010f700d8c9c4...</td><td>Teacher</td><td>5 years</td><td>RENT</td><td>64000.0</td><td>NY</td><td>117xx</td><td>USA</td><td>B</td><td>B1</td><td>Not Verified</td><td>93962.0</td><td>Individual</td><td>null</td><td>null</td></tr>\n",
       "<tr><td>05ad4aed7c393035e...</td><td>Program Coordinator</td><td>8 years</td><td>RENT</td><td>55000.0</td><td>IN</td><td>462xx</td><td>USA</td><td>E</td><td>E3</td><td>Verified</td><td>38998.0</td><td>Individual</td><td>null</td><td>null</td></tr>\n",
       "</table>\n",
       "only showing top 20 rows\n"
      ],
      "text/plain": [
       "+--------------------+--------------------+----------+--------------+----------+----------+--------+-------+-----+---------+-------------------+---------------+----------------+----------------+-------------------------+\n",
       "|           member_id|           emp_title|emp_length|home_ownership|annual_inc|addr_state|zip_code|country|grade|sub_grade|verification_status|tot_hi_cred_lim|application_type|annual_inc_joint|verification_status_joint|\n",
       "+--------------------+--------------------+----------+--------------+----------+----------+--------+-------+-----+---------+-------------------+---------------+----------------+----------------+-------------------------+\n",
       "|6d5091b3fcaaeb4ea...|             leadman| 10+ years|      MORTGAGE|   55000.0|        PA|   190xx|    USA|    C|       C4|       Not Verified|       178050.0|      Individual|            null|                     null|\n",
       "|b5e7938b0a2da4cea...|            Engineer| 10+ years|      MORTGAGE|   65000.0|        SD|   577xx|    USA|    C|       C1|       Not Verified|       314017.0|      Individual|            null|                     null|\n",
       "|91060b858433e8a61...|        truck driver| 10+ years|      MORTGAGE|   63000.0|        IL|   605xx|    USA|    B|       B4|       Not Verified|       218418.0|       Joint App|         71000.0|             Not Verified|\n",
       "|cab1fa9f533688b0a...|Information Syste...| 10+ years|      MORTGAGE|  110000.0|        NJ|   076xx|    USA|    C|       C5|    Source Verified|       381215.0|      Individual|            null|                     null|\n",
       "|f74e401c1ab0adf78...| Contract Specialist|   3 years|      MORTGAGE|  104433.0|        PA|   174xx|    USA|    F|       F1|    Source Verified|       439570.0|      Individual|            null|                     null|\n",
       "|8aef4bb29d609d8d6...|Veterinary Tecnician|   4 years|          RENT|   34000.0|        GA|   300xx|    USA|    C|       C3|    Source Verified|        16900.0|      Individual|            null|                     null|\n",
       "|538b4653da3b1e814...|Vice President of...| 10+ years|      MORTGAGE|  180000.0|        MN|   550xx|    USA|    B|       B2|       Not Verified|       388852.0|      Individual|            null|                     null|\n",
       "|b24d55f21390533c5...|         road driver| 10+ years|      MORTGAGE|   85000.0|        SC|   293xx|    USA|    B|       B1|       Not Verified|       193390.0|      Individual|            null|                     null|\n",
       "|1035c5401b0ca76d0...|     SERVICE MANAGER|   6 years|          RENT|   85000.0|        PA|   160xx|    USA|    A|       A2|       Not Verified|        61099.0|      Individual|            null|                     null|\n",
       "|cb0f1777593e77909...|      Vendor liaison| 10+ years|      MORTGAGE|   42000.0|        RI|   029xx|    USA|    B|       B5|       Not Verified|       256513.0|      Individual|            null|                     null|\n",
       "|a962f4d59caec5fa1...|  Executive Director|   6 years|      MORTGAGE|   95000.0|        SC|   290xx|    USA|    C|       C2|       Not Verified|       436841.0|      Individual|            null|                     null|\n",
       "|e7592ab57b3afd9f1...|Senior Structural...|    1 year|      MORTGAGE|   70000.0|        TX|   786xx|    USA|    C|       C2|       Not Verified|       309638.0|      Individual|            null|                     null|\n",
       "|603afa9d1be879b7b...|   Logistics Manager|   3 years|      MORTGAGE|   64000.0|        NC|   275xx|    USA|    C|       C2|       Not Verified|       372109.0|      Individual|            null|                     null|\n",
       "|9fe2d59ddf2a4f37e...|    Software Manager|   7 years|          RENT|  150000.0|        CA|   916xx|    USA|    E|       E2|       Not Verified|        65819.0|      Individual|            null|                     null|\n",
       "|23857480ccf555ce4...|      Senior Manager| 10+ years|      MORTGAGE|   92000.0|        NC|   275xx|    USA|    A|       A2|       Not Verified|       304003.0|      Individual|            null|                     null|\n",
       "|7c69d5f36fdabf6e1...|                tech|   8 years|      MORTGAGE|   60000.0|        SC|   299xx|    USA|    A|       A4|       Not Verified|        88635.0|      Individual|            null|                     null|\n",
       "|08bf9e080503b0113...|       Sales Manager| 10+ years|      MORTGAGE|  109000.0|        VA|   226xx|    USA|    A|       A4|       Not Verified|       373572.0|      Individual|            null|                     null|\n",
       "|1cafb05aa6c894c30...|               GS-11| 10+ years|      MORTGAGE|  112000.0|        AZ|   856xx|    USA|    C|       C1|       Not Verified|       309710.0|      Individual|            null|                     null|\n",
       "|f2c4010f700d8c9c4...|             Teacher|   5 years|          RENT|   64000.0|        NY|   117xx|    USA|    B|       B1|       Not Verified|        93962.0|      Individual|            null|                     null|\n",
       "|05ad4aed7c393035e...| Program Coordinator|   8 years|          RENT|   55000.0|        IN|   462xx|    USA|    E|       E3|           Verified|        38998.0|      Individual|            null|                     null|\n",
       "+--------------------+--------------------+----------+--------------+----------+----------+--------+-------+-----+---------+-------------------+---------------+----------------+----------------+-------------------------+\n",
       "only showing top 20 rows"
      ]
     },
     "execution_count": 3,
     "metadata": {},
     "output_type": "execute_result"
    }
   ],
   "source": [
    "customer_df"
   ]
  },
  {
   "cell_type": "code",
   "execution_count": 4,
   "id": "3f2dafdf",
   "metadata": {},
   "outputs": [
    {
     "name": "stdout",
     "output_type": "stream",
     "text": [
      "root\n",
      " |-- member_id: string (nullable = true)\n",
      " |-- emp_title: string (nullable = true)\n",
      " |-- emp_length: string (nullable = true)\n",
      " |-- home_ownership: string (nullable = true)\n",
      " |-- annual_inc: string (nullable = true)\n",
      " |-- addr_state: string (nullable = true)\n",
      " |-- zip_code: string (nullable = true)\n",
      " |-- country: string (nullable = true)\n",
      " |-- grade: string (nullable = true)\n",
      " |-- sub_grade: string (nullable = true)\n",
      " |-- verification_status: string (nullable = true)\n",
      " |-- tot_hi_cred_lim: double (nullable = true)\n",
      " |-- application_type: string (nullable = true)\n",
      " |-- annual_inc_joint: string (nullable = true)\n",
      " |-- verification_status_joint: string (nullable = true)\n",
      "\n"
     ]
    }
   ],
   "source": [
    "customer_df.printSchema()"
   ]
  },
  {
   "cell_type": "code",
   "execution_count": 3,
   "id": "63b28173",
   "metadata": {},
   "outputs": [],
   "source": [
    "customer_schema = 'member_id string,emp_title string,emp_length string,home_ownership string,annual_inc float,addr_state string,zip_code string,country string,grade string,sub_grade string,verification_status string,tot_hi_cred_lim float,applicatio_type string,annual_inc_joint float,verification_status_joint string'"
   ]
  },
  {
   "cell_type": "code",
   "execution_count": 4,
   "id": "b68d4b92",
   "metadata": {},
   "outputs": [],
   "source": [
    "customer_df = spark.read \\\n",
    ".option(\"header\", True) \\\n",
    ".format(\"csv\") \\\n",
    ".schema(customer_schema) \\\n",
    ".load(\"/user/itv010130/loanproject/raw/customer_data_csv\")"
   ]
  },
  {
   "cell_type": "code",
   "execution_count": 7,
   "id": "1a698c6c",
   "metadata": {},
   "outputs": [
    {
     "name": "stdout",
     "output_type": "stream",
     "text": [
      "root\n",
      " |-- member_id: string (nullable = true)\n",
      " |-- emp_title: string (nullable = true)\n",
      " |-- emp_length: string (nullable = true)\n",
      " |-- home_ownership: string (nullable = true)\n",
      " |-- annual_inc: float (nullable = true)\n",
      " |-- addr_state: string (nullable = true)\n",
      " |-- zip_code: string (nullable = true)\n",
      " |-- country: string (nullable = true)\n",
      " |-- grade: string (nullable = true)\n",
      " |-- sub_grade: string (nullable = true)\n",
      " |-- verification_status: string (nullable = true)\n",
      " |-- tot_hi_cred_lim: float (nullable = true)\n",
      " |-- applicatio_type: string (nullable = true)\n",
      " |-- annual_inc_joint: float (nullable = true)\n",
      " |-- verification_status_joint: string (nullable = true)\n",
      "\n"
     ]
    }
   ],
   "source": [
    "customer_df.printSchema()"
   ]
  },
  {
   "cell_type": "code",
   "execution_count": 5,
   "id": "f08ae00c",
   "metadata": {},
   "outputs": [],
   "source": [
    "customer_modified_df = customer_df.withColumnRenamed(\"annual_inc\",\"annual_income\") \\\n",
    ".withColumnRenamed(\"addr_state\",\"address_state\") \\\n",
    ".withColumnRenamed(\"zip_code\",\"address_zipcode\") \\\n",
    ".withColumnRenamed(\"country\",\"address_country\") \\\n",
    ".withColumnRenamed(\"tot_hi_cred_lim\",\"total_high_credit_limit\") \\\n",
    ".withColumnRenamed(\"annual_inc_joint\",\"join_annual_income\") \\"
   ]
  },
  {
   "cell_type": "code",
   "execution_count": 9,
   "id": "23aeb570",
   "metadata": {},
   "outputs": [
    {
     "data": {
      "text/html": [
       "<table border='1'>\n",
       "<tr><th>member_id</th><th>emp_title</th><th>emp_length</th><th>home_ownership</th><th>annual_income</th><th>address_state</th><th>address_zipcode</th><th>address_country</th><th>grade</th><th>sub_grade</th><th>verification_status</th><th>total_high_credit_limit</th><th>applicatio_type</th><th>join_annual_income</th><th>verification_status_joint</th></tr>\n",
       "<tr><td>6d5091b3fcaaeb4ea...</td><td>leadman</td><td>10+ years</td><td>MORTGAGE</td><td>55000.0</td><td>PA</td><td>190xx</td><td>USA</td><td>C</td><td>C4</td><td>Not Verified</td><td>178050.0</td><td>Individual</td><td>null</td><td>null</td></tr>\n",
       "<tr><td>b5e7938b0a2da4cea...</td><td>Engineer</td><td>10+ years</td><td>MORTGAGE</td><td>65000.0</td><td>SD</td><td>577xx</td><td>USA</td><td>C</td><td>C1</td><td>Not Verified</td><td>314017.0</td><td>Individual</td><td>null</td><td>null</td></tr>\n",
       "<tr><td>91060b858433e8a61...</td><td>truck driver</td><td>10+ years</td><td>MORTGAGE</td><td>63000.0</td><td>IL</td><td>605xx</td><td>USA</td><td>B</td><td>B4</td><td>Not Verified</td><td>218418.0</td><td>Joint App</td><td>71000.0</td><td>Not Verified</td></tr>\n",
       "<tr><td>cab1fa9f533688b0a...</td><td>Information Syste...</td><td>10+ years</td><td>MORTGAGE</td><td>110000.0</td><td>NJ</td><td>076xx</td><td>USA</td><td>C</td><td>C5</td><td>Source Verified</td><td>381215.0</td><td>Individual</td><td>null</td><td>null</td></tr>\n",
       "<tr><td>f74e401c1ab0adf78...</td><td>Contract Specialist</td><td>3 years</td><td>MORTGAGE</td><td>104433.0</td><td>PA</td><td>174xx</td><td>USA</td><td>F</td><td>F1</td><td>Source Verified</td><td>439570.0</td><td>Individual</td><td>null</td><td>null</td></tr>\n",
       "<tr><td>8aef4bb29d609d8d6...</td><td>Veterinary Tecnician</td><td>4 years</td><td>RENT</td><td>34000.0</td><td>GA</td><td>300xx</td><td>USA</td><td>C</td><td>C3</td><td>Source Verified</td><td>16900.0</td><td>Individual</td><td>null</td><td>null</td></tr>\n",
       "<tr><td>538b4653da3b1e814...</td><td>Vice President of...</td><td>10+ years</td><td>MORTGAGE</td><td>180000.0</td><td>MN</td><td>550xx</td><td>USA</td><td>B</td><td>B2</td><td>Not Verified</td><td>388852.0</td><td>Individual</td><td>null</td><td>null</td></tr>\n",
       "<tr><td>b24d55f21390533c5...</td><td>road driver</td><td>10+ years</td><td>MORTGAGE</td><td>85000.0</td><td>SC</td><td>293xx</td><td>USA</td><td>B</td><td>B1</td><td>Not Verified</td><td>193390.0</td><td>Individual</td><td>null</td><td>null</td></tr>\n",
       "<tr><td>1035c5401b0ca76d0...</td><td>SERVICE MANAGER</td><td>6 years</td><td>RENT</td><td>85000.0</td><td>PA</td><td>160xx</td><td>USA</td><td>A</td><td>A2</td><td>Not Verified</td><td>61099.0</td><td>Individual</td><td>null</td><td>null</td></tr>\n",
       "<tr><td>cb0f1777593e77909...</td><td>Vendor liaison</td><td>10+ years</td><td>MORTGAGE</td><td>42000.0</td><td>RI</td><td>029xx</td><td>USA</td><td>B</td><td>B5</td><td>Not Verified</td><td>256513.0</td><td>Individual</td><td>null</td><td>null</td></tr>\n",
       "<tr><td>a962f4d59caec5fa1...</td><td>Executive Director</td><td>6 years</td><td>MORTGAGE</td><td>95000.0</td><td>SC</td><td>290xx</td><td>USA</td><td>C</td><td>C2</td><td>Not Verified</td><td>436841.0</td><td>Individual</td><td>null</td><td>null</td></tr>\n",
       "<tr><td>e7592ab57b3afd9f1...</td><td>Senior Structural...</td><td>1 year</td><td>MORTGAGE</td><td>70000.0</td><td>TX</td><td>786xx</td><td>USA</td><td>C</td><td>C2</td><td>Not Verified</td><td>309638.0</td><td>Individual</td><td>null</td><td>null</td></tr>\n",
       "<tr><td>603afa9d1be879b7b...</td><td>Logistics Manager</td><td>3 years</td><td>MORTGAGE</td><td>64000.0</td><td>NC</td><td>275xx</td><td>USA</td><td>C</td><td>C2</td><td>Not Verified</td><td>372109.0</td><td>Individual</td><td>null</td><td>null</td></tr>\n",
       "<tr><td>9fe2d59ddf2a4f37e...</td><td>Software Manager</td><td>7 years</td><td>RENT</td><td>150000.0</td><td>CA</td><td>916xx</td><td>USA</td><td>E</td><td>E2</td><td>Not Verified</td><td>65819.0</td><td>Individual</td><td>null</td><td>null</td></tr>\n",
       "<tr><td>23857480ccf555ce4...</td><td>Senior Manager</td><td>10+ years</td><td>MORTGAGE</td><td>92000.0</td><td>NC</td><td>275xx</td><td>USA</td><td>A</td><td>A2</td><td>Not Verified</td><td>304003.0</td><td>Individual</td><td>null</td><td>null</td></tr>\n",
       "<tr><td>7c69d5f36fdabf6e1...</td><td>tech</td><td>8 years</td><td>MORTGAGE</td><td>60000.0</td><td>SC</td><td>299xx</td><td>USA</td><td>A</td><td>A4</td><td>Not Verified</td><td>88635.0</td><td>Individual</td><td>null</td><td>null</td></tr>\n",
       "<tr><td>08bf9e080503b0113...</td><td>Sales Manager</td><td>10+ years</td><td>MORTGAGE</td><td>109000.0</td><td>VA</td><td>226xx</td><td>USA</td><td>A</td><td>A4</td><td>Not Verified</td><td>373572.0</td><td>Individual</td><td>null</td><td>null</td></tr>\n",
       "<tr><td>1cafb05aa6c894c30...</td><td>GS-11</td><td>10+ years</td><td>MORTGAGE</td><td>112000.0</td><td>AZ</td><td>856xx</td><td>USA</td><td>C</td><td>C1</td><td>Not Verified</td><td>309710.0</td><td>Individual</td><td>null</td><td>null</td></tr>\n",
       "<tr><td>f2c4010f700d8c9c4...</td><td>Teacher</td><td>5 years</td><td>RENT</td><td>64000.0</td><td>NY</td><td>117xx</td><td>USA</td><td>B</td><td>B1</td><td>Not Verified</td><td>93962.0</td><td>Individual</td><td>null</td><td>null</td></tr>\n",
       "<tr><td>05ad4aed7c393035e...</td><td>Program Coordinator</td><td>8 years</td><td>RENT</td><td>55000.0</td><td>IN</td><td>462xx</td><td>USA</td><td>E</td><td>E3</td><td>Verified</td><td>38998.0</td><td>Individual</td><td>null</td><td>null</td></tr>\n",
       "</table>\n",
       "only showing top 20 rows\n"
      ],
      "text/plain": [
       "+--------------------+--------------------+----------+--------------+-------------+-------------+---------------+---------------+-----+---------+-------------------+-----------------------+---------------+------------------+-------------------------+\n",
       "|           member_id|           emp_title|emp_length|home_ownership|annual_income|address_state|address_zipcode|address_country|grade|sub_grade|verification_status|total_high_credit_limit|applicatio_type|join_annual_income|verification_status_joint|\n",
       "+--------------------+--------------------+----------+--------------+-------------+-------------+---------------+---------------+-----+---------+-------------------+-----------------------+---------------+------------------+-------------------------+\n",
       "|6d5091b3fcaaeb4ea...|             leadman| 10+ years|      MORTGAGE|      55000.0|           PA|          190xx|            USA|    C|       C4|       Not Verified|               178050.0|     Individual|              null|                     null|\n",
       "|b5e7938b0a2da4cea...|            Engineer| 10+ years|      MORTGAGE|      65000.0|           SD|          577xx|            USA|    C|       C1|       Not Verified|               314017.0|     Individual|              null|                     null|\n",
       "|91060b858433e8a61...|        truck driver| 10+ years|      MORTGAGE|      63000.0|           IL|          605xx|            USA|    B|       B4|       Not Verified|               218418.0|      Joint App|           71000.0|             Not Verified|\n",
       "|cab1fa9f533688b0a...|Information Syste...| 10+ years|      MORTGAGE|     110000.0|           NJ|          076xx|            USA|    C|       C5|    Source Verified|               381215.0|     Individual|              null|                     null|\n",
       "|f74e401c1ab0adf78...| Contract Specialist|   3 years|      MORTGAGE|     104433.0|           PA|          174xx|            USA|    F|       F1|    Source Verified|               439570.0|     Individual|              null|                     null|\n",
       "|8aef4bb29d609d8d6...|Veterinary Tecnician|   4 years|          RENT|      34000.0|           GA|          300xx|            USA|    C|       C3|    Source Verified|                16900.0|     Individual|              null|                     null|\n",
       "|538b4653da3b1e814...|Vice President of...| 10+ years|      MORTGAGE|     180000.0|           MN|          550xx|            USA|    B|       B2|       Not Verified|               388852.0|     Individual|              null|                     null|\n",
       "|b24d55f21390533c5...|         road driver| 10+ years|      MORTGAGE|      85000.0|           SC|          293xx|            USA|    B|       B1|       Not Verified|               193390.0|     Individual|              null|                     null|\n",
       "|1035c5401b0ca76d0...|     SERVICE MANAGER|   6 years|          RENT|      85000.0|           PA|          160xx|            USA|    A|       A2|       Not Verified|                61099.0|     Individual|              null|                     null|\n",
       "|cb0f1777593e77909...|      Vendor liaison| 10+ years|      MORTGAGE|      42000.0|           RI|          029xx|            USA|    B|       B5|       Not Verified|               256513.0|     Individual|              null|                     null|\n",
       "|a962f4d59caec5fa1...|  Executive Director|   6 years|      MORTGAGE|      95000.0|           SC|          290xx|            USA|    C|       C2|       Not Verified|               436841.0|     Individual|              null|                     null|\n",
       "|e7592ab57b3afd9f1...|Senior Structural...|    1 year|      MORTGAGE|      70000.0|           TX|          786xx|            USA|    C|       C2|       Not Verified|               309638.0|     Individual|              null|                     null|\n",
       "|603afa9d1be879b7b...|   Logistics Manager|   3 years|      MORTGAGE|      64000.0|           NC|          275xx|            USA|    C|       C2|       Not Verified|               372109.0|     Individual|              null|                     null|\n",
       "|9fe2d59ddf2a4f37e...|    Software Manager|   7 years|          RENT|     150000.0|           CA|          916xx|            USA|    E|       E2|       Not Verified|                65819.0|     Individual|              null|                     null|\n",
       "|23857480ccf555ce4...|      Senior Manager| 10+ years|      MORTGAGE|      92000.0|           NC|          275xx|            USA|    A|       A2|       Not Verified|               304003.0|     Individual|              null|                     null|\n",
       "|7c69d5f36fdabf6e1...|                tech|   8 years|      MORTGAGE|      60000.0|           SC|          299xx|            USA|    A|       A4|       Not Verified|                88635.0|     Individual|              null|                     null|\n",
       "|08bf9e080503b0113...|       Sales Manager| 10+ years|      MORTGAGE|     109000.0|           VA|          226xx|            USA|    A|       A4|       Not Verified|               373572.0|     Individual|              null|                     null|\n",
       "|1cafb05aa6c894c30...|               GS-11| 10+ years|      MORTGAGE|     112000.0|           AZ|          856xx|            USA|    C|       C1|       Not Verified|               309710.0|     Individual|              null|                     null|\n",
       "|f2c4010f700d8c9c4...|             Teacher|   5 years|          RENT|      64000.0|           NY|          117xx|            USA|    B|       B1|       Not Verified|                93962.0|     Individual|              null|                     null|\n",
       "|05ad4aed7c393035e...| Program Coordinator|   8 years|          RENT|      55000.0|           IN|          462xx|            USA|    E|       E3|           Verified|                38998.0|     Individual|              null|                     null|\n",
       "+--------------------+--------------------+----------+--------------+-------------+-------------+---------------+---------------+-----+---------+-------------------+-----------------------+---------------+------------------+-------------------------+\n",
       "only showing top 20 rows"
      ]
     },
     "execution_count": 9,
     "metadata": {},
     "output_type": "execute_result"
    }
   ],
   "source": [
    "customer_modified_df"
   ]
  },
  {
   "cell_type": "code",
   "execution_count": 6,
   "id": "ceae2a9e",
   "metadata": {},
   "outputs": [],
   "source": [
    "from pyspark.sql.functions import current_timestamp"
   ]
  },
  {
   "cell_type": "code",
   "execution_count": 7,
   "id": "cfd1e81f",
   "metadata": {},
   "outputs": [],
   "source": [
    "customer_df = customer_modified_df.withColumn(\"ingestion_date\",current_timestamp())"
   ]
  },
  {
   "cell_type": "code",
   "execution_count": 12,
   "id": "978079c7",
   "metadata": {},
   "outputs": [
    {
     "data": {
      "text/html": [
       "<table border='1'>\n",
       "<tr><th>member_id</th><th>emp_title</th><th>emp_length</th><th>home_ownership</th><th>annual_income</th><th>address_state</th><th>address_zipcode</th><th>address_country</th><th>grade</th><th>sub_grade</th><th>verification_status</th><th>total_high_credit_limit</th><th>applicatio_type</th><th>join_annual_income</th><th>verification_status_joint</th><th>ingestion_date</th></tr>\n",
       "<tr><td>6d5091b3fcaaeb4ea...</td><td>leadman</td><td>10+ years</td><td>MORTGAGE</td><td>55000.0</td><td>PA</td><td>190xx</td><td>USA</td><td>C</td><td>C4</td><td>Not Verified</td><td>178050.0</td><td>Individual</td><td>null</td><td>null</td><td>2024-07-02 00:20:...</td></tr>\n",
       "<tr><td>b5e7938b0a2da4cea...</td><td>Engineer</td><td>10+ years</td><td>MORTGAGE</td><td>65000.0</td><td>SD</td><td>577xx</td><td>USA</td><td>C</td><td>C1</td><td>Not Verified</td><td>314017.0</td><td>Individual</td><td>null</td><td>null</td><td>2024-07-02 00:20:...</td></tr>\n",
       "<tr><td>91060b858433e8a61...</td><td>truck driver</td><td>10+ years</td><td>MORTGAGE</td><td>63000.0</td><td>IL</td><td>605xx</td><td>USA</td><td>B</td><td>B4</td><td>Not Verified</td><td>218418.0</td><td>Joint App</td><td>71000.0</td><td>Not Verified</td><td>2024-07-02 00:20:...</td></tr>\n",
       "<tr><td>cab1fa9f533688b0a...</td><td>Information Syste...</td><td>10+ years</td><td>MORTGAGE</td><td>110000.0</td><td>NJ</td><td>076xx</td><td>USA</td><td>C</td><td>C5</td><td>Source Verified</td><td>381215.0</td><td>Individual</td><td>null</td><td>null</td><td>2024-07-02 00:20:...</td></tr>\n",
       "<tr><td>f74e401c1ab0adf78...</td><td>Contract Specialist</td><td>3 years</td><td>MORTGAGE</td><td>104433.0</td><td>PA</td><td>174xx</td><td>USA</td><td>F</td><td>F1</td><td>Source Verified</td><td>439570.0</td><td>Individual</td><td>null</td><td>null</td><td>2024-07-02 00:20:...</td></tr>\n",
       "<tr><td>8aef4bb29d609d8d6...</td><td>Veterinary Tecnician</td><td>4 years</td><td>RENT</td><td>34000.0</td><td>GA</td><td>300xx</td><td>USA</td><td>C</td><td>C3</td><td>Source Verified</td><td>16900.0</td><td>Individual</td><td>null</td><td>null</td><td>2024-07-02 00:20:...</td></tr>\n",
       "<tr><td>538b4653da3b1e814...</td><td>Vice President of...</td><td>10+ years</td><td>MORTGAGE</td><td>180000.0</td><td>MN</td><td>550xx</td><td>USA</td><td>B</td><td>B2</td><td>Not Verified</td><td>388852.0</td><td>Individual</td><td>null</td><td>null</td><td>2024-07-02 00:20:...</td></tr>\n",
       "<tr><td>b24d55f21390533c5...</td><td>road driver</td><td>10+ years</td><td>MORTGAGE</td><td>85000.0</td><td>SC</td><td>293xx</td><td>USA</td><td>B</td><td>B1</td><td>Not Verified</td><td>193390.0</td><td>Individual</td><td>null</td><td>null</td><td>2024-07-02 00:20:...</td></tr>\n",
       "<tr><td>1035c5401b0ca76d0...</td><td>SERVICE MANAGER</td><td>6 years</td><td>RENT</td><td>85000.0</td><td>PA</td><td>160xx</td><td>USA</td><td>A</td><td>A2</td><td>Not Verified</td><td>61099.0</td><td>Individual</td><td>null</td><td>null</td><td>2024-07-02 00:20:...</td></tr>\n",
       "<tr><td>cb0f1777593e77909...</td><td>Vendor liaison</td><td>10+ years</td><td>MORTGAGE</td><td>42000.0</td><td>RI</td><td>029xx</td><td>USA</td><td>B</td><td>B5</td><td>Not Verified</td><td>256513.0</td><td>Individual</td><td>null</td><td>null</td><td>2024-07-02 00:20:...</td></tr>\n",
       "<tr><td>a962f4d59caec5fa1...</td><td>Executive Director</td><td>6 years</td><td>MORTGAGE</td><td>95000.0</td><td>SC</td><td>290xx</td><td>USA</td><td>C</td><td>C2</td><td>Not Verified</td><td>436841.0</td><td>Individual</td><td>null</td><td>null</td><td>2024-07-02 00:20:...</td></tr>\n",
       "<tr><td>e7592ab57b3afd9f1...</td><td>Senior Structural...</td><td>1 year</td><td>MORTGAGE</td><td>70000.0</td><td>TX</td><td>786xx</td><td>USA</td><td>C</td><td>C2</td><td>Not Verified</td><td>309638.0</td><td>Individual</td><td>null</td><td>null</td><td>2024-07-02 00:20:...</td></tr>\n",
       "<tr><td>603afa9d1be879b7b...</td><td>Logistics Manager</td><td>3 years</td><td>MORTGAGE</td><td>64000.0</td><td>NC</td><td>275xx</td><td>USA</td><td>C</td><td>C2</td><td>Not Verified</td><td>372109.0</td><td>Individual</td><td>null</td><td>null</td><td>2024-07-02 00:20:...</td></tr>\n",
       "<tr><td>9fe2d59ddf2a4f37e...</td><td>Software Manager</td><td>7 years</td><td>RENT</td><td>150000.0</td><td>CA</td><td>916xx</td><td>USA</td><td>E</td><td>E2</td><td>Not Verified</td><td>65819.0</td><td>Individual</td><td>null</td><td>null</td><td>2024-07-02 00:20:...</td></tr>\n",
       "<tr><td>23857480ccf555ce4...</td><td>Senior Manager</td><td>10+ years</td><td>MORTGAGE</td><td>92000.0</td><td>NC</td><td>275xx</td><td>USA</td><td>A</td><td>A2</td><td>Not Verified</td><td>304003.0</td><td>Individual</td><td>null</td><td>null</td><td>2024-07-02 00:20:...</td></tr>\n",
       "<tr><td>7c69d5f36fdabf6e1...</td><td>tech</td><td>8 years</td><td>MORTGAGE</td><td>60000.0</td><td>SC</td><td>299xx</td><td>USA</td><td>A</td><td>A4</td><td>Not Verified</td><td>88635.0</td><td>Individual</td><td>null</td><td>null</td><td>2024-07-02 00:20:...</td></tr>\n",
       "<tr><td>08bf9e080503b0113...</td><td>Sales Manager</td><td>10+ years</td><td>MORTGAGE</td><td>109000.0</td><td>VA</td><td>226xx</td><td>USA</td><td>A</td><td>A4</td><td>Not Verified</td><td>373572.0</td><td>Individual</td><td>null</td><td>null</td><td>2024-07-02 00:20:...</td></tr>\n",
       "<tr><td>1cafb05aa6c894c30...</td><td>GS-11</td><td>10+ years</td><td>MORTGAGE</td><td>112000.0</td><td>AZ</td><td>856xx</td><td>USA</td><td>C</td><td>C1</td><td>Not Verified</td><td>309710.0</td><td>Individual</td><td>null</td><td>null</td><td>2024-07-02 00:20:...</td></tr>\n",
       "<tr><td>f2c4010f700d8c9c4...</td><td>Teacher</td><td>5 years</td><td>RENT</td><td>64000.0</td><td>NY</td><td>117xx</td><td>USA</td><td>B</td><td>B1</td><td>Not Verified</td><td>93962.0</td><td>Individual</td><td>null</td><td>null</td><td>2024-07-02 00:20:...</td></tr>\n",
       "<tr><td>05ad4aed7c393035e...</td><td>Program Coordinator</td><td>8 years</td><td>RENT</td><td>55000.0</td><td>IN</td><td>462xx</td><td>USA</td><td>E</td><td>E3</td><td>Verified</td><td>38998.0</td><td>Individual</td><td>null</td><td>null</td><td>2024-07-02 00:20:...</td></tr>\n",
       "</table>\n",
       "only showing top 20 rows\n"
      ],
      "text/plain": [
       "+--------------------+--------------------+----------+--------------+-------------+-------------+---------------+---------------+-----+---------+-------------------+-----------------------+---------------+------------------+-------------------------+--------------------+\n",
       "|           member_id|           emp_title|emp_length|home_ownership|annual_income|address_state|address_zipcode|address_country|grade|sub_grade|verification_status|total_high_credit_limit|applicatio_type|join_annual_income|verification_status_joint|      ingestion_date|\n",
       "+--------------------+--------------------+----------+--------------+-------------+-------------+---------------+---------------+-----+---------+-------------------+-----------------------+---------------+------------------+-------------------------+--------------------+\n",
       "|6d5091b3fcaaeb4ea...|             leadman| 10+ years|      MORTGAGE|      55000.0|           PA|          190xx|            USA|    C|       C4|       Not Verified|               178050.0|     Individual|              null|                     null|2024-07-02 00:20:...|\n",
       "|b5e7938b0a2da4cea...|            Engineer| 10+ years|      MORTGAGE|      65000.0|           SD|          577xx|            USA|    C|       C1|       Not Verified|               314017.0|     Individual|              null|                     null|2024-07-02 00:20:...|\n",
       "|91060b858433e8a61...|        truck driver| 10+ years|      MORTGAGE|      63000.0|           IL|          605xx|            USA|    B|       B4|       Not Verified|               218418.0|      Joint App|           71000.0|             Not Verified|2024-07-02 00:20:...|\n",
       "|cab1fa9f533688b0a...|Information Syste...| 10+ years|      MORTGAGE|     110000.0|           NJ|          076xx|            USA|    C|       C5|    Source Verified|               381215.0|     Individual|              null|                     null|2024-07-02 00:20:...|\n",
       "|f74e401c1ab0adf78...| Contract Specialist|   3 years|      MORTGAGE|     104433.0|           PA|          174xx|            USA|    F|       F1|    Source Verified|               439570.0|     Individual|              null|                     null|2024-07-02 00:20:...|\n",
       "|8aef4bb29d609d8d6...|Veterinary Tecnician|   4 years|          RENT|      34000.0|           GA|          300xx|            USA|    C|       C3|    Source Verified|                16900.0|     Individual|              null|                     null|2024-07-02 00:20:...|\n",
       "|538b4653da3b1e814...|Vice President of...| 10+ years|      MORTGAGE|     180000.0|           MN|          550xx|            USA|    B|       B2|       Not Verified|               388852.0|     Individual|              null|                     null|2024-07-02 00:20:...|\n",
       "|b24d55f21390533c5...|         road driver| 10+ years|      MORTGAGE|      85000.0|           SC|          293xx|            USA|    B|       B1|       Not Verified|               193390.0|     Individual|              null|                     null|2024-07-02 00:20:...|\n",
       "|1035c5401b0ca76d0...|     SERVICE MANAGER|   6 years|          RENT|      85000.0|           PA|          160xx|            USA|    A|       A2|       Not Verified|                61099.0|     Individual|              null|                     null|2024-07-02 00:20:...|\n",
       "|cb0f1777593e77909...|      Vendor liaison| 10+ years|      MORTGAGE|      42000.0|           RI|          029xx|            USA|    B|       B5|       Not Verified|               256513.0|     Individual|              null|                     null|2024-07-02 00:20:...|\n",
       "|a962f4d59caec5fa1...|  Executive Director|   6 years|      MORTGAGE|      95000.0|           SC|          290xx|            USA|    C|       C2|       Not Verified|               436841.0|     Individual|              null|                     null|2024-07-02 00:20:...|\n",
       "|e7592ab57b3afd9f1...|Senior Structural...|    1 year|      MORTGAGE|      70000.0|           TX|          786xx|            USA|    C|       C2|       Not Verified|               309638.0|     Individual|              null|                     null|2024-07-02 00:20:...|\n",
       "|603afa9d1be879b7b...|   Logistics Manager|   3 years|      MORTGAGE|      64000.0|           NC|          275xx|            USA|    C|       C2|       Not Verified|               372109.0|     Individual|              null|                     null|2024-07-02 00:20:...|\n",
       "|9fe2d59ddf2a4f37e...|    Software Manager|   7 years|          RENT|     150000.0|           CA|          916xx|            USA|    E|       E2|       Not Verified|                65819.0|     Individual|              null|                     null|2024-07-02 00:20:...|\n",
       "|23857480ccf555ce4...|      Senior Manager| 10+ years|      MORTGAGE|      92000.0|           NC|          275xx|            USA|    A|       A2|       Not Verified|               304003.0|     Individual|              null|                     null|2024-07-02 00:20:...|\n",
       "|7c69d5f36fdabf6e1...|                tech|   8 years|      MORTGAGE|      60000.0|           SC|          299xx|            USA|    A|       A4|       Not Verified|                88635.0|     Individual|              null|                     null|2024-07-02 00:20:...|\n",
       "|08bf9e080503b0113...|       Sales Manager| 10+ years|      MORTGAGE|     109000.0|           VA|          226xx|            USA|    A|       A4|       Not Verified|               373572.0|     Individual|              null|                     null|2024-07-02 00:20:...|\n",
       "|1cafb05aa6c894c30...|               GS-11| 10+ years|      MORTGAGE|     112000.0|           AZ|          856xx|            USA|    C|       C1|       Not Verified|               309710.0|     Individual|              null|                     null|2024-07-02 00:20:...|\n",
       "|f2c4010f700d8c9c4...|             Teacher|   5 years|          RENT|      64000.0|           NY|          117xx|            USA|    B|       B1|       Not Verified|                93962.0|     Individual|              null|                     null|2024-07-02 00:20:...|\n",
       "|05ad4aed7c393035e...| Program Coordinator|   8 years|          RENT|      55000.0|           IN|          462xx|            USA|    E|       E3|           Verified|                38998.0|     Individual|              null|                     null|2024-07-02 00:20:...|\n",
       "+--------------------+--------------------+----------+--------------+-------------+-------------+---------------+---------------+-----+---------+-------------------+-----------------------+---------------+------------------+-------------------------+--------------------+\n",
       "only showing top 20 rows"
      ]
     },
     "execution_count": 12,
     "metadata": {},
     "output_type": "execute_result"
    }
   ],
   "source": [
    "customer_df"
   ]
  },
  {
   "cell_type": "code",
   "execution_count": 13,
   "id": "09369caa",
   "metadata": {},
   "outputs": [
    {
     "data": {
      "text/plain": [
       "2260701"
      ]
     },
     "execution_count": 13,
     "metadata": {},
     "output_type": "execute_result"
    }
   ],
   "source": [
    "customer_df.count()"
   ]
  },
  {
   "cell_type": "code",
   "execution_count": 14,
   "id": "425f56f7",
   "metadata": {},
   "outputs": [
    {
     "data": {
      "text/plain": [
       "2260638"
      ]
     },
     "execution_count": 14,
     "metadata": {},
     "output_type": "execute_result"
    }
   ],
   "source": [
    "customer_df.distinct().count()"
   ]
  },
  {
   "cell_type": "code",
   "execution_count": 8,
   "id": "ec2432aa",
   "metadata": {},
   "outputs": [],
   "source": [
    "customer_distinct = customer_df.distinct()"
   ]
  },
  {
   "cell_type": "code",
   "execution_count": 9,
   "id": "d4de6727",
   "metadata": {},
   "outputs": [],
   "source": [
    "customer_distinct.createOrReplaceTempView(\"customer_data\")"
   ]
  },
  {
   "cell_type": "code",
   "execution_count": 17,
   "id": "8be36208",
   "metadata": {},
   "outputs": [
    {
     "data": {
      "text/html": [
       "<table border='1'>\n",
       "<tr><th>count(1)</th></tr>\n",
       "<tr><td>5</td></tr>\n",
       "</table>\n"
      ],
      "text/plain": [
       "+--------+\n",
       "|count(1)|\n",
       "+--------+\n",
       "|       5|\n",
       "+--------+"
      ]
     },
     "execution_count": 17,
     "metadata": {},
     "output_type": "execute_result"
    }
   ],
   "source": [
    "spark.sql(\"select count(*) from customer_data where annual_income is null\")"
   ]
  },
  {
   "cell_type": "code",
   "execution_count": 10,
   "id": "2d101bd4",
   "metadata": {},
   "outputs": [],
   "source": [
    "customer_filtered_df = spark.sql(\"select * from customer_data where annual_income is not null\")"
   ]
  },
  {
   "cell_type": "code",
   "execution_count": 11,
   "id": "6c7d0379",
   "metadata": {},
   "outputs": [],
   "source": [
    "customer_filtered_df.createOrReplaceTempView(\"customer_data\")"
   ]
  },
  {
   "cell_type": "code",
   "execution_count": 20,
   "id": "a772c91d",
   "metadata": {},
   "outputs": [
    {
     "data": {
      "text/html": [
       "<table border='1'>\n",
       "<tr><th>count(1)</th></tr>\n",
       "<tr><td>0</td></tr>\n",
       "</table>\n"
      ],
      "text/plain": [
       "+--------+\n",
       "|count(1)|\n",
       "+--------+\n",
       "|       0|\n",
       "+--------+"
      ]
     },
     "execution_count": 20,
     "metadata": {},
     "output_type": "execute_result"
    }
   ],
   "source": [
    "spark.sql(\"select count(*) from customer_data where annual_income is null\")"
   ]
  },
  {
   "cell_type": "code",
   "execution_count": 21,
   "id": "f0bd334b",
   "metadata": {},
   "outputs": [
    {
     "data": {
      "text/html": [
       "<table border='1'>\n",
       "<tr><th>emp_length</th></tr>\n",
       "<tr><td>5 years</td></tr>\n",
       "<tr><td>9 years</td></tr>\n",
       "<tr><td>null</td></tr>\n",
       "<tr><td>1 year</td></tr>\n",
       "<tr><td>2 years</td></tr>\n",
       "<tr><td>7 years</td></tr>\n",
       "<tr><td>8 years</td></tr>\n",
       "<tr><td>4 years</td></tr>\n",
       "<tr><td>6 years</td></tr>\n",
       "<tr><td>3 years</td></tr>\n",
       "<tr><td>10+ years</td></tr>\n",
       "<tr><td>&lt; 1 year</td></tr>\n",
       "</table>\n"
      ],
      "text/plain": [
       "+----------+\n",
       "|emp_length|\n",
       "+----------+\n",
       "|   5 years|\n",
       "|   9 years|\n",
       "|      null|\n",
       "|    1 year|\n",
       "|   2 years|\n",
       "|   7 years|\n",
       "|   8 years|\n",
       "|   4 years|\n",
       "|   6 years|\n",
       "|   3 years|\n",
       "| 10+ years|\n",
       "|  < 1 year|\n",
       "+----------+"
      ]
     },
     "execution_count": 21,
     "metadata": {},
     "output_type": "execute_result"
    }
   ],
   "source": [
    "spark.sql(\"select distinct(emp_length) from customer_data\")"
   ]
  },
  {
   "cell_type": "code",
   "execution_count": 12,
   "id": "de5fbc1f",
   "metadata": {},
   "outputs": [],
   "source": [
    "from pyspark.sql.functions import regexp_replace, col"
   ]
  },
  {
   "cell_type": "code",
   "execution_count": 13,
   "id": "b1a3e996",
   "metadata": {},
   "outputs": [],
   "source": [
    "customer_emplength_cleaned = customer_filtered_df.withColumn(\"emp_length\",regexp_replace(col(\"emp_length\"),\"\\D\",\"\"))"
   ]
  },
  {
   "cell_type": "code",
   "execution_count": 24,
   "id": "bb24a7a1",
   "metadata": {},
   "outputs": [
    {
     "data": {
      "text/html": [
       "<table border='1'>\n",
       "<tr><th>member_id</th><th>emp_title</th><th>emp_length</th><th>home_ownership</th><th>annual_income</th><th>address_state</th><th>address_zipcode</th><th>address_country</th><th>grade</th><th>sub_grade</th><th>verification_status</th><th>total_high_credit_limit</th><th>applicatio_type</th><th>join_annual_income</th><th>verification_status_joint</th><th>ingestion_date</th></tr>\n",
       "<tr><td>85f8c75443b52aa71...</td><td>IT Operations</td><td>10</td><td>MORTGAGE</td><td>85000.0</td><td>AL</td><td>352xx</td><td>USA</td><td>B</td><td>B3</td><td>Verified</td><td>317185.0</td><td>Individual</td><td>null</td><td>null</td><td>2024-07-02 00:23:...</td></tr>\n",
       "<tr><td>9769272acdc677b64...</td><td>Operations Superv...</td><td>3</td><td>MORTGAGE</td><td>63500.0</td><td>FL</td><td>339xx</td><td>USA</td><td>D</td><td>D5</td><td>Source Verified</td><td>224517.0</td><td>Individual</td><td>null</td><td>null</td><td>2024-07-02 00:23:...</td></tr>\n",
       "<tr><td>f949265e6c8703dbc...</td><td>Product Manager</td><td>1</td><td>RENT</td><td>60000.0</td><td>OK</td><td>731xx</td><td>USA</td><td>B</td><td>B1</td><td>Not Verified</td><td>169411.0</td><td>Individual</td><td>null</td><td>null</td><td>2024-07-02 00:23:...</td></tr>\n",
       "<tr><td>36965d3858141ad59...</td><td>Genius</td><td>1</td><td>RENT</td><td>50000.0</td><td>NY</td><td>100xx</td><td>USA</td><td>C</td><td>C4</td><td>Verified</td><td>89160.0</td><td>Individual</td><td>null</td><td>null</td><td>2024-07-02 00:23:...</td></tr>\n",
       "<tr><td>34aa228c14151c442...</td><td>Marketing assistant</td><td>1</td><td>RENT</td><td>35000.0</td><td>NV</td><td>895xx</td><td>USA</td><td>B</td><td>B5</td><td>Not Verified</td><td>46211.0</td><td>Individual</td><td>null</td><td>null</td><td>2024-07-02 00:23:...</td></tr>\n",
       "<tr><td>47c75b11547a3882d...</td><td>Owner</td><td>10</td><td>MORTGAGE</td><td>52000.0</td><td>NY</td><td>117xx</td><td>USA</td><td>B</td><td>B3</td><td>Source Verified</td><td>37000.0</td><td>Individual</td><td>null</td><td>null</td><td>2024-07-02 00:23:...</td></tr>\n",
       "<tr><td>27ee67af2c52d7720...</td><td>Service Specialist</td><td>1</td><td>RENT</td><td>24960.0</td><td>TX</td><td>760xx</td><td>USA</td><td>E</td><td>E3</td><td>Source Verified</td><td>58924.0</td><td>Individual</td><td>null</td><td>null</td><td>2024-07-02 00:23:...</td></tr>\n",
       "<tr><td>56d2259c5d97b1c3e...</td><td>General Manager</td><td>10</td><td>MORTGAGE</td><td>63500.0</td><td>AR</td><td>720xx</td><td>USA</td><td>D</td><td>D1</td><td>Source Verified</td><td>207310.0</td><td>Individual</td><td>null</td><td>null</td><td>2024-07-02 00:23:...</td></tr>\n",
       "<tr><td>93db44a2b4c763243...</td><td>Supervisor</td><td>3</td><td>RENT</td><td>43000.0</td><td>CA</td><td>902xx</td><td>USA</td><td>B</td><td>B2</td><td>Not Verified</td><td>10600.0</td><td>Individual</td><td>null</td><td>null</td><td>2024-07-02 00:23:...</td></tr>\n",
       "<tr><td>1a6dcff4f76d5a5a7...</td><td>Driver</td><td>1</td><td>MORTGAGE</td><td>70000.0</td><td>WV</td><td>263xx</td><td>USA</td><td>B</td><td>B5</td><td>Verified</td><td>103035.0</td><td>Individual</td><td>null</td><td>null</td><td>2024-07-02 00:23:...</td></tr>\n",
       "<tr><td>c7a688dd28f1c96f3...</td><td>Sr Accountant</td><td>2</td><td>MORTGAGE</td><td>83000.0</td><td>CT</td><td>065xx</td><td>USA</td><td>A</td><td>A4</td><td>Not Verified</td><td>183400.0</td><td>Individual</td><td>null</td><td>null</td><td>2024-07-02 00:23:...</td></tr>\n",
       "<tr><td>686721bc61cb62c68...</td><td>Operations Manager</td><td>6</td><td>RENT</td><td>239000.0</td><td>AZ</td><td>850xx</td><td>USA</td><td>E</td><td>E1</td><td>Verified</td><td>55768.0</td><td>Individual</td><td>null</td><td>null</td><td>2024-07-02 00:23:...</td></tr>\n",
       "<tr><td>1a048cec86a985a7f...</td><td>security technician</td><td>10</td><td>MORTGAGE</td><td>125000.0</td><td>NY</td><td>117xx</td><td>USA</td><td>C</td><td>C2</td><td>Source Verified</td><td>299091.0</td><td>Individual</td><td>null</td><td>null</td><td>2024-07-02 00:23:...</td></tr>\n",
       "<tr><td>0da271c85fd567ebc...</td><td>cashier</td><td>10</td><td>RENT</td><td>28000.0</td><td>OH</td><td>450xx</td><td>USA</td><td>D</td><td>D4</td><td>Verified</td><td>42554.0</td><td>Individual</td><td>null</td><td>null</td><td>2024-07-02 00:23:...</td></tr>\n",
       "<tr><td>07794df7e2c29f7cf...</td><td>Security Officer</td><td>8</td><td>RENT</td><td>45000.0</td><td>NY</td><td>113xx</td><td>USA</td><td>E</td><td>E3</td><td>Verified</td><td>33691.0</td><td>Individual</td><td>null</td><td>null</td><td>2024-07-02 00:23:...</td></tr>\n",
       "<tr><td>0a81f9405e1ce2c83...</td><td>tech</td><td>5</td><td>RENT</td><td>33800.0</td><td>MD</td><td>211xx</td><td>USA</td><td>A</td><td>A4</td><td>Not Verified</td><td>38705.0</td><td>Individual</td><td>null</td><td>null</td><td>2024-07-02 00:23:...</td></tr>\n",
       "<tr><td>051584846ce60fcf8...</td><td>Sr. Director</td><td>10</td><td>OWN</td><td>195000.0</td><td>GA</td><td>300xx</td><td>USA</td><td>B</td><td>B2</td><td>Source Verified</td><td>483714.0</td><td>Individual</td><td>null</td><td>null</td><td>2024-07-02 00:23:...</td></tr>\n",
       "<tr><td>081fc44f603a7f30e...</td><td>School/Community ...</td><td>10</td><td>RENT</td><td>45000.0</td><td>OK</td><td>744xx</td><td>USA</td><td>D</td><td>D4</td><td>Source Verified</td><td>11065.0</td><td>Individual</td><td>null</td><td>null</td><td>2024-07-02 00:23:...</td></tr>\n",
       "<tr><td>ef9857da2d0e1a5c3...</td><td>LPN</td><td>10</td><td>MORTGAGE</td><td>70000.0</td><td>IL</td><td>605xx</td><td>USA</td><td>D</td><td>D5</td><td>Source Verified</td><td>70798.0</td><td>Individual</td><td>null</td><td>null</td><td>2024-07-02 00:23:...</td></tr>\n",
       "<tr><td>401e75b9c9ec8d055...</td><td>TRUCK DRIVER</td><td>8</td><td>MORTGAGE</td><td>72000.0</td><td>DC</td><td>200xx</td><td>USA</td><td>A</td><td>A5</td><td>Source Verified</td><td>68487.0</td><td>Individual</td><td>null</td><td>null</td><td>2024-07-02 00:23:...</td></tr>\n",
       "</table>\n",
       "only showing top 20 rows\n"
      ],
      "text/plain": [
       "+--------------------+--------------------+----------+--------------+-------------+-------------+---------------+---------------+-----+---------+-------------------+-----------------------+---------------+------------------+-------------------------+--------------------+\n",
       "|           member_id|           emp_title|emp_length|home_ownership|annual_income|address_state|address_zipcode|address_country|grade|sub_grade|verification_status|total_high_credit_limit|applicatio_type|join_annual_income|verification_status_joint|      ingestion_date|\n",
       "+--------------------+--------------------+----------+--------------+-------------+-------------+---------------+---------------+-----+---------+-------------------+-----------------------+---------------+------------------+-------------------------+--------------------+\n",
       "|c3f05220a83b200ae...|           President|         7|      MORTGAGE|     160000.0|           TX|          750xx|            USA|    B|       B4|       Not Verified|               149147.0|     Individual|              null|                     null|2024-07-02 00:22:...|\n",
       "|a5fb9497cbe9b5266...|      Police Officer|         1|      MORTGAGE|      97000.0|           IL|          610xx|            USA|    B|       B5|    Source Verified|               259782.0|     Individual|              null|                     null|2024-07-02 00:22:...|\n",
       "|563504194a95e7cca...|     System Engineer|        10|      MORTGAGE|     120000.0|           CO|          801xx|            USA|    D|       D3|           Verified|                98670.0|     Individual|              null|                     null|2024-07-02 00:22:...|\n",
       "|817b7bcbadfce74dd...|Child Family Serv...|         1|          RENT|      53000.0|           NJ|          089xx|            USA|    C|       C3|           Verified|                37926.0|     Individual|              null|                     null|2024-07-02 00:22:...|\n",
       "|485bfce74ba048eea...|Utility Business ...|        10|      MORTGAGE|      73000.0|           SC|          291xx|            USA|    C|       C5|       Not Verified|               322888.0|     Individual|              null|                     null|2024-07-02 00:22:...|\n",
       "|555c68c0144b133df...|                null|      null|           OWN|      28600.0|           CA|          925xx|            USA|    F|       F1|           Verified|                38770.0|     Individual|              null|                     null|2024-07-02 00:22:...|\n",
       "|d5871384b63d00933...|             Auditor|         1|      MORTGAGE|      56888.0|           FL|          335xx|            USA|    C|       C5|    Source Verified|                84238.0|     Individual|              null|                     null|2024-07-02 00:22:...|\n",
       "|23c0f69c0a33244f0...|Automation Specia...|         8|      MORTGAGE|     110000.0|           TX|          774xx|            USA|    A|       A5|       Not Verified|               308788.0|     Individual|              null|                     null|2024-07-02 00:22:...|\n",
       "|42d0743ba0e5d3799...|Manager Software ...|        10|      MORTGAGE|     133760.0|           CO|          800xx|            USA|    B|       B2|       Not Verified|               266977.0|     Individual|              null|                     null|2024-07-02 00:22:...|\n",
       "|e8ec2145d07c1c774...|Director of Netwo...|         3|           OWN|     150000.0|           CA|          912xx|            USA|    B|       B4|           Verified|               823776.0|     Individual|              null|                     null|2024-07-02 00:22:...|\n",
       "|1651d438386f9a7eb...|                null|      null|      MORTGAGE|      50000.0|           NY|          109xx|            USA|    F|       F1|           Verified|               205025.0|     Individual|              null|                     null|2024-07-02 00:22:...|\n",
       "|9eeb04aa76850b3de...|           machinist|        10|      MORTGAGE|      48000.0|           FL|          347xx|            USA|    B|       B2|           Verified|               355980.0|     Individual|              null|                     null|2024-07-02 00:22:...|\n",
       "|f2c86617340c7d000...|First shift super...|         6|          RENT|      39240.0|           IL|          600xx|            USA|    C|       C5|    Source Verified|                38081.0|     Individual|              null|                     null|2024-07-02 00:22:...|\n",
       "|a050d022a8d0b8228...|     Account Manager|        10|      MORTGAGE|      85000.0|           MA|          010xx|            USA|    B|       B5|    Source Verified|                83329.0|     Individual|              null|                     null|2024-07-02 00:22:...|\n",
       "|a0a28777de9bf67f9...| Assistant principal|        10|      MORTGAGE|      94000.0|           TX|          750xx|            USA|    A|       A4|    Source Verified|               120966.0|     Individual|              null|                     null|2024-07-02 00:22:...|\n",
       "|c0f06a4b68cf429a3...|          Superviser|         3|          RENT|     120000.0|           IL|          606xx|            USA|    D|       D4|       Not Verified|                83800.0|     Individual|              null|                     null|2024-07-02 00:22:...|\n",
       "|e011e1bbe38230d9a...|             Steward|         4|           OWN|      80000.0|           MI|          497xx|            USA|    C|       C1|       Not Verified|                51663.0|     Individual|              null|                     null|2024-07-02 00:22:...|\n",
       "|ffbb92adddb771bde...|   Financial Advisor|        10|          RENT|      60000.0|           TX|          787xx|            USA|    C|       C3|           Verified|               299678.0|     Individual|              null|                     null|2024-07-02 00:22:...|\n",
       "|5160e0dac05d39ef1...|           Paralegal|         9|      MORTGAGE|      64000.0|           NJ|          078xx|            USA|    A|       A4|    Source Verified|               197941.0|     Individual|              null|                     null|2024-07-02 00:22:...|\n",
       "|73bf0f5369f624e15...|VP Business Solut...|         4|      MORTGAGE|     135000.0|           TX|          754xx|            USA|    B|       B1|       Not Verified|               244417.0|     Individual|              null|                     null|2024-07-02 00:22:...|\n",
       "+--------------------+--------------------+----------+--------------+-------------+-------------+---------------+---------------+-----+---------+-------------------+-----------------------+---------------+------------------+-------------------------+--------------------+\n",
       "only showing top 20 rows"
      ]
     },
     "execution_count": 24,
     "metadata": {},
     "output_type": "execute_result"
    }
   ],
   "source": [
    "customer_emplength_cleaned"
   ]
  },
  {
   "cell_type": "code",
   "execution_count": 25,
   "id": "51409313",
   "metadata": {},
   "outputs": [
    {
     "name": "stdout",
     "output_type": "stream",
     "text": [
      "root\n",
      " |-- member_id: string (nullable = true)\n",
      " |-- emp_title: string (nullable = true)\n",
      " |-- emp_length: string (nullable = true)\n",
      " |-- home_ownership: string (nullable = true)\n",
      " |-- annual_income: float (nullable = true)\n",
      " |-- address_state: string (nullable = true)\n",
      " |-- address_zipcode: string (nullable = true)\n",
      " |-- address_country: string (nullable = true)\n",
      " |-- grade: string (nullable = true)\n",
      " |-- sub_grade: string (nullable = true)\n",
      " |-- verification_status: string (nullable = true)\n",
      " |-- total_high_credit_limit: float (nullable = true)\n",
      " |-- applicatio_type: string (nullable = true)\n",
      " |-- join_annual_income: float (nullable = true)\n",
      " |-- verification_status_joint: string (nullable = true)\n",
      " |-- ingestion_date: timestamp (nullable = false)\n",
      "\n"
     ]
    }
   ],
   "source": [
    "customer_emplength_cleaned.printSchema()"
   ]
  },
  {
   "cell_type": "code",
   "execution_count": 14,
   "id": "18cdf470",
   "metadata": {},
   "outputs": [],
   "source": [
    "customer_emplength_casted_df = customer_emplength_cleaned.withColumn(\"emp_length\",customer_emplength_cleaned.emp_length.cast(\"int\"))"
   ]
  },
  {
   "cell_type": "code",
   "execution_count": 27,
   "id": "c74c1d53",
   "metadata": {},
   "outputs": [
    {
     "name": "stdout",
     "output_type": "stream",
     "text": [
      "root\n",
      " |-- member_id: string (nullable = true)\n",
      " |-- emp_title: string (nullable = true)\n",
      " |-- emp_length: integer (nullable = true)\n",
      " |-- home_ownership: string (nullable = true)\n",
      " |-- annual_income: float (nullable = true)\n",
      " |-- address_state: string (nullable = true)\n",
      " |-- address_zipcode: string (nullable = true)\n",
      " |-- address_country: string (nullable = true)\n",
      " |-- grade: string (nullable = true)\n",
      " |-- sub_grade: string (nullable = true)\n",
      " |-- verification_status: string (nullable = true)\n",
      " |-- total_high_credit_limit: float (nullable = true)\n",
      " |-- applicatio_type: string (nullable = true)\n",
      " |-- join_annual_income: float (nullable = true)\n",
      " |-- verification_status_joint: string (nullable = true)\n",
      " |-- ingestion_date: timestamp (nullable = false)\n",
      "\n"
     ]
    }
   ],
   "source": [
    "customer_emplength_casted_df.printSchema()"
   ]
  },
  {
   "cell_type": "code",
   "execution_count": 90,
   "id": "fe381f0e",
   "metadata": {},
   "outputs": [
    {
     "data": {
      "text/plain": [
       "146903"
      ]
     },
     "execution_count": 90,
     "metadata": {},
     "output_type": "execute_result"
    }
   ],
   "source": [
    "customer_emplength_casted_df.filter(\"emp_length is null\").count()"
   ]
  },
  {
   "cell_type": "code",
   "execution_count": 15,
   "id": "b9b4d536",
   "metadata": {},
   "outputs": [],
   "source": [
    "customer_emplength_casted_df.createOrReplaceTempView(\"customer_data\")"
   ]
  },
  {
   "cell_type": "code",
   "execution_count": 16,
   "id": "c56c0d0b",
   "metadata": {},
   "outputs": [],
   "source": [
    "avg_emp_length = spark.sql(\"select floor(avg(emp_length)) as avg_emp_length from customer_data\").collect()"
   ]
  },
  {
   "cell_type": "code",
   "execution_count": 95,
   "id": "b0c3cfc5",
   "metadata": {},
   "outputs": [
    {
     "name": "stdout",
     "output_type": "stream",
     "text": [
      "[Row(avg_emp_length=6)]\n"
     ]
    }
   ],
   "source": [
    "print(avg_emp_length)"
   ]
  },
  {
   "cell_type": "code",
   "execution_count": 18,
   "id": "8fe5b4b7",
   "metadata": {},
   "outputs": [],
   "source": [
    "avg_employment = avg_emp_length [0][0]"
   ]
  },
  {
   "cell_type": "code",
   "execution_count": 97,
   "id": "8d60c94a",
   "metadata": {},
   "outputs": [
    {
     "name": "stdout",
     "output_type": "stream",
     "text": [
      "6\n"
     ]
    }
   ],
   "source": [
    "print(avg_employment)"
   ]
  },
  {
   "cell_type": "code",
   "execution_count": 19,
   "id": "c6930a01",
   "metadata": {},
   "outputs": [],
   "source": [
    "customer_emp_length_filled =customer_emplength_casted_df.na.fill(avg_employment,subset=['emp_length'])"
   ]
  },
  {
   "cell_type": "code",
   "execution_count": 44,
   "id": "91a75178",
   "metadata": {},
   "outputs": [
    {
     "data": {
      "text/html": [
       "<table border='1'>\n",
       "<tr><th>member_id</th><th>emp_title</th><th>emp_length</th><th>home_ownership</th><th>annual_income</th><th>address_state</th><th>address_zipcode</th><th>address_country</th><th>grade</th><th>sub_grade</th><th>verification_status</th><th>total_high_credit_limit</th><th>applicatio_type</th><th>join_annual_income</th><th>verification_status_joint</th><th>ingestion_date</th></tr>\n",
       "<tr><td>7bc374880f1dd913b...</td><td>Furnace Assistant</td><td>10</td><td>OWN</td><td>60000.0</td><td>IN</td><td>464xx</td><td>USA</td><td>B</td><td>B2</td><td>Verified</td><td>5300.0</td><td>Individual</td><td>null</td><td>null</td><td>2024-07-02 00:34:...</td></tr>\n",
       "<tr><td>c59c343175bd9529e...</td><td>null</td><td>1</td><td>MORTGAGE</td><td>111000.0</td><td>NC</td><td>280xx</td><td>USA</td><td>B</td><td>B5</td><td>Source Verified</td><td>547773.0</td><td>Individual</td><td>null</td><td>null</td><td>2024-07-02 00:34:...</td></tr>\n",
       "<tr><td>463027f6937f2a308...</td><td>Accounts Supervisor</td><td>8</td><td>MORTGAGE</td><td>100000.0</td><td>NY</td><td>117xx</td><td>USA</td><td>C</td><td>C5</td><td>Not Verified</td><td>355818.0</td><td>Individual</td><td>null</td><td>null</td><td>2024-07-02 00:34:...</td></tr>\n",
       "<tr><td>28dc185308cc34e02...</td><td>null</td><td>6</td><td>RENT</td><td>28000.0</td><td>ID</td><td>838xx</td><td>USA</td><td>C</td><td>C4</td><td>Source Verified</td><td>6000.0</td><td>Individual</td><td>null</td><td>null</td><td>2024-07-02 00:34:...</td></tr>\n",
       "<tr><td>b2355f424be81d024...</td><td>null</td><td>1</td><td>RENT</td><td>65000.0</td><td>PA</td><td>191xx</td><td>USA</td><td>A</td><td>A1</td><td>Not Verified</td><td>50750.0</td><td>Individual</td><td>null</td><td>null</td><td>2024-07-02 00:34:...</td></tr>\n",
       "<tr><td>4f503756cc84c8167...</td><td>petroleum landman</td><td>10</td><td>MORTGAGE</td><td>114000.0</td><td>OK</td><td>731xx</td><td>USA</td><td>B</td><td>B5</td><td>Not Verified</td><td>209594.0</td><td>Individual</td><td>null</td><td>null</td><td>2024-07-02 00:34:...</td></tr>\n",
       "<tr><td>22554c01e56fc7ee8...</td><td>carpenter foreman</td><td>10</td><td>MORTGAGE</td><td>145000.0</td><td>PA</td><td>190xx</td><td>USA</td><td>A</td><td>A5</td><td>Source Verified</td><td>329000.0</td><td>Individual</td><td>null</td><td>null</td><td>2024-07-02 00:34:...</td></tr>\n",
       "<tr><td>6d528622ed1702b56...</td><td>Detective</td><td>7</td><td>RENT</td><td>129996.0</td><td>NY</td><td>105xx</td><td>USA</td><td>C</td><td>C1</td><td>Not Verified</td><td>58093.0</td><td>Individual</td><td>null</td><td>null</td><td>2024-07-02 00:34:...</td></tr>\n",
       "<tr><td>c68088982c39caeb0...</td><td>Body tech</td><td>3</td><td>RENT</td><td>62000.0</td><td>GA</td><td>308xx</td><td>USA</td><td>B</td><td>B4</td><td>Source Verified</td><td>41885.0</td><td>Individual</td><td>null</td><td>null</td><td>2024-07-02 00:34:...</td></tr>\n",
       "<tr><td>f88d17d9ff4436bf4...</td><td>System Admin</td><td>2</td><td>MORTGAGE</td><td>55000.0</td><td>TX</td><td>775xx</td><td>USA</td><td>A</td><td>A4</td><td>Source Verified</td><td>157681.0</td><td>Individual</td><td>null</td><td>null</td><td>2024-07-02 00:34:...</td></tr>\n",
       "<tr><td>7b1653268ad0e84e9...</td><td>career program ma...</td><td>10</td><td>MORTGAGE</td><td>120000.0</td><td>GA</td><td>308xx</td><td>USA</td><td>C</td><td>C1</td><td>Verified</td><td>657953.0</td><td>Joint App</td><td>192000.0</td><td>Source Verified</td><td>2024-07-02 00:34:...</td></tr>\n",
       "<tr><td>29983dd0359e781fb...</td><td>null</td><td>6</td><td>MORTGAGE</td><td>75000.0</td><td>FL</td><td>326xx</td><td>USA</td><td>A</td><td>A1</td><td>Not Verified</td><td>99500.0</td><td>Individual</td><td>null</td><td>null</td><td>2024-07-02 00:34:...</td></tr>\n",
       "<tr><td>249d8a985153c2493...</td><td>Package handler</td><td>2</td><td>OWN</td><td>30000.0</td><td>CO</td><td>800xx</td><td>USA</td><td>C</td><td>C5</td><td>Source Verified</td><td>46500.0</td><td>Individual</td><td>null</td><td>null</td><td>2024-07-02 00:34:...</td></tr>\n",
       "<tr><td>665b1bed859316a64...</td><td>Teacher</td><td>10</td><td>MORTGAGE</td><td>76424.0</td><td>GA</td><td>300xx</td><td>USA</td><td>D</td><td>D4</td><td>Source Verified</td><td>281029.0</td><td>Joint App</td><td>124424.0</td><td>Not Verified</td><td>2024-07-02 00:34:...</td></tr>\n",
       "<tr><td>678eca29c2c2511e4...</td><td>AC</td><td>3</td><td>MORTGAGE</td><td>150000.0</td><td>FL</td><td>335xx</td><td>USA</td><td>E</td><td>E4</td><td>Not Verified</td><td>709472.0</td><td>Individual</td><td>null</td><td>null</td><td>2024-07-02 00:34:...</td></tr>\n",
       "<tr><td>6b4ed67f1808cf1de...</td><td>Equal Opportunity...</td><td>10</td><td>MORTGAGE</td><td>95000.0</td><td>TX</td><td>754xx</td><td>USA</td><td>A</td><td>A5</td><td>Source Verified</td><td>348665.0</td><td>Individual</td><td>null</td><td>null</td><td>2024-07-02 00:34:...</td></tr>\n",
       "<tr><td>8372465b676164f1d...</td><td>Delivery</td><td>4</td><td>RENT</td><td>75000.0</td><td>CA</td><td>944xx</td><td>USA</td><td>C</td><td>C3</td><td>Source Verified</td><td>39658.0</td><td>Individual</td><td>null</td><td>null</td><td>2024-07-02 00:34:...</td></tr>\n",
       "<tr><td>fbdcf36e57296ed67...</td><td>Branch Manager</td><td>10</td><td>MORTGAGE</td><td>72000.0</td><td>NC</td><td>281xx</td><td>USA</td><td>D</td><td>D1</td><td>Verified</td><td>102400.0</td><td>Individual</td><td>null</td><td>null</td><td>2024-07-02 00:34:...</td></tr>\n",
       "<tr><td>6bb7e574fbbbc9b08...</td><td>Mechanic</td><td>4</td><td>MORTGAGE</td><td>58240.0</td><td>NY</td><td>141xx</td><td>USA</td><td>D</td><td>D4</td><td>Source Verified</td><td>181021.0</td><td>Individual</td><td>null</td><td>null</td><td>2024-07-02 00:34:...</td></tr>\n",
       "<tr><td>7ee80c3d956e58f2b...</td><td>Flight attendant</td><td>10</td><td>MORTGAGE</td><td>91000.0</td><td>NY</td><td>119xx</td><td>USA</td><td>C</td><td>C3</td><td>Not Verified</td><td>73162.0</td><td>Individual</td><td>null</td><td>null</td><td>2024-07-02 00:34:...</td></tr>\n",
       "</table>\n",
       "only showing top 20 rows\n"
      ],
      "text/plain": [
       "+--------------------+--------------------+----------+--------------+-------------+-------------+---------------+---------------+-----+---------+-------------------+-----------------------+---------------+------------------+-------------------------+--------------------+\n",
       "|           member_id|           emp_title|emp_length|home_ownership|annual_income|address_state|address_zipcode|address_country|grade|sub_grade|verification_status|total_high_credit_limit|applicatio_type|join_annual_income|verification_status_joint|      ingestion_date|\n",
       "+--------------------+--------------------+----------+--------------+-------------+-------------+---------------+---------------+-----+---------+-------------------+-----------------------+---------------+------------------+-------------------------+--------------------+\n",
       "|7a7c0a815b55657b0...|Transportation Ma...|        10|      MORTGAGE|      95000.0|           MD|          217xx|            USA|    A|       A1|       Not Verified|               363599.0|     Individual|              null|                     null|2024-07-02 00:34:...|\n",
       "|8908d09927e803f82...|               Buyer|         7|      MORTGAGE|      40000.0|           MO|          630xx|            USA|    C|       C5|       Not Verified|               223127.0|     Individual|              null|                     null|2024-07-02 00:34:...|\n",
       "|a8a945a4e3744e02a...|Customer service ...|        10|      MORTGAGE|      39000.0|           VA|          224xx|            USA|    D|       D4|       Not Verified|               124859.0|     Individual|              null|                     null|2024-07-02 00:34:...|\n",
       "|01a5b656e05594ca3...|        Support Tech|        10|      MORTGAGE|      50000.0|           MN|          554xx|            USA|    D|       D5|    Source Verified|                69845.0|     Individual|              null|                     null|2024-07-02 00:34:...|\n",
       "|b5a8619cf74fedd50...|     General Manager|        10|          RENT|      85986.0|           PA|          151xx|            USA|    D|       D3|           Verified|                91052.0|     Individual|              null|                     null|2024-07-02 00:34:...|\n",
       "|fabe15d1d5c2ff4d1...| Associate Registrar|         5|      MORTGAGE|      50900.0|           CO|          800xx|            USA|    E|       E3|           Verified|               272727.0|     Individual|              null|                     null|2024-07-02 00:34:...|\n",
       "|f89688e3558fb252a...|Accounts Payable ...|         7|          RENT|      42500.0|           TX|          787xx|            USA|    A|       A4|    Source Verified|                58968.0|     Individual|              null|                     null|2024-07-02 00:34:...|\n",
       "|178b74c6302c97ea4...|    Registered Nurse|         6|          RENT|     100000.0|           CA|          941xx|            USA|    D|       D1|           Verified|                75783.0|     Individual|              null|                     null|2024-07-02 00:34:...|\n",
       "|77c72a8d42df2984c...|     Project Manager|         7|      MORTGAGE|      79000.0|           LA|          707xx|            USA|    C|       C1|           Verified|                93891.0|     Individual|              null|                     null|2024-07-02 00:34:...|\n",
       "|34e3c63d4e1964681...|       Researcher II|         4|           OWN|      37000.0|           TX|          770xx|            USA|    D|       D2|    Source Verified|                23600.0|     Individual|              null|                     null|2024-07-02 00:34:...|\n",
       "|32349009c1fe56e6f...|            educator|        10|      MORTGAGE|      89000.0|           NJ|          078xx|            USA|    B|       B1|    Source Verified|               368266.0|     Individual|              null|                     null|2024-07-02 00:34:...|\n",
       "|9b32d96ca94a42b62...|          Train Mech|        10|      MORTGAGE|     105000.0|           MD|          211xx|            USA|    B|       B1|    Source Verified|               411424.0|     Individual|              null|                     null|2024-07-02 00:34:...|\n",
       "|6074a6349e03e9f0b...|               Mixer|        10|      MORTGAGE|      78000.0|           PA|          175xx|            USA|    C|       C3|           Verified|               289870.0|     Individual|              null|                     null|2024-07-02 00:34:...|\n",
       "|ba385aa9f6af07317...|   Office Technician|         6|      MORTGAGE|      42000.0|           CA|          958xx|            USA|    A|       A3|       Not Verified|                26000.0|     Individual|              null|                     null|2024-07-02 00:34:...|\n",
       "|533c0a3644669c0ee...|Senior Software e...|         6|      MORTGAGE|     115000.0|           NC|          282xx|            USA|    A|       A5|       Not Verified|               356450.0|     Individual|              null|                     null|2024-07-02 00:34:...|\n",
       "|985e9223794cef818...|             Teacher|         5|      MORTGAGE|      68800.0|           TN|          371xx|            USA|    A|       A5|           Verified|               389370.0|     Individual|              null|                     null|2024-07-02 00:34:...|\n",
       "|21b681ca3452507db...|             Manager|        10|          RENT|      80000.0|           AZ|          857xx|            USA|    B|       B4|           Verified|                60364.0|     Individual|              null|                     null|2024-07-02 00:34:...|\n",
       "|8a09faf141b49713c...|    Facility Manager|         7|      MORTGAGE|      82800.0|           MO|          640xx|            USA|    B|       B1|    Source Verified|                47795.0|     Individual|              null|                     null|2024-07-02 00:34:...|\n",
       "|12e2615db6d9f7acf...|       Produce clerk|         9|          RENT|      30000.0|           GA|          309xx|            USA|    C|       C1|       Not Verified|                24204.0|     Individual|              null|                     null|2024-07-02 00:34:...|\n",
       "|931b3dd7e3f458588...|         tech writer|        10|          RENT|      38000.0|           FL|          329xx|            USA|    E|       E4|           Verified|                57754.0|     Individual|              null|                     null|2024-07-02 00:34:...|\n",
       "+--------------------+--------------------+----------+--------------+-------------+-------------+---------------+---------------+-----+---------+-------------------+-----------------------+---------------+------------------+-------------------------+--------------------+\n",
       "only showing top 20 rows"
      ]
     },
     "execution_count": 44,
     "metadata": {},
     "output_type": "execute_result"
    }
   ],
   "source": [
    "customer_emp_length_filled"
   ]
  },
  {
   "cell_type": "code",
   "execution_count": 45,
   "id": "d866ba92",
   "metadata": {},
   "outputs": [
    {
     "data": {
      "text/plain": [
       "0"
      ]
     },
     "execution_count": 45,
     "metadata": {},
     "output_type": "execute_result"
    }
   ],
   "source": [
    "customer_emp_length_filled.filter(\"emp_length is null\").count()"
   ]
  },
  {
   "cell_type": "code",
   "execution_count": 20,
   "id": "04618df5",
   "metadata": {},
   "outputs": [],
   "source": [
    "customer_emp_length_filled.createOrReplaceTempView(\"customer_data\")"
   ]
  },
  {
   "cell_type": "code",
   "execution_count": 54,
   "id": "ae6ad89a",
   "metadata": {},
   "outputs": [
    {
     "data": {
      "text/html": [
       "<table border='1'>\n",
       "<tr><th>count(1)</th></tr>\n",
       "<tr><td>254</td></tr>\n",
       "</table>\n"
      ],
      "text/plain": [
       "+--------+\n",
       "|count(1)|\n",
       "+--------+\n",
       "|     254|\n",
       "+--------+"
      ]
     },
     "execution_count": 54,
     "metadata": {},
     "output_type": "execute_result"
    }
   ],
   "source": [
    "spark.sql(\"select count(*) from customer_data where length(address_state) > 2\")"
   ]
  },
  {
   "cell_type": "code",
   "execution_count": 55,
   "id": "d9158bd6",
   "metadata": {},
   "outputs": [
    {
     "data": {
      "text/html": [
       "<table border='1'>\n",
       "<tr><th>address_state</th></tr>\n",
       "<tr><td>Helping Kenya&#x27;s D...</td></tr>\n",
       "<tr><td>175 (total projec...</td></tr>\n",
       "<tr><td>223xx</td></tr>\n",
       "<tr><td>SC</td></tr>\n",
       "<tr><td>AZ</td></tr>\n",
       "<tr><td>so Plan &quot;&quot;C&quot;&quot; is ...</td></tr>\n",
       "<tr><td>I am 56 yrs. old ...</td></tr>\n",
       "<tr><td>financially I mad...</td></tr>\n",
       "<tr><td>but no one will l...</td></tr>\n",
       "<tr><td>LA</td></tr>\n",
       "<tr><td>etc.  First</td></tr>\n",
       "<tr><td>MN</td></tr>\n",
       "<tr><td>yet Capital One n...</td></tr>\n",
       "<tr><td>850xx</td></tr>\n",
       "<tr><td>499xx</td></tr>\n",
       "<tr><td>Eliminating Credi...</td></tr>\n",
       "<tr><td>and MBA&#x27;s are ove...</td></tr>\n",
       "<tr><td>Advocate business...</td></tr>\n",
       "<tr><td>662xx</td></tr>\n",
       "<tr><td>I the credit card...</td></tr>\n",
       "</table>\n",
       "only showing top 20 rows\n"
      ],
      "text/plain": [
       "+--------------------+\n",
       "|       address_state|\n",
       "+--------------------+\n",
       "|Helping Kenya's D...|\n",
       "|               223xx|\n",
       "|175 (total projec...|\n",
       "|                  AZ|\n",
       "|                  SC|\n",
       "|I am 56 yrs. old ...|\n",
       "|so Plan \"\"C\"\" is ...|\n",
       "|financially I mad...|\n",
       "|but no one will l...|\n",
       "|                  LA|\n",
       "|         etc.  First|\n",
       "|                  MN|\n",
       "|yet Capital One n...|\n",
       "|               499xx|\n",
       "|               850xx|\n",
       "|Eliminating Credi...|\n",
       "|Advocate business...|\n",
       "|and MBA's are ove...|\n",
       "|I the credit card...|\n",
       "|               662xx|\n",
       "+--------------------+\n",
       "only showing top 20 rows"
      ]
     },
     "execution_count": 55,
     "metadata": {},
     "output_type": "execute_result"
    }
   ],
   "source": [
    "spark.sql(\"select distinct(address_state) from customer_data\")"
   ]
  },
  {
   "cell_type": "code",
   "execution_count": 21,
   "id": "688ca800",
   "metadata": {},
   "outputs": [],
   "source": [
    "from pyspark.sql.functions import when,col,length"
   ]
  },
  {
   "cell_type": "code",
   "execution_count": 22,
   "id": "0c5920ab",
   "metadata": {},
   "outputs": [],
   "source": [
    "customer_cleaned_state = customer_emp_length_filled.withColumn(\"address_state\",when(length(col(\"address_state\"))>2,\"NA\").otherwise(col(\"address_state\")))"
   ]
  },
  {
   "cell_type": "code",
   "execution_count": 63,
   "id": "dfecb4ae",
   "metadata": {},
   "outputs": [
    {
     "data": {
      "text/html": [
       "<table border='1'>\n",
       "<tr><th>member_id</th><th>emp_title</th><th>emp_length</th><th>home_ownership</th><th>annual_income</th><th>address_state</th><th>address_zipcode</th><th>address_country</th><th>grade</th><th>sub_grade</th><th>verification_status</th><th>total_high_credit_limit</th><th>applicatio_type</th><th>join_annual_income</th><th>verification_status_joint</th><th>ingestion_date</th></tr>\n",
       "<tr><td>865db309f3238da40...</td><td>Supervisor</td><td>5</td><td>MORTGAGE</td><td>62000.0</td><td>CA</td><td>936xx</td><td>USA</td><td>B</td><td>B1</td><td>Source Verified</td><td>307343.0</td><td>Individual</td><td>null</td><td>null</td><td>2024-07-02 00:53:...</td></tr>\n",
       "<tr><td>aa2befa216c7d6ccc...</td><td>Dental Assistant</td><td>1</td><td>RENT</td><td>30000.0</td><td>MD</td><td>208xx</td><td>USA</td><td>C</td><td>C1</td><td>Source Verified</td><td>19200.0</td><td>Individual</td><td>null</td><td>null</td><td>2024-07-02 00:53:...</td></tr>\n",
       "<tr><td>7f25b5b29e88ae8bb...</td><td>service advisor</td><td>2</td><td>RENT</td><td>95750.0</td><td>FL</td><td>329xx</td><td>USA</td><td>B</td><td>B2</td><td>Source Verified</td><td>114125.0</td><td>Individual</td><td>null</td><td>null</td><td>2024-07-02 00:53:...</td></tr>\n",
       "<tr><td>4da7af4b9bbd2517c...</td><td>Sales</td><td>10</td><td>OWN</td><td>40000.0</td><td>KY</td><td>400xx</td><td>USA</td><td>B</td><td>B1</td><td>Not Verified</td><td>232020.0</td><td>Individual</td><td>null</td><td>null</td><td>2024-07-02 00:53:...</td></tr>\n",
       "<tr><td>141927c871926b625...</td><td>repair man</td><td>10</td><td>MORTGAGE</td><td>130000.0</td><td>IN</td><td>464xx</td><td>USA</td><td>C</td><td>C1</td><td>Source Verified</td><td>234012.0</td><td>Individual</td><td>null</td><td>null</td><td>2024-07-02 00:53:...</td></tr>\n",
       "<tr><td>042614038a53b9c62...</td><td>Consultant</td><td>7</td><td>MORTGAGE</td><td>100000.0</td><td>CA</td><td>922xx</td><td>USA</td><td>A</td><td>A1</td><td>Source Verified</td><td>510100.0</td><td>Individual</td><td>null</td><td>null</td><td>2024-07-02 00:53:...</td></tr>\n",
       "<tr><td>40b0241c99ce1a667...</td><td>Principal Financi...</td><td>1</td><td>MORTGAGE</td><td>125000.0</td><td>CT</td><td>064xx</td><td>USA</td><td>A</td><td>A5</td><td>Source Verified</td><td>452520.0</td><td>Individual</td><td>null</td><td>null</td><td>2024-07-02 00:53:...</td></tr>\n",
       "<tr><td>c72c3cd0e18a5cda9...</td><td>Contractor Relati...</td><td>1</td><td>MORTGAGE</td><td>45000.0</td><td>PA</td><td>150xx</td><td>USA</td><td>A</td><td>A3</td><td>Source Verified</td><td>134160.0</td><td>Individual</td><td>null</td><td>null</td><td>2024-07-02 00:53:...</td></tr>\n",
       "<tr><td>25594028b3f8b28c2...</td><td>Sr. Professional ...</td><td>3</td><td>MORTGAGE</td><td>108000.0</td><td>CO</td><td>809xx</td><td>USA</td><td>D</td><td>D2</td><td>Not Verified</td><td>446113.0</td><td>Individual</td><td>null</td><td>null</td><td>2024-07-02 00:53:...</td></tr>\n",
       "<tr><td>baa5e2ee0525d0ffc...</td><td>null</td><td>6</td><td>RENT</td><td>84000.0</td><td>OH</td><td>432xx</td><td>USA</td><td>E</td><td>E5</td><td>Verified</td><td>66846.0</td><td>Individual</td><td>null</td><td>null</td><td>2024-07-02 00:53:...</td></tr>\n",
       "<tr><td>93218801733f52749...</td><td>Dean</td><td>1</td><td>RENT</td><td>52000.0</td><td>AR</td><td>723xx</td><td>USA</td><td>B</td><td>B2</td><td>Source Verified</td><td>189974.0</td><td>Individual</td><td>null</td><td>null</td><td>2024-07-02 00:53:...</td></tr>\n",
       "<tr><td>cdc33cd20eec84680...</td><td>Director of Utili...</td><td>10</td><td>MORTGAGE</td><td>151000.0</td><td>LA</td><td>713xx</td><td>USA</td><td>A</td><td>A5</td><td>Not Verified</td><td>271082.0</td><td>Individual</td><td>null</td><td>null</td><td>2024-07-02 00:53:...</td></tr>\n",
       "<tr><td>39f58c03222b3e562...</td><td>Dentist</td><td>10</td><td>MORTGAGE</td><td>75000.0</td><td>NY</td><td>100xx</td><td>USA</td><td>D</td><td>D2</td><td>Not Verified</td><td>148215.0</td><td>Individual</td><td>null</td><td>null</td><td>2024-07-02 00:53:...</td></tr>\n",
       "<tr><td>31e63816f275798ec...</td><td>Procurement Speci...</td><td>6</td><td>RENT</td><td>53760.0</td><td>WA</td><td>980xx</td><td>USA</td><td>C</td><td>C3</td><td>Source Verified</td><td>65129.0</td><td>Individual</td><td>null</td><td>null</td><td>2024-07-02 00:53:...</td></tr>\n",
       "<tr><td>269295dae05e3417e...</td><td>Assistant Project...</td><td>4</td><td>MORTGAGE</td><td>52000.0</td><td>CA</td><td>952xx</td><td>USA</td><td>A</td><td>A4</td><td>Not Verified</td><td>236900.0</td><td>Individual</td><td>null</td><td>null</td><td>2024-07-02 00:53:...</td></tr>\n",
       "<tr><td>f89ac8173a36b824a...</td><td>Personal trainer</td><td>10</td><td>RENT</td><td>20000.0</td><td>CA</td><td>925xx</td><td>USA</td><td>C</td><td>C3</td><td>Not Verified</td><td>21819.0</td><td>Individual</td><td>null</td><td>null</td><td>2024-07-02 00:53:...</td></tr>\n",
       "<tr><td>73e9f9cddb74880dd...</td><td>regional mgr</td><td>10</td><td>RENT</td><td>150000.0</td><td>CA</td><td>941xx</td><td>USA</td><td>C</td><td>C4</td><td>Verified</td><td>37900.0</td><td>Individual</td><td>null</td><td>null</td><td>2024-07-02 00:53:...</td></tr>\n",
       "<tr><td>091564e26fadaac0f...</td><td>Associate Directo...</td><td>3</td><td>MORTGAGE</td><td>125000.0</td><td>TX</td><td>780xx</td><td>USA</td><td>C</td><td>C3</td><td>Source Verified</td><td>388016.0</td><td>Individual</td><td>null</td><td>null</td><td>2024-07-02 00:53:...</td></tr>\n",
       "<tr><td>435fab75897b0cf03...</td><td>Manager</td><td>10</td><td>MORTGAGE</td><td>98000.0</td><td>CA</td><td>955xx</td><td>USA</td><td>A</td><td>A3</td><td>Source Verified</td><td>296516.0</td><td>Individual</td><td>null</td><td>null</td><td>2024-07-02 00:53:...</td></tr>\n",
       "<tr><td>03a34c0aefb65b8ac...</td><td>Scrub tech</td><td>8</td><td>MORTGAGE</td><td>50000.0</td><td>KS</td><td>670xx</td><td>USA</td><td>D</td><td>D2</td><td>Verified</td><td>18100.0</td><td>Individual</td><td>null</td><td>null</td><td>2024-07-02 00:53:...</td></tr>\n",
       "</table>\n",
       "only showing top 20 rows\n"
      ],
      "text/plain": [
       "+--------------------+--------------------+----------+--------------+-------------+-------------+---------------+---------------+-----+---------+-------------------+-----------------------+---------------+------------------+-------------------------+--------------------+\n",
       "|           member_id|           emp_title|emp_length|home_ownership|annual_income|address_state|address_zipcode|address_country|grade|sub_grade|verification_status|total_high_credit_limit|applicatio_type|join_annual_income|verification_status_joint|      ingestion_date|\n",
       "+--------------------+--------------------+----------+--------------+-------------+-------------+---------------+---------------+-----+---------+-------------------+-----------------------+---------------+------------------+-------------------------+--------------------+\n",
       "|01d8c6f6e6eb3fbda...|             Teacher|         1|          RENT|      53000.0|           KS|          660xx|            USA|    C|       C4|           Verified|               105218.0|     Individual|              null|                     null|2024-07-02 00:53:...|\n",
       "|8c155f98987a4007b...|           President|         7|          RENT|     120000.0|           WA|          982xx|            USA|    A|       A2|    Source Verified|               300918.0|     Individual|              null|                     null|2024-07-02 00:53:...|\n",
       "|8e98f1a291058627d...|               Sales|         3|      MORTGAGE|      75000.0|           CA|          935xx|            USA|    C|       C2|       Not Verified|               275625.0|     Individual|              null|                     null|2024-07-02 00:53:...|\n",
       "|7d60bb832a97f7d83...|               Sales|         2|           OWN|      75000.0|           CA|          959xx|            USA|    C|       C5|           Verified|                61099.0|     Individual|              null|                     null|2024-07-02 00:53:...|\n",
       "|7b7ca7b5bc91fda0f...|    MACHINE OPERATOR|         4|          RENT|      34944.0|           WI|          547xx|            USA|    C|       C2|    Source Verified|                32091.0|     Individual|              null|                     null|2024-07-02 00:53:...|\n",
       "|5184cddd21f6abf7a...|               clerk|        10|          RENT|      30000.0|           GA|          300xx|            USA|    D|       D2|           Verified|                41927.0|     Individual|              null|                     null|2024-07-02 00:53:...|\n",
       "|a87f63aa085122e88...|          Technician|         5|          RENT|      38400.0|           NY|          126xx|            USA|    G|       G1|    Source Verified|                19013.0|     Individual|              null|                     null|2024-07-02 00:53:...|\n",
       "|ca7a45b24b9d86214...|            Mechanic|         1|          RENT|      75000.0|           NY|          112xx|            USA|    B|       B5|    Source Verified|                84162.0|     Individual|              null|                     null|2024-07-02 00:53:...|\n",
       "|1b1b3c9c669563fce...|          Controller|        10|      MORTGAGE|      85000.0|           PA|          152xx|            USA|    B|       B1|           Verified|               248085.0|     Individual|              null|                     null|2024-07-02 00:53:...|\n",
       "|6607bbf32a730c47a...|Disclosure Specia...|         1|      MORTGAGE|      35000.0|           MO|          651xx|            USA|    F|       F3|    Source Verified|                62300.0|     Individual|              null|                     null|2024-07-02 00:53:...|\n",
       "|a9a74381891a11cdb...|                null|         6|      MORTGAGE|      55000.0|           NY|          100xx|            USA|    E|       E2|           Verified|               156860.0|     Individual|              null|                     null|2024-07-02 00:53:...|\n",
       "|31155e0df1e149a66...|             Manager|        10|           OWN|      47000.0|           OH|          436xx|            USA|    C|       C4|    Source Verified|                47253.0|     Individual|              null|                     null|2024-07-02 00:53:...|\n",
       "|ae15f556bb77a9717...|      Superintendent|        10|      MORTGAGE|     145000.0|           MS|          394xx|            USA|    B|       B3|           Verified|               279788.0|     Individual|              null|                     null|2024-07-02 00:53:...|\n",
       "|5eb9ce48d84be3652...|     Legal Assistant|         1|           OWN|      55000.0|           CA|          926xx|            USA|    A|       A1|           Verified|               553950.0|     Individual|              null|                     null|2024-07-02 00:53:...|\n",
       "|7f0924f73bd5e10f2...|              Closer|        10|      MORTGAGE|      94000.0|           MN|          550xx|            USA|    C|       C5|    Source Verified|               432162.0|     Individual|              null|                     null|2024-07-02 00:53:...|\n",
       "|876eeebfa8e2b611f...|   Financial Analyst|         1|          RENT|      60000.0|           MA|          064xx|            USA|    B|       B4|    Source Verified|               137201.0|     Individual|              null|                     null|2024-07-02 00:53:...|\n",
       "|5173590df75aeadc9...|        bus operator|         2|          RENT|      65000.0|           NJ|          073xx|            USA|    D|       D1|           Verified|                70024.0|     Individual|              null|                     null|2024-07-02 00:53:...|\n",
       "|f8c8f95d64b366d72...|Registered Sales ...|        10|      MORTGAGE|     137000.0|           IL|          605xx|            USA|    C|       C4|    Source Verified|               271397.0|     Individual|              null|                     null|2024-07-02 00:53:...|\n",
       "|04ee37fc11251f283...|                Host|         3|          RENT|      43000.0|           NV|          890xx|            USA|    D|       D4|    Source Verified|                55709.0|     Individual|              null|                     null|2024-07-02 00:53:...|\n",
       "|316d2d0baa41de907...|      Vice President|         2|      MORTGAGE|     200000.0|           IN|          461xx|            USA|    F|       F3|           Verified|               147887.0|     Individual|              null|                     null|2024-07-02 00:53:...|\n",
       "+--------------------+--------------------+----------+--------------+-------------+-------------+---------------+---------------+-----+---------+-------------------+-----------------------+---------------+------------------+-------------------------+--------------------+\n",
       "only showing top 20 rows"
      ]
     },
     "execution_count": 63,
     "metadata": {},
     "output_type": "execute_result"
    }
   ],
   "source": [
    "customer_cleaned_state"
   ]
  },
  {
   "cell_type": "code",
   "execution_count": 23,
   "id": "96152be7",
   "metadata": {},
   "outputs": [],
   "source": [
    "customer_cleaned_state.createOrReplaceTempView(\"customer_data\")"
   ]
  },
  {
   "cell_type": "code",
   "execution_count": 65,
   "id": "7f75f89d",
   "metadata": {},
   "outputs": [
    {
     "data": {
      "text/html": [
       "<table border='1'>\n",
       "<tr><th>count(1)</th></tr>\n",
       "<tr><td>0</td></tr>\n",
       "</table>\n"
      ],
      "text/plain": [
       "+--------+\n",
       "|count(1)|\n",
       "+--------+\n",
       "|       0|\n",
       "+--------+"
      ]
     },
     "execution_count": 65,
     "metadata": {},
     "output_type": "execute_result"
    }
   ],
   "source": [
    "spark.sql(\"select count(*) from customer_data where length(address_state) > 2\")"
   ]
  },
  {
   "cell_type": "code",
   "execution_count": 103,
   "id": "01d10b9e",
   "metadata": {},
   "outputs": [],
   "source": [
    "customer_cleaned_state.write \\\n",
    ".option(\"header\", True) \\\n",
    ".format(\"csv\") \\\n",
    ".mode(\"overwrite\") \\\n",
    ".option(\"path\",\"/user/itv010130/loanproject/clean/customer_data_csv\") \\\n",
    ".save()"
   ]
  },
  {
   "cell_type": "code",
   "execution_count": 24,
   "id": "39c15437",
   "metadata": {},
   "outputs": [],
   "source": [
    "customer_cleaned_state.write \\\n",
    ".format(\"parquet\") \\\n",
    ".mode(\"overwrite\") \\\n",
    ".option(\"path\",\"/user/itv010130/loanproject/clean/customer_data_parquet\") \\\n",
    ".save()"
   ]
  },
  {
   "cell_type": "markdown",
   "id": "037e35b8",
   "metadata": {},
   "source": [
    "### Loan Data"
   ]
  },
  {
   "cell_type": "code",
   "execution_count": 103,
   "id": "d90e787c",
   "metadata": {},
   "outputs": [],
   "source": [
    "loan_df = spark.read \\\n",
    ".option(\"header\", True) \\\n",
    ".format(\"csv\") \\\n",
    ".option(\"inferSchema\", True) \\\n",
    ".load(\"/user/itv010130/loanproject/raw/loan_data_csv\")"
   ]
  },
  {
   "cell_type": "code",
   "execution_count": 26,
   "id": "705db827",
   "metadata": {},
   "outputs": [
    {
     "data": {
      "text/html": [
       "<table border='1'>\n",
       "<tr><th>loan_id</th><th>member_id</th><th>loan_amnt</th><th>funded_amnt</th><th>term</th><th>int_rate</th><th>installment</th><th>issue_d</th><th>loan_status</th><th>purpose</th><th>title</th></tr>\n",
       "<tr><td>491699</td><td>961ae110ec063761f...</td><td>7000.0</td><td>7000.0</td><td>36 months</td><td>12.73</td><td>234.97</td><td>Mar-2010</td><td>Fully Paid</td><td>debt_consolidation</td><td>Noelle&#x27;s debt con...</td></tr>\n",
       "<tr><td>491685</td><td>291854d244748c911...</td><td>15000.0</td><td>15000.0</td><td>36 months</td><td>10.62</td><td>488.4</td><td>Mar-2010</td><td>Fully Paid</td><td>other</td><td>Education</td></tr>\n",
       "<tr><td>491667</td><td>b5cf66b90193da9d2...</td><td>6400.0</td><td>6400.0</td><td>36 months</td><td>7.88</td><td>200.2</td><td>Mar-2010</td><td>Fully Paid</td><td>debt_consolidation</td><td>Make money easily</td></tr>\n",
       "<tr><td>491160</td><td>7f53fd1acb7759e5b...</td><td>4000.0</td><td>4000.0</td><td>36 months</td><td>14.59</td><td>137.86</td><td>Mar-2010</td><td>Fully Paid</td><td>wedding</td><td>wedding expenses</td></tr>\n",
       "<tr><td>491675</td><td>12edc8e328b993914...</td><td>20000.0</td><td>20000.0</td><td>36 months</td><td>13.85</td><td>682.08</td><td>Mar-2010</td><td>Fully Paid</td><td>other</td><td>Short Term Tax Loan</td></tr>\n",
       "<tr><td>491668</td><td>e18a847f091332ff6...</td><td>6000.0</td><td>6000.0</td><td>36 months</td><td>11.36</td><td>197.47</td><td>Mar-2010</td><td>Charged Off</td><td>debt_consolidation</td><td>GREAT BORROWER --...</td></tr>\n",
       "<tr><td>491663</td><td>d6fe0000e876ab76d...</td><td>5500.0</td><td>5500.0</td><td>36 months</td><td>11.36</td><td>181.02</td><td>Mar-2010</td><td>Fully Paid</td><td>credit_card</td><td>Road to Success</td></tr>\n",
       "<tr><td>491632</td><td>62c38934f3a2ebcd2...</td><td>10000.0</td><td>10000.0</td><td>36 months</td><td>15.7</td><td>350.11</td><td>Mar-2010</td><td>Fully Paid</td><td>credit_card</td><td>Finish Paying off...</td></tr>\n",
       "<tr><td>491618</td><td>7701762ef5d302b0d...</td><td>25000.0</td><td>25000.0</td><td>36 months</td><td>15.33</td><td>870.71</td><td>Mar-2010</td><td>Fully Paid</td><td>debt_consolidation</td><td>Pay off my high i...</td></tr>\n",
       "<tr><td>491622</td><td>42a2df45b02b21b9a...</td><td>25000.0</td><td>25000.0</td><td>36 months</td><td>16.07</td><td>879.85</td><td>Mar-2010</td><td>Fully Paid</td><td>debt_consolidation</td><td>Debt Pay Off</td></tr>\n",
       "<tr><td>491552</td><td>b1ba0adce0baea939...</td><td>22000.0</td><td>22000.0</td><td>36 months</td><td>11.36</td><td>724.05</td><td>Mar-2010</td><td>Fully Paid</td><td>debt_consolidation</td><td>Getting rid of Ne...</td></tr>\n",
       "<tr><td>491477</td><td>82cdc418e3907686a...</td><td>16750.0</td><td>16750.0</td><td>36 months</td><td>13.11</td><td>565.23</td><td>Mar-2010</td><td>Fully Paid</td><td>debt_consolidation</td><td>Special Ed teache...</td></tr>\n",
       "<tr><td>491596</td><td>6cbc67caa30708b24...</td><td>3600.0</td><td>3600.0</td><td>36 months</td><td>15.7</td><td>126.04</td><td>Mar-2010</td><td>Fully Paid</td><td>credit_card</td><td>Credit Card Elimi...</td></tr>\n",
       "<tr><td>491575</td><td>3bae7a88975616641...</td><td>13750.0</td><td>13750.0</td><td>36 months</td><td>14.96</td><td>476.39</td><td>Mar-2010</td><td>Fully Paid</td><td>debt_consolidation</td><td>Personal Loan</td></tr>\n",
       "<tr><td>491581</td><td>55694e52b6a698777...</td><td>8500.0</td><td>8500.0</td><td>36 months</td><td>10.62</td><td>276.76</td><td>Mar-2010</td><td>Fully Paid</td><td>debt_consolidation</td><td>Reduce Debt befor...</td></tr>\n",
       "<tr><td>423260</td><td>c666d309594cceae5...</td><td>10000.0</td><td>10000.0</td><td>36 months</td><td>7.88</td><td>312.81</td><td>Mar-2010</td><td>Fully Paid</td><td>first as a Borrow...</td><td>first as a relati...</td></tr>\n",
       "<tr><td>488022</td><td>cc859b4c14c9eb521...</td><td>8000.0</td><td>8000.0</td><td>36 months</td><td>9.88</td><td>257.69</td><td>Mar-2010</td><td>Fully Paid</td><td>debt_consolidation</td><td>pay off credit ca...</td></tr>\n",
       "<tr><td>491557</td><td>dc1eeb967d0041bec...</td><td>12000.0</td><td>12000.0</td><td>36 months</td><td>13.48</td><td>407.09</td><td>Mar-2010</td><td>Fully Paid</td><td>other</td><td>Payoff Easy!</td></tr>\n",
       "<tr><td>491494</td><td>123126e86ba5ecd5d...</td><td>10000.0</td><td>10000.0</td><td>36 months</td><td>14.96</td><td>346.47</td><td>Mar-2010</td><td>Fully Paid</td><td>debt_consolidation</td><td>Credit Card Conso...</td></tr>\n",
       "<tr><td>491487</td><td>aeb1851b33df8f924...</td><td>11000.0</td><td>11000.0</td><td>36 months</td><td>13.85</td><td>375.15</td><td>Mar-2010</td><td>Fully Paid</td><td>debt_consolidation</td><td>Credit card conso...</td></tr>\n",
       "</table>\n",
       "only showing top 20 rows\n"
      ],
      "text/plain": [
       "+-------+--------------------+---------+-----------+---------+--------+-----------+--------+-----------+--------------------+--------------------+\n",
       "|loan_id|           member_id|loan_amnt|funded_amnt|     term|int_rate|installment| issue_d|loan_status|             purpose|               title|\n",
       "+-------+--------------------+---------+-----------+---------+--------+-----------+--------+-----------+--------------------+--------------------+\n",
       "| 491699|961ae110ec063761f...|   7000.0|     7000.0|36 months|   12.73|     234.97|Mar-2010| Fully Paid|  debt_consolidation|Noelle's debt con...|\n",
       "| 491685|291854d244748c911...|  15000.0|    15000.0|36 months|   10.62|      488.4|Mar-2010| Fully Paid|               other|           Education|\n",
       "| 491667|b5cf66b90193da9d2...|   6400.0|     6400.0|36 months|    7.88|      200.2|Mar-2010| Fully Paid|  debt_consolidation|   Make money easily|\n",
       "| 491160|7f53fd1acb7759e5b...|   4000.0|     4000.0|36 months|   14.59|     137.86|Mar-2010| Fully Paid|             wedding|    wedding expenses|\n",
       "| 491675|12edc8e328b993914...|  20000.0|    20000.0|36 months|   13.85|     682.08|Mar-2010| Fully Paid|               other| Short Term Tax Loan|\n",
       "| 491668|e18a847f091332ff6...|   6000.0|     6000.0|36 months|   11.36|     197.47|Mar-2010|Charged Off|  debt_consolidation|GREAT BORROWER --...|\n",
       "| 491663|d6fe0000e876ab76d...|   5500.0|     5500.0|36 months|   11.36|     181.02|Mar-2010| Fully Paid|         credit_card|     Road to Success|\n",
       "| 491632|62c38934f3a2ebcd2...|  10000.0|    10000.0|36 months|    15.7|     350.11|Mar-2010| Fully Paid|         credit_card|Finish Paying off...|\n",
       "| 491618|7701762ef5d302b0d...|  25000.0|    25000.0|36 months|   15.33|     870.71|Mar-2010| Fully Paid|  debt_consolidation|Pay off my high i...|\n",
       "| 491622|42a2df45b02b21b9a...|  25000.0|    25000.0|36 months|   16.07|     879.85|Mar-2010| Fully Paid|  debt_consolidation|        Debt Pay Off|\n",
       "| 491552|b1ba0adce0baea939...|  22000.0|    22000.0|36 months|   11.36|     724.05|Mar-2010| Fully Paid|  debt_consolidation|Getting rid of Ne...|\n",
       "| 491477|82cdc418e3907686a...|  16750.0|    16750.0|36 months|   13.11|     565.23|Mar-2010| Fully Paid|  debt_consolidation|Special Ed teache...|\n",
       "| 491596|6cbc67caa30708b24...|   3600.0|     3600.0|36 months|    15.7|     126.04|Mar-2010| Fully Paid|         credit_card|Credit Card Elimi...|\n",
       "| 491575|3bae7a88975616641...|  13750.0|    13750.0|36 months|   14.96|     476.39|Mar-2010| Fully Paid|  debt_consolidation|       Personal Loan|\n",
       "| 491581|55694e52b6a698777...|   8500.0|     8500.0|36 months|   10.62|     276.76|Mar-2010| Fully Paid|  debt_consolidation|Reduce Debt befor...|\n",
       "| 423260|c666d309594cceae5...|  10000.0|    10000.0|36 months|    7.88|     312.81|Mar-2010| Fully Paid|first as a Borrow...|first as a relati...|\n",
       "| 488022|cc859b4c14c9eb521...|   8000.0|     8000.0|36 months|    9.88|     257.69|Mar-2010| Fully Paid|  debt_consolidation|pay off credit ca...|\n",
       "| 491557|dc1eeb967d0041bec...|  12000.0|    12000.0|36 months|   13.48|     407.09|Mar-2010| Fully Paid|               other|        Payoff Easy!|\n",
       "| 491494|123126e86ba5ecd5d...|  10000.0|    10000.0|36 months|   14.96|     346.47|Mar-2010| Fully Paid|  debt_consolidation|Credit Card Conso...|\n",
       "| 491487|aeb1851b33df8f924...|  11000.0|    11000.0|36 months|   13.85|     375.15|Mar-2010| Fully Paid|  debt_consolidation|Credit card conso...|\n",
       "+-------+--------------------+---------+-----------+---------+--------+-----------+--------+-----------+--------------------+--------------------+\n",
       "only showing top 20 rows"
      ]
     },
     "execution_count": 26,
     "metadata": {},
     "output_type": "execute_result"
    }
   ],
   "source": [
    "loan_df"
   ]
  },
  {
   "cell_type": "code",
   "execution_count": 27,
   "id": "1b1f7b6f",
   "metadata": {},
   "outputs": [
    {
     "name": "stdout",
     "output_type": "stream",
     "text": [
      "root\n",
      " |-- loan_id: string (nullable = true)\n",
      " |-- member_id: string (nullable = true)\n",
      " |-- loan_amnt: double (nullable = true)\n",
      " |-- funded_amnt: double (nullable = true)\n",
      " |-- term: string (nullable = true)\n",
      " |-- int_rate: double (nullable = true)\n",
      " |-- installment: double (nullable = true)\n",
      " |-- issue_d: string (nullable = true)\n",
      " |-- loan_status: string (nullable = true)\n",
      " |-- purpose: string (nullable = true)\n",
      " |-- title: string (nullable = true)\n",
      "\n"
     ]
    }
   ],
   "source": [
    "loan_df.printSchema()"
   ]
  },
  {
   "cell_type": "code",
   "execution_count": 104,
   "id": "b297ff13",
   "metadata": {},
   "outputs": [],
   "source": [
    "loan_schema = 'loan_id string,member_id string,loan_amount float,funded_amount float,loan_term_month string,interest_rate float,monthly_installment float,issue_date string,loan_status string,loan_purpose string,loan_title string'"
   ]
  },
  {
   "cell_type": "code",
   "execution_count": 105,
   "id": "f739cb89",
   "metadata": {},
   "outputs": [],
   "source": [
    "loan_df = spark.read \\\n",
    ".option(\"header\", True) \\\n",
    ".format(\"csv\") \\\n",
    ".schema(loan_schema) \\\n",
    ".load(\"/user/itv010130/loanproject/raw/loan_data_csv\")"
   ]
  },
  {
   "cell_type": "code",
   "execution_count": 31,
   "id": "6c0ddd26",
   "metadata": {},
   "outputs": [
    {
     "data": {
      "text/html": [
       "<table border='1'>\n",
       "<tr><th>loan_id</th><th>member_id</th><th>loan_amount</th><th>funded_amount</th><th>loan_term_month</th><th>interest_rate</th><th>monthly_installment</th><th>issue_date</th><th>loan_status</th><th>loan_purpose</th><th>loan_title</th></tr>\n",
       "<tr><td>491699</td><td>961ae110ec063761f...</td><td>7000.0</td><td>7000.0</td><td>36 months</td><td>12.73</td><td>234.97</td><td>Mar-2010</td><td>Fully Paid</td><td>debt_consolidation</td><td>Noelle&#x27;s debt con...</td></tr>\n",
       "<tr><td>491685</td><td>291854d244748c911...</td><td>15000.0</td><td>15000.0</td><td>36 months</td><td>10.62</td><td>488.4</td><td>Mar-2010</td><td>Fully Paid</td><td>other</td><td>Education</td></tr>\n",
       "<tr><td>491667</td><td>b5cf66b90193da9d2...</td><td>6400.0</td><td>6400.0</td><td>36 months</td><td>7.88</td><td>200.2</td><td>Mar-2010</td><td>Fully Paid</td><td>debt_consolidation</td><td>Make money easily</td></tr>\n",
       "<tr><td>491160</td><td>7f53fd1acb7759e5b...</td><td>4000.0</td><td>4000.0</td><td>36 months</td><td>14.59</td><td>137.86</td><td>Mar-2010</td><td>Fully Paid</td><td>wedding</td><td>wedding expenses</td></tr>\n",
       "<tr><td>491675</td><td>12edc8e328b993914...</td><td>20000.0</td><td>20000.0</td><td>36 months</td><td>13.85</td><td>682.08</td><td>Mar-2010</td><td>Fully Paid</td><td>other</td><td>Short Term Tax Loan</td></tr>\n",
       "<tr><td>491668</td><td>e18a847f091332ff6...</td><td>6000.0</td><td>6000.0</td><td>36 months</td><td>11.36</td><td>197.47</td><td>Mar-2010</td><td>Charged Off</td><td>debt_consolidation</td><td>GREAT BORROWER --...</td></tr>\n",
       "<tr><td>491663</td><td>d6fe0000e876ab76d...</td><td>5500.0</td><td>5500.0</td><td>36 months</td><td>11.36</td><td>181.02</td><td>Mar-2010</td><td>Fully Paid</td><td>credit_card</td><td>Road to Success</td></tr>\n",
       "<tr><td>491632</td><td>62c38934f3a2ebcd2...</td><td>10000.0</td><td>10000.0</td><td>36 months</td><td>15.7</td><td>350.11</td><td>Mar-2010</td><td>Fully Paid</td><td>credit_card</td><td>Finish Paying off...</td></tr>\n",
       "<tr><td>491618</td><td>7701762ef5d302b0d...</td><td>25000.0</td><td>25000.0</td><td>36 months</td><td>15.33</td><td>870.71</td><td>Mar-2010</td><td>Fully Paid</td><td>debt_consolidation</td><td>Pay off my high i...</td></tr>\n",
       "<tr><td>491622</td><td>42a2df45b02b21b9a...</td><td>25000.0</td><td>25000.0</td><td>36 months</td><td>16.07</td><td>879.85</td><td>Mar-2010</td><td>Fully Paid</td><td>debt_consolidation</td><td>Debt Pay Off</td></tr>\n",
       "<tr><td>491552</td><td>b1ba0adce0baea939...</td><td>22000.0</td><td>22000.0</td><td>36 months</td><td>11.36</td><td>724.05</td><td>Mar-2010</td><td>Fully Paid</td><td>debt_consolidation</td><td>Getting rid of Ne...</td></tr>\n",
       "<tr><td>491477</td><td>82cdc418e3907686a...</td><td>16750.0</td><td>16750.0</td><td>36 months</td><td>13.11</td><td>565.23</td><td>Mar-2010</td><td>Fully Paid</td><td>debt_consolidation</td><td>Special Ed teache...</td></tr>\n",
       "<tr><td>491596</td><td>6cbc67caa30708b24...</td><td>3600.0</td><td>3600.0</td><td>36 months</td><td>15.7</td><td>126.04</td><td>Mar-2010</td><td>Fully Paid</td><td>credit_card</td><td>Credit Card Elimi...</td></tr>\n",
       "<tr><td>491575</td><td>3bae7a88975616641...</td><td>13750.0</td><td>13750.0</td><td>36 months</td><td>14.96</td><td>476.39</td><td>Mar-2010</td><td>Fully Paid</td><td>debt_consolidation</td><td>Personal Loan</td></tr>\n",
       "<tr><td>491581</td><td>55694e52b6a698777...</td><td>8500.0</td><td>8500.0</td><td>36 months</td><td>10.62</td><td>276.76</td><td>Mar-2010</td><td>Fully Paid</td><td>debt_consolidation</td><td>Reduce Debt befor...</td></tr>\n",
       "<tr><td>423260</td><td>c666d309594cceae5...</td><td>10000.0</td><td>10000.0</td><td>36 months</td><td>7.88</td><td>312.81</td><td>Mar-2010</td><td>Fully Paid</td><td>first as a Borrow...</td><td>first as a relati...</td></tr>\n",
       "<tr><td>488022</td><td>cc859b4c14c9eb521...</td><td>8000.0</td><td>8000.0</td><td>36 months</td><td>9.88</td><td>257.69</td><td>Mar-2010</td><td>Fully Paid</td><td>debt_consolidation</td><td>pay off credit ca...</td></tr>\n",
       "<tr><td>491557</td><td>dc1eeb967d0041bec...</td><td>12000.0</td><td>12000.0</td><td>36 months</td><td>13.48</td><td>407.09</td><td>Mar-2010</td><td>Fully Paid</td><td>other</td><td>Payoff Easy!</td></tr>\n",
       "<tr><td>491494</td><td>123126e86ba5ecd5d...</td><td>10000.0</td><td>10000.0</td><td>36 months</td><td>14.96</td><td>346.47</td><td>Mar-2010</td><td>Fully Paid</td><td>debt_consolidation</td><td>Credit Card Conso...</td></tr>\n",
       "<tr><td>491487</td><td>aeb1851b33df8f924...</td><td>11000.0</td><td>11000.0</td><td>36 months</td><td>13.85</td><td>375.15</td><td>Mar-2010</td><td>Fully Paid</td><td>debt_consolidation</td><td>Credit card conso...</td></tr>\n",
       "</table>\n",
       "only showing top 20 rows\n"
      ],
      "text/plain": [
       "DataFrame[loan_id: string, member_id: string, loan_amount: float, funded_amount: float, loan_term_month: string, interest_rate: float, monthly_installment: float, issue_date: string, loan_status: string, loan_purpose: string, loan_title: string]"
      ]
     },
     "execution_count": 31,
     "metadata": {},
     "output_type": "execute_result"
    }
   ],
   "source": [
    "loan_df"
   ]
  },
  {
   "cell_type": "code",
   "execution_count": 32,
   "id": "88717199",
   "metadata": {},
   "outputs": [
    {
     "name": "stdout",
     "output_type": "stream",
     "text": [
      "root\n",
      " |-- loan_id: string (nullable = true)\n",
      " |-- member_id: string (nullable = true)\n",
      " |-- loan_amount: float (nullable = true)\n",
      " |-- funded_amount: float (nullable = true)\n",
      " |-- loan_term_month: string (nullable = true)\n",
      " |-- interest_rate: float (nullable = true)\n",
      " |-- monthly_installment: float (nullable = true)\n",
      " |-- issue_date: string (nullable = true)\n",
      " |-- loan_status: string (nullable = true)\n",
      " |-- loan_purpose: string (nullable = true)\n",
      " |-- loan_title: string (nullable = true)\n",
      "\n"
     ]
    }
   ],
   "source": [
    "loan_df.printSchema()"
   ]
  },
  {
   "cell_type": "code",
   "execution_count": 106,
   "id": "ea2373c4",
   "metadata": {},
   "outputs": [],
   "source": [
    "from pyspark.sql.functions import current_timestamp"
   ]
  },
  {
   "cell_type": "code",
   "execution_count": 107,
   "id": "40daa4fd",
   "metadata": {},
   "outputs": [],
   "source": [
    "new_loan_df = loan_df.withColumn(\"ingestion_date\",current_timestamp())"
   ]
  },
  {
   "cell_type": "code",
   "execution_count": 108,
   "id": "87f3be41",
   "metadata": {},
   "outputs": [],
   "source": [
    "new_loan_df.createOrReplaceTempView(\"loan_data\")"
   ]
  },
  {
   "cell_type": "code",
   "execution_count": 56,
   "id": "1206a5de",
   "metadata": {},
   "outputs": [
    {
     "data": {
      "text/html": [
       "<table border='1'>\n",
       "<tr><th>count(1)</th></tr>\n",
       "<tr><td>2260701</td></tr>\n",
       "</table>\n"
      ],
      "text/plain": [
       "+--------+\n",
       "|count(1)|\n",
       "+--------+\n",
       "| 2260701|\n",
       "+--------+"
      ]
     },
     "execution_count": 56,
     "metadata": {},
     "output_type": "execute_result"
    }
   ],
   "source": [
    "spark.sql(\"select count(*) from loan_data\")"
   ]
  },
  {
   "cell_type": "code",
   "execution_count": 57,
   "id": "044608c9",
   "metadata": {},
   "outputs": [
    {
     "data": {
      "text/html": [
       "<table border='1'>\n",
       "<tr><th>loan_id</th><th>member_id</th><th>loan_amount</th><th>funded_amount</th><th>loan_term_month</th><th>interest_rate</th><th>monthly_installment</th><th>issue_date</th><th>loan_status</th><th>loan_purpose</th><th>loan_title</th><th>ingestion_date</th></tr>\n",
       "<tr><td>491699</td><td>961ae110ec063761f...</td><td>7000.0</td><td>7000.0</td><td>36 months</td><td>12.73</td><td>234.97</td><td>Mar-2010</td><td>Fully Paid</td><td>debt_consolidation</td><td>Noelle&#x27;s debt con...</td><td>2024-07-04 22:34:...</td></tr>\n",
       "<tr><td>491685</td><td>291854d244748c911...</td><td>15000.0</td><td>15000.0</td><td>36 months</td><td>10.62</td><td>488.4</td><td>Mar-2010</td><td>Fully Paid</td><td>other</td><td>Education</td><td>2024-07-04 22:34:...</td></tr>\n",
       "<tr><td>491667</td><td>b5cf66b90193da9d2...</td><td>6400.0</td><td>6400.0</td><td>36 months</td><td>7.88</td><td>200.2</td><td>Mar-2010</td><td>Fully Paid</td><td>debt_consolidation</td><td>Make money easily</td><td>2024-07-04 22:34:...</td></tr>\n",
       "<tr><td>491160</td><td>7f53fd1acb7759e5b...</td><td>4000.0</td><td>4000.0</td><td>36 months</td><td>14.59</td><td>137.86</td><td>Mar-2010</td><td>Fully Paid</td><td>wedding</td><td>wedding expenses</td><td>2024-07-04 22:34:...</td></tr>\n",
       "<tr><td>491675</td><td>12edc8e328b993914...</td><td>20000.0</td><td>20000.0</td><td>36 months</td><td>13.85</td><td>682.08</td><td>Mar-2010</td><td>Fully Paid</td><td>other</td><td>Short Term Tax Loan</td><td>2024-07-04 22:34:...</td></tr>\n",
       "<tr><td>491668</td><td>e18a847f091332ff6...</td><td>6000.0</td><td>6000.0</td><td>36 months</td><td>11.36</td><td>197.47</td><td>Mar-2010</td><td>Charged Off</td><td>debt_consolidation</td><td>GREAT BORROWER --...</td><td>2024-07-04 22:34:...</td></tr>\n",
       "<tr><td>491663</td><td>d6fe0000e876ab76d...</td><td>5500.0</td><td>5500.0</td><td>36 months</td><td>11.36</td><td>181.02</td><td>Mar-2010</td><td>Fully Paid</td><td>credit_card</td><td>Road to Success</td><td>2024-07-04 22:34:...</td></tr>\n",
       "<tr><td>491632</td><td>62c38934f3a2ebcd2...</td><td>10000.0</td><td>10000.0</td><td>36 months</td><td>15.7</td><td>350.11</td><td>Mar-2010</td><td>Fully Paid</td><td>credit_card</td><td>Finish Paying off...</td><td>2024-07-04 22:34:...</td></tr>\n",
       "<tr><td>491618</td><td>7701762ef5d302b0d...</td><td>25000.0</td><td>25000.0</td><td>36 months</td><td>15.33</td><td>870.71</td><td>Mar-2010</td><td>Fully Paid</td><td>debt_consolidation</td><td>Pay off my high i...</td><td>2024-07-04 22:34:...</td></tr>\n",
       "<tr><td>491622</td><td>42a2df45b02b21b9a...</td><td>25000.0</td><td>25000.0</td><td>36 months</td><td>16.07</td><td>879.85</td><td>Mar-2010</td><td>Fully Paid</td><td>debt_consolidation</td><td>Debt Pay Off</td><td>2024-07-04 22:34:...</td></tr>\n",
       "<tr><td>491552</td><td>b1ba0adce0baea939...</td><td>22000.0</td><td>22000.0</td><td>36 months</td><td>11.36</td><td>724.05</td><td>Mar-2010</td><td>Fully Paid</td><td>debt_consolidation</td><td>Getting rid of Ne...</td><td>2024-07-04 22:34:...</td></tr>\n",
       "<tr><td>491477</td><td>82cdc418e3907686a...</td><td>16750.0</td><td>16750.0</td><td>36 months</td><td>13.11</td><td>565.23</td><td>Mar-2010</td><td>Fully Paid</td><td>debt_consolidation</td><td>Special Ed teache...</td><td>2024-07-04 22:34:...</td></tr>\n",
       "<tr><td>491596</td><td>6cbc67caa30708b24...</td><td>3600.0</td><td>3600.0</td><td>36 months</td><td>15.7</td><td>126.04</td><td>Mar-2010</td><td>Fully Paid</td><td>credit_card</td><td>Credit Card Elimi...</td><td>2024-07-04 22:34:...</td></tr>\n",
       "<tr><td>491575</td><td>3bae7a88975616641...</td><td>13750.0</td><td>13750.0</td><td>36 months</td><td>14.96</td><td>476.39</td><td>Mar-2010</td><td>Fully Paid</td><td>debt_consolidation</td><td>Personal Loan</td><td>2024-07-04 22:34:...</td></tr>\n",
       "<tr><td>491581</td><td>55694e52b6a698777...</td><td>8500.0</td><td>8500.0</td><td>36 months</td><td>10.62</td><td>276.76</td><td>Mar-2010</td><td>Fully Paid</td><td>debt_consolidation</td><td>Reduce Debt befor...</td><td>2024-07-04 22:34:...</td></tr>\n",
       "<tr><td>423260</td><td>c666d309594cceae5...</td><td>10000.0</td><td>10000.0</td><td>36 months</td><td>7.88</td><td>312.81</td><td>Mar-2010</td><td>Fully Paid</td><td>first as a Borrow...</td><td>first as a relati...</td><td>2024-07-04 22:34:...</td></tr>\n",
       "<tr><td>488022</td><td>cc859b4c14c9eb521...</td><td>8000.0</td><td>8000.0</td><td>36 months</td><td>9.88</td><td>257.69</td><td>Mar-2010</td><td>Fully Paid</td><td>debt_consolidation</td><td>pay off credit ca...</td><td>2024-07-04 22:34:...</td></tr>\n",
       "<tr><td>491557</td><td>dc1eeb967d0041bec...</td><td>12000.0</td><td>12000.0</td><td>36 months</td><td>13.48</td><td>407.09</td><td>Mar-2010</td><td>Fully Paid</td><td>other</td><td>Payoff Easy!</td><td>2024-07-04 22:34:...</td></tr>\n",
       "<tr><td>491494</td><td>123126e86ba5ecd5d...</td><td>10000.0</td><td>10000.0</td><td>36 months</td><td>14.96</td><td>346.47</td><td>Mar-2010</td><td>Fully Paid</td><td>debt_consolidation</td><td>Credit Card Conso...</td><td>2024-07-04 22:34:...</td></tr>\n",
       "<tr><td>491487</td><td>aeb1851b33df8f924...</td><td>11000.0</td><td>11000.0</td><td>36 months</td><td>13.85</td><td>375.15</td><td>Mar-2010</td><td>Fully Paid</td><td>debt_consolidation</td><td>Credit card conso...</td><td>2024-07-04 22:34:...</td></tr>\n",
       "</table>\n",
       "only showing top 20 rows\n"
      ],
      "text/plain": [
       "+-------+--------------------+-----------+-------------+---------------+-------------+-------------------+----------+-----------+--------------------+--------------------+--------------------+\n",
       "|loan_id|           member_id|loan_amount|funded_amount|loan_term_month|interest_rate|monthly_installment|issue_date|loan_status|        loan_purpose|          loan_title|      ingestion_date|\n",
       "+-------+--------------------+-----------+-------------+---------------+-------------+-------------------+----------+-----------+--------------------+--------------------+--------------------+\n",
       "| 491699|961ae110ec063761f...|     7000.0|       7000.0|      36 months|        12.73|             234.97|  Mar-2010| Fully Paid|  debt_consolidation|Noelle's debt con...|2024-07-04 22:34:...|\n",
       "| 491685|291854d244748c911...|    15000.0|      15000.0|      36 months|        10.62|              488.4|  Mar-2010| Fully Paid|               other|           Education|2024-07-04 22:34:...|\n",
       "| 491667|b5cf66b90193da9d2...|     6400.0|       6400.0|      36 months|         7.88|              200.2|  Mar-2010| Fully Paid|  debt_consolidation|   Make money easily|2024-07-04 22:34:...|\n",
       "| 491160|7f53fd1acb7759e5b...|     4000.0|       4000.0|      36 months|        14.59|             137.86|  Mar-2010| Fully Paid|             wedding|    wedding expenses|2024-07-04 22:34:...|\n",
       "| 491675|12edc8e328b993914...|    20000.0|      20000.0|      36 months|        13.85|             682.08|  Mar-2010| Fully Paid|               other| Short Term Tax Loan|2024-07-04 22:34:...|\n",
       "| 491668|e18a847f091332ff6...|     6000.0|       6000.0|      36 months|        11.36|             197.47|  Mar-2010|Charged Off|  debt_consolidation|GREAT BORROWER --...|2024-07-04 22:34:...|\n",
       "| 491663|d6fe0000e876ab76d...|     5500.0|       5500.0|      36 months|        11.36|             181.02|  Mar-2010| Fully Paid|         credit_card|     Road to Success|2024-07-04 22:34:...|\n",
       "| 491632|62c38934f3a2ebcd2...|    10000.0|      10000.0|      36 months|         15.7|             350.11|  Mar-2010| Fully Paid|         credit_card|Finish Paying off...|2024-07-04 22:34:...|\n",
       "| 491618|7701762ef5d302b0d...|    25000.0|      25000.0|      36 months|        15.33|             870.71|  Mar-2010| Fully Paid|  debt_consolidation|Pay off my high i...|2024-07-04 22:34:...|\n",
       "| 491622|42a2df45b02b21b9a...|    25000.0|      25000.0|      36 months|        16.07|             879.85|  Mar-2010| Fully Paid|  debt_consolidation|        Debt Pay Off|2024-07-04 22:34:...|\n",
       "| 491552|b1ba0adce0baea939...|    22000.0|      22000.0|      36 months|        11.36|             724.05|  Mar-2010| Fully Paid|  debt_consolidation|Getting rid of Ne...|2024-07-04 22:34:...|\n",
       "| 491477|82cdc418e3907686a...|    16750.0|      16750.0|      36 months|        13.11|             565.23|  Mar-2010| Fully Paid|  debt_consolidation|Special Ed teache...|2024-07-04 22:34:...|\n",
       "| 491596|6cbc67caa30708b24...|     3600.0|       3600.0|      36 months|         15.7|             126.04|  Mar-2010| Fully Paid|         credit_card|Credit Card Elimi...|2024-07-04 22:34:...|\n",
       "| 491575|3bae7a88975616641...|    13750.0|      13750.0|      36 months|        14.96|             476.39|  Mar-2010| Fully Paid|  debt_consolidation|       Personal Loan|2024-07-04 22:34:...|\n",
       "| 491581|55694e52b6a698777...|     8500.0|       8500.0|      36 months|        10.62|             276.76|  Mar-2010| Fully Paid|  debt_consolidation|Reduce Debt befor...|2024-07-04 22:34:...|\n",
       "| 423260|c666d309594cceae5...|    10000.0|      10000.0|      36 months|         7.88|             312.81|  Mar-2010| Fully Paid|first as a Borrow...|first as a relati...|2024-07-04 22:34:...|\n",
       "| 488022|cc859b4c14c9eb521...|     8000.0|       8000.0|      36 months|         9.88|             257.69|  Mar-2010| Fully Paid|  debt_consolidation|pay off credit ca...|2024-07-04 22:34:...|\n",
       "| 491557|dc1eeb967d0041bec...|    12000.0|      12000.0|      36 months|        13.48|             407.09|  Mar-2010| Fully Paid|               other|        Payoff Easy!|2024-07-04 22:34:...|\n",
       "| 491494|123126e86ba5ecd5d...|    10000.0|      10000.0|      36 months|        14.96|             346.47|  Mar-2010| Fully Paid|  debt_consolidation|Credit Card Conso...|2024-07-04 22:34:...|\n",
       "| 491487|aeb1851b33df8f924...|    11000.0|      11000.0|      36 months|        13.85|             375.15|  Mar-2010| Fully Paid|  debt_consolidation|Credit card conso...|2024-07-04 22:34:...|\n",
       "+-------+--------------------+-----------+-------------+---------------+-------------+-------------------+----------+-----------+--------------------+--------------------+--------------------+\n",
       "only showing top 20 rows"
      ]
     },
     "execution_count": 57,
     "metadata": {},
     "output_type": "execute_result"
    }
   ],
   "source": [
    "spark.sql(\"select * from loan_data\")"
   ]
  },
  {
   "cell_type": "code",
   "execution_count": 63,
   "id": "224deb20",
   "metadata": {},
   "outputs": [
    {
     "data": {
      "text/html": [
       "<table border='1'>\n",
       "<tr><th>count(1)</th></tr>\n",
       "<tr><td>33</td></tr>\n",
       "</table>\n"
      ],
      "text/plain": [
       "+--------+\n",
       "|count(1)|\n",
       "+--------+\n",
       "|      33|\n",
       "+--------+"
      ]
     },
     "execution_count": 63,
     "metadata": {},
     "output_type": "execute_result"
    }
   ],
   "source": [
    "spark.sql(\"select count(*) from loan_data where loan_amount is null\")"
   ]
  },
  {
   "cell_type": "code",
   "execution_count": 64,
   "id": "2788e25c",
   "metadata": {},
   "outputs": [
    {
     "data": {
      "text/html": [
       "<table border='1'>\n",
       "<tr><th>loan_id</th><th>member_id</th><th>loan_amount</th><th>funded_amount</th><th>loan_term_month</th><th>interest_rate</th><th>monthly_installment</th><th>issue_date</th><th>loan_status</th><th>loan_purpose</th><th>loan_title</th><th>ingestion_date</th></tr>\n",
       "<tr><td>Loans that do not...</td><td>e3b0c44298fc1c149...</td><td>null</td><td>null</td><td>null</td><td>null</td><td>null</td><td>null</td><td>null</td><td>null</td><td>null</td><td>2024-07-04 22:37:...</td></tr>\n",
       "<tr><td>Total amount fund...</td><td>e3b0c44298fc1c149...</td><td>null</td><td>null</td><td>null</td><td>null</td><td>null</td><td>null</td><td>null</td><td>null</td><td>null</td><td>2024-07-04 22:37:...</td></tr>\n",
       "<tr><td>Total amount fund...</td><td>e3b0c44298fc1c149...</td><td>null</td><td>null</td><td>null</td><td>null</td><td>null</td><td>null</td><td>null</td><td>null</td><td>null</td><td>2024-07-04 22:37:...</td></tr>\n",
       "<tr><td>Total amount fund...</td><td>e3b0c44298fc1c149...</td><td>null</td><td>null</td><td>null</td><td>null</td><td>null</td><td>null</td><td>null</td><td>null</td><td>null</td><td>2024-07-04 22:37:...</td></tr>\n",
       "<tr><td>Total amount fund...</td><td>e3b0c44298fc1c149...</td><td>null</td><td>null</td><td>null</td><td>null</td><td>null</td><td>null</td><td>null</td><td>null</td><td>null</td><td>2024-07-04 22:37:...</td></tr>\n",
       "<tr><td>Total amount fund...</td><td>e3b0c44298fc1c149...</td><td>null</td><td>null</td><td>null</td><td>null</td><td>null</td><td>null</td><td>null</td><td>null</td><td>null</td><td>2024-07-04 22:37:...</td></tr>\n",
       "<tr><td>Total amount fund...</td><td>e3b0c44298fc1c149...</td><td>null</td><td>null</td><td>null</td><td>null</td><td>null</td><td>null</td><td>null</td><td>null</td><td>null</td><td>2024-07-04 22:37:...</td></tr>\n",
       "<tr><td>Total amount fund...</td><td>e3b0c44298fc1c149...</td><td>null</td><td>null</td><td>null</td><td>null</td><td>null</td><td>null</td><td>null</td><td>null</td><td>null</td><td>2024-07-04 22:37:...</td></tr>\n",
       "<tr><td>Total amount fund...</td><td>e3b0c44298fc1c149...</td><td>null</td><td>null</td><td>null</td><td>null</td><td>null</td><td>null</td><td>null</td><td>null</td><td>null</td><td>2024-07-04 22:37:...</td></tr>\n",
       "<tr><td>Total amount fund...</td><td>e3b0c44298fc1c149...</td><td>null</td><td>null</td><td>null</td><td>null</td><td>null</td><td>null</td><td>null</td><td>null</td><td>null</td><td>2024-07-04 22:37:...</td></tr>\n",
       "<tr><td>Total amount fund...</td><td>e3b0c44298fc1c149...</td><td>null</td><td>null</td><td>null</td><td>null</td><td>null</td><td>null</td><td>null</td><td>null</td><td>null</td><td>2024-07-04 22:37:...</td></tr>\n",
       "<tr><td>Total amount fund...</td><td>e3b0c44298fc1c149...</td><td>null</td><td>null</td><td>null</td><td>null</td><td>null</td><td>null</td><td>null</td><td>null</td><td>null</td><td>2024-07-04 22:37:...</td></tr>\n",
       "<tr><td>Total amount fund...</td><td>e3b0c44298fc1c149...</td><td>null</td><td>null</td><td>null</td><td>null</td><td>null</td><td>null</td><td>null</td><td>null</td><td>null</td><td>2024-07-04 22:37:...</td></tr>\n",
       "<tr><td>Total amount fund...</td><td>e3b0c44298fc1c149...</td><td>null</td><td>null</td><td>null</td><td>null</td><td>null</td><td>null</td><td>null</td><td>null</td><td>null</td><td>2024-07-04 22:37:...</td></tr>\n",
       "<tr><td>Total amount fund...</td><td>e3b0c44298fc1c149...</td><td>null</td><td>null</td><td>null</td><td>null</td><td>null</td><td>null</td><td>null</td><td>null</td><td>null</td><td>2024-07-04 22:37:...</td></tr>\n",
       "<tr><td>Total amount fund...</td><td>e3b0c44298fc1c149...</td><td>null</td><td>null</td><td>null</td><td>null</td><td>null</td><td>null</td><td>null</td><td>null</td><td>null</td><td>2024-07-04 22:37:...</td></tr>\n",
       "<tr><td>Total amount fund...</td><td>e3b0c44298fc1c149...</td><td>null</td><td>null</td><td>null</td><td>null</td><td>null</td><td>null</td><td>null</td><td>null</td><td>null</td><td>2024-07-04 22:37:...</td></tr>\n",
       "<tr><td>Total amount fund...</td><td>e3b0c44298fc1c149...</td><td>null</td><td>null</td><td>null</td><td>null</td><td>null</td><td>null</td><td>null</td><td>null</td><td>null</td><td>2024-07-04 22:37:...</td></tr>\n",
       "<tr><td>Total amount fund...</td><td>e3b0c44298fc1c149...</td><td>null</td><td>null</td><td>null</td><td>null</td><td>null</td><td>null</td><td>null</td><td>null</td><td>null</td><td>2024-07-04 22:37:...</td></tr>\n",
       "<tr><td>Total amount fund...</td><td>e3b0c44298fc1c149...</td><td>null</td><td>null</td><td>null</td><td>null</td><td>null</td><td>null</td><td>null</td><td>null</td><td>null</td><td>2024-07-04 22:37:...</td></tr>\n",
       "</table>\n",
       "only showing top 20 rows\n"
      ],
      "text/plain": [
       "+--------------------+--------------------+-----------+-------------+---------------+-------------+-------------------+----------+-----------+------------+----------+--------------------+\n",
       "|             loan_id|           member_id|loan_amount|funded_amount|loan_term_month|interest_rate|monthly_installment|issue_date|loan_status|loan_purpose|loan_title|      ingestion_date|\n",
       "+--------------------+--------------------+-----------+-------------+---------------+-------------+-------------------+----------+-----------+------------+----------+--------------------+\n",
       "|Loans that do not...|e3b0c44298fc1c149...|       null|         null|           null|         null|               null|      null|       null|        null|      null|2024-07-04 22:37:...|\n",
       "|Total amount fund...|e3b0c44298fc1c149...|       null|         null|           null|         null|               null|      null|       null|        null|      null|2024-07-04 22:37:...|\n",
       "|Total amount fund...|e3b0c44298fc1c149...|       null|         null|           null|         null|               null|      null|       null|        null|      null|2024-07-04 22:37:...|\n",
       "|Total amount fund...|e3b0c44298fc1c149...|       null|         null|           null|         null|               null|      null|       null|        null|      null|2024-07-04 22:37:...|\n",
       "|Total amount fund...|e3b0c44298fc1c149...|       null|         null|           null|         null|               null|      null|       null|        null|      null|2024-07-04 22:37:...|\n",
       "|Total amount fund...|e3b0c44298fc1c149...|       null|         null|           null|         null|               null|      null|       null|        null|      null|2024-07-04 22:37:...|\n",
       "|Total amount fund...|e3b0c44298fc1c149...|       null|         null|           null|         null|               null|      null|       null|        null|      null|2024-07-04 22:37:...|\n",
       "|Total amount fund...|e3b0c44298fc1c149...|       null|         null|           null|         null|               null|      null|       null|        null|      null|2024-07-04 22:37:...|\n",
       "|Total amount fund...|e3b0c44298fc1c149...|       null|         null|           null|         null|               null|      null|       null|        null|      null|2024-07-04 22:37:...|\n",
       "|Total amount fund...|e3b0c44298fc1c149...|       null|         null|           null|         null|               null|      null|       null|        null|      null|2024-07-04 22:37:...|\n",
       "|Total amount fund...|e3b0c44298fc1c149...|       null|         null|           null|         null|               null|      null|       null|        null|      null|2024-07-04 22:37:...|\n",
       "|Total amount fund...|e3b0c44298fc1c149...|       null|         null|           null|         null|               null|      null|       null|        null|      null|2024-07-04 22:37:...|\n",
       "|Total amount fund...|e3b0c44298fc1c149...|       null|         null|           null|         null|               null|      null|       null|        null|      null|2024-07-04 22:37:...|\n",
       "|Total amount fund...|e3b0c44298fc1c149...|       null|         null|           null|         null|               null|      null|       null|        null|      null|2024-07-04 22:37:...|\n",
       "|Total amount fund...|e3b0c44298fc1c149...|       null|         null|           null|         null|               null|      null|       null|        null|      null|2024-07-04 22:37:...|\n",
       "|Total amount fund...|e3b0c44298fc1c149...|       null|         null|           null|         null|               null|      null|       null|        null|      null|2024-07-04 22:37:...|\n",
       "|Total amount fund...|e3b0c44298fc1c149...|       null|         null|           null|         null|               null|      null|       null|        null|      null|2024-07-04 22:37:...|\n",
       "|Total amount fund...|e3b0c44298fc1c149...|       null|         null|           null|         null|               null|      null|       null|        null|      null|2024-07-04 22:37:...|\n",
       "|Total amount fund...|e3b0c44298fc1c149...|       null|         null|           null|         null|               null|      null|       null|        null|      null|2024-07-04 22:37:...|\n",
       "|Total amount fund...|e3b0c44298fc1c149...|       null|         null|           null|         null|               null|      null|       null|        null|      null|2024-07-04 22:37:...|\n",
       "+--------------------+--------------------+-----------+-------------+---------------+-------------+-------------------+----------+-----------+------------+----------+--------------------+\n",
       "only showing top 20 rows"
      ]
     },
     "execution_count": 64,
     "metadata": {},
     "output_type": "execute_result"
    }
   ],
   "source": [
    "spark.sql(\"select * from loan_data where loan_amount is null\")"
   ]
  },
  {
   "cell_type": "code",
   "execution_count": 109,
   "id": "9e3fb343",
   "metadata": {},
   "outputs": [],
   "source": [
    "null_columns = ['loan_amount','funded_amount','loan_term_month','interest_rate','monthly_installment','issue_date','loan_status','loan_purpose']"
   ]
  },
  {
   "cell_type": "code",
   "execution_count": 110,
   "id": "a1455cf5",
   "metadata": {},
   "outputs": [],
   "source": [
    "loan_filtered_df = new_loan_df.na.drop(subset=null_columns)"
   ]
  },
  {
   "cell_type": "code",
   "execution_count": 67,
   "id": "49ec0af2",
   "metadata": {},
   "outputs": [
    {
     "data": {
      "text/plain": [
       "2260667"
      ]
     },
     "execution_count": 67,
     "metadata": {},
     "output_type": "execute_result"
    }
   ],
   "source": [
    "loan_filtered_df.count()"
   ]
  },
  {
   "cell_type": "code",
   "execution_count": 111,
   "id": "522a02a2",
   "metadata": {},
   "outputs": [],
   "source": [
    "loan_filtered_df.createOrReplaceTempView(\"loan_data\")"
   ]
  },
  {
   "cell_type": "code",
   "execution_count": 68,
   "id": "7f260b65",
   "metadata": {},
   "outputs": [
    {
     "data": {
      "text/html": [
       "<table border='1'>\n",
       "<tr><th>loan_id</th><th>member_id</th><th>loan_amount</th><th>funded_amount</th><th>loan_term_month</th><th>interest_rate</th><th>monthly_installment</th><th>issue_date</th><th>loan_status</th><th>loan_purpose</th><th>loan_title</th><th>ingestion_date</th></tr>\n",
       "<tr><td>491699</td><td>961ae110ec063761f...</td><td>7000.0</td><td>7000.0</td><td>36 months</td><td>12.73</td><td>234.97</td><td>Mar-2010</td><td>Fully Paid</td><td>debt_consolidation</td><td>Noelle&#x27;s debt con...</td><td>2024-07-04 22:46:...</td></tr>\n",
       "<tr><td>491685</td><td>291854d244748c911...</td><td>15000.0</td><td>15000.0</td><td>36 months</td><td>10.62</td><td>488.4</td><td>Mar-2010</td><td>Fully Paid</td><td>other</td><td>Education</td><td>2024-07-04 22:46:...</td></tr>\n",
       "<tr><td>491667</td><td>b5cf66b90193da9d2...</td><td>6400.0</td><td>6400.0</td><td>36 months</td><td>7.88</td><td>200.2</td><td>Mar-2010</td><td>Fully Paid</td><td>debt_consolidation</td><td>Make money easily</td><td>2024-07-04 22:46:...</td></tr>\n",
       "<tr><td>491160</td><td>7f53fd1acb7759e5b...</td><td>4000.0</td><td>4000.0</td><td>36 months</td><td>14.59</td><td>137.86</td><td>Mar-2010</td><td>Fully Paid</td><td>wedding</td><td>wedding expenses</td><td>2024-07-04 22:46:...</td></tr>\n",
       "<tr><td>491675</td><td>12edc8e328b993914...</td><td>20000.0</td><td>20000.0</td><td>36 months</td><td>13.85</td><td>682.08</td><td>Mar-2010</td><td>Fully Paid</td><td>other</td><td>Short Term Tax Loan</td><td>2024-07-04 22:46:...</td></tr>\n",
       "<tr><td>491668</td><td>e18a847f091332ff6...</td><td>6000.0</td><td>6000.0</td><td>36 months</td><td>11.36</td><td>197.47</td><td>Mar-2010</td><td>Charged Off</td><td>debt_consolidation</td><td>GREAT BORROWER --...</td><td>2024-07-04 22:46:...</td></tr>\n",
       "<tr><td>491663</td><td>d6fe0000e876ab76d...</td><td>5500.0</td><td>5500.0</td><td>36 months</td><td>11.36</td><td>181.02</td><td>Mar-2010</td><td>Fully Paid</td><td>credit_card</td><td>Road to Success</td><td>2024-07-04 22:46:...</td></tr>\n",
       "<tr><td>491632</td><td>62c38934f3a2ebcd2...</td><td>10000.0</td><td>10000.0</td><td>36 months</td><td>15.7</td><td>350.11</td><td>Mar-2010</td><td>Fully Paid</td><td>credit_card</td><td>Finish Paying off...</td><td>2024-07-04 22:46:...</td></tr>\n",
       "<tr><td>491618</td><td>7701762ef5d302b0d...</td><td>25000.0</td><td>25000.0</td><td>36 months</td><td>15.33</td><td>870.71</td><td>Mar-2010</td><td>Fully Paid</td><td>debt_consolidation</td><td>Pay off my high i...</td><td>2024-07-04 22:46:...</td></tr>\n",
       "<tr><td>491622</td><td>42a2df45b02b21b9a...</td><td>25000.0</td><td>25000.0</td><td>36 months</td><td>16.07</td><td>879.85</td><td>Mar-2010</td><td>Fully Paid</td><td>debt_consolidation</td><td>Debt Pay Off</td><td>2024-07-04 22:46:...</td></tr>\n",
       "<tr><td>491552</td><td>b1ba0adce0baea939...</td><td>22000.0</td><td>22000.0</td><td>36 months</td><td>11.36</td><td>724.05</td><td>Mar-2010</td><td>Fully Paid</td><td>debt_consolidation</td><td>Getting rid of Ne...</td><td>2024-07-04 22:46:...</td></tr>\n",
       "<tr><td>491477</td><td>82cdc418e3907686a...</td><td>16750.0</td><td>16750.0</td><td>36 months</td><td>13.11</td><td>565.23</td><td>Mar-2010</td><td>Fully Paid</td><td>debt_consolidation</td><td>Special Ed teache...</td><td>2024-07-04 22:46:...</td></tr>\n",
       "<tr><td>491596</td><td>6cbc67caa30708b24...</td><td>3600.0</td><td>3600.0</td><td>36 months</td><td>15.7</td><td>126.04</td><td>Mar-2010</td><td>Fully Paid</td><td>credit_card</td><td>Credit Card Elimi...</td><td>2024-07-04 22:46:...</td></tr>\n",
       "<tr><td>491575</td><td>3bae7a88975616641...</td><td>13750.0</td><td>13750.0</td><td>36 months</td><td>14.96</td><td>476.39</td><td>Mar-2010</td><td>Fully Paid</td><td>debt_consolidation</td><td>Personal Loan</td><td>2024-07-04 22:46:...</td></tr>\n",
       "<tr><td>491581</td><td>55694e52b6a698777...</td><td>8500.0</td><td>8500.0</td><td>36 months</td><td>10.62</td><td>276.76</td><td>Mar-2010</td><td>Fully Paid</td><td>debt_consolidation</td><td>Reduce Debt befor...</td><td>2024-07-04 22:46:...</td></tr>\n",
       "<tr><td>423260</td><td>c666d309594cceae5...</td><td>10000.0</td><td>10000.0</td><td>36 months</td><td>7.88</td><td>312.81</td><td>Mar-2010</td><td>Fully Paid</td><td>first as a Borrow...</td><td>first as a relati...</td><td>2024-07-04 22:46:...</td></tr>\n",
       "<tr><td>488022</td><td>cc859b4c14c9eb521...</td><td>8000.0</td><td>8000.0</td><td>36 months</td><td>9.88</td><td>257.69</td><td>Mar-2010</td><td>Fully Paid</td><td>debt_consolidation</td><td>pay off credit ca...</td><td>2024-07-04 22:46:...</td></tr>\n",
       "<tr><td>491557</td><td>dc1eeb967d0041bec...</td><td>12000.0</td><td>12000.0</td><td>36 months</td><td>13.48</td><td>407.09</td><td>Mar-2010</td><td>Fully Paid</td><td>other</td><td>Payoff Easy!</td><td>2024-07-04 22:46:...</td></tr>\n",
       "<tr><td>491494</td><td>123126e86ba5ecd5d...</td><td>10000.0</td><td>10000.0</td><td>36 months</td><td>14.96</td><td>346.47</td><td>Mar-2010</td><td>Fully Paid</td><td>debt_consolidation</td><td>Credit Card Conso...</td><td>2024-07-04 22:46:...</td></tr>\n",
       "<tr><td>491487</td><td>aeb1851b33df8f924...</td><td>11000.0</td><td>11000.0</td><td>36 months</td><td>13.85</td><td>375.15</td><td>Mar-2010</td><td>Fully Paid</td><td>debt_consolidation</td><td>Credit card conso...</td><td>2024-07-04 22:46:...</td></tr>\n",
       "</table>\n",
       "only showing top 20 rows\n"
      ],
      "text/plain": [
       "+-------+--------------------+-----------+-------------+---------------+-------------+-------------------+----------+-----------+--------------------+--------------------+--------------------+\n",
       "|loan_id|           member_id|loan_amount|funded_amount|loan_term_month|interest_rate|monthly_installment|issue_date|loan_status|        loan_purpose|          loan_title|      ingestion_date|\n",
       "+-------+--------------------+-----------+-------------+---------------+-------------+-------------------+----------+-----------+--------------------+--------------------+--------------------+\n",
       "| 491699|961ae110ec063761f...|     7000.0|       7000.0|      36 months|        12.73|             234.97|  Mar-2010| Fully Paid|  debt_consolidation|Noelle's debt con...|2024-07-04 22:46:...|\n",
       "| 491685|291854d244748c911...|    15000.0|      15000.0|      36 months|        10.62|              488.4|  Mar-2010| Fully Paid|               other|           Education|2024-07-04 22:46:...|\n",
       "| 491667|b5cf66b90193da9d2...|     6400.0|       6400.0|      36 months|         7.88|              200.2|  Mar-2010| Fully Paid|  debt_consolidation|   Make money easily|2024-07-04 22:46:...|\n",
       "| 491160|7f53fd1acb7759e5b...|     4000.0|       4000.0|      36 months|        14.59|             137.86|  Mar-2010| Fully Paid|             wedding|    wedding expenses|2024-07-04 22:46:...|\n",
       "| 491675|12edc8e328b993914...|    20000.0|      20000.0|      36 months|        13.85|             682.08|  Mar-2010| Fully Paid|               other| Short Term Tax Loan|2024-07-04 22:46:...|\n",
       "| 491668|e18a847f091332ff6...|     6000.0|       6000.0|      36 months|        11.36|             197.47|  Mar-2010|Charged Off|  debt_consolidation|GREAT BORROWER --...|2024-07-04 22:46:...|\n",
       "| 491663|d6fe0000e876ab76d...|     5500.0|       5500.0|      36 months|        11.36|             181.02|  Mar-2010| Fully Paid|         credit_card|     Road to Success|2024-07-04 22:46:...|\n",
       "| 491632|62c38934f3a2ebcd2...|    10000.0|      10000.0|      36 months|         15.7|             350.11|  Mar-2010| Fully Paid|         credit_card|Finish Paying off...|2024-07-04 22:46:...|\n",
       "| 491618|7701762ef5d302b0d...|    25000.0|      25000.0|      36 months|        15.33|             870.71|  Mar-2010| Fully Paid|  debt_consolidation|Pay off my high i...|2024-07-04 22:46:...|\n",
       "| 491622|42a2df45b02b21b9a...|    25000.0|      25000.0|      36 months|        16.07|             879.85|  Mar-2010| Fully Paid|  debt_consolidation|        Debt Pay Off|2024-07-04 22:46:...|\n",
       "| 491552|b1ba0adce0baea939...|    22000.0|      22000.0|      36 months|        11.36|             724.05|  Mar-2010| Fully Paid|  debt_consolidation|Getting rid of Ne...|2024-07-04 22:46:...|\n",
       "| 491477|82cdc418e3907686a...|    16750.0|      16750.0|      36 months|        13.11|             565.23|  Mar-2010| Fully Paid|  debt_consolidation|Special Ed teache...|2024-07-04 22:46:...|\n",
       "| 491596|6cbc67caa30708b24...|     3600.0|       3600.0|      36 months|         15.7|             126.04|  Mar-2010| Fully Paid|         credit_card|Credit Card Elimi...|2024-07-04 22:46:...|\n",
       "| 491575|3bae7a88975616641...|    13750.0|      13750.0|      36 months|        14.96|             476.39|  Mar-2010| Fully Paid|  debt_consolidation|       Personal Loan|2024-07-04 22:46:...|\n",
       "| 491581|55694e52b6a698777...|     8500.0|       8500.0|      36 months|        10.62|             276.76|  Mar-2010| Fully Paid|  debt_consolidation|Reduce Debt befor...|2024-07-04 22:46:...|\n",
       "| 423260|c666d309594cceae5...|    10000.0|      10000.0|      36 months|         7.88|             312.81|  Mar-2010| Fully Paid|first as a Borrow...|first as a relati...|2024-07-04 22:46:...|\n",
       "| 488022|cc859b4c14c9eb521...|     8000.0|       8000.0|      36 months|         9.88|             257.69|  Mar-2010| Fully Paid|  debt_consolidation|pay off credit ca...|2024-07-04 22:46:...|\n",
       "| 491557|dc1eeb967d0041bec...|    12000.0|      12000.0|      36 months|        13.48|             407.09|  Mar-2010| Fully Paid|               other|        Payoff Easy!|2024-07-04 22:46:...|\n",
       "| 491494|123126e86ba5ecd5d...|    10000.0|      10000.0|      36 months|        14.96|             346.47|  Mar-2010| Fully Paid|  debt_consolidation|Credit Card Conso...|2024-07-04 22:46:...|\n",
       "| 491487|aeb1851b33df8f924...|    11000.0|      11000.0|      36 months|        13.85|             375.15|  Mar-2010| Fully Paid|  debt_consolidation|Credit card conso...|2024-07-04 22:46:...|\n",
       "+-------+--------------------+-----------+-------------+---------------+-------------+-------------------+----------+-----------+--------------------+--------------------+--------------------+\n",
       "only showing top 20 rows"
      ]
     },
     "execution_count": 68,
     "metadata": {},
     "output_type": "execute_result"
    }
   ],
   "source": [
    "loan_filtered_df"
   ]
  },
  {
   "cell_type": "code",
   "execution_count": 112,
   "id": "bb8346ee",
   "metadata": {},
   "outputs": [],
   "source": [
    "from pyspark.sql.functions import regexp_replace, col"
   ]
  },
  {
   "cell_type": "code",
   "execution_count": 113,
   "id": "86d9e807",
   "metadata": {},
   "outputs": [],
   "source": [
    "loan_term_fixed_df = loan_filtered_df.withColumn(\"loan_term_month\",(regexp_replace(col(\"loan_term_month\"),\"months\",\"\") \\\n",
    ".cast(\"int\")/12) \\\n",
    ".cast(\"int\")) \\\n",
    ".withColumnRenamed(\"loan_term_month\",\"loan_term_years\")"
   ]
  },
  {
   "cell_type": "code",
   "execution_count": 114,
   "id": "337a4a6b",
   "metadata": {},
   "outputs": [
    {
     "data": {
      "text/html": [
       "<table border='1'>\n",
       "<tr><th>loan_id</th><th>member_id</th><th>loan_amount</th><th>funded_amount</th><th>loan_term_years</th><th>interest_rate</th><th>monthly_installment</th><th>issue_date</th><th>loan_status</th><th>loan_purpose</th><th>loan_title</th><th>ingestion_date</th></tr>\n",
       "<tr><td>491699</td><td>961ae110ec063761f...</td><td>7000.0</td><td>7000.0</td><td>3</td><td>12.73</td><td>234.97</td><td>Mar-2010</td><td>Fully Paid</td><td>debt_consolidation</td><td>Noelle&#x27;s debt con...</td><td>2024-07-04 23:20:...</td></tr>\n",
       "<tr><td>491685</td><td>291854d244748c911...</td><td>15000.0</td><td>15000.0</td><td>3</td><td>10.62</td><td>488.4</td><td>Mar-2010</td><td>Fully Paid</td><td>other</td><td>Education</td><td>2024-07-04 23:20:...</td></tr>\n",
       "<tr><td>491667</td><td>b5cf66b90193da9d2...</td><td>6400.0</td><td>6400.0</td><td>3</td><td>7.88</td><td>200.2</td><td>Mar-2010</td><td>Fully Paid</td><td>debt_consolidation</td><td>Make money easily</td><td>2024-07-04 23:20:...</td></tr>\n",
       "<tr><td>491160</td><td>7f53fd1acb7759e5b...</td><td>4000.0</td><td>4000.0</td><td>3</td><td>14.59</td><td>137.86</td><td>Mar-2010</td><td>Fully Paid</td><td>wedding</td><td>wedding expenses</td><td>2024-07-04 23:20:...</td></tr>\n",
       "<tr><td>491675</td><td>12edc8e328b993914...</td><td>20000.0</td><td>20000.0</td><td>3</td><td>13.85</td><td>682.08</td><td>Mar-2010</td><td>Fully Paid</td><td>other</td><td>Short Term Tax Loan</td><td>2024-07-04 23:20:...</td></tr>\n",
       "<tr><td>491668</td><td>e18a847f091332ff6...</td><td>6000.0</td><td>6000.0</td><td>3</td><td>11.36</td><td>197.47</td><td>Mar-2010</td><td>Charged Off</td><td>debt_consolidation</td><td>GREAT BORROWER --...</td><td>2024-07-04 23:20:...</td></tr>\n",
       "<tr><td>491663</td><td>d6fe0000e876ab76d...</td><td>5500.0</td><td>5500.0</td><td>3</td><td>11.36</td><td>181.02</td><td>Mar-2010</td><td>Fully Paid</td><td>credit_card</td><td>Road to Success</td><td>2024-07-04 23:20:...</td></tr>\n",
       "<tr><td>491632</td><td>62c38934f3a2ebcd2...</td><td>10000.0</td><td>10000.0</td><td>3</td><td>15.7</td><td>350.11</td><td>Mar-2010</td><td>Fully Paid</td><td>credit_card</td><td>Finish Paying off...</td><td>2024-07-04 23:20:...</td></tr>\n",
       "<tr><td>491618</td><td>7701762ef5d302b0d...</td><td>25000.0</td><td>25000.0</td><td>3</td><td>15.33</td><td>870.71</td><td>Mar-2010</td><td>Fully Paid</td><td>debt_consolidation</td><td>Pay off my high i...</td><td>2024-07-04 23:20:...</td></tr>\n",
       "<tr><td>491622</td><td>42a2df45b02b21b9a...</td><td>25000.0</td><td>25000.0</td><td>3</td><td>16.07</td><td>879.85</td><td>Mar-2010</td><td>Fully Paid</td><td>debt_consolidation</td><td>Debt Pay Off</td><td>2024-07-04 23:20:...</td></tr>\n",
       "<tr><td>491552</td><td>b1ba0adce0baea939...</td><td>22000.0</td><td>22000.0</td><td>3</td><td>11.36</td><td>724.05</td><td>Mar-2010</td><td>Fully Paid</td><td>debt_consolidation</td><td>Getting rid of Ne...</td><td>2024-07-04 23:20:...</td></tr>\n",
       "<tr><td>491477</td><td>82cdc418e3907686a...</td><td>16750.0</td><td>16750.0</td><td>3</td><td>13.11</td><td>565.23</td><td>Mar-2010</td><td>Fully Paid</td><td>debt_consolidation</td><td>Special Ed teache...</td><td>2024-07-04 23:20:...</td></tr>\n",
       "<tr><td>491596</td><td>6cbc67caa30708b24...</td><td>3600.0</td><td>3600.0</td><td>3</td><td>15.7</td><td>126.04</td><td>Mar-2010</td><td>Fully Paid</td><td>credit_card</td><td>Credit Card Elimi...</td><td>2024-07-04 23:20:...</td></tr>\n",
       "<tr><td>491575</td><td>3bae7a88975616641...</td><td>13750.0</td><td>13750.0</td><td>3</td><td>14.96</td><td>476.39</td><td>Mar-2010</td><td>Fully Paid</td><td>debt_consolidation</td><td>Personal Loan</td><td>2024-07-04 23:20:...</td></tr>\n",
       "<tr><td>491581</td><td>55694e52b6a698777...</td><td>8500.0</td><td>8500.0</td><td>3</td><td>10.62</td><td>276.76</td><td>Mar-2010</td><td>Fully Paid</td><td>debt_consolidation</td><td>Reduce Debt befor...</td><td>2024-07-04 23:20:...</td></tr>\n",
       "<tr><td>423260</td><td>c666d309594cceae5...</td><td>10000.0</td><td>10000.0</td><td>3</td><td>7.88</td><td>312.81</td><td>Mar-2010</td><td>Fully Paid</td><td>first as a Borrow...</td><td>first as a relati...</td><td>2024-07-04 23:20:...</td></tr>\n",
       "<tr><td>488022</td><td>cc859b4c14c9eb521...</td><td>8000.0</td><td>8000.0</td><td>3</td><td>9.88</td><td>257.69</td><td>Mar-2010</td><td>Fully Paid</td><td>debt_consolidation</td><td>pay off credit ca...</td><td>2024-07-04 23:20:...</td></tr>\n",
       "<tr><td>491557</td><td>dc1eeb967d0041bec...</td><td>12000.0</td><td>12000.0</td><td>3</td><td>13.48</td><td>407.09</td><td>Mar-2010</td><td>Fully Paid</td><td>other</td><td>Payoff Easy!</td><td>2024-07-04 23:20:...</td></tr>\n",
       "<tr><td>491494</td><td>123126e86ba5ecd5d...</td><td>10000.0</td><td>10000.0</td><td>3</td><td>14.96</td><td>346.47</td><td>Mar-2010</td><td>Fully Paid</td><td>debt_consolidation</td><td>Credit Card Conso...</td><td>2024-07-04 23:20:...</td></tr>\n",
       "<tr><td>491487</td><td>aeb1851b33df8f924...</td><td>11000.0</td><td>11000.0</td><td>3</td><td>13.85</td><td>375.15</td><td>Mar-2010</td><td>Fully Paid</td><td>debt_consolidation</td><td>Credit card conso...</td><td>2024-07-04 23:20:...</td></tr>\n",
       "</table>\n",
       "only showing top 20 rows\n"
      ],
      "text/plain": [
       "+-------+--------------------+-----------+-------------+---------------+-------------+-------------------+----------+-----------+--------------------+--------------------+--------------------+\n",
       "|loan_id|           member_id|loan_amount|funded_amount|loan_term_years|interest_rate|monthly_installment|issue_date|loan_status|        loan_purpose|          loan_title|      ingestion_date|\n",
       "+-------+--------------------+-----------+-------------+---------------+-------------+-------------------+----------+-----------+--------------------+--------------------+--------------------+\n",
       "| 491699|961ae110ec063761f...|     7000.0|       7000.0|              3|        12.73|             234.97|  Mar-2010| Fully Paid|  debt_consolidation|Noelle's debt con...|2024-07-04 23:20:...|\n",
       "| 491685|291854d244748c911...|    15000.0|      15000.0|              3|        10.62|              488.4|  Mar-2010| Fully Paid|               other|           Education|2024-07-04 23:20:...|\n",
       "| 491667|b5cf66b90193da9d2...|     6400.0|       6400.0|              3|         7.88|              200.2|  Mar-2010| Fully Paid|  debt_consolidation|   Make money easily|2024-07-04 23:20:...|\n",
       "| 491160|7f53fd1acb7759e5b...|     4000.0|       4000.0|              3|        14.59|             137.86|  Mar-2010| Fully Paid|             wedding|    wedding expenses|2024-07-04 23:20:...|\n",
       "| 491675|12edc8e328b993914...|    20000.0|      20000.0|              3|        13.85|             682.08|  Mar-2010| Fully Paid|               other| Short Term Tax Loan|2024-07-04 23:20:...|\n",
       "| 491668|e18a847f091332ff6...|     6000.0|       6000.0|              3|        11.36|             197.47|  Mar-2010|Charged Off|  debt_consolidation|GREAT BORROWER --...|2024-07-04 23:20:...|\n",
       "| 491663|d6fe0000e876ab76d...|     5500.0|       5500.0|              3|        11.36|             181.02|  Mar-2010| Fully Paid|         credit_card|     Road to Success|2024-07-04 23:20:...|\n",
       "| 491632|62c38934f3a2ebcd2...|    10000.0|      10000.0|              3|         15.7|             350.11|  Mar-2010| Fully Paid|         credit_card|Finish Paying off...|2024-07-04 23:20:...|\n",
       "| 491618|7701762ef5d302b0d...|    25000.0|      25000.0|              3|        15.33|             870.71|  Mar-2010| Fully Paid|  debt_consolidation|Pay off my high i...|2024-07-04 23:20:...|\n",
       "| 491622|42a2df45b02b21b9a...|    25000.0|      25000.0|              3|        16.07|             879.85|  Mar-2010| Fully Paid|  debt_consolidation|        Debt Pay Off|2024-07-04 23:20:...|\n",
       "| 491552|b1ba0adce0baea939...|    22000.0|      22000.0|              3|        11.36|             724.05|  Mar-2010| Fully Paid|  debt_consolidation|Getting rid of Ne...|2024-07-04 23:20:...|\n",
       "| 491477|82cdc418e3907686a...|    16750.0|      16750.0|              3|        13.11|             565.23|  Mar-2010| Fully Paid|  debt_consolidation|Special Ed teache...|2024-07-04 23:20:...|\n",
       "| 491596|6cbc67caa30708b24...|     3600.0|       3600.0|              3|         15.7|             126.04|  Mar-2010| Fully Paid|         credit_card|Credit Card Elimi...|2024-07-04 23:20:...|\n",
       "| 491575|3bae7a88975616641...|    13750.0|      13750.0|              3|        14.96|             476.39|  Mar-2010| Fully Paid|  debt_consolidation|       Personal Loan|2024-07-04 23:20:...|\n",
       "| 491581|55694e52b6a698777...|     8500.0|       8500.0|              3|        10.62|             276.76|  Mar-2010| Fully Paid|  debt_consolidation|Reduce Debt befor...|2024-07-04 23:20:...|\n",
       "| 423260|c666d309594cceae5...|    10000.0|      10000.0|              3|         7.88|             312.81|  Mar-2010| Fully Paid|first as a Borrow...|first as a relati...|2024-07-04 23:20:...|\n",
       "| 488022|cc859b4c14c9eb521...|     8000.0|       8000.0|              3|         9.88|             257.69|  Mar-2010| Fully Paid|  debt_consolidation|pay off credit ca...|2024-07-04 23:20:...|\n",
       "| 491557|dc1eeb967d0041bec...|    12000.0|      12000.0|              3|        13.48|             407.09|  Mar-2010| Fully Paid|               other|        Payoff Easy!|2024-07-04 23:20:...|\n",
       "| 491494|123126e86ba5ecd5d...|    10000.0|      10000.0|              3|        14.96|             346.47|  Mar-2010| Fully Paid|  debt_consolidation|Credit Card Conso...|2024-07-04 23:20:...|\n",
       "| 491487|aeb1851b33df8f924...|    11000.0|      11000.0|              3|        13.85|             375.15|  Mar-2010| Fully Paid|  debt_consolidation|Credit card conso...|2024-07-04 23:20:...|\n",
       "+-------+--------------------+-----------+-------------+---------------+-------------+-------------------+----------+-----------+--------------------+--------------------+--------------------+\n",
       "only showing top 20 rows"
      ]
     },
     "execution_count": 114,
     "metadata": {},
     "output_type": "execute_result"
    }
   ],
   "source": [
    "loan_term_fixed_df"
   ]
  },
  {
   "cell_type": "code",
   "execution_count": 93,
   "id": "6707c61a",
   "metadata": {},
   "outputs": [
    {
     "name": "stdout",
     "output_type": "stream",
     "text": [
      "root\n",
      " |-- loan_id: string (nullable = true)\n",
      " |-- member_id: string (nullable = true)\n",
      " |-- loan_amount: float (nullable = true)\n",
      " |-- funded_amount: float (nullable = true)\n",
      " |-- loan_term_years: integer (nullable = true)\n",
      " |-- interest_rate: float (nullable = true)\n",
      " |-- monthly_installment: float (nullable = true)\n",
      " |-- issue_date: string (nullable = true)\n",
      " |-- loan_status: string (nullable = true)\n",
      " |-- loan_purpose: string (nullable = true)\n",
      " |-- loan_title: string (nullable = true)\n",
      " |-- ingestion_date: timestamp (nullable = false)\n",
      "\n"
     ]
    }
   ],
   "source": [
    "loan_term_fixed_df.printSchema()"
   ]
  },
  {
   "cell_type": "code",
   "execution_count": 115,
   "id": "f210436f",
   "metadata": {},
   "outputs": [],
   "source": [
    "loan_term_fixed_df.createOrReplaceTempView(\"loan_data\")"
   ]
  },
  {
   "cell_type": "code",
   "execution_count": 117,
   "id": "817795dd",
   "metadata": {},
   "outputs": [
    {
     "data": {
      "text/html": [
       "<table border='1'>\n",
       "<tr><th>loan_purpose</th><th>total_count</th></tr>\n",
       "<tr><td>debt_consolidation</td><td>1277790</td></tr>\n",
       "<tr><td>credit_card</td><td>516926</td></tr>\n",
       "<tr><td>home_improvement</td><td>150440</td></tr>\n",
       "<tr><td>other</td><td>139413</td></tr>\n",
       "<tr><td>major_purchase</td><td>50429</td></tr>\n",
       "<tr><td>medical</td><td>27481</td></tr>\n",
       "<tr><td>small_business</td><td>24659</td></tr>\n",
       "<tr><td>car</td><td>24009</td></tr>\n",
       "<tr><td>vacation</td><td>15525</td></tr>\n",
       "<tr><td>moving</td><td>15402</td></tr>\n",
       "<tr><td>house</td><td>14131</td></tr>\n",
       "<tr><td>wedding</td><td>2351</td></tr>\n",
       "<tr><td>renewable_energy</td><td>1445</td></tr>\n",
       "<tr><td>educational</td><td>412</td></tr>\n",
       "<tr><td>on one of the bus...</td><td>1</td></tr>\n",
       "<tr><td>never had any tro...</td><td>1</td></tr>\n",
       "<tr><td>Bank of America c...</td><td>1</td></tr>\n",
       "<tr><td>&lt;br/&gt;&lt;br/&gt;Lending...</td><td>1</td></tr>\n",
       "<tr><td>because of the na...</td><td>1</td></tr>\n",
       "<tr><td>but we cant all b...</td><td>1</td></tr>\n",
       "</table>\n",
       "only showing top 20 rows\n"
      ],
      "text/plain": [
       "+--------------------+-----------+\n",
       "|        loan_purpose|total_count|\n",
       "+--------------------+-----------+\n",
       "|  debt_consolidation|    1277790|\n",
       "|         credit_card|     516926|\n",
       "|    home_improvement|     150440|\n",
       "|               other|     139413|\n",
       "|      major_purchase|      50429|\n",
       "|             medical|      27481|\n",
       "|      small_business|      24659|\n",
       "|                 car|      24009|\n",
       "|            vacation|      15525|\n",
       "|              moving|      15402|\n",
       "|               house|      14131|\n",
       "|             wedding|       2351|\n",
       "|    renewable_energy|       1445|\n",
       "|         educational|        412|\n",
       "|                 768|          1|\n",
       "|              stocks|          1|\n",
       "|putting together ...|          1|\n",
       "|but we cant all b...|          1|\n",
       "|              brakes|          1|\n",
       "|please feel free ...|          1|\n",
       "+--------------------+-----------+\n",
       "only showing top 20 rows"
      ]
     },
     "execution_count": 117,
     "metadata": {},
     "output_type": "execute_result"
    }
   ],
   "source": [
    "spark.sql(\"select loan_purpose,count(*) as total_count from loan_data group by loan_purpose order by total_count desc\")"
   ]
  },
  {
   "cell_type": "code",
   "execution_count": 118,
   "id": "774f999d",
   "metadata": {},
   "outputs": [],
   "source": [
    "loan_purpose_lookup = ['debt_consolidation','credit_card','home_improvement','other','major_purchase','medical','small_business','car','vacation','moving','house','wedding','renewable_energy','educational']"
   ]
  },
  {
   "cell_type": "code",
   "execution_count": 119,
   "id": "51c81693",
   "metadata": {},
   "outputs": [],
   "source": [
    "from pyspark.sql.functions import when"
   ]
  },
  {
   "cell_type": "code",
   "execution_count": 120,
   "id": "661fa880",
   "metadata": {},
   "outputs": [],
   "source": [
    "loans_purpose_fixed_df = loan_term_fixed_df.withColumn(\"loan_purpose\",when(col(\"loan_purpose\").isin(loan_purpose_lookup),col(\"loan_purpose\")).otherwise(\"other\"))"
   ]
  },
  {
   "cell_type": "code",
   "execution_count": 121,
   "id": "c6ad5c09",
   "metadata": {},
   "outputs": [],
   "source": [
    "loans_purpose_fixed_df.createOrReplaceTempView(\"loan_data\")"
   ]
  },
  {
   "cell_type": "code",
   "execution_count": 122,
   "id": "fda8f084",
   "metadata": {},
   "outputs": [
    {
     "data": {
      "text/html": [
       "<table border='1'>\n",
       "<tr><th>loan_id</th><th>member_id</th><th>loan_amount</th><th>funded_amount</th><th>loan_term_years</th><th>interest_rate</th><th>monthly_installment</th><th>issue_date</th><th>loan_status</th><th>loan_purpose</th><th>loan_title</th><th>ingestion_date</th></tr>\n",
       "<tr><td>491699</td><td>961ae110ec063761f...</td><td>7000.0</td><td>7000.0</td><td>3</td><td>12.73</td><td>234.97</td><td>Mar-2010</td><td>Fully Paid</td><td>debt_consolidation</td><td>Noelle&#x27;s debt con...</td><td>2024-07-04 23:21:...</td></tr>\n",
       "<tr><td>491685</td><td>291854d244748c911...</td><td>15000.0</td><td>15000.0</td><td>3</td><td>10.62</td><td>488.4</td><td>Mar-2010</td><td>Fully Paid</td><td>other</td><td>Education</td><td>2024-07-04 23:21:...</td></tr>\n",
       "<tr><td>491667</td><td>b5cf66b90193da9d2...</td><td>6400.0</td><td>6400.0</td><td>3</td><td>7.88</td><td>200.2</td><td>Mar-2010</td><td>Fully Paid</td><td>debt_consolidation</td><td>Make money easily</td><td>2024-07-04 23:21:...</td></tr>\n",
       "<tr><td>491160</td><td>7f53fd1acb7759e5b...</td><td>4000.0</td><td>4000.0</td><td>3</td><td>14.59</td><td>137.86</td><td>Mar-2010</td><td>Fully Paid</td><td>wedding</td><td>wedding expenses</td><td>2024-07-04 23:21:...</td></tr>\n",
       "<tr><td>491675</td><td>12edc8e328b993914...</td><td>20000.0</td><td>20000.0</td><td>3</td><td>13.85</td><td>682.08</td><td>Mar-2010</td><td>Fully Paid</td><td>other</td><td>Short Term Tax Loan</td><td>2024-07-04 23:21:...</td></tr>\n",
       "<tr><td>491668</td><td>e18a847f091332ff6...</td><td>6000.0</td><td>6000.0</td><td>3</td><td>11.36</td><td>197.47</td><td>Mar-2010</td><td>Charged Off</td><td>debt_consolidation</td><td>GREAT BORROWER --...</td><td>2024-07-04 23:21:...</td></tr>\n",
       "<tr><td>491663</td><td>d6fe0000e876ab76d...</td><td>5500.0</td><td>5500.0</td><td>3</td><td>11.36</td><td>181.02</td><td>Mar-2010</td><td>Fully Paid</td><td>credit_card</td><td>Road to Success</td><td>2024-07-04 23:21:...</td></tr>\n",
       "<tr><td>491632</td><td>62c38934f3a2ebcd2...</td><td>10000.0</td><td>10000.0</td><td>3</td><td>15.7</td><td>350.11</td><td>Mar-2010</td><td>Fully Paid</td><td>credit_card</td><td>Finish Paying off...</td><td>2024-07-04 23:21:...</td></tr>\n",
       "<tr><td>491618</td><td>7701762ef5d302b0d...</td><td>25000.0</td><td>25000.0</td><td>3</td><td>15.33</td><td>870.71</td><td>Mar-2010</td><td>Fully Paid</td><td>debt_consolidation</td><td>Pay off my high i...</td><td>2024-07-04 23:21:...</td></tr>\n",
       "<tr><td>491622</td><td>42a2df45b02b21b9a...</td><td>25000.0</td><td>25000.0</td><td>3</td><td>16.07</td><td>879.85</td><td>Mar-2010</td><td>Fully Paid</td><td>debt_consolidation</td><td>Debt Pay Off</td><td>2024-07-04 23:21:...</td></tr>\n",
       "<tr><td>491552</td><td>b1ba0adce0baea939...</td><td>22000.0</td><td>22000.0</td><td>3</td><td>11.36</td><td>724.05</td><td>Mar-2010</td><td>Fully Paid</td><td>debt_consolidation</td><td>Getting rid of Ne...</td><td>2024-07-04 23:21:...</td></tr>\n",
       "<tr><td>491477</td><td>82cdc418e3907686a...</td><td>16750.0</td><td>16750.0</td><td>3</td><td>13.11</td><td>565.23</td><td>Mar-2010</td><td>Fully Paid</td><td>debt_consolidation</td><td>Special Ed teache...</td><td>2024-07-04 23:21:...</td></tr>\n",
       "<tr><td>491596</td><td>6cbc67caa30708b24...</td><td>3600.0</td><td>3600.0</td><td>3</td><td>15.7</td><td>126.04</td><td>Mar-2010</td><td>Fully Paid</td><td>credit_card</td><td>Credit Card Elimi...</td><td>2024-07-04 23:21:...</td></tr>\n",
       "<tr><td>491575</td><td>3bae7a88975616641...</td><td>13750.0</td><td>13750.0</td><td>3</td><td>14.96</td><td>476.39</td><td>Mar-2010</td><td>Fully Paid</td><td>debt_consolidation</td><td>Personal Loan</td><td>2024-07-04 23:21:...</td></tr>\n",
       "<tr><td>491581</td><td>55694e52b6a698777...</td><td>8500.0</td><td>8500.0</td><td>3</td><td>10.62</td><td>276.76</td><td>Mar-2010</td><td>Fully Paid</td><td>debt_consolidation</td><td>Reduce Debt befor...</td><td>2024-07-04 23:21:...</td></tr>\n",
       "<tr><td>423260</td><td>c666d309594cceae5...</td><td>10000.0</td><td>10000.0</td><td>3</td><td>7.88</td><td>312.81</td><td>Mar-2010</td><td>Fully Paid</td><td>other</td><td>first as a relati...</td><td>2024-07-04 23:21:...</td></tr>\n",
       "<tr><td>488022</td><td>cc859b4c14c9eb521...</td><td>8000.0</td><td>8000.0</td><td>3</td><td>9.88</td><td>257.69</td><td>Mar-2010</td><td>Fully Paid</td><td>debt_consolidation</td><td>pay off credit ca...</td><td>2024-07-04 23:21:...</td></tr>\n",
       "<tr><td>491557</td><td>dc1eeb967d0041bec...</td><td>12000.0</td><td>12000.0</td><td>3</td><td>13.48</td><td>407.09</td><td>Mar-2010</td><td>Fully Paid</td><td>other</td><td>Payoff Easy!</td><td>2024-07-04 23:21:...</td></tr>\n",
       "<tr><td>491494</td><td>123126e86ba5ecd5d...</td><td>10000.0</td><td>10000.0</td><td>3</td><td>14.96</td><td>346.47</td><td>Mar-2010</td><td>Fully Paid</td><td>debt_consolidation</td><td>Credit Card Conso...</td><td>2024-07-04 23:21:...</td></tr>\n",
       "<tr><td>491487</td><td>aeb1851b33df8f924...</td><td>11000.0</td><td>11000.0</td><td>3</td><td>13.85</td><td>375.15</td><td>Mar-2010</td><td>Fully Paid</td><td>debt_consolidation</td><td>Credit card conso...</td><td>2024-07-04 23:21:...</td></tr>\n",
       "</table>\n",
       "only showing top 20 rows\n"
      ],
      "text/plain": [
       "+-------+--------------------+-----------+-------------+---------------+-------------+-------------------+----------+-----------+------------------+--------------------+--------------------+\n",
       "|loan_id|           member_id|loan_amount|funded_amount|loan_term_years|interest_rate|monthly_installment|issue_date|loan_status|      loan_purpose|          loan_title|      ingestion_date|\n",
       "+-------+--------------------+-----------+-------------+---------------+-------------+-------------------+----------+-----------+------------------+--------------------+--------------------+\n",
       "| 491699|961ae110ec063761f...|     7000.0|       7000.0|              3|        12.73|             234.97|  Mar-2010| Fully Paid|debt_consolidation|Noelle's debt con...|2024-07-04 23:21:...|\n",
       "| 491685|291854d244748c911...|    15000.0|      15000.0|              3|        10.62|              488.4|  Mar-2010| Fully Paid|             other|           Education|2024-07-04 23:21:...|\n",
       "| 491667|b5cf66b90193da9d2...|     6400.0|       6400.0|              3|         7.88|              200.2|  Mar-2010| Fully Paid|debt_consolidation|   Make money easily|2024-07-04 23:21:...|\n",
       "| 491160|7f53fd1acb7759e5b...|     4000.0|       4000.0|              3|        14.59|             137.86|  Mar-2010| Fully Paid|           wedding|    wedding expenses|2024-07-04 23:21:...|\n",
       "| 491675|12edc8e328b993914...|    20000.0|      20000.0|              3|        13.85|             682.08|  Mar-2010| Fully Paid|             other| Short Term Tax Loan|2024-07-04 23:21:...|\n",
       "| 491668|e18a847f091332ff6...|     6000.0|       6000.0|              3|        11.36|             197.47|  Mar-2010|Charged Off|debt_consolidation|GREAT BORROWER --...|2024-07-04 23:21:...|\n",
       "| 491663|d6fe0000e876ab76d...|     5500.0|       5500.0|              3|        11.36|             181.02|  Mar-2010| Fully Paid|       credit_card|     Road to Success|2024-07-04 23:21:...|\n",
       "| 491632|62c38934f3a2ebcd2...|    10000.0|      10000.0|              3|         15.7|             350.11|  Mar-2010| Fully Paid|       credit_card|Finish Paying off...|2024-07-04 23:21:...|\n",
       "| 491618|7701762ef5d302b0d...|    25000.0|      25000.0|              3|        15.33|             870.71|  Mar-2010| Fully Paid|debt_consolidation|Pay off my high i...|2024-07-04 23:21:...|\n",
       "| 491622|42a2df45b02b21b9a...|    25000.0|      25000.0|              3|        16.07|             879.85|  Mar-2010| Fully Paid|debt_consolidation|        Debt Pay Off|2024-07-04 23:21:...|\n",
       "| 491552|b1ba0adce0baea939...|    22000.0|      22000.0|              3|        11.36|             724.05|  Mar-2010| Fully Paid|debt_consolidation|Getting rid of Ne...|2024-07-04 23:21:...|\n",
       "| 491477|82cdc418e3907686a...|    16750.0|      16750.0|              3|        13.11|             565.23|  Mar-2010| Fully Paid|debt_consolidation|Special Ed teache...|2024-07-04 23:21:...|\n",
       "| 491596|6cbc67caa30708b24...|     3600.0|       3600.0|              3|         15.7|             126.04|  Mar-2010| Fully Paid|       credit_card|Credit Card Elimi...|2024-07-04 23:21:...|\n",
       "| 491575|3bae7a88975616641...|    13750.0|      13750.0|              3|        14.96|             476.39|  Mar-2010| Fully Paid|debt_consolidation|       Personal Loan|2024-07-04 23:21:...|\n",
       "| 491581|55694e52b6a698777...|     8500.0|       8500.0|              3|        10.62|             276.76|  Mar-2010| Fully Paid|debt_consolidation|Reduce Debt befor...|2024-07-04 23:21:...|\n",
       "| 423260|c666d309594cceae5...|    10000.0|      10000.0|              3|         7.88|             312.81|  Mar-2010| Fully Paid|             other|first as a relati...|2024-07-04 23:21:...|\n",
       "| 488022|cc859b4c14c9eb521...|     8000.0|       8000.0|              3|         9.88|             257.69|  Mar-2010| Fully Paid|debt_consolidation|pay off credit ca...|2024-07-04 23:21:...|\n",
       "| 491557|dc1eeb967d0041bec...|    12000.0|      12000.0|              3|        13.48|             407.09|  Mar-2010| Fully Paid|             other|        Payoff Easy!|2024-07-04 23:21:...|\n",
       "| 491494|123126e86ba5ecd5d...|    10000.0|      10000.0|              3|        14.96|             346.47|  Mar-2010| Fully Paid|debt_consolidation|Credit Card Conso...|2024-07-04 23:21:...|\n",
       "| 491487|aeb1851b33df8f924...|    11000.0|      11000.0|              3|        13.85|             375.15|  Mar-2010| Fully Paid|debt_consolidation|Credit card conso...|2024-07-04 23:21:...|\n",
       "+-------+--------------------+-----------+-------------+---------------+-------------+-------------------+----------+-----------+------------------+--------------------+--------------------+\n",
       "only showing top 20 rows"
      ]
     },
     "execution_count": 122,
     "metadata": {},
     "output_type": "execute_result"
    }
   ],
   "source": [
    "loans_purpose_fixed_df"
   ]
  },
  {
   "cell_type": "code",
   "execution_count": 132,
   "id": "ee6a05aa",
   "metadata": {},
   "outputs": [
    {
     "data": {
      "text/html": [
       "<table border='1'>\n",
       "<tr><th>loan_purpose</th><th>total_count</th></tr>\n",
       "<tr><td>debt_consolidation</td><td>1277790</td></tr>\n",
       "<tr><td>credit_card</td><td>516926</td></tr>\n",
       "<tr><td>home_improvement</td><td>150440</td></tr>\n",
       "<tr><td>other</td><td>139667</td></tr>\n",
       "<tr><td>major_purchase</td><td>50429</td></tr>\n",
       "<tr><td>medical</td><td>27481</td></tr>\n",
       "<tr><td>small_business</td><td>24659</td></tr>\n",
       "<tr><td>car</td><td>24009</td></tr>\n",
       "<tr><td>vacation</td><td>15525</td></tr>\n",
       "<tr><td>moving</td><td>15402</td></tr>\n",
       "<tr><td>house</td><td>14131</td></tr>\n",
       "<tr><td>wedding</td><td>2351</td></tr>\n",
       "<tr><td>renewable_energy</td><td>1445</td></tr>\n",
       "<tr><td>educational</td><td>412</td></tr>\n",
       "</table>\n"
      ],
      "text/plain": [
       "+------------------+-----------+\n",
       "|      loan_purpose|total_count|\n",
       "+------------------+-----------+\n",
       "|debt_consolidation|    1277790|\n",
       "|       credit_card|     516926|\n",
       "|  home_improvement|     150440|\n",
       "|             other|     139667|\n",
       "|    major_purchase|      50429|\n",
       "|           medical|      27481|\n",
       "|    small_business|      24659|\n",
       "|               car|      24009|\n",
       "|          vacation|      15525|\n",
       "|            moving|      15402|\n",
       "|             house|      14131|\n",
       "|           wedding|       2351|\n",
       "|  renewable_energy|       1445|\n",
       "|       educational|        412|\n",
       "+------------------+-----------+"
      ]
     },
     "execution_count": 132,
     "metadata": {},
     "output_type": "execute_result"
    }
   ],
   "source": [
    "spark.sql(\"select loan_purpose,count(*) as total_count from loan_data group by loan_purpose order by total_count desc\")"
   ]
  },
  {
   "cell_type": "code",
   "execution_count": 133,
   "id": "dc4cc4a4",
   "metadata": {},
   "outputs": [],
   "source": [
    "from pyspark.sql.functions import count"
   ]
  },
  {
   "cell_type": "code",
   "execution_count": 134,
   "id": "b4e2f6fb",
   "metadata": {},
   "outputs": [
    {
     "data": {
      "text/html": [
       "<table border='1'>\n",
       "<tr><th>loan_purpose</th><th>total_count</th></tr>\n",
       "<tr><td>debt_consolidation</td><td>1277790</td></tr>\n",
       "<tr><td>credit_card</td><td>516926</td></tr>\n",
       "<tr><td>home_improvement</td><td>150440</td></tr>\n",
       "<tr><td>other</td><td>139667</td></tr>\n",
       "<tr><td>major_purchase</td><td>50429</td></tr>\n",
       "<tr><td>medical</td><td>27481</td></tr>\n",
       "<tr><td>small_business</td><td>24659</td></tr>\n",
       "<tr><td>car</td><td>24009</td></tr>\n",
       "<tr><td>vacation</td><td>15525</td></tr>\n",
       "<tr><td>moving</td><td>15402</td></tr>\n",
       "<tr><td>house</td><td>14131</td></tr>\n",
       "<tr><td>wedding</td><td>2351</td></tr>\n",
       "<tr><td>renewable_energy</td><td>1445</td></tr>\n",
       "<tr><td>educational</td><td>412</td></tr>\n",
       "</table>\n"
      ],
      "text/plain": [
       "+------------------+-----------+\n",
       "|      loan_purpose|total_count|\n",
       "+------------------+-----------+\n",
       "|debt_consolidation|    1277790|\n",
       "|       credit_card|     516926|\n",
       "|  home_improvement|     150440|\n",
       "|             other|     139667|\n",
       "|    major_purchase|      50429|\n",
       "|           medical|      27481|\n",
       "|    small_business|      24659|\n",
       "|               car|      24009|\n",
       "|          vacation|      15525|\n",
       "|            moving|      15402|\n",
       "|             house|      14131|\n",
       "|           wedding|       2351|\n",
       "|  renewable_energy|       1445|\n",
       "|       educational|        412|\n",
       "+------------------+-----------+"
      ]
     },
     "execution_count": 134,
     "metadata": {},
     "output_type": "execute_result"
    }
   ],
   "source": [
    "loans_purpose_fixed_df \\\n",
    ".groupBy(\"loan_purpose\") \\\n",
    ".agg(count(\"*\").alias(\"total_count\")) \\\n",
    ".orderBy(col(\"total_count\").desc())"
   ]
  },
  {
   "cell_type": "code",
   "execution_count": 136,
   "id": "36e6cbd9",
   "metadata": {},
   "outputs": [],
   "source": [
    "loans_purpose_fixed_df.write \\\n",
    ".option(\"header\", True) \\\n",
    ".format(\"csv\") \\\n",
    ".mode(\"overwrite\") \\\n",
    ".option(\"path\",\"/user/itv010130/loanproject/clean/loan_data_csv\") \\\n",
    ".save()"
   ]
  },
  {
   "cell_type": "code",
   "execution_count": 137,
   "id": "a884d0a4",
   "metadata": {},
   "outputs": [],
   "source": [
    "loans_purpose_fixed_df.write \\\n",
    ".format(\"parquet\") \\\n",
    ".mode(\"overwrite\") \\\n",
    ".option(\"path\",\"/user/itv010130/loanproject/clean/loan_data_parquet\") \\\n",
    ".save()"
   ]
  },
  {
   "cell_type": "markdown",
   "id": "42feea5f",
   "metadata": {},
   "source": [
    "### Loan Repayment Data"
   ]
  },
  {
   "cell_type": "code",
   "execution_count": 2,
   "id": "8160e2ab",
   "metadata": {},
   "outputs": [
    {
     "name": "stdout",
     "output_type": "stream",
     "text": [
      "Found 4 items\n",
      "drwxr-xr-x   - itv010130 supergroup          0 2024-06-29 00:32 /user/itv010130/loanproject/raw/customer_data_csv\n",
      "drwxr-xr-x   - itv010130 supergroup          0 2024-06-29 01:00 /user/itv010130/loanproject/raw/loan_data_csv\n",
      "drwxr-xr-x   - itv010130 supergroup          0 2024-06-29 01:12 /user/itv010130/loanproject/raw/loan_defaulters_data_csv\n",
      "drwxr-xr-x   - itv010130 supergroup          0 2024-06-29 01:06 /user/itv010130/loanproject/raw/loan_repayment_data_csv\n"
     ]
    }
   ],
   "source": [
    "!hadoop fs -ls /user/itv010130/loanproject/raw"
   ]
  },
  {
   "cell_type": "code",
   "execution_count": 92,
   "id": "c18790dc",
   "metadata": {},
   "outputs": [],
   "source": [
    "repayment_df = spark.read \\\n",
    ".option(\"header\", True) \\\n",
    ".format(\"csv\") \\\n",
    ".option(\"inferSchema\", True) \\\n",
    ".load(\"/user/itv010130/loanproject/raw/loan_repayment_data_csv\")"
   ]
  },
  {
   "cell_type": "code",
   "execution_count": 93,
   "id": "a1d5b887",
   "metadata": {},
   "outputs": [
    {
     "data": {
      "text/html": [
       "<table border='1'>\n",
       "<tr><th>loan_id</th><th>total_rec_prncp</th><th>total_rec_int</th><th>total_rec_late_fee</th><th>total_pymnt</th><th>last_pymnt_amnt</th><th>last_pymnt_d</th><th>next_pymnt_d</th></tr>\n",
       "<tr><td>84647143</td><td>4000.0</td><td>614.11</td><td>0.0</td><td>4614.1105673405</td><td>1235.28</td><td>Oct-2018</td><td>null</td></tr>\n",
       "<tr><td>86463837</td><td>9967.93</td><td>6417.24</td><td>0.0</td><td>16385.17</td><td>529.11</td><td>Mar-2019</td><td>Apr-2019</td></tr>\n",
       "<tr><td>86643264</td><td>15200.0</td><td>2329.24</td><td>0.0</td><td>17529.2443508552</td><td>14837.07</td><td>Mar-2017</td><td>null</td></tr>\n",
       "<tr><td>85610005</td><td>1001.45</td><td>469.25</td><td>0.0</td><td>1470.7</td><td>246.05</td><td>Feb-2017</td><td>null</td></tr>\n",
       "<tr><td>86101113</td><td>1316.02</td><td>517.0</td><td>0.0</td><td>2001.23</td><td>87.39</td><td>May-2018</td><td>null</td></tr>\n",
       "<tr><td>85952284</td><td>14000.0</td><td>1851.72</td><td>0.0</td><td>15851.717567248501</td><td>4733.71</td><td>Oct-2018</td><td>null</td></tr>\n",
       "<tr><td>84666301</td><td>25193.35</td><td>5450.84</td><td>0.0</td><td>30644.19</td><td>989.14</td><td>Mar-2019</td><td>Apr-2019</td></tr>\n",
       "<tr><td>85872910</td><td>4525.0</td><td>616.49</td><td>0.0</td><td>5141.4886605540005</td><td>3693.97</td><td>Jun-2017</td><td>null</td></tr>\n",
       "<tr><td>85615895</td><td>7500.0</td><td>1764.84</td><td>0.0</td><td>9264.8432563596</td><td>2976.53</td><td>Sep-2018</td><td>null</td></tr>\n",
       "<tr><td>86523233</td><td>2522.48</td><td>520.2</td><td>0.0</td><td>3042.68</td><td>98.21</td><td>Mar-2019</td><td>Apr-2019</td></tr>\n",
       "<tr><td>86022413</td><td>40000.0</td><td>2302.1</td><td>0.0</td><td>42302.0960220822</td><td>36827.7</td><td>Jan-2017</td><td>null</td></tr>\n",
       "<tr><td>86432956</td><td>12000.0</td><td>1173.17</td><td>0.0</td><td>13173.1676151676</td><td>7455.91</td><td>Dec-2017</td><td>null</td></tr>\n",
       "<tr><td>85992799</td><td>7566.74</td><td>1555.18</td><td>0.0</td><td>9121.92</td><td>294.61</td><td>Mar-2019</td><td>Apr-2019</td></tr>\n",
       "<tr><td>86453222</td><td>9484.55</td><td>4480.34</td><td>0.0</td><td>13964.89</td><td>451.27</td><td>Mar-2019</td><td>Apr-2019</td></tr>\n",
       "<tr><td>85805832</td><td>12611.0</td><td>2591.99</td><td>0.0</td><td>15202.99</td><td>491.01</td><td>Mar-2019</td><td>Apr-2019</td></tr>\n",
       "<tr><td>86423193</td><td>5000.0</td><td>315.32</td><td>0.0</td><td>5315.3234522254</td><td>4318.04</td><td>Mar-2017</td><td>null</td></tr>\n",
       "<tr><td>86012238</td><td>1168.63</td><td>420.17</td><td>0.0</td><td>1588.8</td><td>196.41</td><td>Apr-2017</td><td>null</td></tr>\n",
       "<tr><td>86377338</td><td>12147.78</td><td>2142.14</td><td>0.0</td><td>14289.92</td><td>461.21</td><td>Mar-2019</td><td>Apr-2019</td></tr>\n",
       "<tr><td>86602165</td><td>10000.0</td><td>1565.31</td><td>0.0</td><td>11565.311524212</td><td>334.3</td><td>May-2018</td><td>null</td></tr>\n",
       "<tr><td>86206722</td><td>8800.0</td><td>1485.9</td><td>0.0</td><td>10285.901937121</td><td>790.63</td><td>Jan-2019</td><td>null</td></tr>\n",
       "</table>\n",
       "only showing top 20 rows\n"
      ],
      "text/plain": [
       "+--------+---------------+-------------+------------------+------------------+---------------+------------+------------+\n",
       "| loan_id|total_rec_prncp|total_rec_int|total_rec_late_fee|       total_pymnt|last_pymnt_amnt|last_pymnt_d|next_pymnt_d|\n",
       "+--------+---------------+-------------+------------------+------------------+---------------+------------+------------+\n",
       "|84647143|         4000.0|       614.11|               0.0|   4614.1105673405|        1235.28|    Oct-2018|        null|\n",
       "|86463837|        9967.93|      6417.24|               0.0|          16385.17|         529.11|    Mar-2019|    Apr-2019|\n",
       "|86643264|        15200.0|      2329.24|               0.0|  17529.2443508552|       14837.07|    Mar-2017|        null|\n",
       "|85610005|        1001.45|       469.25|               0.0|            1470.7|         246.05|    Feb-2017|        null|\n",
       "|86101113|        1316.02|        517.0|               0.0|           2001.23|          87.39|    May-2018|        null|\n",
       "|85952284|        14000.0|      1851.72|               0.0|15851.717567248501|        4733.71|    Oct-2018|        null|\n",
       "|84666301|       25193.35|      5450.84|               0.0|          30644.19|         989.14|    Mar-2019|    Apr-2019|\n",
       "|85872910|         4525.0|       616.49|               0.0|5141.4886605540005|        3693.97|    Jun-2017|        null|\n",
       "|85615895|         7500.0|      1764.84|               0.0|   9264.8432563596|        2976.53|    Sep-2018|        null|\n",
       "|86523233|        2522.48|        520.2|               0.0|           3042.68|          98.21|    Mar-2019|    Apr-2019|\n",
       "|86022413|        40000.0|       2302.1|               0.0|  42302.0960220822|        36827.7|    Jan-2017|        null|\n",
       "|86432956|        12000.0|      1173.17|               0.0|  13173.1676151676|        7455.91|    Dec-2017|        null|\n",
       "|85992799|        7566.74|      1555.18|               0.0|           9121.92|         294.61|    Mar-2019|    Apr-2019|\n",
       "|86453222|        9484.55|      4480.34|               0.0|          13964.89|         451.27|    Mar-2019|    Apr-2019|\n",
       "|85805832|        12611.0|      2591.99|               0.0|          15202.99|         491.01|    Mar-2019|    Apr-2019|\n",
       "|86423193|         5000.0|       315.32|               0.0|   5315.3234522254|        4318.04|    Mar-2017|        null|\n",
       "|86012238|        1168.63|       420.17|               0.0|            1588.8|         196.41|    Apr-2017|        null|\n",
       "|86377338|       12147.78|      2142.14|               0.0|          14289.92|         461.21|    Mar-2019|    Apr-2019|\n",
       "|86602165|        10000.0|      1565.31|               0.0|   11565.311524212|          334.3|    May-2018|        null|\n",
       "|86206722|         8800.0|       1485.9|               0.0|   10285.901937121|         790.63|    Jan-2019|        null|\n",
       "+--------+---------------+-------------+------------------+------------------+---------------+------------+------------+\n",
       "only showing top 20 rows"
      ]
     },
     "execution_count": 93,
     "metadata": {},
     "output_type": "execute_result"
    }
   ],
   "source": [
    "repayment_df"
   ]
  },
  {
   "cell_type": "code",
   "execution_count": 94,
   "id": "5e3302e9",
   "metadata": {},
   "outputs": [
    {
     "name": "stdout",
     "output_type": "stream",
     "text": [
      "root\n",
      " |-- loan_id: string (nullable = true)\n",
      " |-- total_rec_prncp: string (nullable = true)\n",
      " |-- total_rec_int: string (nullable = true)\n",
      " |-- total_rec_late_fee: string (nullable = true)\n",
      " |-- total_pymnt: string (nullable = true)\n",
      " |-- last_pymnt_amnt: string (nullable = true)\n",
      " |-- last_pymnt_d: string (nullable = true)\n",
      " |-- next_pymnt_d: string (nullable = true)\n",
      "\n"
     ]
    }
   ],
   "source": [
    "repayment_df.printSchema()"
   ]
  },
  {
   "cell_type": "code",
   "execution_count": 95,
   "id": "d80ed10d",
   "metadata": {},
   "outputs": [],
   "source": [
    "repayment_schema = 'loan_id string,total_principle_received float,total_interest_received float,total_late_fee_received float,total_payment float,last_payment_amount float,last_payment_date string,next_payment_date string'"
   ]
  },
  {
   "cell_type": "code",
   "execution_count": 96,
   "id": "a826fcab",
   "metadata": {},
   "outputs": [],
   "source": [
    "repayment_df = spark.read \\\n",
    ".option(\"header\", True) \\\n",
    ".format(\"csv\") \\\n",
    ".schema(repayment_schema) \\\n",
    ".load(\"/user/itv010130/loanproject/raw/loan_repayment_data_csv\")"
   ]
  },
  {
   "cell_type": "code",
   "execution_count": 97,
   "id": "28e9557a",
   "metadata": {},
   "outputs": [
    {
     "name": "stdout",
     "output_type": "stream",
     "text": [
      "root\n",
      " |-- loan_id: string (nullable = true)\n",
      " |-- total_principle_received: float (nullable = true)\n",
      " |-- total_interest_received: float (nullable = true)\n",
      " |-- total_late_fee_received: float (nullable = true)\n",
      " |-- total_payment: float (nullable = true)\n",
      " |-- last_payment_amount: float (nullable = true)\n",
      " |-- last_payment_date: string (nullable = true)\n",
      " |-- next_payment_date: string (nullable = true)\n",
      "\n"
     ]
    }
   ],
   "source": [
    "repayment_df.printSchema()"
   ]
  },
  {
   "cell_type": "code",
   "execution_count": 98,
   "id": "696013c7",
   "metadata": {},
   "outputs": [],
   "source": [
    "from pyspark.sql.functions import current_timestamp"
   ]
  },
  {
   "cell_type": "code",
   "execution_count": 99,
   "id": "59117178",
   "metadata": {},
   "outputs": [],
   "source": [
    "repayment_ingestion_df = repayment_df.withColumn('ingestion_date',current_timestamp())"
   ]
  },
  {
   "cell_type": "code",
   "execution_count": 100,
   "id": "b6896664",
   "metadata": {},
   "outputs": [
    {
     "data": {
      "text/html": [
       "<table border='1'>\n",
       "<tr><th>loan_id</th><th>total_principle_received</th><th>total_interest_received</th><th>total_late_fee_received</th><th>total_payment</th><th>last_payment_amount</th><th>last_payment_date</th><th>next_payment_date</th><th>ingestion_date</th></tr>\n",
       "<tr><td>84647143</td><td>4000.0</td><td>614.11</td><td>0.0</td><td>4614.1104</td><td>1235.28</td><td>Oct-2018</td><td>null</td><td>2024-07-05 14:48:...</td></tr>\n",
       "<tr><td>86463837</td><td>9967.93</td><td>6417.24</td><td>0.0</td><td>16385.17</td><td>529.11</td><td>Mar-2019</td><td>Apr-2019</td><td>2024-07-05 14:48:...</td></tr>\n",
       "<tr><td>86643264</td><td>15200.0</td><td>2329.24</td><td>0.0</td><td>17529.244</td><td>14837.07</td><td>Mar-2017</td><td>null</td><td>2024-07-05 14:48:...</td></tr>\n",
       "<tr><td>85610005</td><td>1001.45</td><td>469.25</td><td>0.0</td><td>1470.7</td><td>246.05</td><td>Feb-2017</td><td>null</td><td>2024-07-05 14:48:...</td></tr>\n",
       "<tr><td>86101113</td><td>1316.02</td><td>517.0</td><td>0.0</td><td>2001.23</td><td>87.39</td><td>May-2018</td><td>null</td><td>2024-07-05 14:48:...</td></tr>\n",
       "<tr><td>85952284</td><td>14000.0</td><td>1851.72</td><td>0.0</td><td>15851.718</td><td>4733.71</td><td>Oct-2018</td><td>null</td><td>2024-07-05 14:48:...</td></tr>\n",
       "<tr><td>84666301</td><td>25193.35</td><td>5450.84</td><td>0.0</td><td>30644.19</td><td>989.14</td><td>Mar-2019</td><td>Apr-2019</td><td>2024-07-05 14:48:...</td></tr>\n",
       "<tr><td>85872910</td><td>4525.0</td><td>616.49</td><td>0.0</td><td>5141.489</td><td>3693.97</td><td>Jun-2017</td><td>null</td><td>2024-07-05 14:48:...</td></tr>\n",
       "<tr><td>85615895</td><td>7500.0</td><td>1764.84</td><td>0.0</td><td>9264.843</td><td>2976.53</td><td>Sep-2018</td><td>null</td><td>2024-07-05 14:48:...</td></tr>\n",
       "<tr><td>86523233</td><td>2522.48</td><td>520.2</td><td>0.0</td><td>3042.68</td><td>98.21</td><td>Mar-2019</td><td>Apr-2019</td><td>2024-07-05 14:48:...</td></tr>\n",
       "<tr><td>86022413</td><td>40000.0</td><td>2302.1</td><td>0.0</td><td>42302.098</td><td>36827.7</td><td>Jan-2017</td><td>null</td><td>2024-07-05 14:48:...</td></tr>\n",
       "<tr><td>86432956</td><td>12000.0</td><td>1173.17</td><td>0.0</td><td>13173.168</td><td>7455.91</td><td>Dec-2017</td><td>null</td><td>2024-07-05 14:48:...</td></tr>\n",
       "<tr><td>85992799</td><td>7566.74</td><td>1555.18</td><td>0.0</td><td>9121.92</td><td>294.61</td><td>Mar-2019</td><td>Apr-2019</td><td>2024-07-05 14:48:...</td></tr>\n",
       "<tr><td>86453222</td><td>9484.55</td><td>4480.34</td><td>0.0</td><td>13964.89</td><td>451.27</td><td>Mar-2019</td><td>Apr-2019</td><td>2024-07-05 14:48:...</td></tr>\n",
       "<tr><td>85805832</td><td>12611.0</td><td>2591.99</td><td>0.0</td><td>15202.99</td><td>491.01</td><td>Mar-2019</td><td>Apr-2019</td><td>2024-07-05 14:48:...</td></tr>\n",
       "<tr><td>86423193</td><td>5000.0</td><td>315.32</td><td>0.0</td><td>5315.323</td><td>4318.04</td><td>Mar-2017</td><td>null</td><td>2024-07-05 14:48:...</td></tr>\n",
       "<tr><td>86012238</td><td>1168.63</td><td>420.17</td><td>0.0</td><td>1588.8</td><td>196.41</td><td>Apr-2017</td><td>null</td><td>2024-07-05 14:48:...</td></tr>\n",
       "<tr><td>86377338</td><td>12147.78</td><td>2142.14</td><td>0.0</td><td>14289.92</td><td>461.21</td><td>Mar-2019</td><td>Apr-2019</td><td>2024-07-05 14:48:...</td></tr>\n",
       "<tr><td>86602165</td><td>10000.0</td><td>1565.31</td><td>0.0</td><td>11565.312</td><td>334.3</td><td>May-2018</td><td>null</td><td>2024-07-05 14:48:...</td></tr>\n",
       "<tr><td>86206722</td><td>8800.0</td><td>1485.9</td><td>0.0</td><td>10285.902</td><td>790.63</td><td>Jan-2019</td><td>null</td><td>2024-07-05 14:48:...</td></tr>\n",
       "</table>\n",
       "only showing top 20 rows\n"
      ],
      "text/plain": [
       "+--------+------------------------+-----------------------+-----------------------+-------------+-------------------+-----------------+-----------------+--------------------+\n",
       "| loan_id|total_principle_received|total_interest_received|total_late_fee_received|total_payment|last_payment_amount|last_payment_date|next_payment_date|      ingestion_date|\n",
       "+--------+------------------------+-----------------------+-----------------------+-------------+-------------------+-----------------+-----------------+--------------------+\n",
       "|84647143|                  4000.0|                 614.11|                    0.0|    4614.1104|            1235.28|         Oct-2018|             null|2024-07-05 14:48:...|\n",
       "|86463837|                 9967.93|                6417.24|                    0.0|     16385.17|             529.11|         Mar-2019|         Apr-2019|2024-07-05 14:48:...|\n",
       "|86643264|                 15200.0|                2329.24|                    0.0|    17529.244|           14837.07|         Mar-2017|             null|2024-07-05 14:48:...|\n",
       "|85610005|                 1001.45|                 469.25|                    0.0|       1470.7|             246.05|         Feb-2017|             null|2024-07-05 14:48:...|\n",
       "|86101113|                 1316.02|                  517.0|                    0.0|      2001.23|              87.39|         May-2018|             null|2024-07-05 14:48:...|\n",
       "|85952284|                 14000.0|                1851.72|                    0.0|    15851.718|            4733.71|         Oct-2018|             null|2024-07-05 14:48:...|\n",
       "|84666301|                25193.35|                5450.84|                    0.0|     30644.19|             989.14|         Mar-2019|         Apr-2019|2024-07-05 14:48:...|\n",
       "|85872910|                  4525.0|                 616.49|                    0.0|     5141.489|            3693.97|         Jun-2017|             null|2024-07-05 14:48:...|\n",
       "|85615895|                  7500.0|                1764.84|                    0.0|     9264.843|            2976.53|         Sep-2018|             null|2024-07-05 14:48:...|\n",
       "|86523233|                 2522.48|                  520.2|                    0.0|      3042.68|              98.21|         Mar-2019|         Apr-2019|2024-07-05 14:48:...|\n",
       "|86022413|                 40000.0|                 2302.1|                    0.0|    42302.098|            36827.7|         Jan-2017|             null|2024-07-05 14:48:...|\n",
       "|86432956|                 12000.0|                1173.17|                    0.0|    13173.168|            7455.91|         Dec-2017|             null|2024-07-05 14:48:...|\n",
       "|85992799|                 7566.74|                1555.18|                    0.0|      9121.92|             294.61|         Mar-2019|         Apr-2019|2024-07-05 14:48:...|\n",
       "|86453222|                 9484.55|                4480.34|                    0.0|     13964.89|             451.27|         Mar-2019|         Apr-2019|2024-07-05 14:48:...|\n",
       "|85805832|                 12611.0|                2591.99|                    0.0|     15202.99|             491.01|         Mar-2019|         Apr-2019|2024-07-05 14:48:...|\n",
       "|86423193|                  5000.0|                 315.32|                    0.0|     5315.323|            4318.04|         Mar-2017|             null|2024-07-05 14:48:...|\n",
       "|86012238|                 1168.63|                 420.17|                    0.0|       1588.8|             196.41|         Apr-2017|             null|2024-07-05 14:48:...|\n",
       "|86377338|                12147.78|                2142.14|                    0.0|     14289.92|             461.21|         Mar-2019|         Apr-2019|2024-07-05 14:48:...|\n",
       "|86602165|                 10000.0|                1565.31|                    0.0|    11565.312|              334.3|         May-2018|             null|2024-07-05 14:48:...|\n",
       "|86206722|                  8800.0|                 1485.9|                    0.0|    10285.902|             790.63|         Jan-2019|             null|2024-07-05 14:48:...|\n",
       "+--------+------------------------+-----------------------+-----------------------+-------------+-------------------+-----------------+-----------------+--------------------+\n",
       "only showing top 20 rows"
      ]
     },
     "execution_count": 100,
     "metadata": {},
     "output_type": "execute_result"
    }
   ],
   "source": [
    "repayment_ingestion_df"
   ]
  },
  {
   "cell_type": "code",
   "execution_count": 101,
   "id": "be3a54da",
   "metadata": {},
   "outputs": [],
   "source": [
    "repayment_ingestion_df.createOrReplaceTempView(\"repayment_data\")"
   ]
  },
  {
   "cell_type": "code",
   "execution_count": 102,
   "id": "f7694c51",
   "metadata": {},
   "outputs": [
    {
     "data": {
      "text/html": [
       "<table border='1'>\n",
       "<tr><th>count(1)</th></tr>\n",
       "<tr><td>2260701</td></tr>\n",
       "</table>\n"
      ],
      "text/plain": [
       "+--------+\n",
       "|count(1)|\n",
       "+--------+\n",
       "| 2260701|\n",
       "+--------+"
      ]
     },
     "execution_count": 102,
     "metadata": {},
     "output_type": "execute_result"
    }
   ],
   "source": [
    "spark.sql(\"select count(*) from repayment_data\")"
   ]
  },
  {
   "cell_type": "code",
   "execution_count": 103,
   "id": "8754d710",
   "metadata": {},
   "outputs": [
    {
     "data": {
      "text/html": [
       "<table border='1'>\n",
       "<tr><th>count(1)</th></tr>\n",
       "<tr><td>69</td></tr>\n",
       "</table>\n"
      ],
      "text/plain": [
       "+--------+\n",
       "|count(1)|\n",
       "+--------+\n",
       "|      69|\n",
       "+--------+"
      ]
     },
     "execution_count": 103,
     "metadata": {},
     "output_type": "execute_result"
    }
   ],
   "source": [
    "spark.sql(\"select count(*) from repayment_data where total_principle_received is null\")"
   ]
  },
  {
   "cell_type": "code",
   "execution_count": 104,
   "id": "bdcee584",
   "metadata": {},
   "outputs": [
    {
     "data": {
      "text/html": [
       "<table border='1'>\n",
       "<tr><th>count(1)</th></tr>\n",
       "<tr><td>50</td></tr>\n",
       "</table>\n"
      ],
      "text/plain": [
       "+--------+\n",
       "|count(1)|\n",
       "+--------+\n",
       "|      50|\n",
       "+--------+"
      ]
     },
     "execution_count": 104,
     "metadata": {},
     "output_type": "execute_result"
    }
   ],
   "source": [
    "spark.sql(\"select count(*) from repayment_data where total_interest_received is null\")"
   ]
  },
  {
   "cell_type": "code",
   "execution_count": 105,
   "id": "59d195ca",
   "metadata": {},
   "outputs": [
    {
     "data": {
      "text/html": [
       "<table border='1'>\n",
       "<tr><th>count(1)</th></tr>\n",
       "<tr><td>51</td></tr>\n",
       "</table>\n"
      ],
      "text/plain": [
       "+--------+\n",
       "|count(1)|\n",
       "+--------+\n",
       "|      51|\n",
       "+--------+"
      ]
     },
     "execution_count": 105,
     "metadata": {},
     "output_type": "execute_result"
    }
   ],
   "source": [
    "spark.sql(\"select count(*) from repayment_data where total_late_fee_received is null\")"
   ]
  },
  {
   "cell_type": "code",
   "execution_count": 106,
   "id": "e2b1d795",
   "metadata": {},
   "outputs": [
    {
     "data": {
      "text/html": [
       "<table border='1'>\n",
       "<tr><th>count(1)</th></tr>\n",
       "<tr><td>94</td></tr>\n",
       "</table>\n"
      ],
      "text/plain": [
       "+--------+\n",
       "|count(1)|\n",
       "+--------+\n",
       "|      94|\n",
       "+--------+"
      ]
     },
     "execution_count": 106,
     "metadata": {},
     "output_type": "execute_result"
    }
   ],
   "source": [
    "spark.sql(\"select count(*) from repayment_data where total_payment is null\")"
   ]
  },
  {
   "cell_type": "code",
   "execution_count": 107,
   "id": "a03a8d0c",
   "metadata": {},
   "outputs": [
    {
     "data": {
      "text/html": [
       "<table border='1'>\n",
       "<tr><th>count(1)</th></tr>\n",
       "<tr><td>101</td></tr>\n",
       "</table>\n"
      ],
      "text/plain": [
       "+--------+\n",
       "|count(1)|\n",
       "+--------+\n",
       "|     101|\n",
       "+--------+"
      ]
     },
     "execution_count": 107,
     "metadata": {},
     "output_type": "execute_result"
    }
   ],
   "source": [
    "spark.sql(\"select count(*) from repayment_data where last_payment_amount is null\")"
   ]
  },
  {
   "cell_type": "code",
   "execution_count": 108,
   "id": "04ac5381",
   "metadata": {},
   "outputs": [],
   "source": [
    "columns_to_check = ['total_principle_received','total_interest_received','total_late_fee_received','total_payment','last_payment_amount']"
   ]
  },
  {
   "cell_type": "code",
   "execution_count": 109,
   "id": "5a7c856c",
   "metadata": {},
   "outputs": [],
   "source": [
    "repayment_filtered = repayment_ingestion_df.na.drop(subset=columns_to_check)"
   ]
  },
  {
   "cell_type": "code",
   "execution_count": 110,
   "id": "11c4907d",
   "metadata": {},
   "outputs": [
    {
     "data": {
      "text/plain": [
       "2260498"
      ]
     },
     "execution_count": 110,
     "metadata": {},
     "output_type": "execute_result"
    }
   ],
   "source": [
    "repayment_filtered.count()"
   ]
  },
  {
   "cell_type": "code",
   "execution_count": 111,
   "id": "1b0a51e2",
   "metadata": {},
   "outputs": [],
   "source": [
    "repayment_filtered.createOrReplaceTempView(\"repayment_data\")"
   ]
  },
  {
   "cell_type": "code",
   "execution_count": 112,
   "id": "eb9da8ea",
   "metadata": {},
   "outputs": [
    {
     "data": {
      "text/html": [
       "<table border='1'>\n",
       "<tr><th>count(1)</th></tr>\n",
       "<tr><td>0</td></tr>\n",
       "</table>\n"
      ],
      "text/plain": [
       "+--------+\n",
       "|count(1)|\n",
       "+--------+\n",
       "|       0|\n",
       "+--------+"
      ]
     },
     "execution_count": 112,
     "metadata": {},
     "output_type": "execute_result"
    }
   ],
   "source": [
    "spark.sql(\"select count(*) from repayment_data where total_payment is null\")"
   ]
  },
  {
   "cell_type": "code",
   "execution_count": 113,
   "id": "80d1db0b",
   "metadata": {},
   "outputs": [
    {
     "data": {
      "text/html": [
       "<table border='1'>\n",
       "<tr><th>loan_id</th><th>total_principle_received</th><th>total_interest_received</th><th>total_late_fee_received</th><th>total_payment</th><th>last_payment_amount</th><th>last_payment_date</th><th>next_payment_date</th><th>ingestion_date</th></tr>\n",
       "<tr><td>85686669</td><td>0.0</td><td>0.0</td><td>0.0</td><td>0.0</td><td>0.0</td><td>null</td><td>null</td><td>2024-07-05 14:49:...</td></tr>\n",
       "<tr><td>84574291</td><td>0.0</td><td>0.0</td><td>0.0</td><td>0.0</td><td>0.0</td><td>null</td><td>null</td><td>2024-07-05 14:49:...</td></tr>\n",
       "<tr><td>85735063</td><td>0.0</td><td>0.0</td><td>0.0</td><td>0.0</td><td>0.0</td><td>null</td><td>null</td><td>2024-07-05 14:49:...</td></tr>\n",
       "<tr><td>84999414</td><td>0.0</td><td>0.0</td><td>0.0</td><td>0.0</td><td>0.0</td><td>null</td><td>null</td><td>2024-07-05 14:49:...</td></tr>\n",
       "<tr><td>85623818</td><td>0.0</td><td>0.0</td><td>0.0</td><td>0.0</td><td>0.0</td><td>null</td><td>null</td><td>2024-07-05 14:49:...</td></tr>\n",
       "<tr><td>85066928</td><td>0.0</td><td>0.0</td><td>0.0</td><td>0.0</td><td>0.0</td><td>null</td><td>null</td><td>2024-07-05 14:49:...</td></tr>\n",
       "<tr><td>83941993</td><td>0.0</td><td>0.0</td><td>0.0</td><td>0.0</td><td>0.0</td><td>null</td><td>null</td><td>2024-07-05 14:49:...</td></tr>\n",
       "<tr><td>84486431</td><td>0.0</td><td>0.0</td><td>0.0</td><td>0.0</td><td>0.0</td><td>null</td><td>null</td><td>2024-07-05 14:49:...</td></tr>\n",
       "<tr><td>85471064</td><td>0.0</td><td>0.0</td><td>0.0</td><td>0.0</td><td>0.0</td><td>null</td><td>null</td><td>2024-07-05 14:49:...</td></tr>\n",
       "<tr><td>84092358</td><td>0.0</td><td>0.0</td><td>0.0</td><td>0.0</td><td>0.0</td><td>null</td><td>null</td><td>2024-07-05 14:49:...</td></tr>\n",
       "<tr><td>85076472</td><td>0.0</td><td>0.0</td><td>0.0</td><td>0.0</td><td>0.0</td><td>null</td><td>null</td><td>2024-07-05 14:49:...</td></tr>\n",
       "<tr><td>84234900</td><td>0.0</td><td>0.0</td><td>0.0</td><td>0.0</td><td>0.0</td><td>null</td><td>null</td><td>2024-07-05 14:49:...</td></tr>\n",
       "<tr><td>83624648</td><td>0.0</td><td>0.0</td><td>0.0</td><td>0.0</td><td>0.0</td><td>null</td><td>null</td><td>2024-07-05 14:49:...</td></tr>\n",
       "<tr><td>83990826</td><td>0.0</td><td>0.0</td><td>0.0</td><td>0.0</td><td>0.0</td><td>null</td><td>null</td><td>2024-07-05 14:49:...</td></tr>\n",
       "<tr><td>84111917</td><td>0.0</td><td>0.0</td><td>0.0</td><td>0.0</td><td>0.0</td><td>null</td><td>null</td><td>2024-07-05 14:49:...</td></tr>\n",
       "<tr><td>126378962</td><td>0.0</td><td>0.0</td><td>0.0</td><td>0.0</td><td>0.0</td><td>null</td><td>null</td><td>2024-07-05 14:49:...</td></tr>\n",
       "<tr><td>126175336</td><td>0.0</td><td>0.0</td><td>0.0</td><td>0.0</td><td>0.0</td><td>null</td><td>null</td><td>2024-07-05 14:49:...</td></tr>\n",
       "<tr><td>126148156</td><td>0.0</td><td>0.0</td><td>0.0</td><td>0.0</td><td>0.0</td><td>null</td><td>null</td><td>2024-07-05 14:49:...</td></tr>\n",
       "<tr><td>125968581</td><td>0.0</td><td>0.0</td><td>0.0</td><td>0.0</td><td>0.0</td><td>null</td><td>null</td><td>2024-07-05 14:49:...</td></tr>\n",
       "<tr><td>125512918</td><td>0.0</td><td>0.0</td><td>0.0</td><td>0.0</td><td>0.0</td><td>null</td><td>null</td><td>2024-07-05 14:49:...</td></tr>\n",
       "</table>\n",
       "only showing top 20 rows\n"
      ],
      "text/plain": [
       "+---------+------------------------+-----------------------+-----------------------+-------------+-------------------+-----------------+-----------------+--------------------+\n",
       "|  loan_id|total_principle_received|total_interest_received|total_late_fee_received|total_payment|last_payment_amount|last_payment_date|next_payment_date|      ingestion_date|\n",
       "+---------+------------------------+-----------------------+-----------------------+-------------+-------------------+-----------------+-----------------+--------------------+\n",
       "| 85686669|                     0.0|                    0.0|                    0.0|          0.0|                0.0|             null|             null|2024-07-05 14:49:...|\n",
       "| 84574291|                     0.0|                    0.0|                    0.0|          0.0|                0.0|             null|             null|2024-07-05 14:49:...|\n",
       "| 85735063|                     0.0|                    0.0|                    0.0|          0.0|                0.0|             null|             null|2024-07-05 14:49:...|\n",
       "| 84999414|                     0.0|                    0.0|                    0.0|          0.0|                0.0|             null|             null|2024-07-05 14:49:...|\n",
       "| 85623818|                     0.0|                    0.0|                    0.0|          0.0|                0.0|             null|             null|2024-07-05 14:49:...|\n",
       "| 85066928|                     0.0|                    0.0|                    0.0|          0.0|                0.0|             null|             null|2024-07-05 14:49:...|\n",
       "| 83941993|                     0.0|                    0.0|                    0.0|          0.0|                0.0|             null|             null|2024-07-05 14:49:...|\n",
       "| 84486431|                     0.0|                    0.0|                    0.0|          0.0|                0.0|             null|             null|2024-07-05 14:49:...|\n",
       "| 85471064|                     0.0|                    0.0|                    0.0|          0.0|                0.0|             null|             null|2024-07-05 14:49:...|\n",
       "| 84092358|                     0.0|                    0.0|                    0.0|          0.0|                0.0|             null|             null|2024-07-05 14:49:...|\n",
       "| 85076472|                     0.0|                    0.0|                    0.0|          0.0|                0.0|             null|             null|2024-07-05 14:49:...|\n",
       "| 84234900|                     0.0|                    0.0|                    0.0|          0.0|                0.0|             null|             null|2024-07-05 14:49:...|\n",
       "| 83624648|                     0.0|                    0.0|                    0.0|          0.0|                0.0|             null|             null|2024-07-05 14:49:...|\n",
       "| 83990826|                     0.0|                    0.0|                    0.0|          0.0|                0.0|             null|             null|2024-07-05 14:49:...|\n",
       "| 84111917|                     0.0|                    0.0|                    0.0|          0.0|                0.0|             null|             null|2024-07-05 14:49:...|\n",
       "|126378962|                     0.0|                    0.0|                    0.0|          0.0|                0.0|             null|             null|2024-07-05 14:49:...|\n",
       "|126175336|                     0.0|                    0.0|                    0.0|          0.0|                0.0|             null|             null|2024-07-05 14:49:...|\n",
       "|126148156|                     0.0|                    0.0|                    0.0|          0.0|                0.0|             null|             null|2024-07-05 14:49:...|\n",
       "|125968581|                     0.0|                    0.0|                    0.0|          0.0|                0.0|             null|             null|2024-07-05 14:49:...|\n",
       "|125512918|                     0.0|                    0.0|                    0.0|          0.0|                0.0|             null|             null|2024-07-05 14:49:...|\n",
       "+---------+------------------------+-----------------------+-----------------------+-------------+-------------------+-----------------+-----------------+--------------------+\n",
       "only showing top 20 rows"
      ]
     },
     "execution_count": 113,
     "metadata": {},
     "output_type": "execute_result"
    }
   ],
   "source": [
    "spark.sql(\"select * from repayment_data where total_payment==0\")"
   ]
  },
  {
   "cell_type": "code",
   "execution_count": 114,
   "id": "3b803d39",
   "metadata": {},
   "outputs": [
    {
     "data": {
      "text/html": [
       "<table border='1'>\n",
       "<tr><th>loan_id</th><th>total_principle_received</th><th>total_interest_received</th><th>total_late_fee_received</th><th>total_payment</th><th>last_payment_amount</th><th>last_payment_date</th><th>next_payment_date</th><th>ingestion_date</th></tr>\n",
       "<tr><td>1064185</td><td>11600.98</td><td>11600.98</td><td>10000.0</td><td>0.0</td><td>0.0</td><td>0.0</td><td>Dec-2014</td><td>2024-07-05 14:49:...</td></tr>\n",
       "<tr><td>516382</td><td>21890.229</td><td>21856.03</td><td>16000.0</td><td>0.0</td><td>0.0</td><td>0.0</td><td>Mar-2014</td><td>2024-07-05 14:49:...</td></tr>\n",
       "<tr><td>528899</td><td>3045.0364</td><td>3019.64</td><td>2500.0</td><td>0.0</td><td>0.0</td><td>0.0</td><td>Jan-2013</td><td>2024-07-05 14:49:...</td></tr>\n",
       "<tr><td>527598</td><td>2398.9092</td><td>2220.51</td><td>2200.0</td><td>0.0</td><td>0.0</td><td>0.0</td><td>Jul-2011</td><td>2024-07-05 14:49:...</td></tr>\n",
       "<tr><td>525697</td><td>21797.86</td><td>19894.9</td><td>15750.0</td><td>0.0</td><td>0.0</td><td>0.0</td><td>Jun-2015</td><td>2024-07-05 14:49:...</td></tr>\n",
       "<tr><td>522641</td><td>3146.8193</td><td>3146.82</td><td>3000.0</td><td>0.0</td><td>0.0</td><td>0.0</td><td>Sep-2011</td><td>2024-07-05 14:49:...</td></tr>\n",
       "<tr><td>515655</td><td>29938.576</td><td>29905.75</td><td>22800.0</td><td>0.0</td><td>0.0</td><td>0.0</td><td>May-2013</td><td>2024-07-05 14:49:...</td></tr>\n",
       "<tr><td>501234</td><td>15219.313</td><td>15155.9</td><td>12000.0</td><td>0.0</td><td>0.0</td><td>0.0</td><td>May-2013</td><td>2024-07-05 14:49:...</td></tr>\n",
       "<tr><td>498194</td><td>11642.714</td><td>11031.47</td><td>10000.0</td><td>0.0</td><td>0.0</td><td>0.0</td><td>Jan-2013</td><td>2024-07-05 14:49:...</td></tr>\n",
       "<tr><td>495171</td><td>11138.843</td><td>10024.96</td><td>10000.0</td><td>0.0</td><td>0.0</td><td>0.0</td><td>Apr-2013</td><td>2024-07-05 14:49:...</td></tr>\n",
       "<tr><td>493508</td><td>28732.803</td><td>28495.83</td><td>24250.0</td><td>0.0</td><td>0.0</td><td>0.0</td><td>Apr-2013</td><td>2024-07-05 14:49:...</td></tr>\n",
       "<tr><td>485818</td><td>14640.096</td><td>13388.84</td><td>13000.0</td><td>0.0</td><td>0.0</td><td>0.0</td><td>Mar-2013</td><td>2024-07-05 14:49:...</td></tr>\n",
       "<tr><td>485471</td><td>29620.818</td><td>29134.64</td><td>25000.0</td><td>0.0</td><td>0.0</td><td>0.0</td><td>Mar-2013</td><td>2024-07-05 14:49:...</td></tr>\n",
       "<tr><td>482256</td><td>8735.611</td><td>7479.87</td><td>8000.0</td><td>0.0</td><td>0.0</td><td>0.0</td><td>Feb-2011</td><td>2024-07-05 14:49:...</td></tr>\n",
       "<tr><td>478160</td><td>410.0</td><td>407.36</td><td>0.0</td><td>0.0</td><td>143.1</td><td>410.0</td><td>null</td><td>2024-07-05 14:49:...</td></tr>\n",
       "<tr><td>476557</td><td>28865.18</td><td>24164.67</td><td>5692.31</td><td>0.0</td><td>6972.59</td><td>19916.78</td><td>Dec-2010</td><td>2024-07-05 14:49:...</td></tr>\n",
       "<tr><td>472516</td><td>25951.482</td><td>24731.76</td><td>25000.0</td><td>0.0</td><td>0.0</td><td>0.0</td><td>May-2010</td><td>2024-07-05 14:49:...</td></tr>\n",
       "<tr><td>472197</td><td>12048.13</td><td>12018.01</td><td>10000.0</td><td>0.0</td><td>0.0</td><td>0.0</td><td>Jan-2013</td><td>2024-07-05 14:49:...</td></tr>\n",
       "<tr><td>467364</td><td>29216.791</td><td>29066.19</td><td>24250.0</td><td>0.0</td><td>0.0</td><td>0.0</td><td>Dec-2012</td><td>2024-07-05 14:49:...</td></tr>\n",
       "<tr><td>399499</td><td>26557.729</td><td>26336.41</td><td>24000.0</td><td>0.0</td><td>0.0</td><td>0.0</td><td>Dec-2010</td><td>2024-07-05 14:49:...</td></tr>\n",
       "</table>\n",
       "only showing top 20 rows\n"
      ],
      "text/plain": [
       "+-------+------------------------+-----------------------+-----------------------+-------------+-------------------+-----------------+-----------------+--------------------+\n",
       "|loan_id|total_principle_received|total_interest_received|total_late_fee_received|total_payment|last_payment_amount|last_payment_date|next_payment_date|      ingestion_date|\n",
       "+-------+------------------------+-----------------------+-----------------------+-------------+-------------------+-----------------+-----------------+--------------------+\n",
       "|1064185|                11600.98|               11600.98|                10000.0|          0.0|                0.0|              0.0|         Dec-2014|2024-07-05 14:49:...|\n",
       "| 516382|               21890.229|               21856.03|                16000.0|          0.0|                0.0|              0.0|         Mar-2014|2024-07-05 14:49:...|\n",
       "| 528899|               3045.0364|                3019.64|                 2500.0|          0.0|                0.0|              0.0|         Jan-2013|2024-07-05 14:49:...|\n",
       "| 527598|               2398.9092|                2220.51|                 2200.0|          0.0|                0.0|              0.0|         Jul-2011|2024-07-05 14:49:...|\n",
       "| 525697|                21797.86|                19894.9|                15750.0|          0.0|                0.0|              0.0|         Jun-2015|2024-07-05 14:49:...|\n",
       "| 522641|               3146.8193|                3146.82|                 3000.0|          0.0|                0.0|              0.0|         Sep-2011|2024-07-05 14:49:...|\n",
       "| 515655|               29938.576|               29905.75|                22800.0|          0.0|                0.0|              0.0|         May-2013|2024-07-05 14:49:...|\n",
       "| 501234|               15219.313|                15155.9|                12000.0|          0.0|                0.0|              0.0|         May-2013|2024-07-05 14:49:...|\n",
       "| 498194|               11642.714|               11031.47|                10000.0|          0.0|                0.0|              0.0|         Jan-2013|2024-07-05 14:49:...|\n",
       "| 495171|               11138.843|               10024.96|                10000.0|          0.0|                0.0|              0.0|         Apr-2013|2024-07-05 14:49:...|\n",
       "| 493508|               28732.803|               28495.83|                24250.0|          0.0|                0.0|              0.0|         Apr-2013|2024-07-05 14:49:...|\n",
       "| 485818|               14640.096|               13388.84|                13000.0|          0.0|                0.0|              0.0|         Mar-2013|2024-07-05 14:49:...|\n",
       "| 485471|               29620.818|               29134.64|                25000.0|          0.0|                0.0|              0.0|         Mar-2013|2024-07-05 14:49:...|\n",
       "| 482256|                8735.611|                7479.87|                 8000.0|          0.0|                0.0|              0.0|         Feb-2011|2024-07-05 14:49:...|\n",
       "| 478160|                   410.0|                 407.36|                    0.0|          0.0|              143.1|            410.0|             null|2024-07-05 14:49:...|\n",
       "| 476557|                28865.18|               24164.67|                5692.31|          0.0|            6972.59|         19916.78|         Dec-2010|2024-07-05 14:49:...|\n",
       "| 472516|               25951.482|               24731.76|                25000.0|          0.0|                0.0|              0.0|         May-2010|2024-07-05 14:49:...|\n",
       "| 472197|                12048.13|               12018.01|                10000.0|          0.0|                0.0|              0.0|         Jan-2013|2024-07-05 14:49:...|\n",
       "| 467364|               29216.791|               29066.19|                24250.0|          0.0|                0.0|              0.0|         Dec-2012|2024-07-05 14:49:...|\n",
       "| 399499|               26557.729|               26336.41|                24000.0|          0.0|                0.0|              0.0|         Dec-2010|2024-07-05 14:49:...|\n",
       "+-------+------------------------+-----------------------+-----------------------+-------------+-------------------+-----------------+-----------------+--------------------+\n",
       "only showing top 20 rows"
      ]
     },
     "execution_count": 114,
     "metadata": {},
     "output_type": "execute_result"
    }
   ],
   "source": [
    "spark.sql(\"select * from repayment_data where total_payment==0 AND total_principle_received !=0\")"
   ]
  },
  {
   "cell_type": "code",
   "execution_count": 115,
   "id": "8b9d3e8b",
   "metadata": {},
   "outputs": [],
   "source": [
    "from pyspark.sql.functions import when, col"
   ]
  },
  {
   "cell_type": "code",
   "execution_count": 116,
   "id": "8113cd14",
   "metadata": {},
   "outputs": [],
   "source": [
    "total_repayment_modified_df = repayment_filtered.withColumn(\"total_payment\", when((col(\"total_principle_received\")!=0.0) & (col(\"total_payment\")==0.0),col(\"total_principle_received\")+col(\"total_interest_received\")+col(\"total_late_fee_received\")).otherwise(col(\"total_payment\")))"
   ]
  },
  {
   "cell_type": "code",
   "execution_count": 117,
   "id": "331cc327",
   "metadata": {},
   "outputs": [
    {
     "data": {
      "text/html": [
       "<table border='1'>\n",
       "<tr><th>loan_id</th><th>total_principle_received</th><th>total_interest_received</th><th>total_late_fee_received</th><th>total_payment</th><th>last_payment_amount</th><th>last_payment_date</th><th>next_payment_date</th><th>ingestion_date</th></tr>\n",
       "<tr><td>84647143</td><td>4000.0</td><td>614.11</td><td>0.0</td><td>4614.1104</td><td>1235.28</td><td>Oct-2018</td><td>null</td><td>2024-07-05 14:49:...</td></tr>\n",
       "<tr><td>86463837</td><td>9967.93</td><td>6417.24</td><td>0.0</td><td>16385.17</td><td>529.11</td><td>Mar-2019</td><td>Apr-2019</td><td>2024-07-05 14:49:...</td></tr>\n",
       "<tr><td>86643264</td><td>15200.0</td><td>2329.24</td><td>0.0</td><td>17529.244</td><td>14837.07</td><td>Mar-2017</td><td>null</td><td>2024-07-05 14:49:...</td></tr>\n",
       "<tr><td>85610005</td><td>1001.45</td><td>469.25</td><td>0.0</td><td>1470.7</td><td>246.05</td><td>Feb-2017</td><td>null</td><td>2024-07-05 14:49:...</td></tr>\n",
       "<tr><td>86101113</td><td>1316.02</td><td>517.0</td><td>0.0</td><td>2001.23</td><td>87.39</td><td>May-2018</td><td>null</td><td>2024-07-05 14:49:...</td></tr>\n",
       "<tr><td>85952284</td><td>14000.0</td><td>1851.72</td><td>0.0</td><td>15851.718</td><td>4733.71</td><td>Oct-2018</td><td>null</td><td>2024-07-05 14:49:...</td></tr>\n",
       "<tr><td>84666301</td><td>25193.35</td><td>5450.84</td><td>0.0</td><td>30644.19</td><td>989.14</td><td>Mar-2019</td><td>Apr-2019</td><td>2024-07-05 14:49:...</td></tr>\n",
       "<tr><td>85872910</td><td>4525.0</td><td>616.49</td><td>0.0</td><td>5141.489</td><td>3693.97</td><td>Jun-2017</td><td>null</td><td>2024-07-05 14:49:...</td></tr>\n",
       "<tr><td>85615895</td><td>7500.0</td><td>1764.84</td><td>0.0</td><td>9264.843</td><td>2976.53</td><td>Sep-2018</td><td>null</td><td>2024-07-05 14:49:...</td></tr>\n",
       "<tr><td>86523233</td><td>2522.48</td><td>520.2</td><td>0.0</td><td>3042.68</td><td>98.21</td><td>Mar-2019</td><td>Apr-2019</td><td>2024-07-05 14:49:...</td></tr>\n",
       "<tr><td>86022413</td><td>40000.0</td><td>2302.1</td><td>0.0</td><td>42302.098</td><td>36827.7</td><td>Jan-2017</td><td>null</td><td>2024-07-05 14:49:...</td></tr>\n",
       "<tr><td>86432956</td><td>12000.0</td><td>1173.17</td><td>0.0</td><td>13173.168</td><td>7455.91</td><td>Dec-2017</td><td>null</td><td>2024-07-05 14:49:...</td></tr>\n",
       "<tr><td>85992799</td><td>7566.74</td><td>1555.18</td><td>0.0</td><td>9121.92</td><td>294.61</td><td>Mar-2019</td><td>Apr-2019</td><td>2024-07-05 14:49:...</td></tr>\n",
       "<tr><td>86453222</td><td>9484.55</td><td>4480.34</td><td>0.0</td><td>13964.89</td><td>451.27</td><td>Mar-2019</td><td>Apr-2019</td><td>2024-07-05 14:49:...</td></tr>\n",
       "<tr><td>85805832</td><td>12611.0</td><td>2591.99</td><td>0.0</td><td>15202.99</td><td>491.01</td><td>Mar-2019</td><td>Apr-2019</td><td>2024-07-05 14:49:...</td></tr>\n",
       "<tr><td>86423193</td><td>5000.0</td><td>315.32</td><td>0.0</td><td>5315.323</td><td>4318.04</td><td>Mar-2017</td><td>null</td><td>2024-07-05 14:49:...</td></tr>\n",
       "<tr><td>86012238</td><td>1168.63</td><td>420.17</td><td>0.0</td><td>1588.8</td><td>196.41</td><td>Apr-2017</td><td>null</td><td>2024-07-05 14:49:...</td></tr>\n",
       "<tr><td>86377338</td><td>12147.78</td><td>2142.14</td><td>0.0</td><td>14289.92</td><td>461.21</td><td>Mar-2019</td><td>Apr-2019</td><td>2024-07-05 14:49:...</td></tr>\n",
       "<tr><td>86602165</td><td>10000.0</td><td>1565.31</td><td>0.0</td><td>11565.312</td><td>334.3</td><td>May-2018</td><td>null</td><td>2024-07-05 14:49:...</td></tr>\n",
       "<tr><td>86206722</td><td>8800.0</td><td>1485.9</td><td>0.0</td><td>10285.902</td><td>790.63</td><td>Jan-2019</td><td>null</td><td>2024-07-05 14:49:...</td></tr>\n",
       "</table>\n",
       "only showing top 20 rows\n"
      ],
      "text/plain": [
       "+--------+------------------------+-----------------------+-----------------------+-------------+-------------------+-----------------+-----------------+--------------------+\n",
       "| loan_id|total_principle_received|total_interest_received|total_late_fee_received|total_payment|last_payment_amount|last_payment_date|next_payment_date|      ingestion_date|\n",
       "+--------+------------------------+-----------------------+-----------------------+-------------+-------------------+-----------------+-----------------+--------------------+\n",
       "|84647143|                  4000.0|                 614.11|                    0.0|    4614.1104|            1235.28|         Oct-2018|             null|2024-07-05 14:49:...|\n",
       "|86463837|                 9967.93|                6417.24|                    0.0|     16385.17|             529.11|         Mar-2019|         Apr-2019|2024-07-05 14:49:...|\n",
       "|86643264|                 15200.0|                2329.24|                    0.0|    17529.244|           14837.07|         Mar-2017|             null|2024-07-05 14:49:...|\n",
       "|85610005|                 1001.45|                 469.25|                    0.0|       1470.7|             246.05|         Feb-2017|             null|2024-07-05 14:49:...|\n",
       "|86101113|                 1316.02|                  517.0|                    0.0|      2001.23|              87.39|         May-2018|             null|2024-07-05 14:49:...|\n",
       "|85952284|                 14000.0|                1851.72|                    0.0|    15851.718|            4733.71|         Oct-2018|             null|2024-07-05 14:49:...|\n",
       "|84666301|                25193.35|                5450.84|                    0.0|     30644.19|             989.14|         Mar-2019|         Apr-2019|2024-07-05 14:49:...|\n",
       "|85872910|                  4525.0|                 616.49|                    0.0|     5141.489|            3693.97|         Jun-2017|             null|2024-07-05 14:49:...|\n",
       "|85615895|                  7500.0|                1764.84|                    0.0|     9264.843|            2976.53|         Sep-2018|             null|2024-07-05 14:49:...|\n",
       "|86523233|                 2522.48|                  520.2|                    0.0|      3042.68|              98.21|         Mar-2019|         Apr-2019|2024-07-05 14:49:...|\n",
       "|86022413|                 40000.0|                 2302.1|                    0.0|    42302.098|            36827.7|         Jan-2017|             null|2024-07-05 14:49:...|\n",
       "|86432956|                 12000.0|                1173.17|                    0.0|    13173.168|            7455.91|         Dec-2017|             null|2024-07-05 14:49:...|\n",
       "|85992799|                 7566.74|                1555.18|                    0.0|      9121.92|             294.61|         Mar-2019|         Apr-2019|2024-07-05 14:49:...|\n",
       "|86453222|                 9484.55|                4480.34|                    0.0|     13964.89|             451.27|         Mar-2019|         Apr-2019|2024-07-05 14:49:...|\n",
       "|85805832|                 12611.0|                2591.99|                    0.0|     15202.99|             491.01|         Mar-2019|         Apr-2019|2024-07-05 14:49:...|\n",
       "|86423193|                  5000.0|                 315.32|                    0.0|     5315.323|            4318.04|         Mar-2017|             null|2024-07-05 14:49:...|\n",
       "|86012238|                 1168.63|                 420.17|                    0.0|       1588.8|             196.41|         Apr-2017|             null|2024-07-05 14:49:...|\n",
       "|86377338|                12147.78|                2142.14|                    0.0|     14289.92|             461.21|         Mar-2019|         Apr-2019|2024-07-05 14:49:...|\n",
       "|86602165|                 10000.0|                1565.31|                    0.0|    11565.312|              334.3|         May-2018|             null|2024-07-05 14:49:...|\n",
       "|86206722|                  8800.0|                 1485.9|                    0.0|    10285.902|             790.63|         Jan-2019|             null|2024-07-05 14:49:...|\n",
       "+--------+------------------------+-----------------------+-----------------------+-------------+-------------------+-----------------+-----------------+--------------------+\n",
       "only showing top 20 rows"
      ]
     },
     "execution_count": 117,
     "metadata": {},
     "output_type": "execute_result"
    }
   ],
   "source": [
    "total_repayment_modified_df"
   ]
  },
  {
   "cell_type": "code",
   "execution_count": 118,
   "id": "06fd1c3c",
   "metadata": {},
   "outputs": [],
   "source": [
    "total_repayment_modified_df.createOrReplaceTempView(\"repayment_data\")"
   ]
  },
  {
   "cell_type": "code",
   "execution_count": 119,
   "id": "16dbf462",
   "metadata": {},
   "outputs": [
    {
     "data": {
      "text/html": [
       "<table border='1'>\n",
       "<tr><th>count(1)</th></tr>\n",
       "<tr><td>0</td></tr>\n",
       "</table>\n"
      ],
      "text/plain": [
       "+--------+\n",
       "|count(1)|\n",
       "+--------+\n",
       "|       0|\n",
       "+--------+"
      ]
     },
     "execution_count": 119,
     "metadata": {},
     "output_type": "execute_result"
    }
   ],
   "source": [
    "spark.sql(\"select count(*) from repayment_data where total_payment==0 AND total_principle_received !=0\")"
   ]
  },
  {
   "cell_type": "code",
   "execution_count": 120,
   "id": "fa85774d",
   "metadata": {},
   "outputs": [
    {
     "data": {
      "text/html": [
       "<table border='1'>\n",
       "<tr><th>count(1)</th></tr>\n",
       "<tr><td>949</td></tr>\n",
       "</table>\n"
      ],
      "text/plain": [
       "+--------+\n",
       "|count(1)|\n",
       "+--------+\n",
       "|     949|\n",
       "+--------+"
      ]
     },
     "execution_count": 120,
     "metadata": {},
     "output_type": "execute_result"
    }
   ],
   "source": [
    "spark.sql(\"select count(*) from repayment_data where total_payment==0\")"
   ]
  },
  {
   "cell_type": "code",
   "execution_count": 121,
   "id": "16e629a4",
   "metadata": {},
   "outputs": [],
   "source": [
    "total_repayment_clean_df = spark.sql(\"select * from repayment_data where total_payment!=0\")"
   ]
  },
  {
   "cell_type": "code",
   "execution_count": 122,
   "id": "5cf36a2a",
   "metadata": {},
   "outputs": [
    {
     "data": {
      "text/html": [
       "<table border='1'>\n",
       "<tr><th>loan_id</th><th>total_principle_received</th><th>total_interest_received</th><th>total_late_fee_received</th><th>total_payment</th><th>last_payment_amount</th><th>last_payment_date</th><th>next_payment_date</th><th>ingestion_date</th></tr>\n",
       "<tr><td>84647143</td><td>4000.0</td><td>614.11</td><td>0.0</td><td>4614.1104</td><td>1235.28</td><td>Oct-2018</td><td>null</td><td>2024-07-05 14:50:...</td></tr>\n",
       "<tr><td>86463837</td><td>9967.93</td><td>6417.24</td><td>0.0</td><td>16385.17</td><td>529.11</td><td>Mar-2019</td><td>Apr-2019</td><td>2024-07-05 14:50:...</td></tr>\n",
       "<tr><td>86643264</td><td>15200.0</td><td>2329.24</td><td>0.0</td><td>17529.244</td><td>14837.07</td><td>Mar-2017</td><td>null</td><td>2024-07-05 14:50:...</td></tr>\n",
       "<tr><td>85610005</td><td>1001.45</td><td>469.25</td><td>0.0</td><td>1470.7</td><td>246.05</td><td>Feb-2017</td><td>null</td><td>2024-07-05 14:50:...</td></tr>\n",
       "<tr><td>86101113</td><td>1316.02</td><td>517.0</td><td>0.0</td><td>2001.23</td><td>87.39</td><td>May-2018</td><td>null</td><td>2024-07-05 14:50:...</td></tr>\n",
       "<tr><td>85952284</td><td>14000.0</td><td>1851.72</td><td>0.0</td><td>15851.718</td><td>4733.71</td><td>Oct-2018</td><td>null</td><td>2024-07-05 14:50:...</td></tr>\n",
       "<tr><td>84666301</td><td>25193.35</td><td>5450.84</td><td>0.0</td><td>30644.19</td><td>989.14</td><td>Mar-2019</td><td>Apr-2019</td><td>2024-07-05 14:50:...</td></tr>\n",
       "<tr><td>85872910</td><td>4525.0</td><td>616.49</td><td>0.0</td><td>5141.489</td><td>3693.97</td><td>Jun-2017</td><td>null</td><td>2024-07-05 14:50:...</td></tr>\n",
       "<tr><td>85615895</td><td>7500.0</td><td>1764.84</td><td>0.0</td><td>9264.843</td><td>2976.53</td><td>Sep-2018</td><td>null</td><td>2024-07-05 14:50:...</td></tr>\n",
       "<tr><td>86523233</td><td>2522.48</td><td>520.2</td><td>0.0</td><td>3042.68</td><td>98.21</td><td>Mar-2019</td><td>Apr-2019</td><td>2024-07-05 14:50:...</td></tr>\n",
       "<tr><td>86022413</td><td>40000.0</td><td>2302.1</td><td>0.0</td><td>42302.098</td><td>36827.7</td><td>Jan-2017</td><td>null</td><td>2024-07-05 14:50:...</td></tr>\n",
       "<tr><td>86432956</td><td>12000.0</td><td>1173.17</td><td>0.0</td><td>13173.168</td><td>7455.91</td><td>Dec-2017</td><td>null</td><td>2024-07-05 14:50:...</td></tr>\n",
       "<tr><td>85992799</td><td>7566.74</td><td>1555.18</td><td>0.0</td><td>9121.92</td><td>294.61</td><td>Mar-2019</td><td>Apr-2019</td><td>2024-07-05 14:50:...</td></tr>\n",
       "<tr><td>86453222</td><td>9484.55</td><td>4480.34</td><td>0.0</td><td>13964.89</td><td>451.27</td><td>Mar-2019</td><td>Apr-2019</td><td>2024-07-05 14:50:...</td></tr>\n",
       "<tr><td>85805832</td><td>12611.0</td><td>2591.99</td><td>0.0</td><td>15202.99</td><td>491.01</td><td>Mar-2019</td><td>Apr-2019</td><td>2024-07-05 14:50:...</td></tr>\n",
       "<tr><td>86423193</td><td>5000.0</td><td>315.32</td><td>0.0</td><td>5315.323</td><td>4318.04</td><td>Mar-2017</td><td>null</td><td>2024-07-05 14:50:...</td></tr>\n",
       "<tr><td>86012238</td><td>1168.63</td><td>420.17</td><td>0.0</td><td>1588.8</td><td>196.41</td><td>Apr-2017</td><td>null</td><td>2024-07-05 14:50:...</td></tr>\n",
       "<tr><td>86377338</td><td>12147.78</td><td>2142.14</td><td>0.0</td><td>14289.92</td><td>461.21</td><td>Mar-2019</td><td>Apr-2019</td><td>2024-07-05 14:50:...</td></tr>\n",
       "<tr><td>86602165</td><td>10000.0</td><td>1565.31</td><td>0.0</td><td>11565.312</td><td>334.3</td><td>May-2018</td><td>null</td><td>2024-07-05 14:50:...</td></tr>\n",
       "<tr><td>86206722</td><td>8800.0</td><td>1485.9</td><td>0.0</td><td>10285.902</td><td>790.63</td><td>Jan-2019</td><td>null</td><td>2024-07-05 14:50:...</td></tr>\n",
       "</table>\n",
       "only showing top 20 rows\n"
      ],
      "text/plain": [
       "+--------+------------------------+-----------------------+-----------------------+-------------+-------------------+-----------------+-----------------+--------------------+\n",
       "| loan_id|total_principle_received|total_interest_received|total_late_fee_received|total_payment|last_payment_amount|last_payment_date|next_payment_date|      ingestion_date|\n",
       "+--------+------------------------+-----------------------+-----------------------+-------------+-------------------+-----------------+-----------------+--------------------+\n",
       "|84647143|                  4000.0|                 614.11|                    0.0|    4614.1104|            1235.28|         Oct-2018|             null|2024-07-05 14:50:...|\n",
       "|86463837|                 9967.93|                6417.24|                    0.0|     16385.17|             529.11|         Mar-2019|         Apr-2019|2024-07-05 14:50:...|\n",
       "|86643264|                 15200.0|                2329.24|                    0.0|    17529.244|           14837.07|         Mar-2017|             null|2024-07-05 14:50:...|\n",
       "|85610005|                 1001.45|                 469.25|                    0.0|       1470.7|             246.05|         Feb-2017|             null|2024-07-05 14:50:...|\n",
       "|86101113|                 1316.02|                  517.0|                    0.0|      2001.23|              87.39|         May-2018|             null|2024-07-05 14:50:...|\n",
       "|85952284|                 14000.0|                1851.72|                    0.0|    15851.718|            4733.71|         Oct-2018|             null|2024-07-05 14:50:...|\n",
       "|84666301|                25193.35|                5450.84|                    0.0|     30644.19|             989.14|         Mar-2019|         Apr-2019|2024-07-05 14:50:...|\n",
       "|85872910|                  4525.0|                 616.49|                    0.0|     5141.489|            3693.97|         Jun-2017|             null|2024-07-05 14:50:...|\n",
       "|85615895|                  7500.0|                1764.84|                    0.0|     9264.843|            2976.53|         Sep-2018|             null|2024-07-05 14:50:...|\n",
       "|86523233|                 2522.48|                  520.2|                    0.0|      3042.68|              98.21|         Mar-2019|         Apr-2019|2024-07-05 14:50:...|\n",
       "|86022413|                 40000.0|                 2302.1|                    0.0|    42302.098|            36827.7|         Jan-2017|             null|2024-07-05 14:50:...|\n",
       "|86432956|                 12000.0|                1173.17|                    0.0|    13173.168|            7455.91|         Dec-2017|             null|2024-07-05 14:50:...|\n",
       "|85992799|                 7566.74|                1555.18|                    0.0|      9121.92|             294.61|         Mar-2019|         Apr-2019|2024-07-05 14:50:...|\n",
       "|86453222|                 9484.55|                4480.34|                    0.0|     13964.89|             451.27|         Mar-2019|         Apr-2019|2024-07-05 14:50:...|\n",
       "|85805832|                 12611.0|                2591.99|                    0.0|     15202.99|             491.01|         Mar-2019|         Apr-2019|2024-07-05 14:50:...|\n",
       "|86423193|                  5000.0|                 315.32|                    0.0|     5315.323|            4318.04|         Mar-2017|             null|2024-07-05 14:50:...|\n",
       "|86012238|                 1168.63|                 420.17|                    0.0|       1588.8|             196.41|         Apr-2017|             null|2024-07-05 14:50:...|\n",
       "|86377338|                12147.78|                2142.14|                    0.0|     14289.92|             461.21|         Mar-2019|         Apr-2019|2024-07-05 14:50:...|\n",
       "|86602165|                 10000.0|                1565.31|                    0.0|    11565.312|              334.3|         May-2018|             null|2024-07-05 14:50:...|\n",
       "|86206722|                  8800.0|                 1485.9|                    0.0|    10285.902|             790.63|         Jan-2019|             null|2024-07-05 14:50:...|\n",
       "+--------+------------------------+-----------------------+-----------------------+-------------+-------------------+-----------------+-----------------+--------------------+\n",
       "only showing top 20 rows"
      ]
     },
     "execution_count": 122,
     "metadata": {},
     "output_type": "execute_result"
    }
   ],
   "source": [
    "total_repayment_clean_df"
   ]
  },
  {
   "cell_type": "code",
   "execution_count": 123,
   "id": "b7199a7b",
   "metadata": {},
   "outputs": [
    {
     "data": {
      "text/plain": [
       "0"
      ]
     },
     "execution_count": 123,
     "metadata": {},
     "output_type": "execute_result"
    }
   ],
   "source": [
    "total_repayment_clean_df.filter(\"total_payment==0\").count()"
   ]
  },
  {
   "cell_type": "code",
   "execution_count": 124,
   "id": "8265c91b",
   "metadata": {},
   "outputs": [
    {
     "data": {
      "text/plain": [
       "48"
      ]
     },
     "execution_count": 124,
     "metadata": {},
     "output_type": "execute_result"
    }
   ],
   "source": [
    "total_repayment_clean_df.filter(\"last_payment_date = 0.0\").count()"
   ]
  },
  {
   "cell_type": "code",
   "execution_count": 125,
   "id": "a95c290b",
   "metadata": {},
   "outputs": [
    {
     "data": {
      "text/plain": [
       "24"
      ]
     },
     "execution_count": 125,
     "metadata": {},
     "output_type": "execute_result"
    }
   ],
   "source": [
    "total_repayment_clean_df.filter(\"next_payment_date = 0.0\").count()"
   ]
  },
  {
   "cell_type": "code",
   "execution_count": 126,
   "id": "15e31efe",
   "metadata": {},
   "outputs": [
    {
     "data": {
      "text/plain": [
       "1477"
      ]
     },
     "execution_count": 126,
     "metadata": {},
     "output_type": "execute_result"
    }
   ],
   "source": [
    "total_repayment_clean_df.filter(\"last_payment_date is null\").count()"
   ]
  },
  {
   "cell_type": "code",
   "execution_count": 127,
   "id": "65d535af",
   "metadata": {},
   "outputs": [
    {
     "data": {
      "text/plain": [
       "1344240"
      ]
     },
     "execution_count": 127,
     "metadata": {},
     "output_type": "execute_result"
    }
   ],
   "source": [
    "total_repayment_clean_df.filter(\"next_payment_date is null\").count()"
   ]
  },
  {
   "cell_type": "code",
   "execution_count": 129,
   "id": "12e062bc",
   "metadata": {},
   "outputs": [],
   "source": [
    "last_payment_cleaned_df = total_repayment_clean_df.withColumn(\"last_payment_date\",when((col(\"last_payment_date\")==0.0),None).otherwise(col(\"last_payment_date\")))"
   ]
  },
  {
   "cell_type": "code",
   "execution_count": 131,
   "id": "03aaa0a7",
   "metadata": {},
   "outputs": [],
   "source": [
    "last_payment_cleaned_df=last_payment_cleaned_df.withColumn(\"next_payment_date\",when((col(\"next_payment_date\")==0.0),None).otherwise(col(\"next_payment_date\")))"
   ]
  },
  {
   "cell_type": "code",
   "execution_count": 133,
   "id": "66bb838e",
   "metadata": {},
   "outputs": [
    {
     "data": {
      "text/plain": [
       "0"
      ]
     },
     "execution_count": 133,
     "metadata": {},
     "output_type": "execute_result"
    }
   ],
   "source": [
    "last_payment_cleaned_df.filter(\"last_payment_date = 0.0\").count()"
   ]
  },
  {
   "cell_type": "code",
   "execution_count": 134,
   "id": "14f02150",
   "metadata": {},
   "outputs": [
    {
     "data": {
      "text/plain": [
       "0"
      ]
     },
     "execution_count": 134,
     "metadata": {},
     "output_type": "execute_result"
    }
   ],
   "source": [
    "last_payment_cleaned_df.filter(\"next_payment_date = 0.0\").count()"
   ]
  },
  {
   "cell_type": "code",
   "execution_count": 135,
   "id": "d77818c5",
   "metadata": {},
   "outputs": [],
   "source": [
    "last_payment_cleaned_df.write \\\n",
    ".option(\"header\", True) \\\n",
    ".format(\"csv\") \\\n",
    ".mode(\"overwrite\") \\\n",
    ".option(\"path\",\"/user/itv010130/loanproject/clean/repayment_data_csv\") \\\n",
    ".save()"
   ]
  },
  {
   "cell_type": "code",
   "execution_count": 136,
   "id": "a46dd7b6",
   "metadata": {},
   "outputs": [],
   "source": [
    "last_payment_cleaned_df.write \\\n",
    ".format(\"parquet\") \\\n",
    ".mode(\"overwrite\") \\\n",
    ".option(\"path\",\"/user/itv010130/loanproject/clean/repayment_data_parquet\") \\\n",
    ".save()"
   ]
  },
  {
   "cell_type": "code",
   "execution_count": 137,
   "id": "458cef6f",
   "metadata": {},
   "outputs": [
    {
     "name": "stdout",
     "output_type": "stream",
     "text": [
      "Found 6 items\n",
      "drwxr-xr-x   - itv010130 supergroup          0 2024-07-02 01:08 /user/itv010130/loanproject/clean/customer_data_csv\n",
      "drwxr-xr-x   - itv010130 supergroup          0 2024-07-04 21:51 /user/itv010130/loanproject/clean/customer_data_parquet\n",
      "drwxr-xr-x   - itv010130 supergroup          0 2024-07-04 23:42 /user/itv010130/loanproject/clean/loan_data_csv\n",
      "drwxr-xr-x   - itv010130 supergroup          0 2024-07-04 23:43 /user/itv010130/loanproject/clean/loan_data_parquet\n",
      "drwxr-xr-x   - itv010130 supergroup          0 2024-07-05 15:01 /user/itv010130/loanproject/clean/repayment_data_csv\n",
      "drwxr-xr-x   - itv010130 supergroup          0 2024-07-05 15:02 /user/itv010130/loanproject/clean/repayment_data_parquet\n"
     ]
    }
   ],
   "source": [
    "!hadoop fs -ls /user/itv010130/loanproject/clean"
   ]
  },
  {
   "cell_type": "markdown",
   "id": "35429c08",
   "metadata": {},
   "source": [
    "### Loan Defaulters"
   ]
  },
  {
   "cell_type": "code",
   "execution_count": 2,
   "id": "ca5f50ad",
   "metadata": {},
   "outputs": [
    {
     "name": "stdout",
     "output_type": "stream",
     "text": [
      "Found 4 items\n",
      "drwxr-xr-x   - itv010130 supergroup          0 2024-06-29 00:32 /user/itv010130/loanproject/raw/customer_data_csv\n",
      "drwxr-xr-x   - itv010130 supergroup          0 2024-06-29 01:00 /user/itv010130/loanproject/raw/loan_data_csv\n",
      "drwxr-xr-x   - itv010130 supergroup          0 2024-06-29 01:12 /user/itv010130/loanproject/raw/loan_defaulters_data_csv\n",
      "drwxr-xr-x   - itv010130 supergroup          0 2024-06-29 01:06 /user/itv010130/loanproject/raw/loan_repayment_data_csv\n"
     ]
    }
   ],
   "source": [
    "! hadoop fs -ls /user/itv010130/loanproject/raw"
   ]
  },
  {
   "cell_type": "code",
   "execution_count": 80,
   "id": "8d6b495f",
   "metadata": {},
   "outputs": [],
   "source": [
    "defaulters_df = spark.read \\\n",
    ".option(\"header\", True) \\\n",
    ".format(\"csv\") \\\n",
    ".option(\"inferSchema\", True) \\\n",
    ".load(\"/user/itv010130/loanproject/raw/loan_defaulters_data_csv\")"
   ]
  },
  {
   "cell_type": "code",
   "execution_count": 81,
   "id": "faee3c93",
   "metadata": {},
   "outputs": [
    {
     "data": {
      "text/html": [
       "<table border='1'>\n",
       "<tr><th>member_id</th><th>delinq_2yrs</th><th>delinq_amnt</th><th>pub_rec</th><th>pub_rec_bankruptcies</th><th>inq_last_6mths</th><th>total_rec_late_fee</th><th>mths_since_last_delinq</th><th>mths_since_last_record</th></tr>\n",
       "<tr><td>b59d80da191f5b573...</td><td>0.0</td><td>0.0</td><td>0.0</td><td>0.0</td><td>1.0</td><td>0.0</td><td>31.0</td><td>null</td></tr>\n",
       "<tr><td>202d9f56ecb7c3bc9...</td><td>1.0</td><td>0.0</td><td>0.0</td><td>0.0</td><td>0.0</td><td>0.0</td><td>6.0</td><td>null</td></tr>\n",
       "<tr><td>e5a140c0922b554b9...</td><td>0.0</td><td>0.0</td><td>0.0</td><td>0.0</td><td>0.0</td><td>0.0</td><td>47.0</td><td>null</td></tr>\n",
       "<tr><td>e12aefc548f750777...</td><td>0.0</td><td>0.0</td><td>0.0</td><td>0.0</td><td>0.0</td><td>0.0</td><td>33.0</td><td>null</td></tr>\n",
       "<tr><td>1b3a50d854fbbf97e...</td><td>1.0</td><td>0.0</td><td>0.0</td><td>0.0</td><td>0.0</td><td>0.0</td><td>21.0</td><td>null</td></tr>\n",
       "<tr><td>1c4329e5f17697127...</td><td>0.0</td><td>0.0</td><td>0.0</td><td>0.0</td><td>0.0</td><td>0.0</td><td>null</td><td>null</td></tr>\n",
       "<tr><td>5026c86ad983175eb...</td><td>0.0</td><td>0.0</td><td>1.0</td><td>0.0</td><td>2.0</td><td>0.0</td><td>null</td><td>71.0</td></tr>\n",
       "<tr><td>9847d8c1e9d0b2084...</td><td>1.0</td><td>0.0</td><td>2.0</td><td>0.0</td><td>0.0</td><td>0.0</td><td>6.0</td><td>63.0</td></tr>\n",
       "<tr><td>8340dbe1adea41fb4...</td><td>0.0</td><td>0.0</td><td>0.0</td><td>0.0</td><td>0.0</td><td>0.0</td><td>36.0</td><td>null</td></tr>\n",
       "<tr><td>d4de0de3ab7d79ad4...</td><td>0.0</td><td>0.0</td><td>0.0</td><td>0.0</td><td>0.0</td><td>0.0</td><td>35.0</td><td>null</td></tr>\n",
       "<tr><td>3df3cdeddb74a8712...</td><td>0.0</td><td>0.0</td><td>0.0</td><td>0.0</td><td>0.0</td><td>0.0</td><td>null</td><td>null</td></tr>\n",
       "<tr><td>9dd72636b1b4045b4...</td><td>0.0</td><td>0.0</td><td>0.0</td><td>0.0</td><td>3.0</td><td>0.0</td><td>null</td><td>null</td></tr>\n",
       "<tr><td>1d4e1ef4353b73c00...</td><td>0.0</td><td>0.0</td><td>0.0</td><td>0.0</td><td>2.0</td><td>0.0</td><td>30.0</td><td>null</td></tr>\n",
       "<tr><td>6f196952e71277fd4...</td><td>4.0</td><td>0.0</td><td>0.0</td><td>0.0</td><td>0.0</td><td>0.0</td><td>5.0</td><td>null</td></tr>\n",
       "<tr><td>9c617cbc6e3e3d6a1...</td><td>1.0</td><td>0.0</td><td>0.0</td><td>0.0</td><td>2.0</td><td>0.0</td><td>20.0</td><td>null</td></tr>\n",
       "<tr><td>45eb04dd75400a942...</td><td>0.0</td><td>0.0</td><td>0.0</td><td>0.0</td><td>2.0</td><td>0.0</td><td>28.0</td><td>null</td></tr>\n",
       "<tr><td>08d233c81f9e50726...</td><td>0.0</td><td>0.0</td><td>0.0</td><td>0.0</td><td>1.0</td><td>0.0</td><td>null</td><td>null</td></tr>\n",
       "<tr><td>8ff4d0ed17a1cab92...</td><td>1.0</td><td>0.0</td><td>2.0</td><td>0.0</td><td>2.0</td><td>0.0</td><td>15.0</td><td>32.0</td></tr>\n",
       "<tr><td>aec13cfd611b2cfea...</td><td>1.0</td><td>0.0</td><td>0.0</td><td>0.0</td><td>1.0</td><td>0.0</td><td>19.0</td><td>null</td></tr>\n",
       "<tr><td>9ba8c96ccba6cd1f0...</td><td>0.0</td><td>0.0</td><td>0.0</td><td>0.0</td><td>0.0</td><td>0.0</td><td>37.0</td><td>null</td></tr>\n",
       "</table>\n",
       "only showing top 20 rows\n"
      ],
      "text/plain": [
       "+--------------------+-----------+-----------+-------+--------------------+--------------+------------------+----------------------+----------------------+\n",
       "|           member_id|delinq_2yrs|delinq_amnt|pub_rec|pub_rec_bankruptcies|inq_last_6mths|total_rec_late_fee|mths_since_last_delinq|mths_since_last_record|\n",
       "+--------------------+-----------+-----------+-------+--------------------+--------------+------------------+----------------------+----------------------+\n",
       "|b59d80da191f5b573...|        0.0|        0.0|    0.0|                 0.0|           1.0|               0.0|                  31.0|                  null|\n",
       "|202d9f56ecb7c3bc9...|        1.0|        0.0|    0.0|                 0.0|           0.0|               0.0|                   6.0|                  null|\n",
       "|e5a140c0922b554b9...|        0.0|        0.0|    0.0|                 0.0|           0.0|               0.0|                  47.0|                  null|\n",
       "|e12aefc548f750777...|        0.0|        0.0|    0.0|                 0.0|           0.0|               0.0|                  33.0|                  null|\n",
       "|1b3a50d854fbbf97e...|        1.0|        0.0|    0.0|                 0.0|           0.0|               0.0|                  21.0|                  null|\n",
       "|1c4329e5f17697127...|        0.0|        0.0|    0.0|                 0.0|           0.0|               0.0|                  null|                  null|\n",
       "|5026c86ad983175eb...|        0.0|        0.0|    1.0|                 0.0|           2.0|               0.0|                  null|                  71.0|\n",
       "|9847d8c1e9d0b2084...|        1.0|        0.0|    2.0|                 0.0|           0.0|               0.0|                   6.0|                  63.0|\n",
       "|8340dbe1adea41fb4...|        0.0|        0.0|    0.0|                 0.0|           0.0|               0.0|                  36.0|                  null|\n",
       "|d4de0de3ab7d79ad4...|        0.0|        0.0|    0.0|                 0.0|           0.0|               0.0|                  35.0|                  null|\n",
       "|3df3cdeddb74a8712...|        0.0|        0.0|    0.0|                 0.0|           0.0|               0.0|                  null|                  null|\n",
       "|9dd72636b1b4045b4...|        0.0|        0.0|    0.0|                 0.0|           3.0|               0.0|                  null|                  null|\n",
       "|1d4e1ef4353b73c00...|        0.0|        0.0|    0.0|                 0.0|           2.0|               0.0|                  30.0|                  null|\n",
       "|6f196952e71277fd4...|        4.0|        0.0|    0.0|                 0.0|           0.0|               0.0|                   5.0|                  null|\n",
       "|9c617cbc6e3e3d6a1...|        1.0|        0.0|    0.0|                 0.0|           2.0|               0.0|                  20.0|                  null|\n",
       "|45eb04dd75400a942...|        0.0|        0.0|    0.0|                 0.0|           2.0|               0.0|                  28.0|                  null|\n",
       "|08d233c81f9e50726...|        0.0|        0.0|    0.0|                 0.0|           1.0|               0.0|                  null|                  null|\n",
       "|8ff4d0ed17a1cab92...|        1.0|        0.0|    2.0|                 0.0|           2.0|               0.0|                  15.0|                  32.0|\n",
       "|aec13cfd611b2cfea...|        1.0|        0.0|    0.0|                 0.0|           1.0|               0.0|                  19.0|                  null|\n",
       "|9ba8c96ccba6cd1f0...|        0.0|        0.0|    0.0|                 0.0|           0.0|               0.0|                  37.0|                  null|\n",
       "+--------------------+-----------+-----------+-------+--------------------+--------------+------------------+----------------------+----------------------+\n",
       "only showing top 20 rows"
      ]
     },
     "execution_count": 81,
     "metadata": {},
     "output_type": "execute_result"
    }
   ],
   "source": [
    "defaulters_df"
   ]
  },
  {
   "cell_type": "code",
   "execution_count": 82,
   "id": "46e38b82",
   "metadata": {},
   "outputs": [
    {
     "name": "stdout",
     "output_type": "stream",
     "text": [
      "root\n",
      " |-- member_id: string (nullable = true)\n",
      " |-- delinq_2yrs: string (nullable = true)\n",
      " |-- delinq_amnt: double (nullable = true)\n",
      " |-- pub_rec: string (nullable = true)\n",
      " |-- pub_rec_bankruptcies: double (nullable = true)\n",
      " |-- inq_last_6mths: string (nullable = true)\n",
      " |-- total_rec_late_fee: string (nullable = true)\n",
      " |-- mths_since_last_delinq: string (nullable = true)\n",
      " |-- mths_since_last_record: string (nullable = true)\n",
      "\n"
     ]
    }
   ],
   "source": [
    "defaulters_df.printSchema()"
   ]
  },
  {
   "cell_type": "code",
   "execution_count": 83,
   "id": "91b7b447",
   "metadata": {},
   "outputs": [],
   "source": [
    "defaulters_df.createOrReplaceTempView(\"defaulters_data\")"
   ]
  },
  {
   "cell_type": "code",
   "execution_count": 84,
   "id": "29ad6105",
   "metadata": {},
   "outputs": [
    {
     "data": {
      "text/html": [
       "<table border='1'>\n",
       "<tr><th>delinq_2yrs</th></tr>\n",
       "<tr><td>1.0</td></tr>\n",
       "<tr><td>271 monthly payme...</td></tr>\n",
       "<tr><td>I bike to work on...</td></tr>\n",
       "<tr><td>VISA and AMEX cre...</td></tr>\n",
       "<tr><td>etc. and I feel t...</td></tr>\n",
       "<tr><td>183xx</td></tr>\n",
       "<tr><td>AZ</td></tr>\n",
       "<tr><td>017xx</td></tr>\n",
       "<tr><td>923xx</td></tr>\n",
       "<tr><td>446xx</td></tr>\n",
       "<tr><td>who is a financia...</td></tr>\n",
       "<tr><td>and all of that c...</td></tr>\n",
       "<tr><td>LA</td></tr>\n",
       "<tr><td>24.66</td></tr>\n",
       "<tr><td>and the removal o...</td></tr>\n",
       "<tr><td>I would like to c...</td></tr>\n",
       "<tr><td>12.24</td></tr>\n",
       "<tr><td>22.0</td></tr>\n",
       "<tr><td>so most of my inc...</td></tr>\n",
       "<tr><td>I would like to p...</td></tr>\n",
       "</table>\n",
       "only showing top 20 rows\n"
      ],
      "text/plain": [
       "+--------------------+\n",
       "|         delinq_2yrs|\n",
       "+--------------------+\n",
       "|                 1.0|\n",
       "|I bike to work on...|\n",
       "|271 monthly payme...|\n",
       "|               183xx|\n",
       "|VISA and AMEX cre...|\n",
       "|etc. and I feel t...|\n",
       "|                  AZ|\n",
       "|               017xx|\n",
       "|               923xx|\n",
       "|               446xx|\n",
       "|who is a financia...|\n",
       "|and all of that c...|\n",
       "|                  LA|\n",
       "|               24.66|\n",
       "|and the removal o...|\n",
       "|I would like to c...|\n",
       "|               12.24|\n",
       "|                22.0|\n",
       "|so most of my inc...|\n",
       "|I would like to p...|\n",
       "+--------------------+\n",
       "only showing top 20 rows"
      ]
     },
     "execution_count": 84,
     "metadata": {},
     "output_type": "execute_result"
    }
   ],
   "source": [
    "spark.sql(\"select distinct(delinq_2yrs) from defaulters_data\")"
   ]
  },
  {
   "cell_type": "code",
   "execution_count": 85,
   "id": "ba2d481f",
   "metadata": {},
   "outputs": [
    {
     "data": {
      "text/html": [
       "<table border='1'>\n",
       "<tr><th>inq_last_6mths</th></tr>\n",
       "<tr><td>1.0</td></tr>\n",
       "<tr><td>705.0</td></tr>\n",
       "<tr><td>685.0</td></tr>\n",
       "<tr><td>675.0</td></tr>\n",
       "<tr><td>923xx</td></tr>\n",
       "<tr><td>244xx</td></tr>\n",
       "<tr><td>Aug-1995</td></tr>\n",
       "<tr><td>754.0</td></tr>\n",
       "<tr><td>Apr-1997</td></tr>\n",
       "<tr><td>Oct-1999</td></tr>\n",
       "<tr><td>11.64</td></tr>\n",
       "<tr><td>997xx</td></tr>\n",
       "<tr><td>which is the most...</td></tr>\n",
       "<tr><td>729.0</td></tr>\n",
       "<tr><td>Jan-1984</td></tr>\n",
       "<tr><td>745.0</td></tr>\n",
       "<tr><td>674.0</td></tr>\n",
       "<tr><td>20.0</td></tr>\n",
       "<tr><td>Jan-1994</td></tr>\n",
       "<tr><td>15.0</td></tr>\n",
       "</table>\n",
       "only showing top 20 rows\n"
      ],
      "text/plain": [
       "+--------------------+\n",
       "|      inq_last_6mths|\n",
       "+--------------------+\n",
       "|                 1.0|\n",
       "|               705.0|\n",
       "|               685.0|\n",
       "|               675.0|\n",
       "|               923xx|\n",
       "|               244xx|\n",
       "|            Aug-1995|\n",
       "|               754.0|\n",
       "|            Apr-1997|\n",
       "|            Oct-1999|\n",
       "|               11.64|\n",
       "|               997xx|\n",
       "|which is the most...|\n",
       "|               729.0|\n",
       "|            Jan-1984|\n",
       "|               745.0|\n",
       "|               674.0|\n",
       "|                20.0|\n",
       "|            Jan-1994|\n",
       "|                15.0|\n",
       "+--------------------+\n",
       "only showing top 20 rows"
      ]
     },
     "execution_count": 85,
     "metadata": {},
     "output_type": "execute_result"
    }
   ],
   "source": [
    "spark.sql(\"select distinct(inq_last_6mths) from defaulters_data\")"
   ]
  },
  {
   "cell_type": "code",
   "execution_count": 86,
   "id": "14796740",
   "metadata": {},
   "outputs": [
    {
     "data": {
      "text/html": [
       "<table border='1'>\n",
       "<tr><th>total_rec_late_fee</th></tr>\n",
       "<tr><td>89.46</td></tr>\n",
       "<tr><td>36.65</td></tr>\n",
       "<tr><td>21.3500000043</td></tr>\n",
       "<tr><td>58.7</td></tr>\n",
       "<tr><td>102.0</td></tr>\n",
       "<tr><td>373.38000096220003</td></tr>\n",
       "<tr><td>28.37</td></tr>\n",
       "<tr><td>39.2800000276</td></tr>\n",
       "<tr><td>132.7000000479</td></tr>\n",
       "<tr><td>28.79</td></tr>\n",
       "<tr><td>15.0000000397</td></tr>\n",
       "<tr><td>24.7900001302</td></tr>\n",
       "<tr><td>91.8</td></tr>\n",
       "<tr><td>19.06</td></tr>\n",
       "<tr><td>51.49000007</td></tr>\n",
       "<tr><td>17.42</td></tr>\n",
       "<tr><td>65.32</td></tr>\n",
       "<tr><td>67.7600000802</td></tr>\n",
       "<tr><td>34.71</td></tr>\n",
       "<tr><td>105.42</td></tr>\n",
       "</table>\n",
       "only showing top 20 rows\n"
      ],
      "text/plain": [
       "+------------------+\n",
       "|total_rec_late_fee|\n",
       "+------------------+\n",
       "|             89.46|\n",
       "|             36.65|\n",
       "|     21.3500000043|\n",
       "|              58.7|\n",
       "|             102.0|\n",
       "|373.38000096220003|\n",
       "|             28.37|\n",
       "|     39.2800000276|\n",
       "|    132.7000000479|\n",
       "|             28.79|\n",
       "|     15.0000000397|\n",
       "|     24.7900001302|\n",
       "|              91.8|\n",
       "|             19.06|\n",
       "|       51.49000007|\n",
       "|             17.42|\n",
       "|             65.32|\n",
       "|     67.7600000802|\n",
       "|             34.71|\n",
       "|            105.42|\n",
       "+------------------+\n",
       "only showing top 20 rows"
      ]
     },
     "execution_count": 86,
     "metadata": {},
     "output_type": "execute_result"
    }
   ],
   "source": [
    "spark.sql(\"select distinct(total_rec_late_fee) from defaulters_data\")"
   ]
  },
  {
   "cell_type": "code",
   "execution_count": 87,
   "id": "a00494a8",
   "metadata": {},
   "outputs": [
    {
     "data": {
      "text/html": [
       "<table border='1'>\n",
       "<tr><th>mths_since_last_delinq</th></tr>\n",
       "<tr><td>102.0</td></tr>\n",
       "<tr><td>151.0</td></tr>\n",
       "<tr><td>1.0</td></tr>\n",
       "<tr><td>Debt Smash &amp; Capi...</td></tr>\n",
       "<tr><td>May-1993</td></tr>\n",
       "<tr><td>Sep-1998</td></tr>\n",
       "<tr><td>685.0</td></tr>\n",
       "<tr><td>Salaries</td></tr>\n",
       "<tr><td>Sep-2003</td></tr>\n",
       "<tr><td>675.0</td></tr>\n",
       "<tr><td>12.8</td></tr>\n",
       "<tr><td>84.0</td></tr>\n",
       "<tr><td>116.0</td></tr>\n",
       "<tr><td>784.0</td></tr>\n",
       "<tr><td>non tax declared ...</td></tr>\n",
       "<tr><td>754.0</td></tr>\n",
       "<tr><td>LA</td></tr>\n",
       "<tr><td>145.0</td></tr>\n",
       "<tr><td>127.0</td></tr>\n",
       "<tr><td>Oct-1999</td></tr>\n",
       "</table>\n",
       "only showing top 20 rows\n"
      ],
      "text/plain": [
       "+----------------------+\n",
       "|mths_since_last_delinq|\n",
       "+----------------------+\n",
       "|                 102.0|\n",
       "|                 151.0|\n",
       "|                   1.0|\n",
       "|              May-1993|\n",
       "|              Sep-1998|\n",
       "|  Debt Smash & Capi...|\n",
       "|                 685.0|\n",
       "|              Salaries|\n",
       "|              Sep-2003|\n",
       "|                 675.0|\n",
       "|                  12.8|\n",
       "|                  84.0|\n",
       "|                 116.0|\n",
       "|                 784.0|\n",
       "|  non tax declared ...|\n",
       "|                 754.0|\n",
       "|                    LA|\n",
       "|                 145.0|\n",
       "|                 127.0|\n",
       "|              Oct-1999|\n",
       "+----------------------+\n",
       "only showing top 20 rows"
      ]
     },
     "execution_count": 87,
     "metadata": {},
     "output_type": "execute_result"
    }
   ],
   "source": [
    "spark.sql(\"select distinct(mths_since_last_delinq) from defaulters_data\")"
   ]
  },
  {
   "cell_type": "code",
   "execution_count": 88,
   "id": "500093a1",
   "metadata": {},
   "outputs": [
    {
     "data": {
      "text/html": [
       "<table border='1'>\n",
       "<tr><th>mths_since_last_record</th></tr>\n",
       "<tr><td>102.0</td></tr>\n",
       "<tr><td>1.0</td></tr>\n",
       "<tr><td>685.0</td></tr>\n",
       "<tr><td>705.0</td></tr>\n",
       "<tr><td>Dec-1981</td></tr>\n",
       "<tr><td>AZ</td></tr>\n",
       "<tr><td>84.0</td></tr>\n",
       "<tr><td>116.0</td></tr>\n",
       "<tr><td>Working Capital</td></tr>\n",
       "<tr><td>754.0</td></tr>\n",
       "<tr><td>127.0</td></tr>\n",
       "<tr><td>75.0</td></tr>\n",
       "<tr><td>50.0</td></tr>\n",
       "<tr><td>22.0</td></tr>\n",
       "<tr><td>669.0</td></tr>\n",
       "<tr><td>65.0</td></tr>\n",
       "<tr><td>729.0</td></tr>\n",
       "<tr><td>118.0</td></tr>\n",
       "<tr><td>38.0</td></tr>\n",
       "<tr><td>745.0</td></tr>\n",
       "</table>\n",
       "only showing top 20 rows\n"
      ],
      "text/plain": [
       "+----------------------+\n",
       "|mths_since_last_record|\n",
       "+----------------------+\n",
       "|                 102.0|\n",
       "|                   1.0|\n",
       "|                 685.0|\n",
       "|                 705.0|\n",
       "|              Dec-1981|\n",
       "|                    AZ|\n",
       "|                  84.0|\n",
       "|                 116.0|\n",
       "|       Working Capital|\n",
       "|                 754.0|\n",
       "|                 127.0|\n",
       "|                  75.0|\n",
       "|                  50.0|\n",
       "|                  22.0|\n",
       "|                 669.0|\n",
       "|                  65.0|\n",
       "|                 729.0|\n",
       "|                 118.0|\n",
       "|                  38.0|\n",
       "|                 745.0|\n",
       "+----------------------+\n",
       "only showing top 20 rows"
      ]
     },
     "execution_count": 88,
     "metadata": {},
     "output_type": "execute_result"
    }
   ],
   "source": [
    "spark.sql(\"select distinct(mths_since_last_record) from defaulters_data\")"
   ]
  },
  {
   "cell_type": "code",
   "execution_count": 89,
   "id": "08d4190e",
   "metadata": {},
   "outputs": [
    {
     "name": "stdout",
     "output_type": "stream",
     "text": [
      "+------------------+-----------+\n",
      "|       delinq_2yrs|total_count|\n",
      "+------------------+-----------+\n",
      "|               0.0|    1838878|\n",
      "|               1.0|     281335|\n",
      "|               2.0|      81285|\n",
      "|               3.0|      29539|\n",
      "|               4.0|      13179|\n",
      "|               5.0|       6599|\n",
      "|               6.0|       3717|\n",
      "|               7.0|       2062|\n",
      "|               8.0|       1223|\n",
      "|               9.0|        818|\n",
      "|              10.0|        556|\n",
      "|              11.0|        363|\n",
      "|              12.0|        264|\n",
      "|              13.0|        165|\n",
      "|              14.0|        120|\n",
      "|              15.0|         87|\n",
      "|              16.0|         55|\n",
      "|              17.0|         30|\n",
      "|              18.0|         30|\n",
      "|              19.0|         23|\n",
      "|              20.0|         17|\n",
      "|              21.0|         12|\n",
      "|                CA|          8|\n",
      "|                TX|          6|\n",
      "|              22.0|          5|\n",
      "|debt_consolidation|          5|\n",
      "|    small_business|          5|\n",
      "|                IL|          5|\n",
      "|                FL|          4|\n",
      "|              24.0|          4|\n",
      "|              26.0|          3|\n",
      "|             452xx|          3|\n",
      "|                NY|          3|\n",
      "|                NJ|          3|\n",
      "|              29.0|          2|\n",
      "|                MD|          2|\n",
      "|              30.0|          2|\n",
      "|             other|          2|\n",
      "|              3.44|          2|\n",
      "|       credit_card|          2|\n",
      "+------------------+-----------+\n",
      "only showing top 40 rows\n",
      "\n"
     ]
    }
   ],
   "source": [
    "spark.sql(\"select delinq_2yrs,count(delinq_2yrs) as total_count from defaulters_data group by delinq_2yrs order by total_count desc\").show(40)"
   ]
  },
  {
   "cell_type": "code",
   "execution_count": 90,
   "id": "6db17d67",
   "metadata": {},
   "outputs": [],
   "source": [
    "defaulters_schema ='member_id string, delinq_in_2yrs float, delinq_amount float, pub_rec float, pub_record_bankruptcies float, inquiry_in_last_6mths float, total_late_fee_received float, months_since_last_delinq float, months_since_last_record float'"
   ]
  },
  {
   "cell_type": "code",
   "execution_count": 91,
   "id": "f83abec3",
   "metadata": {},
   "outputs": [],
   "source": [
    "defaulters_df = spark.read \\\n",
    ".option(\"header\", True) \\\n",
    ".format(\"csv\") \\\n",
    ".schema(defaulters_schema) \\\n",
    ".load(\"/user/itv010130/loanproject/raw/loan_defaulters_data_csv\")"
   ]
  },
  {
   "cell_type": "code",
   "execution_count": 92,
   "id": "2dbffb9a",
   "metadata": {},
   "outputs": [
    {
     "data": {
      "text/html": [
       "<table border='1'>\n",
       "<tr><th>member_id</th><th>delinq_in_2yrs</th><th>delinq_amount</th><th>pub_rec</th><th>pub_record_bankruptcies</th><th>inquiry_in_last_6mths</th><th>total_late_fee_received</th><th>months_since_last_delinq</th><th>months_since_last_record</th></tr>\n",
       "<tr><td>b59d80da191f5b573...</td><td>0.0</td><td>0.0</td><td>0.0</td><td>0.0</td><td>1.0</td><td>0.0</td><td>31.0</td><td>null</td></tr>\n",
       "<tr><td>202d9f56ecb7c3bc9...</td><td>1.0</td><td>0.0</td><td>0.0</td><td>0.0</td><td>0.0</td><td>0.0</td><td>6.0</td><td>null</td></tr>\n",
       "<tr><td>e5a140c0922b554b9...</td><td>0.0</td><td>0.0</td><td>0.0</td><td>0.0</td><td>0.0</td><td>0.0</td><td>47.0</td><td>null</td></tr>\n",
       "<tr><td>e12aefc548f750777...</td><td>0.0</td><td>0.0</td><td>0.0</td><td>0.0</td><td>0.0</td><td>0.0</td><td>33.0</td><td>null</td></tr>\n",
       "<tr><td>1b3a50d854fbbf97e...</td><td>1.0</td><td>0.0</td><td>0.0</td><td>0.0</td><td>0.0</td><td>0.0</td><td>21.0</td><td>null</td></tr>\n",
       "<tr><td>1c4329e5f17697127...</td><td>0.0</td><td>0.0</td><td>0.0</td><td>0.0</td><td>0.0</td><td>0.0</td><td>null</td><td>null</td></tr>\n",
       "<tr><td>5026c86ad983175eb...</td><td>0.0</td><td>0.0</td><td>1.0</td><td>0.0</td><td>2.0</td><td>0.0</td><td>null</td><td>71.0</td></tr>\n",
       "<tr><td>9847d8c1e9d0b2084...</td><td>1.0</td><td>0.0</td><td>2.0</td><td>0.0</td><td>0.0</td><td>0.0</td><td>6.0</td><td>63.0</td></tr>\n",
       "<tr><td>8340dbe1adea41fb4...</td><td>0.0</td><td>0.0</td><td>0.0</td><td>0.0</td><td>0.0</td><td>0.0</td><td>36.0</td><td>null</td></tr>\n",
       "<tr><td>d4de0de3ab7d79ad4...</td><td>0.0</td><td>0.0</td><td>0.0</td><td>0.0</td><td>0.0</td><td>0.0</td><td>35.0</td><td>null</td></tr>\n",
       "<tr><td>3df3cdeddb74a8712...</td><td>0.0</td><td>0.0</td><td>0.0</td><td>0.0</td><td>0.0</td><td>0.0</td><td>null</td><td>null</td></tr>\n",
       "<tr><td>9dd72636b1b4045b4...</td><td>0.0</td><td>0.0</td><td>0.0</td><td>0.0</td><td>3.0</td><td>0.0</td><td>null</td><td>null</td></tr>\n",
       "<tr><td>1d4e1ef4353b73c00...</td><td>0.0</td><td>0.0</td><td>0.0</td><td>0.0</td><td>2.0</td><td>0.0</td><td>30.0</td><td>null</td></tr>\n",
       "<tr><td>6f196952e71277fd4...</td><td>4.0</td><td>0.0</td><td>0.0</td><td>0.0</td><td>0.0</td><td>0.0</td><td>5.0</td><td>null</td></tr>\n",
       "<tr><td>9c617cbc6e3e3d6a1...</td><td>1.0</td><td>0.0</td><td>0.0</td><td>0.0</td><td>2.0</td><td>0.0</td><td>20.0</td><td>null</td></tr>\n",
       "<tr><td>45eb04dd75400a942...</td><td>0.0</td><td>0.0</td><td>0.0</td><td>0.0</td><td>2.0</td><td>0.0</td><td>28.0</td><td>null</td></tr>\n",
       "<tr><td>08d233c81f9e50726...</td><td>0.0</td><td>0.0</td><td>0.0</td><td>0.0</td><td>1.0</td><td>0.0</td><td>null</td><td>null</td></tr>\n",
       "<tr><td>8ff4d0ed17a1cab92...</td><td>1.0</td><td>0.0</td><td>2.0</td><td>0.0</td><td>2.0</td><td>0.0</td><td>15.0</td><td>32.0</td></tr>\n",
       "<tr><td>aec13cfd611b2cfea...</td><td>1.0</td><td>0.0</td><td>0.0</td><td>0.0</td><td>1.0</td><td>0.0</td><td>19.0</td><td>null</td></tr>\n",
       "<tr><td>9ba8c96ccba6cd1f0...</td><td>0.0</td><td>0.0</td><td>0.0</td><td>0.0</td><td>0.0</td><td>0.0</td><td>37.0</td><td>null</td></tr>\n",
       "</table>\n",
       "only showing top 20 rows\n"
      ],
      "text/plain": [
       "+--------------------+--------------+-------------+-------+-----------------------+---------------------+-----------------------+------------------------+------------------------+\n",
       "|           member_id|delinq_in_2yrs|delinq_amount|pub_rec|pub_record_bankruptcies|inquiry_in_last_6mths|total_late_fee_received|months_since_last_delinq|months_since_last_record|\n",
       "+--------------------+--------------+-------------+-------+-----------------------+---------------------+-----------------------+------------------------+------------------------+\n",
       "|b59d80da191f5b573...|           0.0|          0.0|    0.0|                    0.0|                  1.0|                    0.0|                    31.0|                    null|\n",
       "|202d9f56ecb7c3bc9...|           1.0|          0.0|    0.0|                    0.0|                  0.0|                    0.0|                     6.0|                    null|\n",
       "|e5a140c0922b554b9...|           0.0|          0.0|    0.0|                    0.0|                  0.0|                    0.0|                    47.0|                    null|\n",
       "|e12aefc548f750777...|           0.0|          0.0|    0.0|                    0.0|                  0.0|                    0.0|                    33.0|                    null|\n",
       "|1b3a50d854fbbf97e...|           1.0|          0.0|    0.0|                    0.0|                  0.0|                    0.0|                    21.0|                    null|\n",
       "|1c4329e5f17697127...|           0.0|          0.0|    0.0|                    0.0|                  0.0|                    0.0|                    null|                    null|\n",
       "|5026c86ad983175eb...|           0.0|          0.0|    1.0|                    0.0|                  2.0|                    0.0|                    null|                    71.0|\n",
       "|9847d8c1e9d0b2084...|           1.0|          0.0|    2.0|                    0.0|                  0.0|                    0.0|                     6.0|                    63.0|\n",
       "|8340dbe1adea41fb4...|           0.0|          0.0|    0.0|                    0.0|                  0.0|                    0.0|                    36.0|                    null|\n",
       "|d4de0de3ab7d79ad4...|           0.0|          0.0|    0.0|                    0.0|                  0.0|                    0.0|                    35.0|                    null|\n",
       "|3df3cdeddb74a8712...|           0.0|          0.0|    0.0|                    0.0|                  0.0|                    0.0|                    null|                    null|\n",
       "|9dd72636b1b4045b4...|           0.0|          0.0|    0.0|                    0.0|                  3.0|                    0.0|                    null|                    null|\n",
       "|1d4e1ef4353b73c00...|           0.0|          0.0|    0.0|                    0.0|                  2.0|                    0.0|                    30.0|                    null|\n",
       "|6f196952e71277fd4...|           4.0|          0.0|    0.0|                    0.0|                  0.0|                    0.0|                     5.0|                    null|\n",
       "|9c617cbc6e3e3d6a1...|           1.0|          0.0|    0.0|                    0.0|                  2.0|                    0.0|                    20.0|                    null|\n",
       "|45eb04dd75400a942...|           0.0|          0.0|    0.0|                    0.0|                  2.0|                    0.0|                    28.0|                    null|\n",
       "|08d233c81f9e50726...|           0.0|          0.0|    0.0|                    0.0|                  1.0|                    0.0|                    null|                    null|\n",
       "|8ff4d0ed17a1cab92...|           1.0|          0.0|    2.0|                    0.0|                  2.0|                    0.0|                    15.0|                    32.0|\n",
       "|aec13cfd611b2cfea...|           1.0|          0.0|    0.0|                    0.0|                  1.0|                    0.0|                    19.0|                    null|\n",
       "|9ba8c96ccba6cd1f0...|           0.0|          0.0|    0.0|                    0.0|                  0.0|                    0.0|                    37.0|                    null|\n",
       "+--------------------+--------------+-------------+-------+-----------------------+---------------------+-----------------------+------------------------+------------------------+\n",
       "only showing top 20 rows"
      ]
     },
     "execution_count": 92,
     "metadata": {},
     "output_type": "execute_result"
    }
   ],
   "source": [
    "defaulters_df"
   ]
  },
  {
   "cell_type": "code",
   "execution_count": 93,
   "id": "05cba7d6",
   "metadata": {},
   "outputs": [],
   "source": [
    "defaulters_df.createOrReplaceTempView(\"defaulters_data\")"
   ]
  },
  {
   "cell_type": "code",
   "execution_count": 59,
   "id": "b574e509",
   "metadata": {},
   "outputs": [
    {
     "name": "stdout",
     "output_type": "stream",
     "text": [
      "+--------------+-----------+\n",
      "|delinq_in_2yrs|total_count|\n",
      "+--------------+-----------+\n",
      "|           0.0|    1838878|\n",
      "|           1.0|     281335|\n",
      "|           2.0|      81285|\n",
      "|           3.0|      29539|\n",
      "|           4.0|      13179|\n",
      "|           5.0|       6599|\n",
      "|           6.0|       3717|\n",
      "|           7.0|       2062|\n",
      "|           8.0|       1223|\n",
      "|           9.0|        818|\n",
      "|          10.0|        556|\n",
      "|          11.0|        363|\n",
      "|          12.0|        264|\n",
      "|          13.0|        165|\n",
      "|          14.0|        120|\n",
      "|          15.0|         87|\n",
      "|          16.0|         55|\n",
      "|          18.0|         30|\n",
      "|          17.0|         30|\n",
      "|          19.0|         23|\n",
      "|          20.0|         17|\n",
      "|          21.0|         12|\n",
      "|          22.0|          5|\n",
      "|          24.0|          4|\n",
      "|          26.0|          3|\n",
      "|          23.0|          2|\n",
      "|          25.0|          2|\n",
      "|          3.44|          2|\n",
      "|          30.0|          2|\n",
      "|          29.0|          2|\n",
      "|          3.45|          1|\n",
      "|         13.76|          1|\n",
      "|         20.04|          1|\n",
      "|         21.72|          1|\n",
      "|          58.0|          1|\n",
      "|         22.62|          1|\n",
      "|          39.0|          1|\n",
      "|          5.52|          1|\n",
      "|         22.95|          1|\n",
      "|         17.17|          1|\n",
      "+--------------+-----------+\n",
      "only showing top 40 rows\n",
      "\n"
     ]
    }
   ],
   "source": [
    "spark.sql(\"select delinq_in_2yrs,count(delinq_in_2yrs) as total_count from defaulters_data group by delinq_in_2yrs order by total_count desc\").show(40)"
   ]
  },
  {
   "cell_type": "code",
   "execution_count": 94,
   "id": "635d3d19",
   "metadata": {},
   "outputs": [
    {
     "data": {
      "text/html": [
       "<table border='1'>\n",
       "<tr><th>count(1)</th></tr>\n",
       "<tr><td>261</td></tr>\n",
       "</table>\n"
      ],
      "text/plain": [
       "+--------+\n",
       "|count(1)|\n",
       "+--------+\n",
       "|     261|\n",
       "+--------+"
      ]
     },
     "execution_count": 94,
     "metadata": {},
     "output_type": "execute_result"
    }
   ],
   "source": [
    "spark.sql(\"select count(*) from defaulters_data where delinq_in_2yrs is null\")"
   ]
  },
  {
   "cell_type": "code",
   "execution_count": 95,
   "id": "40610151",
   "metadata": {},
   "outputs": [],
   "source": [
    "from pyspark.sql.functions import col"
   ]
  },
  {
   "cell_type": "code",
   "execution_count": 96,
   "id": "aa1a5207",
   "metadata": {},
   "outputs": [],
   "source": [
    "delinq_modified_df = defaulters_df.withColumn(\"delinq_in_2yrs\",col(\"delinq_in_2yrs\").cast(\"int\")).fillna(0,subset=[\"delinq_in_2yrs\"])"
   ]
  },
  {
   "cell_type": "code",
   "execution_count": 97,
   "id": "54cf865e",
   "metadata": {},
   "outputs": [],
   "source": [
    "delinq_modified_df.createOrReplaceTempView(\"defaulters_data\")"
   ]
  },
  {
   "cell_type": "code",
   "execution_count": 98,
   "id": "588809f6",
   "metadata": {},
   "outputs": [
    {
     "data": {
      "text/html": [
       "<table border='1'>\n",
       "<tr><th>count(1)</th></tr>\n",
       "<tr><td>0</td></tr>\n",
       "</table>\n"
      ],
      "text/plain": [
       "+--------+\n",
       "|count(1)|\n",
       "+--------+\n",
       "|       0|\n",
       "+--------+"
      ]
     },
     "execution_count": 98,
     "metadata": {},
     "output_type": "execute_result"
    }
   ],
   "source": [
    "spark.sql(\"select count(*) from defaulters_data where delinq_in_2yrs is null\")"
   ]
  },
  {
   "cell_type": "code",
   "execution_count": 99,
   "id": "0432f12d",
   "metadata": {},
   "outputs": [
    {
     "data": {
      "text/html": [
       "<table border='1'>\n",
       "<tr><th>member_id</th><th>delinq_in_2yrs</th><th>delinq_amount</th><th>pub_rec</th><th>pub_record_bankruptcies</th><th>inquiry_in_last_6mths</th><th>total_late_fee_received</th><th>months_since_last_delinq</th><th>months_since_last_record</th></tr>\n",
       "<tr><td>b59d80da191f5b573...</td><td>0</td><td>0.0</td><td>0.0</td><td>0.0</td><td>1.0</td><td>0.0</td><td>31.0</td><td>null</td></tr>\n",
       "<tr><td>202d9f56ecb7c3bc9...</td><td>1</td><td>0.0</td><td>0.0</td><td>0.0</td><td>0.0</td><td>0.0</td><td>6.0</td><td>null</td></tr>\n",
       "<tr><td>e5a140c0922b554b9...</td><td>0</td><td>0.0</td><td>0.0</td><td>0.0</td><td>0.0</td><td>0.0</td><td>47.0</td><td>null</td></tr>\n",
       "<tr><td>e12aefc548f750777...</td><td>0</td><td>0.0</td><td>0.0</td><td>0.0</td><td>0.0</td><td>0.0</td><td>33.0</td><td>null</td></tr>\n",
       "<tr><td>1b3a50d854fbbf97e...</td><td>1</td><td>0.0</td><td>0.0</td><td>0.0</td><td>0.0</td><td>0.0</td><td>21.0</td><td>null</td></tr>\n",
       "<tr><td>1c4329e5f17697127...</td><td>0</td><td>0.0</td><td>0.0</td><td>0.0</td><td>0.0</td><td>0.0</td><td>null</td><td>null</td></tr>\n",
       "<tr><td>5026c86ad983175eb...</td><td>0</td><td>0.0</td><td>1.0</td><td>0.0</td><td>2.0</td><td>0.0</td><td>null</td><td>71.0</td></tr>\n",
       "<tr><td>9847d8c1e9d0b2084...</td><td>1</td><td>0.0</td><td>2.0</td><td>0.0</td><td>0.0</td><td>0.0</td><td>6.0</td><td>63.0</td></tr>\n",
       "<tr><td>8340dbe1adea41fb4...</td><td>0</td><td>0.0</td><td>0.0</td><td>0.0</td><td>0.0</td><td>0.0</td><td>36.0</td><td>null</td></tr>\n",
       "<tr><td>d4de0de3ab7d79ad4...</td><td>0</td><td>0.0</td><td>0.0</td><td>0.0</td><td>0.0</td><td>0.0</td><td>35.0</td><td>null</td></tr>\n",
       "<tr><td>3df3cdeddb74a8712...</td><td>0</td><td>0.0</td><td>0.0</td><td>0.0</td><td>0.0</td><td>0.0</td><td>null</td><td>null</td></tr>\n",
       "<tr><td>9dd72636b1b4045b4...</td><td>0</td><td>0.0</td><td>0.0</td><td>0.0</td><td>3.0</td><td>0.0</td><td>null</td><td>null</td></tr>\n",
       "<tr><td>1d4e1ef4353b73c00...</td><td>0</td><td>0.0</td><td>0.0</td><td>0.0</td><td>2.0</td><td>0.0</td><td>30.0</td><td>null</td></tr>\n",
       "<tr><td>6f196952e71277fd4...</td><td>4</td><td>0.0</td><td>0.0</td><td>0.0</td><td>0.0</td><td>0.0</td><td>5.0</td><td>null</td></tr>\n",
       "<tr><td>9c617cbc6e3e3d6a1...</td><td>1</td><td>0.0</td><td>0.0</td><td>0.0</td><td>2.0</td><td>0.0</td><td>20.0</td><td>null</td></tr>\n",
       "<tr><td>45eb04dd75400a942...</td><td>0</td><td>0.0</td><td>0.0</td><td>0.0</td><td>2.0</td><td>0.0</td><td>28.0</td><td>null</td></tr>\n",
       "<tr><td>08d233c81f9e50726...</td><td>0</td><td>0.0</td><td>0.0</td><td>0.0</td><td>1.0</td><td>0.0</td><td>null</td><td>null</td></tr>\n",
       "<tr><td>8ff4d0ed17a1cab92...</td><td>1</td><td>0.0</td><td>2.0</td><td>0.0</td><td>2.0</td><td>0.0</td><td>15.0</td><td>32.0</td></tr>\n",
       "<tr><td>aec13cfd611b2cfea...</td><td>1</td><td>0.0</td><td>0.0</td><td>0.0</td><td>1.0</td><td>0.0</td><td>19.0</td><td>null</td></tr>\n",
       "<tr><td>9ba8c96ccba6cd1f0...</td><td>0</td><td>0.0</td><td>0.0</td><td>0.0</td><td>0.0</td><td>0.0</td><td>37.0</td><td>null</td></tr>\n",
       "</table>\n",
       "only showing top 20 rows\n"
      ],
      "text/plain": [
       "+--------------------+--------------+-------------+-------+-----------------------+---------------------+-----------------------+------------------------+------------------------+\n",
       "|           member_id|delinq_in_2yrs|delinq_amount|pub_rec|pub_record_bankruptcies|inquiry_in_last_6mths|total_late_fee_received|months_since_last_delinq|months_since_last_record|\n",
       "+--------------------+--------------+-------------+-------+-----------------------+---------------------+-----------------------+------------------------+------------------------+\n",
       "|b59d80da191f5b573...|             0|          0.0|    0.0|                    0.0|                  1.0|                    0.0|                    31.0|                    null|\n",
       "|202d9f56ecb7c3bc9...|             1|          0.0|    0.0|                    0.0|                  0.0|                    0.0|                     6.0|                    null|\n",
       "|e5a140c0922b554b9...|             0|          0.0|    0.0|                    0.0|                  0.0|                    0.0|                    47.0|                    null|\n",
       "|e12aefc548f750777...|             0|          0.0|    0.0|                    0.0|                  0.0|                    0.0|                    33.0|                    null|\n",
       "|1b3a50d854fbbf97e...|             1|          0.0|    0.0|                    0.0|                  0.0|                    0.0|                    21.0|                    null|\n",
       "|1c4329e5f17697127...|             0|          0.0|    0.0|                    0.0|                  0.0|                    0.0|                    null|                    null|\n",
       "|5026c86ad983175eb...|             0|          0.0|    1.0|                    0.0|                  2.0|                    0.0|                    null|                    71.0|\n",
       "|9847d8c1e9d0b2084...|             1|          0.0|    2.0|                    0.0|                  0.0|                    0.0|                     6.0|                    63.0|\n",
       "|8340dbe1adea41fb4...|             0|          0.0|    0.0|                    0.0|                  0.0|                    0.0|                    36.0|                    null|\n",
       "|d4de0de3ab7d79ad4...|             0|          0.0|    0.0|                    0.0|                  0.0|                    0.0|                    35.0|                    null|\n",
       "|3df3cdeddb74a8712...|             0|          0.0|    0.0|                    0.0|                  0.0|                    0.0|                    null|                    null|\n",
       "|9dd72636b1b4045b4...|             0|          0.0|    0.0|                    0.0|                  3.0|                    0.0|                    null|                    null|\n",
       "|1d4e1ef4353b73c00...|             0|          0.0|    0.0|                    0.0|                  2.0|                    0.0|                    30.0|                    null|\n",
       "|6f196952e71277fd4...|             4|          0.0|    0.0|                    0.0|                  0.0|                    0.0|                     5.0|                    null|\n",
       "|9c617cbc6e3e3d6a1...|             1|          0.0|    0.0|                    0.0|                  2.0|                    0.0|                    20.0|                    null|\n",
       "|45eb04dd75400a942...|             0|          0.0|    0.0|                    0.0|                  2.0|                    0.0|                    28.0|                    null|\n",
       "|08d233c81f9e50726...|             0|          0.0|    0.0|                    0.0|                  1.0|                    0.0|                    null|                    null|\n",
       "|8ff4d0ed17a1cab92...|             1|          0.0|    2.0|                    0.0|                  2.0|                    0.0|                    15.0|                    32.0|\n",
       "|aec13cfd611b2cfea...|             1|          0.0|    0.0|                    0.0|                  1.0|                    0.0|                    19.0|                    null|\n",
       "|9ba8c96ccba6cd1f0...|             0|          0.0|    0.0|                    0.0|                  0.0|                    0.0|                    37.0|                    null|\n",
       "+--------------------+--------------+-------------+-------+-----------------------+---------------------+-----------------------+------------------------+------------------------+\n",
       "only showing top 20 rows"
      ]
     },
     "execution_count": 99,
     "metadata": {},
     "output_type": "execute_result"
    }
   ],
   "source": [
    "spark.sql(\"select * from defaulters_data\")"
   ]
  },
  {
   "cell_type": "code",
   "execution_count": 100,
   "id": "4dbabbef",
   "metadata": {},
   "outputs": [],
   "source": [
    "defaulters_delinq_cleaned_df = spark.sql(\"select member_id,delinq_in_2yrs,delinq_amount,months_since_last_delinq from defaulters_data where delinq_in_2yrs > 0 or months_since_last_delinq > 0\")"
   ]
  },
  {
   "cell_type": "code",
   "execution_count": 101,
   "id": "6b4639de",
   "metadata": {},
   "outputs": [
    {
     "data": {
      "text/html": [
       "<table border='1'>\n",
       "<tr><th>member_id</th><th>delinq_in_2yrs</th><th>delinq_amount</th><th>months_since_last_delinq</th></tr>\n",
       "<tr><td>b59d80da191f5b573...</td><td>0</td><td>0.0</td><td>31.0</td></tr>\n",
       "<tr><td>202d9f56ecb7c3bc9...</td><td>1</td><td>0.0</td><td>6.0</td></tr>\n",
       "<tr><td>e5a140c0922b554b9...</td><td>0</td><td>0.0</td><td>47.0</td></tr>\n",
       "<tr><td>e12aefc548f750777...</td><td>0</td><td>0.0</td><td>33.0</td></tr>\n",
       "<tr><td>1b3a50d854fbbf97e...</td><td>1</td><td>0.0</td><td>21.0</td></tr>\n",
       "<tr><td>9847d8c1e9d0b2084...</td><td>1</td><td>0.0</td><td>6.0</td></tr>\n",
       "<tr><td>8340dbe1adea41fb4...</td><td>0</td><td>0.0</td><td>36.0</td></tr>\n",
       "<tr><td>d4de0de3ab7d79ad4...</td><td>0</td><td>0.0</td><td>35.0</td></tr>\n",
       "<tr><td>1d4e1ef4353b73c00...</td><td>0</td><td>0.0</td><td>30.0</td></tr>\n",
       "<tr><td>6f196952e71277fd4...</td><td>4</td><td>0.0</td><td>5.0</td></tr>\n",
       "<tr><td>9c617cbc6e3e3d6a1...</td><td>1</td><td>0.0</td><td>20.0</td></tr>\n",
       "<tr><td>45eb04dd75400a942...</td><td>0</td><td>0.0</td><td>28.0</td></tr>\n",
       "<tr><td>8ff4d0ed17a1cab92...</td><td>1</td><td>0.0</td><td>15.0</td></tr>\n",
       "<tr><td>aec13cfd611b2cfea...</td><td>1</td><td>0.0</td><td>19.0</td></tr>\n",
       "<tr><td>9ba8c96ccba6cd1f0...</td><td>0</td><td>0.0</td><td>37.0</td></tr>\n",
       "<tr><td>2cf47faee0c996343...</td><td>0</td><td>0.0</td><td>24.0</td></tr>\n",
       "<tr><td>220e4dd490018abff...</td><td>0</td><td>0.0</td><td>57.0</td></tr>\n",
       "<tr><td>aaa32c29cb9ccc7ff...</td><td>0</td><td>0.0</td><td>35.0</td></tr>\n",
       "<tr><td>af7a8a661df3318bd...</td><td>2</td><td>0.0</td><td>7.0</td></tr>\n",
       "<tr><td>0e744cffa05697dfa...</td><td>0</td><td>0.0</td><td>45.0</td></tr>\n",
       "</table>\n",
       "only showing top 20 rows\n"
      ],
      "text/plain": [
       "+--------------------+--------------+-------------+------------------------+\n",
       "|           member_id|delinq_in_2yrs|delinq_amount|months_since_last_delinq|\n",
       "+--------------------+--------------+-------------+------------------------+\n",
       "|b59d80da191f5b573...|             0|          0.0|                    31.0|\n",
       "|202d9f56ecb7c3bc9...|             1|          0.0|                     6.0|\n",
       "|e5a140c0922b554b9...|             0|          0.0|                    47.0|\n",
       "|e12aefc548f750777...|             0|          0.0|                    33.0|\n",
       "|1b3a50d854fbbf97e...|             1|          0.0|                    21.0|\n",
       "|9847d8c1e9d0b2084...|             1|          0.0|                     6.0|\n",
       "|8340dbe1adea41fb4...|             0|          0.0|                    36.0|\n",
       "|d4de0de3ab7d79ad4...|             0|          0.0|                    35.0|\n",
       "|1d4e1ef4353b73c00...|             0|          0.0|                    30.0|\n",
       "|6f196952e71277fd4...|             4|          0.0|                     5.0|\n",
       "|9c617cbc6e3e3d6a1...|             1|          0.0|                    20.0|\n",
       "|45eb04dd75400a942...|             0|          0.0|                    28.0|\n",
       "|8ff4d0ed17a1cab92...|             1|          0.0|                    15.0|\n",
       "|aec13cfd611b2cfea...|             1|          0.0|                    19.0|\n",
       "|9ba8c96ccba6cd1f0...|             0|          0.0|                    37.0|\n",
       "|2cf47faee0c996343...|             0|          0.0|                    24.0|\n",
       "|220e4dd490018abff...|             0|          0.0|                    57.0|\n",
       "|aaa32c29cb9ccc7ff...|             0|          0.0|                    35.0|\n",
       "|af7a8a661df3318bd...|             2|          0.0|                     7.0|\n",
       "|0e744cffa05697dfa...|             0|          0.0|                    45.0|\n",
       "+--------------------+--------------+-------------+------------------------+\n",
       "only showing top 20 rows"
      ]
     },
     "execution_count": 101,
     "metadata": {},
     "output_type": "execute_result"
    }
   ],
   "source": [
    "defaulters_delinq_cleaned_df"
   ]
  },
  {
   "cell_type": "code",
   "execution_count": 102,
   "id": "36b7af67",
   "metadata": {},
   "outputs": [],
   "source": [
    "defaulters_pubrec_df = spark.sql(\"select member_id from defaulters_data where pub_rec > 0.0 or delinq_in_2yrs > 0.0 or inquiry_in_last_6mths > 0.0\")"
   ]
  },
  {
   "cell_type": "code",
   "execution_count": 105,
   "id": "312e8c4b",
   "metadata": {},
   "outputs": [
    {
     "data": {
      "text/html": [
       "<table border='1'>\n",
       "<tr><th>member_id</th></tr>\n",
       "<tr><td>b59d80da191f5b573...</td></tr>\n",
       "<tr><td>202d9f56ecb7c3bc9...</td></tr>\n",
       "<tr><td>1b3a50d854fbbf97e...</td></tr>\n",
       "<tr><td>5026c86ad983175eb...</td></tr>\n",
       "<tr><td>9847d8c1e9d0b2084...</td></tr>\n",
       "<tr><td>9dd72636b1b4045b4...</td></tr>\n",
       "<tr><td>1d4e1ef4353b73c00...</td></tr>\n",
       "<tr><td>6f196952e71277fd4...</td></tr>\n",
       "<tr><td>9c617cbc6e3e3d6a1...</td></tr>\n",
       "<tr><td>45eb04dd75400a942...</td></tr>\n",
       "<tr><td>08d233c81f9e50726...</td></tr>\n",
       "<tr><td>8ff4d0ed17a1cab92...</td></tr>\n",
       "<tr><td>aec13cfd611b2cfea...</td></tr>\n",
       "<tr><td>9a51bdc18e2728f9d...</td></tr>\n",
       "<tr><td>2cf47faee0c996343...</td></tr>\n",
       "<tr><td>220e4dd490018abff...</td></tr>\n",
       "<tr><td>aaa32c29cb9ccc7ff...</td></tr>\n",
       "<tr><td>af7a8a661df3318bd...</td></tr>\n",
       "<tr><td>50616b8d1d05cb02a...</td></tr>\n",
       "<tr><td>fbee3f20b9ef84a11...</td></tr>\n",
       "</table>\n",
       "only showing top 20 rows\n"
      ],
      "text/plain": [
       "DataFrame[member_id: string]"
      ]
     },
     "execution_count": 105,
     "metadata": {},
     "output_type": "execute_result"
    }
   ],
   "source": [
    "defaulters_pubrec_df"
   ]
  },
  {
   "cell_type": "code",
   "execution_count": 106,
   "id": "37cc5410",
   "metadata": {},
   "outputs": [],
   "source": [
    "defaulters_pubrec_df.write \\\n",
    ".option(\"header\", True) \\\n",
    ".format(\"csv\") \\\n",
    ".mode(\"overwrite\") \\\n",
    ".option(\"path\",\"/user/itv010130/loanproject/clean/defaulters_delinq_id_csv\") \\\n",
    ".save()"
   ]
  },
  {
   "cell_type": "code",
   "execution_count": 107,
   "id": "af9f61d2",
   "metadata": {},
   "outputs": [],
   "source": [
    "defaulters_pubrec_df.write \\\n",
    ".format(\"parquet\") \\\n",
    ".mode(\"overwrite\") \\\n",
    ".option(\"path\",\"/user/itv010130/loanproject/clean/defaulters_delinq_id_parquet\") \\\n",
    ".save()"
   ]
  },
  {
   "cell_type": "code",
   "execution_count": 109,
   "id": "49954f5f",
   "metadata": {},
   "outputs": [],
   "source": [
    "defaulters_delinq_cleaned_df.write \\\n",
    ".option(\"header\", True) \\\n",
    ".format(\"csv\") \\\n",
    ".mode(\"overwrite\") \\\n",
    ".option(\"path\",\"/user/itv010130/loanproject/clean/defaulters_data_csv\") \\\n",
    ".save()"
   ]
  },
  {
   "cell_type": "code",
   "execution_count": 110,
   "id": "d058c03b",
   "metadata": {},
   "outputs": [],
   "source": [
    "defaulters_delinq_cleaned_df.write \\\n",
    ".format(\"parquet\") \\\n",
    ".mode(\"overwrite\") \\\n",
    ".option(\"path\",\"/user/itv010130/loanproject/clean/defaulters_data_parquet\") \\\n",
    ".save()"
   ]
  },
  {
   "cell_type": "code",
   "execution_count": 111,
   "id": "7733d8fc",
   "metadata": {},
   "outputs": [],
   "source": [
    "spark.stop()"
   ]
  },
  {
   "cell_type": "code",
   "execution_count": 112,
   "id": "3c9e91e0",
   "metadata": {},
   "outputs": [
    {
     "name": "stdout",
     "output_type": "stream",
     "text": [
      "Found 10 items\n",
      "drwxr-xr-x   - itv010130 supergroup          0 2024-07-02 01:08 /user/itv010130/loanproject/clean/customer_data_csv\n",
      "drwxr-xr-x   - itv010130 supergroup          0 2024-07-04 21:51 /user/itv010130/loanproject/clean/customer_data_parquet\n",
      "drwxr-xr-x   - itv010130 supergroup          0 2024-07-07 20:50 /user/itv010130/loanproject/clean/defaulters_data_csv\n",
      "drwxr-xr-x   - itv010130 supergroup          0 2024-07-07 20:50 /user/itv010130/loanproject/clean/defaulters_data_parquet\n",
      "drwxr-xr-x   - itv010130 supergroup          0 2024-07-07 20:47 /user/itv010130/loanproject/clean/defaulters_delinq_id_csv\n",
      "drwxr-xr-x   - itv010130 supergroup          0 2024-07-07 20:47 /user/itv010130/loanproject/clean/defaulters_delinq_id_parquet\n",
      "drwxr-xr-x   - itv010130 supergroup          0 2024-07-04 23:42 /user/itv010130/loanproject/clean/loan_data_csv\n",
      "drwxr-xr-x   - itv010130 supergroup          0 2024-07-04 23:43 /user/itv010130/loanproject/clean/loan_data_parquet\n",
      "drwxr-xr-x   - itv010130 supergroup          0 2024-07-05 15:01 /user/itv010130/loanproject/clean/repayment_data_csv\n",
      "drwxr-xr-x   - itv010130 supergroup          0 2024-07-05 15:02 /user/itv010130/loanproject/clean/repayment_data_parquet\n"
     ]
    }
   ],
   "source": [
    "! hadoop fs -ls /user/itv010130/loanproject/clean"
   ]
  },
  {
   "cell_type": "code",
   "execution_count": null,
   "id": "194245d5",
   "metadata": {},
   "outputs": [],
   "source": []
  }
 ],
 "metadata": {
  "kernelspec": {
   "display_name": "Pyspark 3",
   "language": "python",
   "name": "pyspark3"
  },
  "language_info": {
   "codemirror_mode": {
    "name": "ipython",
    "version": 3
   },
   "file_extension": ".py",
   "mimetype": "text/x-python",
   "name": "python",
   "nbconvert_exporter": "python",
   "pygments_lexer": "ipython3",
   "version": "3.6.12"
  }
 },
 "nbformat": 4,
 "nbformat_minor": 5
}
