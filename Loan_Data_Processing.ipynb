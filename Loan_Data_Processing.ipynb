{
 "cells": [
  {
   "cell_type": "code",
   "execution_count": 1,
   "id": "a01f5b24",
   "metadata": {},
   "outputs": [],
   "source": [
    "from pyspark.sql import SparkSession\n",
    "import getpass\n",
    "username = getpass.getuser()\n",
    "spark = SparkSession. \\\n",
    "    builder. \\\n",
    "    config('spark.ui.port','0'). \\\n",
    "    config(\"spark.shuffle.useOldFetchProtocol\",\"true\"). \\\n",
    "    config(\"spark.sql.warehouse.dir\",f\"/user/itv010130/warehouse\"). \\\n",
    "    enableHiveSupport(). \\\n",
    "    master('yarn'). \\\n",
    "    getOrCreate()"
   ]
  },
  {
   "cell_type": "markdown",
   "id": "d14114c5",
   "metadata": {},
   "source": [
    "### 1. Customers External Table Creation"
   ]
  },
  {
   "cell_type": "code",
   "execution_count": 2,
   "id": "25df39da",
   "metadata": {},
   "outputs": [],
   "source": [
    "customer_df = spark.read \\\n",
    ".format(\"parquet\") \\\n",
    ".load(\"/user/itv010130/loanproject/clean/customer_data_parquet\")"
   ]
  },
  {
   "cell_type": "code",
   "execution_count": 3,
   "id": "4d51be9b",
   "metadata": {},
   "outputs": [
    {
     "data": {
      "text/html": [
       "<table border='1'>\n",
       "<tr><th>member_id</th><th>emp_title</th><th>emp_length</th><th>home_ownership</th><th>annual_income</th><th>address_state</th><th>address_zipcode</th><th>address_country</th><th>grade</th><th>sub_grade</th><th>verification_status</th><th>total_high_credit_limit</th><th>application_type</th><th>join_annual_income</th><th>verification_status_joint</th><th>ingestion_date</th></tr>\n",
       "<tr><td>d80ddb5ed2f44ba36...</td><td>Data Scientist</td><td>3</td><td>RENT</td><td>120000.0</td><td>WA</td><td>981xx</td><td>USA</td><td>C</td><td>C2</td><td>Not Verified</td><td>69331.0</td><td>Individual</td><td>null</td><td>null</td><td>2024-07-15 16:44:...</td></tr>\n",
       "<tr><td>e469c81f404cb8812...</td><td>IT Tech</td><td>9</td><td>OWN</td><td>75000.0</td><td>CA</td><td>922xx</td><td>USA</td><td>C</td><td>C4</td><td>Verified</td><td>272816.0</td><td>Individual</td><td>null</td><td>null</td><td>2024-07-15 16:44:...</td></tr>\n",
       "<tr><td>94e00bfa41db06702...</td><td>Nurse Practitioner</td><td>2</td><td>MORTGAGE</td><td>84000.0</td><td>IL</td><td>623xx</td><td>USA</td><td>C</td><td>C3</td><td>Verified</td><td>297344.0</td><td>Individual</td><td>null</td><td>null</td><td>2024-07-15 16:44:...</td></tr>\n",
       "<tr><td>c34c85e958da5056b...</td><td>Wine Consultant</td><td>6</td><td>MORTGAGE</td><td>66000.0</td><td>IL</td><td>606xx</td><td>USA</td><td>B</td><td>B3</td><td>Source Verified</td><td>210800.0</td><td>Individual</td><td>null</td><td>null</td><td>2024-07-15 16:44:...</td></tr>\n",
       "<tr><td>57060caf0bd84d6cf...</td><td>Plumber</td><td>1</td><td>MORTGAGE</td><td>92500.0</td><td>TX</td><td>750xx</td><td>USA</td><td>C</td><td>C5</td><td>Not Verified</td><td>194963.0</td><td>Individual</td><td>null</td><td>null</td><td>2024-07-15 16:44:...</td></tr>\n",
       "<tr><td>bee8ccb6b9064de7e...</td><td>null</td><td>6</td><td>RENT</td><td>30000.0</td><td>NY</td><td>104xx</td><td>USA</td><td>E</td><td>E1</td><td>Not Verified</td><td>30600.0</td><td>Joint App</td><td>60000.0</td><td>Not Verified</td><td>2024-07-15 16:44:...</td></tr>\n",
       "<tr><td>949bcf76b68e46448...</td><td>null</td><td>6</td><td>MORTGAGE</td><td>42000.0</td><td>NY</td><td>148xx</td><td>USA</td><td>F</td><td>F5</td><td>Verified</td><td>145519.0</td><td>Individual</td><td>null</td><td>null</td><td>2024-07-15 16:44:...</td></tr>\n",
       "<tr><td>9c20b5d0ba86a6733...</td><td>IT Analyst</td><td>3</td><td>RENT</td><td>48650.0</td><td>NC</td><td>275xx</td><td>USA</td><td>B</td><td>B1</td><td>Source Verified</td><td>154424.0</td><td>Individual</td><td>null</td><td>null</td><td>2024-07-15 16:44:...</td></tr>\n",
       "<tr><td>cd52a7fc8e2d2fcf5...</td><td>Librarian</td><td>3</td><td>MORTGAGE</td><td>60000.0</td><td>CA</td><td>913xx</td><td>USA</td><td>B</td><td>B1</td><td>Verified</td><td>169124.0</td><td>Individual</td><td>null</td><td>null</td><td>2024-07-15 16:44:...</td></tr>\n",
       "<tr><td>a17b112d7a0b07684...</td><td>Fireman</td><td>8</td><td>MORTGAGE</td><td>96000.0</td><td>IL</td><td>601xx</td><td>USA</td><td>C</td><td>C4</td><td>Verified</td><td>359850.0</td><td>Individual</td><td>null</td><td>null</td><td>2024-07-15 16:44:...</td></tr>\n",
       "<tr><td>5308ba7458567d938...</td><td>Registered Nurse</td><td>3</td><td>MORTGAGE</td><td>65000.0</td><td>TN</td><td>383xx</td><td>USA</td><td>C</td><td>C4</td><td>Source Verified</td><td>154647.0</td><td>Individual</td><td>null</td><td>null</td><td>2024-07-15 16:44:...</td></tr>\n",
       "<tr><td>24e12c47a8a71ab26...</td><td>Area Manager</td><td>10</td><td>MORTGAGE</td><td>82120.0</td><td>FL</td><td>338xx</td><td>USA</td><td>A</td><td>A5</td><td>Source Verified</td><td>96143.0</td><td>Individual</td><td>null</td><td>null</td><td>2024-07-15 16:44:...</td></tr>\n",
       "<tr><td>527b858e3c113e288...</td><td>Cosmetologist</td><td>1</td><td>MORTGAGE</td><td>40000.0</td><td>IL</td><td>629xx</td><td>USA</td><td>B</td><td>B2</td><td>Not Verified</td><td>161156.0</td><td>Joint App</td><td>130000.0</td><td>Not Verified</td><td>2024-07-15 16:44:...</td></tr>\n",
       "<tr><td>014c7166eadf0db5b...</td><td>SR District Brand...</td><td>9</td><td>RENT</td><td>118000.0</td><td>NY</td><td>112xx</td><td>USA</td><td>A</td><td>A1</td><td>Not Verified</td><td>85100.0</td><td>Individual</td><td>null</td><td>null</td><td>2024-07-15 16:44:...</td></tr>\n",
       "<tr><td>0383ce8daff231dd7...</td><td>RN</td><td>9</td><td>MORTGAGE</td><td>100000.0</td><td>PA</td><td>186xx</td><td>USA</td><td>C</td><td>C4</td><td>Verified</td><td>243393.0</td><td>Joint App</td><td>138400.0</td><td>Not Verified</td><td>2024-07-15 16:44:...</td></tr>\n",
       "<tr><td>569fe4c3a600096e0...</td><td>null</td><td>6</td><td>OWN</td><td>40000.0</td><td>OR</td><td>977xx</td><td>USA</td><td>B</td><td>B1</td><td>Verified</td><td>31010.0</td><td>Individual</td><td>null</td><td>null</td><td>2024-07-15 16:44:...</td></tr>\n",
       "<tr><td>9c7f908cb9208115e...</td><td>Lead Teacher</td><td>7</td><td>RENT</td><td>68000.0</td><td>FL</td><td>331xx</td><td>USA</td><td>C</td><td>C5</td><td>Source Verified</td><td>92957.0</td><td>Joint App</td><td>120000.0</td><td>Source Verified</td><td>2024-07-15 16:44:...</td></tr>\n",
       "<tr><td>29bef87217836fda8...</td><td>vp</td><td>9</td><td>MORTGAGE</td><td>231000.0</td><td>NY</td><td>112xx</td><td>USA</td><td>A</td><td>A1</td><td>Verified</td><td>96300.0</td><td>Individual</td><td>null</td><td>null</td><td>2024-07-15 16:44:...</td></tr>\n",
       "<tr><td>499a63675c4bcf312...</td><td>Guidance Counselor</td><td>1</td><td>MORTGAGE</td><td>35000.0</td><td>OH</td><td>439xx</td><td>USA</td><td>B</td><td>B1</td><td>Not Verified</td><td>204528.0</td><td>Joint App</td><td>70000.0</td><td>Not Verified</td><td>2024-07-15 16:44:...</td></tr>\n",
       "<tr><td>40a95ab557308d82b...</td><td>null</td><td>1</td><td>MORTGAGE</td><td>20000.0</td><td>TX</td><td>761xx</td><td>USA</td><td>C</td><td>C2</td><td>Not Verified</td><td>85043.0</td><td>Joint App</td><td>68000.0</td><td>Not Verified</td><td>2024-07-15 16:44:...</td></tr>\n",
       "</table>\n",
       "only showing top 20 rows\n"
      ],
      "text/plain": [
       "+--------------------+--------------------+----------+--------------+-------------+-------------+---------------+---------------+-----+---------+-------------------+-----------------------+----------------+------------------+-------------------------+--------------------+\n",
       "|           member_id|           emp_title|emp_length|home_ownership|annual_income|address_state|address_zipcode|address_country|grade|sub_grade|verification_status|total_high_credit_limit|application_type|join_annual_income|verification_status_joint|      ingestion_date|\n",
       "+--------------------+--------------------+----------+--------------+-------------+-------------+---------------+---------------+-----+---------+-------------------+-----------------------+----------------+------------------+-------------------------+--------------------+\n",
       "|d80ddb5ed2f44ba36...|      Data Scientist|         3|          RENT|     120000.0|           WA|          981xx|            USA|    C|       C2|       Not Verified|                69331.0|      Individual|              null|                     null|2024-07-15 16:44:...|\n",
       "|e469c81f404cb8812...|             IT Tech|         9|           OWN|      75000.0|           CA|          922xx|            USA|    C|       C4|           Verified|               272816.0|      Individual|              null|                     null|2024-07-15 16:44:...|\n",
       "|94e00bfa41db06702...|  Nurse Practitioner|         2|      MORTGAGE|      84000.0|           IL|          623xx|            USA|    C|       C3|           Verified|               297344.0|      Individual|              null|                     null|2024-07-15 16:44:...|\n",
       "|c34c85e958da5056b...|     Wine Consultant|         6|      MORTGAGE|      66000.0|           IL|          606xx|            USA|    B|       B3|    Source Verified|               210800.0|      Individual|              null|                     null|2024-07-15 16:44:...|\n",
       "|57060caf0bd84d6cf...|             Plumber|         1|      MORTGAGE|      92500.0|           TX|          750xx|            USA|    C|       C5|       Not Verified|               194963.0|      Individual|              null|                     null|2024-07-15 16:44:...|\n",
       "|bee8ccb6b9064de7e...|                null|         6|          RENT|      30000.0|           NY|          104xx|            USA|    E|       E1|       Not Verified|                30600.0|       Joint App|           60000.0|             Not Verified|2024-07-15 16:44:...|\n",
       "|949bcf76b68e46448...|                null|         6|      MORTGAGE|      42000.0|           NY|          148xx|            USA|    F|       F5|           Verified|               145519.0|      Individual|              null|                     null|2024-07-15 16:44:...|\n",
       "|9c20b5d0ba86a6733...|          IT Analyst|         3|          RENT|      48650.0|           NC|          275xx|            USA|    B|       B1|    Source Verified|               154424.0|      Individual|              null|                     null|2024-07-15 16:44:...|\n",
       "|cd52a7fc8e2d2fcf5...|           Librarian|         3|      MORTGAGE|      60000.0|           CA|          913xx|            USA|    B|       B1|           Verified|               169124.0|      Individual|              null|                     null|2024-07-15 16:44:...|\n",
       "|a17b112d7a0b07684...|             Fireman|         8|      MORTGAGE|      96000.0|           IL|          601xx|            USA|    C|       C4|           Verified|               359850.0|      Individual|              null|                     null|2024-07-15 16:44:...|\n",
       "|5308ba7458567d938...|    Registered Nurse|         3|      MORTGAGE|      65000.0|           TN|          383xx|            USA|    C|       C4|    Source Verified|               154647.0|      Individual|              null|                     null|2024-07-15 16:44:...|\n",
       "|24e12c47a8a71ab26...|        Area Manager|        10|      MORTGAGE|      82120.0|           FL|          338xx|            USA|    A|       A5|    Source Verified|                96143.0|      Individual|              null|                     null|2024-07-15 16:44:...|\n",
       "|527b858e3c113e288...|       Cosmetologist|         1|      MORTGAGE|      40000.0|           IL|          629xx|            USA|    B|       B2|       Not Verified|               161156.0|       Joint App|          130000.0|             Not Verified|2024-07-15 16:44:...|\n",
       "|014c7166eadf0db5b...|SR District Brand...|         9|          RENT|     118000.0|           NY|          112xx|            USA|    A|       A1|       Not Verified|                85100.0|      Individual|              null|                     null|2024-07-15 16:44:...|\n",
       "|0383ce8daff231dd7...|                  RN|         9|      MORTGAGE|     100000.0|           PA|          186xx|            USA|    C|       C4|           Verified|               243393.0|       Joint App|          138400.0|             Not Verified|2024-07-15 16:44:...|\n",
       "|569fe4c3a600096e0...|                null|         6|           OWN|      40000.0|           OR|          977xx|            USA|    B|       B1|           Verified|                31010.0|      Individual|              null|                     null|2024-07-15 16:44:...|\n",
       "|9c7f908cb9208115e...|        Lead Teacher|         7|          RENT|      68000.0|           FL|          331xx|            USA|    C|       C5|    Source Verified|                92957.0|       Joint App|          120000.0|          Source Verified|2024-07-15 16:44:...|\n",
       "|29bef87217836fda8...|                  vp|         9|      MORTGAGE|     231000.0|           NY|          112xx|            USA|    A|       A1|           Verified|                96300.0|      Individual|              null|                     null|2024-07-15 16:44:...|\n",
       "|499a63675c4bcf312...|  Guidance Counselor|         1|      MORTGAGE|      35000.0|           OH|          439xx|            USA|    B|       B1|       Not Verified|               204528.0|       Joint App|           70000.0|             Not Verified|2024-07-15 16:44:...|\n",
       "|40a95ab557308d82b...|                null|         1|      MORTGAGE|      20000.0|           TX|          761xx|            USA|    C|       C2|       Not Verified|                85043.0|       Joint App|           68000.0|             Not Verified|2024-07-15 16:44:...|\n",
       "+--------------------+--------------------+----------+--------------+-------------+-------------+---------------+---------------+-----+---------+-------------------+-----------------------+----------------+------------------+-------------------------+--------------------+\n",
       "only showing top 20 rows"
      ]
     },
     "execution_count": 3,
     "metadata": {},
     "output_type": "execute_result"
    }
   ],
   "source": [
    "customer_df"
   ]
  },
  {
   "cell_type": "code",
   "execution_count": 4,
   "id": "83e09972",
   "metadata": {},
   "outputs": [
    {
     "name": "stdout",
     "output_type": "stream",
     "text": [
      "root\n",
      " |-- member_id: string (nullable = true)\n",
      " |-- emp_title: string (nullable = true)\n",
      " |-- emp_length: integer (nullable = true)\n",
      " |-- home_ownership: string (nullable = true)\n",
      " |-- annual_income: float (nullable = true)\n",
      " |-- address_state: string (nullable = true)\n",
      " |-- address_zipcode: string (nullable = true)\n",
      " |-- address_country: string (nullable = true)\n",
      " |-- grade: string (nullable = true)\n",
      " |-- sub_grade: string (nullable = true)\n",
      " |-- verification_status: string (nullable = true)\n",
      " |-- total_high_credit_limit: float (nullable = true)\n",
      " |-- application_type: string (nullable = true)\n",
      " |-- join_annual_income: float (nullable = true)\n",
      " |-- verification_status_joint: string (nullable = true)\n",
      " |-- ingestion_date: timestamp (nullable = true)\n",
      "\n"
     ]
    }
   ],
   "source": [
    "customer_df.printSchema()"
   ]
  },
  {
   "cell_type": "code",
   "execution_count": 8,
   "id": "6b2676d2",
   "metadata": {},
   "outputs": [
    {
     "data": {
      "text/html": [
       "<table border='1'>\n",
       "<tr><th></th></tr>\n",
       "</table>\n"
      ],
      "text/plain": [
       "++\n",
       "||\n",
       "++\n",
       "++"
      ]
     },
     "execution_count": 8,
     "metadata": {},
     "output_type": "execute_result"
    }
   ],
   "source": [
    "spark.sql(\"create database itv010130_Loan_Database\")"
   ]
  },
  {
   "cell_type": "code",
   "execution_count": 7,
   "id": "bad31c87",
   "metadata": {},
   "outputs": [
    {
     "data": {
      "text/html": [
       "<table border='1'>\n",
       "<tr><th></th></tr>\n",
       "</table>\n"
      ],
      "text/plain": [
       "++\n",
       "||\n",
       "++\n",
       "++"
      ]
     },
     "execution_count": 7,
     "metadata": {},
     "output_type": "execute_result"
    }
   ],
   "source": [
    "spark.sql(\"\"\"\n",
    "CREATE EXTERNAL TABLE itv010130_Loan_Database.customers(member_id string,emp_title string,emp_length int,home_ownership string,annual_income float,address_state string,address_zipcode string,address_country string,grade string,sub_grade string,verification_status string,total_high_credit_limit float,application_type string,join_annual_income float,verification_status_joint string,ingestion_date timestamp) stored as parquet LOCATION '/user/itv010130/loanproject/clean/customer_data_parquet'\n",
    "\"\"\")"
   ]
  },
  {
   "cell_type": "code",
   "execution_count": 8,
   "id": "1ede38e3",
   "metadata": {},
   "outputs": [
    {
     "data": {
      "text/html": [
       "<table border='1'>\n",
       "<tr><th>member_id</th><th>emp_title</th><th>emp_length</th><th>home_ownership</th><th>annual_income</th><th>address_state</th><th>address_zipcode</th><th>address_country</th><th>grade</th><th>sub_grade</th><th>verification_status</th><th>total_high_credit_limit</th><th>application_type</th><th>join_annual_income</th><th>verification_status_joint</th><th>ingestion_date</th></tr>\n",
       "<tr><td>d80ddb5ed2f44ba36...</td><td>Data Scientist</td><td>3</td><td>RENT</td><td>120000.0</td><td>WA</td><td>981xx</td><td>USA</td><td>C</td><td>C2</td><td>Not Verified</td><td>69331.0</td><td>Individual</td><td>null</td><td>null</td><td>2024-07-15 16:44:...</td></tr>\n",
       "<tr><td>e469c81f404cb8812...</td><td>IT Tech</td><td>9</td><td>OWN</td><td>75000.0</td><td>CA</td><td>922xx</td><td>USA</td><td>C</td><td>C4</td><td>Verified</td><td>272816.0</td><td>Individual</td><td>null</td><td>null</td><td>2024-07-15 16:44:...</td></tr>\n",
       "<tr><td>94e00bfa41db06702...</td><td>Nurse Practitioner</td><td>2</td><td>MORTGAGE</td><td>84000.0</td><td>IL</td><td>623xx</td><td>USA</td><td>C</td><td>C3</td><td>Verified</td><td>297344.0</td><td>Individual</td><td>null</td><td>null</td><td>2024-07-15 16:44:...</td></tr>\n",
       "<tr><td>c34c85e958da5056b...</td><td>Wine Consultant</td><td>6</td><td>MORTGAGE</td><td>66000.0</td><td>IL</td><td>606xx</td><td>USA</td><td>B</td><td>B3</td><td>Source Verified</td><td>210800.0</td><td>Individual</td><td>null</td><td>null</td><td>2024-07-15 16:44:...</td></tr>\n",
       "<tr><td>57060caf0bd84d6cf...</td><td>Plumber</td><td>1</td><td>MORTGAGE</td><td>92500.0</td><td>TX</td><td>750xx</td><td>USA</td><td>C</td><td>C5</td><td>Not Verified</td><td>194963.0</td><td>Individual</td><td>null</td><td>null</td><td>2024-07-15 16:44:...</td></tr>\n",
       "<tr><td>bee8ccb6b9064de7e...</td><td>null</td><td>6</td><td>RENT</td><td>30000.0</td><td>NY</td><td>104xx</td><td>USA</td><td>E</td><td>E1</td><td>Not Verified</td><td>30600.0</td><td>Joint App</td><td>60000.0</td><td>Not Verified</td><td>2024-07-15 16:44:...</td></tr>\n",
       "<tr><td>949bcf76b68e46448...</td><td>null</td><td>6</td><td>MORTGAGE</td><td>42000.0</td><td>NY</td><td>148xx</td><td>USA</td><td>F</td><td>F5</td><td>Verified</td><td>145519.0</td><td>Individual</td><td>null</td><td>null</td><td>2024-07-15 16:44:...</td></tr>\n",
       "<tr><td>9c20b5d0ba86a6733...</td><td>IT Analyst</td><td>3</td><td>RENT</td><td>48650.0</td><td>NC</td><td>275xx</td><td>USA</td><td>B</td><td>B1</td><td>Source Verified</td><td>154424.0</td><td>Individual</td><td>null</td><td>null</td><td>2024-07-15 16:44:...</td></tr>\n",
       "<tr><td>cd52a7fc8e2d2fcf5...</td><td>Librarian</td><td>3</td><td>MORTGAGE</td><td>60000.0</td><td>CA</td><td>913xx</td><td>USA</td><td>B</td><td>B1</td><td>Verified</td><td>169124.0</td><td>Individual</td><td>null</td><td>null</td><td>2024-07-15 16:44:...</td></tr>\n",
       "<tr><td>a17b112d7a0b07684...</td><td>Fireman</td><td>8</td><td>MORTGAGE</td><td>96000.0</td><td>IL</td><td>601xx</td><td>USA</td><td>C</td><td>C4</td><td>Verified</td><td>359850.0</td><td>Individual</td><td>null</td><td>null</td><td>2024-07-15 16:44:...</td></tr>\n",
       "<tr><td>5308ba7458567d938...</td><td>Registered Nurse</td><td>3</td><td>MORTGAGE</td><td>65000.0</td><td>TN</td><td>383xx</td><td>USA</td><td>C</td><td>C4</td><td>Source Verified</td><td>154647.0</td><td>Individual</td><td>null</td><td>null</td><td>2024-07-15 16:44:...</td></tr>\n",
       "<tr><td>24e12c47a8a71ab26...</td><td>Area Manager</td><td>10</td><td>MORTGAGE</td><td>82120.0</td><td>FL</td><td>338xx</td><td>USA</td><td>A</td><td>A5</td><td>Source Verified</td><td>96143.0</td><td>Individual</td><td>null</td><td>null</td><td>2024-07-15 16:44:...</td></tr>\n",
       "<tr><td>527b858e3c113e288...</td><td>Cosmetologist</td><td>1</td><td>MORTGAGE</td><td>40000.0</td><td>IL</td><td>629xx</td><td>USA</td><td>B</td><td>B2</td><td>Not Verified</td><td>161156.0</td><td>Joint App</td><td>130000.0</td><td>Not Verified</td><td>2024-07-15 16:44:...</td></tr>\n",
       "<tr><td>014c7166eadf0db5b...</td><td>SR District Brand...</td><td>9</td><td>RENT</td><td>118000.0</td><td>NY</td><td>112xx</td><td>USA</td><td>A</td><td>A1</td><td>Not Verified</td><td>85100.0</td><td>Individual</td><td>null</td><td>null</td><td>2024-07-15 16:44:...</td></tr>\n",
       "<tr><td>0383ce8daff231dd7...</td><td>RN</td><td>9</td><td>MORTGAGE</td><td>100000.0</td><td>PA</td><td>186xx</td><td>USA</td><td>C</td><td>C4</td><td>Verified</td><td>243393.0</td><td>Joint App</td><td>138400.0</td><td>Not Verified</td><td>2024-07-15 16:44:...</td></tr>\n",
       "<tr><td>569fe4c3a600096e0...</td><td>null</td><td>6</td><td>OWN</td><td>40000.0</td><td>OR</td><td>977xx</td><td>USA</td><td>B</td><td>B1</td><td>Verified</td><td>31010.0</td><td>Individual</td><td>null</td><td>null</td><td>2024-07-15 16:44:...</td></tr>\n",
       "<tr><td>9c7f908cb9208115e...</td><td>Lead Teacher</td><td>7</td><td>RENT</td><td>68000.0</td><td>FL</td><td>331xx</td><td>USA</td><td>C</td><td>C5</td><td>Source Verified</td><td>92957.0</td><td>Joint App</td><td>120000.0</td><td>Source Verified</td><td>2024-07-15 16:44:...</td></tr>\n",
       "<tr><td>29bef87217836fda8...</td><td>vp</td><td>9</td><td>MORTGAGE</td><td>231000.0</td><td>NY</td><td>112xx</td><td>USA</td><td>A</td><td>A1</td><td>Verified</td><td>96300.0</td><td>Individual</td><td>null</td><td>null</td><td>2024-07-15 16:44:...</td></tr>\n",
       "<tr><td>499a63675c4bcf312...</td><td>Guidance Counselor</td><td>1</td><td>MORTGAGE</td><td>35000.0</td><td>OH</td><td>439xx</td><td>USA</td><td>B</td><td>B1</td><td>Not Verified</td><td>204528.0</td><td>Joint App</td><td>70000.0</td><td>Not Verified</td><td>2024-07-15 16:44:...</td></tr>\n",
       "<tr><td>40a95ab557308d82b...</td><td>null</td><td>1</td><td>MORTGAGE</td><td>20000.0</td><td>TX</td><td>761xx</td><td>USA</td><td>C</td><td>C2</td><td>Not Verified</td><td>85043.0</td><td>Joint App</td><td>68000.0</td><td>Not Verified</td><td>2024-07-15 16:44:...</td></tr>\n",
       "</table>\n",
       "only showing top 20 rows\n"
      ],
      "text/plain": [
       "+--------------------+--------------------+----------+--------------+-------------+-------------+---------------+---------------+-----+---------+-------------------+-----------------------+----------------+------------------+-------------------------+--------------------+\n",
       "|           member_id|           emp_title|emp_length|home_ownership|annual_income|address_state|address_zipcode|address_country|grade|sub_grade|verification_status|total_high_credit_limit|application_type|join_annual_income|verification_status_joint|      ingestion_date|\n",
       "+--------------------+--------------------+----------+--------------+-------------+-------------+---------------+---------------+-----+---------+-------------------+-----------------------+----------------+------------------+-------------------------+--------------------+\n",
       "|d80ddb5ed2f44ba36...|      Data Scientist|         3|          RENT|     120000.0|           WA|          981xx|            USA|    C|       C2|       Not Verified|                69331.0|      Individual|              null|                     null|2024-07-15 16:44:...|\n",
       "|e469c81f404cb8812...|             IT Tech|         9|           OWN|      75000.0|           CA|          922xx|            USA|    C|       C4|           Verified|               272816.0|      Individual|              null|                     null|2024-07-15 16:44:...|\n",
       "|94e00bfa41db06702...|  Nurse Practitioner|         2|      MORTGAGE|      84000.0|           IL|          623xx|            USA|    C|       C3|           Verified|               297344.0|      Individual|              null|                     null|2024-07-15 16:44:...|\n",
       "|c34c85e958da5056b...|     Wine Consultant|         6|      MORTGAGE|      66000.0|           IL|          606xx|            USA|    B|       B3|    Source Verified|               210800.0|      Individual|              null|                     null|2024-07-15 16:44:...|\n",
       "|57060caf0bd84d6cf...|             Plumber|         1|      MORTGAGE|      92500.0|           TX|          750xx|            USA|    C|       C5|       Not Verified|               194963.0|      Individual|              null|                     null|2024-07-15 16:44:...|\n",
       "|bee8ccb6b9064de7e...|                null|         6|          RENT|      30000.0|           NY|          104xx|            USA|    E|       E1|       Not Verified|                30600.0|       Joint App|           60000.0|             Not Verified|2024-07-15 16:44:...|\n",
       "|949bcf76b68e46448...|                null|         6|      MORTGAGE|      42000.0|           NY|          148xx|            USA|    F|       F5|           Verified|               145519.0|      Individual|              null|                     null|2024-07-15 16:44:...|\n",
       "|9c20b5d0ba86a6733...|          IT Analyst|         3|          RENT|      48650.0|           NC|          275xx|            USA|    B|       B1|    Source Verified|               154424.0|      Individual|              null|                     null|2024-07-15 16:44:...|\n",
       "|cd52a7fc8e2d2fcf5...|           Librarian|         3|      MORTGAGE|      60000.0|           CA|          913xx|            USA|    B|       B1|           Verified|               169124.0|      Individual|              null|                     null|2024-07-15 16:44:...|\n",
       "|a17b112d7a0b07684...|             Fireman|         8|      MORTGAGE|      96000.0|           IL|          601xx|            USA|    C|       C4|           Verified|               359850.0|      Individual|              null|                     null|2024-07-15 16:44:...|\n",
       "|5308ba7458567d938...|    Registered Nurse|         3|      MORTGAGE|      65000.0|           TN|          383xx|            USA|    C|       C4|    Source Verified|               154647.0|      Individual|              null|                     null|2024-07-15 16:44:...|\n",
       "|24e12c47a8a71ab26...|        Area Manager|        10|      MORTGAGE|      82120.0|           FL|          338xx|            USA|    A|       A5|    Source Verified|                96143.0|      Individual|              null|                     null|2024-07-15 16:44:...|\n",
       "|527b858e3c113e288...|       Cosmetologist|         1|      MORTGAGE|      40000.0|           IL|          629xx|            USA|    B|       B2|       Not Verified|               161156.0|       Joint App|          130000.0|             Not Verified|2024-07-15 16:44:...|\n",
       "|014c7166eadf0db5b...|SR District Brand...|         9|          RENT|     118000.0|           NY|          112xx|            USA|    A|       A1|       Not Verified|                85100.0|      Individual|              null|                     null|2024-07-15 16:44:...|\n",
       "|0383ce8daff231dd7...|                  RN|         9|      MORTGAGE|     100000.0|           PA|          186xx|            USA|    C|       C4|           Verified|               243393.0|       Joint App|          138400.0|             Not Verified|2024-07-15 16:44:...|\n",
       "|569fe4c3a600096e0...|                null|         6|           OWN|      40000.0|           OR|          977xx|            USA|    B|       B1|           Verified|                31010.0|      Individual|              null|                     null|2024-07-15 16:44:...|\n",
       "|9c7f908cb9208115e...|        Lead Teacher|         7|          RENT|      68000.0|           FL|          331xx|            USA|    C|       C5|    Source Verified|                92957.0|       Joint App|          120000.0|          Source Verified|2024-07-15 16:44:...|\n",
       "|29bef87217836fda8...|                  vp|         9|      MORTGAGE|     231000.0|           NY|          112xx|            USA|    A|       A1|           Verified|                96300.0|      Individual|              null|                     null|2024-07-15 16:44:...|\n",
       "|499a63675c4bcf312...|  Guidance Counselor|         1|      MORTGAGE|      35000.0|           OH|          439xx|            USA|    B|       B1|       Not Verified|               204528.0|       Joint App|           70000.0|             Not Verified|2024-07-15 16:44:...|\n",
       "|40a95ab557308d82b...|                null|         1|      MORTGAGE|      20000.0|           TX|          761xx|            USA|    C|       C2|       Not Verified|                85043.0|       Joint App|           68000.0|             Not Verified|2024-07-15 16:44:...|\n",
       "+--------------------+--------------------+----------+--------------+-------------+-------------+---------------+---------------+-----+---------+-------------------+-----------------------+----------------+------------------+-------------------------+--------------------+\n",
       "only showing top 20 rows"
      ]
     },
     "execution_count": 8,
     "metadata": {},
     "output_type": "execute_result"
    }
   ],
   "source": [
    "spark.sql(\"select * from itv010130_Loan_Database.customers\")"
   ]
  },
  {
   "cell_type": "markdown",
   "id": "4dac68c8",
   "metadata": {},
   "source": [
    "### 2. Loans External Table Creation"
   ]
  },
  {
   "cell_type": "code",
   "execution_count": 16,
   "id": "de3aba4d",
   "metadata": {},
   "outputs": [],
   "source": [
    "loan_df = spark.read \\\n",
    ".format(\"parquet\") \\\n",
    ".load(\"/user/itv010130/loanproject/clean/loan_data_parquet\")"
   ]
  },
  {
   "cell_type": "code",
   "execution_count": 17,
   "id": "9310f934",
   "metadata": {},
   "outputs": [
    {
     "name": "stdout",
     "output_type": "stream",
     "text": [
      "root\n",
      " |-- loan_id: string (nullable = true)\n",
      " |-- member_id: string (nullable = true)\n",
      " |-- loan_amount: float (nullable = true)\n",
      " |-- funded_amount: float (nullable = true)\n",
      " |-- loan_term_years: integer (nullable = true)\n",
      " |-- interest_rate: float (nullable = true)\n",
      " |-- monthly_installment: float (nullable = true)\n",
      " |-- issue_date: string (nullable = true)\n",
      " |-- loan_status: string (nullable = true)\n",
      " |-- loan_purpose: string (nullable = true)\n",
      " |-- loan_title: string (nullable = true)\n",
      " |-- ingestion_date: timestamp (nullable = true)\n",
      "\n"
     ]
    }
   ],
   "source": [
    "loan_df.printSchema()"
   ]
  },
  {
   "cell_type": "code",
   "execution_count": 18,
   "id": "1774cc35",
   "metadata": {},
   "outputs": [
    {
     "data": {
      "text/html": [
       "<table border='1'>\n",
       "<tr><th></th></tr>\n",
       "</table>\n"
      ],
      "text/plain": [
       "++\n",
       "||\n",
       "++\n",
       "++"
      ]
     },
     "execution_count": 18,
     "metadata": {},
     "output_type": "execute_result"
    }
   ],
   "source": [
    "spark.sql(\"\"\"\n",
    "CREATE EXTERNAL TABLE itv010130_Loan_Database.loans(loan_id string,member_id string,loan_amount float,funded_amount float,loan_term_years int,interest_rate float,monthly_installment float,issue_date string,loan_status string,loan_purpose string,loan_title string,ingestion_date timestamp) stored as parquet LOCATION '/user/itv010130/loanproject/clean/loan_data_parquet'\n",
    "\"\"\")"
   ]
  },
  {
   "cell_type": "code",
   "execution_count": 19,
   "id": "d9509b4d",
   "metadata": {},
   "outputs": [
    {
     "data": {
      "text/html": [
       "<table border='1'>\n",
       "<tr><th>loan_id</th><th>member_id</th><th>loan_amount</th><th>funded_amount</th><th>loan_term_years</th><th>interest_rate</th><th>monthly_installment</th><th>issue_date</th><th>loan_status</th><th>loan_purpose</th><th>loan_title</th><th>ingestion_date</th></tr>\n",
       "<tr><td>5640558</td><td>75aa37b53c5c4dfd7...</td><td>25200.0</td><td>25200.0</td><td>3</td><td>14.33</td><td>865.33</td><td>Jun-2013</td><td>Fully Paid</td><td>debt_consolidation</td><td>2013 Credit Card ...</td><td>2024-07-04 23:42:...</td></tr>\n",
       "<tr><td>5630489</td><td>3973abca4e9278951...</td><td>20000.0</td><td>20000.0</td><td>3</td><td>14.09</td><td>684.43</td><td>Jun-2013</td><td>Fully Paid</td><td>debt_consolidation</td><td>Pay Off</td><td>2024-07-04 23:42:...</td></tr>\n",
       "<tr><td>5640536</td><td>66276848f487b4eea...</td><td>8000.0</td><td>8000.0</td><td>3</td><td>13.11</td><td>269.98</td><td>Jun-2013</td><td>Fully Paid</td><td>debt_consolidation</td><td>Debt consolidation</td><td>2024-07-04 23:42:...</td></tr>\n",
       "<tr><td>5616872</td><td>f95485d0f0e57fafa...</td><td>35000.0</td><td>35000.0</td><td>3</td><td>21.0</td><td>1318.63</td><td>Jun-2013</td><td>Charged Off</td><td>debt_consolidation</td><td>LC consolidation ...</td><td>2024-07-04 23:42:...</td></tr>\n",
       "<tr><td>5610618</td><td>a476e72aa5a196663...</td><td>20000.0</td><td>20000.0</td><td>3</td><td>7.9</td><td>625.81</td><td>Jun-2013</td><td>Fully Paid</td><td>credit_card</td><td>Payoff Cap One</td><td>2024-07-04 23:42:...</td></tr>\n",
       "<tr><td>5610358</td><td>ed35f7be776a76eaa...</td><td>9000.0</td><td>9000.0</td><td>3</td><td>15.31</td><td>313.36</td><td>Jun-2013</td><td>Fully Paid</td><td>debt_consolidation</td><td>debt consolidation</td><td>2024-07-04 23:42:...</td></tr>\n",
       "<tr><td>5610638</td><td>f5f2cad30f88066b9...</td><td>8875.0</td><td>8875.0</td><td>3</td><td>15.31</td><td>309.01</td><td>Jun-2013</td><td>Fully Paid</td><td>credit_card</td><td>Credit card refin...</td><td>2024-07-04 23:42:...</td></tr>\n",
       "<tr><td>5619890</td><td>72d09470db841a41f...</td><td>20000.0</td><td>20000.0</td><td>3</td><td>11.14</td><td>656.11</td><td>Jul-2013</td><td>Fully Paid</td><td>debt_consolidation</td><td>Debt pay off</td><td>2024-07-04 23:42:...</td></tr>\n",
       "<tr><td>5620443</td><td>89bceb321d30c19f1...</td><td>9000.0</td><td>9000.0</td><td>3</td><td>12.12</td><td>299.45</td><td>Jun-2013</td><td>Fully Paid</td><td>debt_consolidation</td><td>my loan</td><td>2024-07-04 23:42:...</td></tr>\n",
       "<tr><td>5619319</td><td>4454029a0decbf5bd...</td><td>7000.0</td><td>7000.0</td><td>3</td><td>14.33</td><td>240.37</td><td>Jun-2013</td><td>Fully Paid</td><td>debt_consolidation</td><td>Home Refinance</td><td>2024-07-04 23:42:...</td></tr>\n",
       "<tr><td>5620294</td><td>4474f80ea759883fe...</td><td>20000.0</td><td>20000.0</td><td>3</td><td>12.12</td><td>665.44</td><td>Jun-2013</td><td>Fully Paid</td><td>credit_card</td><td>credit card refin...</td><td>2024-07-04 23:42:...</td></tr>\n",
       "<tr><td>5610518</td><td>457325be1818143f0...</td><td>18225.0</td><td>18225.0</td><td>5</td><td>16.29</td><td>446.01</td><td>Jun-2013</td><td>Fully Paid</td><td>credit_card</td><td>Credit card refin...</td><td>2024-07-04 23:42:...</td></tr>\n",
       "<tr><td>5555411</td><td>bc60e505562b0dbc0...</td><td>8000.0</td><td>8000.0</td><td>3</td><td>12.12</td><td>266.18</td><td>Jun-2013</td><td>Fully Paid</td><td>credit_card</td><td>Credit card refin...</td><td>2024-07-04 23:42:...</td></tr>\n",
       "<tr><td>5620419</td><td>4aaa7b324c9d698e0...</td><td>24000.0</td><td>24000.0</td><td>5</td><td>12.12</td><td>535.33</td><td>Jun-2013</td><td>Fully Paid</td><td>debt_consolidation</td><td>Loan Consolidation</td><td>2024-07-04 23:42:...</td></tr>\n",
       "<tr><td>5610565</td><td>a5c93d818d160bd12...</td><td>15250.0</td><td>15250.0</td><td>3</td><td>20.49</td><td>570.56</td><td>Jun-2013</td><td>Fully Paid</td><td>debt_consolidation</td><td>debp consolidation</td><td>2024-07-04 23:42:...</td></tr>\n",
       "<tr><td>5610428</td><td>038eef2bbb4796e6a...</td><td>16000.0</td><td>16000.0</td><td>5</td><td>15.31</td><td>383.25</td><td>Jun-2013</td><td>Fully Paid</td><td>debt_consolidation</td><td>&quot;consolidating - ...</td><td>2024-07-04 23:42:...</td></tr>\n",
       "<tr><td>5604785</td><td>8aef94e445095a8dd...</td><td>24000.0</td><td>24000.0</td><td>5</td><td>22.47</td><td>669.29</td><td>Jun-2013</td><td>Fully Paid</td><td>debt_consolidation</td><td>DC loan</td><td>2024-07-04 23:42:...</td></tr>\n",
       "<tr><td>5620423</td><td>2b39f5712636265e2...</td><td>14000.0</td><td>14000.0</td><td>3</td><td>12.12</td><td>465.81</td><td>Jun-2013</td><td>Fully Paid</td><td>credit_card</td><td>Credit card refin...</td><td>2024-07-04 23:42:...</td></tr>\n",
       "<tr><td>5620384</td><td>df0afdf980e98e4ec...</td><td>16000.0</td><td>16000.0</td><td>3</td><td>19.05</td><td>586.91</td><td>Jun-2013</td><td>Fully Paid</td><td>debt_consolidation</td><td>Loan</td><td>2024-07-04 23:42:...</td></tr>\n",
       "<tr><td>5610386</td><td>daff012c7b31c3e18...</td><td>17500.0</td><td>17500.0</td><td>5</td><td>16.29</td><td>428.27</td><td>Jun-2013</td><td>Charged Off</td><td>debt_consolidation</td><td>Debt consolidation</td><td>2024-07-04 23:42:...</td></tr>\n",
       "</table>\n",
       "only showing top 20 rows\n"
      ],
      "text/plain": [
       "+-------+--------------------+-----------+-------------+---------------+-------------+-------------------+----------+-----------+------------------+--------------------+--------------------+\n",
       "|loan_id|           member_id|loan_amount|funded_amount|loan_term_years|interest_rate|monthly_installment|issue_date|loan_status|      loan_purpose|          loan_title|      ingestion_date|\n",
       "+-------+--------------------+-----------+-------------+---------------+-------------+-------------------+----------+-----------+------------------+--------------------+--------------------+\n",
       "|5640558|75aa37b53c5c4dfd7...|    25200.0|      25200.0|              3|        14.33|             865.33|  Jun-2013| Fully Paid|debt_consolidation|2013 Credit Card ...|2024-07-04 23:42:...|\n",
       "|5630489|3973abca4e9278951...|    20000.0|      20000.0|              3|        14.09|             684.43|  Jun-2013| Fully Paid|debt_consolidation|             Pay Off|2024-07-04 23:42:...|\n",
       "|5640536|66276848f487b4eea...|     8000.0|       8000.0|              3|        13.11|             269.98|  Jun-2013| Fully Paid|debt_consolidation|  Debt consolidation|2024-07-04 23:42:...|\n",
       "|5616872|f95485d0f0e57fafa...|    35000.0|      35000.0|              3|         21.0|            1318.63|  Jun-2013|Charged Off|debt_consolidation|LC consolidation ...|2024-07-04 23:42:...|\n",
       "|5610618|a476e72aa5a196663...|    20000.0|      20000.0|              3|          7.9|             625.81|  Jun-2013| Fully Paid|       credit_card|      Payoff Cap One|2024-07-04 23:42:...|\n",
       "|5610358|ed35f7be776a76eaa...|     9000.0|       9000.0|              3|        15.31|             313.36|  Jun-2013| Fully Paid|debt_consolidation|  debt consolidation|2024-07-04 23:42:...|\n",
       "|5610638|f5f2cad30f88066b9...|     8875.0|       8875.0|              3|        15.31|             309.01|  Jun-2013| Fully Paid|       credit_card|Credit card refin...|2024-07-04 23:42:...|\n",
       "|5619890|72d09470db841a41f...|    20000.0|      20000.0|              3|        11.14|             656.11|  Jul-2013| Fully Paid|debt_consolidation|        Debt pay off|2024-07-04 23:42:...|\n",
       "|5620443|89bceb321d30c19f1...|     9000.0|       9000.0|              3|        12.12|             299.45|  Jun-2013| Fully Paid|debt_consolidation|             my loan|2024-07-04 23:42:...|\n",
       "|5619319|4454029a0decbf5bd...|     7000.0|       7000.0|              3|        14.33|             240.37|  Jun-2013| Fully Paid|debt_consolidation|      Home Refinance|2024-07-04 23:42:...|\n",
       "|5620294|4474f80ea759883fe...|    20000.0|      20000.0|              3|        12.12|             665.44|  Jun-2013| Fully Paid|       credit_card|credit card refin...|2024-07-04 23:42:...|\n",
       "|5610518|457325be1818143f0...|    18225.0|      18225.0|              5|        16.29|             446.01|  Jun-2013| Fully Paid|       credit_card|Credit card refin...|2024-07-04 23:42:...|\n",
       "|5555411|bc60e505562b0dbc0...|     8000.0|       8000.0|              3|        12.12|             266.18|  Jun-2013| Fully Paid|       credit_card|Credit card refin...|2024-07-04 23:42:...|\n",
       "|5620419|4aaa7b324c9d698e0...|    24000.0|      24000.0|              5|        12.12|             535.33|  Jun-2013| Fully Paid|debt_consolidation|  Loan Consolidation|2024-07-04 23:42:...|\n",
       "|5610565|a5c93d818d160bd12...|    15250.0|      15250.0|              3|        20.49|             570.56|  Jun-2013| Fully Paid|debt_consolidation|  debp consolidation|2024-07-04 23:42:...|\n",
       "|5610428|038eef2bbb4796e6a...|    16000.0|      16000.0|              5|        15.31|             383.25|  Jun-2013| Fully Paid|debt_consolidation|\"consolidating - ...|2024-07-04 23:42:...|\n",
       "|5604785|8aef94e445095a8dd...|    24000.0|      24000.0|              5|        22.47|             669.29|  Jun-2013| Fully Paid|debt_consolidation|             DC loan|2024-07-04 23:42:...|\n",
       "|5620423|2b39f5712636265e2...|    14000.0|      14000.0|              3|        12.12|             465.81|  Jun-2013| Fully Paid|       credit_card|Credit card refin...|2024-07-04 23:42:...|\n",
       "|5620384|df0afdf980e98e4ec...|    16000.0|      16000.0|              3|        19.05|             586.91|  Jun-2013| Fully Paid|debt_consolidation|                Loan|2024-07-04 23:42:...|\n",
       "|5610386|daff012c7b31c3e18...|    17500.0|      17500.0|              5|        16.29|             428.27|  Jun-2013|Charged Off|debt_consolidation|  Debt consolidation|2024-07-04 23:42:...|\n",
       "+-------+--------------------+-----------+-------------+---------------+-------------+-------------------+----------+-----------+------------------+--------------------+--------------------+\n",
       "only showing top 20 rows"
      ]
     },
     "execution_count": 19,
     "metadata": {},
     "output_type": "execute_result"
    }
   ],
   "source": [
    "spark.sql(\"select * from itv010130_Loan_Database.loans\")"
   ]
  },
  {
   "cell_type": "markdown",
   "id": "73672e5a",
   "metadata": {},
   "source": [
    "### 3. Repayment External Table Creation"
   ]
  },
  {
   "cell_type": "code",
   "execution_count": 21,
   "id": "f6488ce2",
   "metadata": {},
   "outputs": [],
   "source": [
    "repayment_df = spark.read \\\n",
    ".format(\"parquet\") \\\n",
    ".load(\"/user/itv010130/loanproject/clean/repayment_data_parquet\")"
   ]
  },
  {
   "cell_type": "code",
   "execution_count": 22,
   "id": "7c25521f",
   "metadata": {},
   "outputs": [
    {
     "name": "stdout",
     "output_type": "stream",
     "text": [
      "root\n",
      " |-- loan_id: string (nullable = true)\n",
      " |-- total_principle_received: float (nullable = true)\n",
      " |-- total_interest_received: float (nullable = true)\n",
      " |-- total_late_fee_received: float (nullable = true)\n",
      " |-- total_payment: float (nullable = true)\n",
      " |-- last_payment_amount: float (nullable = true)\n",
      " |-- last_payment_date: string (nullable = true)\n",
      " |-- next_payment_date: string (nullable = true)\n",
      " |-- ingestion_date: timestamp (nullable = true)\n",
      "\n"
     ]
    }
   ],
   "source": [
    "repayment_df.printSchema()"
   ]
  },
  {
   "cell_type": "code",
   "execution_count": 23,
   "id": "73fc46da",
   "metadata": {},
   "outputs": [
    {
     "data": {
      "text/html": [
       "<table border='1'>\n",
       "<tr><th></th></tr>\n",
       "</table>\n"
      ],
      "text/plain": [
       "++\n",
       "||\n",
       "++\n",
       "++"
      ]
     },
     "execution_count": 23,
     "metadata": {},
     "output_type": "execute_result"
    }
   ],
   "source": [
    "spark.sql(\"\"\"\n",
    "CREATE EXTERNAL TABLE itv010130_Loan_Database.repayment(loan_id string,total_principle_received float,total_interest_received float,total_late_fee_received float,total_payment float,last_payment_amount float,last_payment_date string,next_payment_date string,ingestion_date timestamp) stored as parquet LOCATION '/user/itv010130/loanproject/clean/repayment_data_parquet'\n",
    "\"\"\")"
   ]
  },
  {
   "cell_type": "code",
   "execution_count": 24,
   "id": "6669b80d",
   "metadata": {},
   "outputs": [
    {
     "data": {
      "text/html": [
       "<table border='1'>\n",
       "<tr><th>loan_id</th><th>total_principle_received</th><th>total_interest_received</th><th>total_late_fee_received</th><th>total_payment</th><th>last_payment_amount</th><th>last_payment_date</th><th>next_payment_date</th><th>ingestion_date</th></tr>\n",
       "<tr><td>84647143</td><td>4000.0</td><td>614.11</td><td>0.0</td><td>4614.1104</td><td>1235.28</td><td>Oct-2018</td><td>null</td><td>2024-07-05 15:01:...</td></tr>\n",
       "<tr><td>86463837</td><td>9967.93</td><td>6417.24</td><td>0.0</td><td>16385.17</td><td>529.11</td><td>Mar-2019</td><td>Apr-2019</td><td>2024-07-05 15:01:...</td></tr>\n",
       "<tr><td>86643264</td><td>15200.0</td><td>2329.24</td><td>0.0</td><td>17529.244</td><td>14837.07</td><td>Mar-2017</td><td>null</td><td>2024-07-05 15:01:...</td></tr>\n",
       "<tr><td>85610005</td><td>1001.45</td><td>469.25</td><td>0.0</td><td>1470.7</td><td>246.05</td><td>Feb-2017</td><td>null</td><td>2024-07-05 15:01:...</td></tr>\n",
       "<tr><td>86101113</td><td>1316.02</td><td>517.0</td><td>0.0</td><td>2001.23</td><td>87.39</td><td>May-2018</td><td>null</td><td>2024-07-05 15:01:...</td></tr>\n",
       "<tr><td>85952284</td><td>14000.0</td><td>1851.72</td><td>0.0</td><td>15851.718</td><td>4733.71</td><td>Oct-2018</td><td>null</td><td>2024-07-05 15:01:...</td></tr>\n",
       "<tr><td>84666301</td><td>25193.35</td><td>5450.84</td><td>0.0</td><td>30644.19</td><td>989.14</td><td>Mar-2019</td><td>Apr-2019</td><td>2024-07-05 15:01:...</td></tr>\n",
       "<tr><td>85872910</td><td>4525.0</td><td>616.49</td><td>0.0</td><td>5141.489</td><td>3693.97</td><td>Jun-2017</td><td>null</td><td>2024-07-05 15:01:...</td></tr>\n",
       "<tr><td>85615895</td><td>7500.0</td><td>1764.84</td><td>0.0</td><td>9264.843</td><td>2976.53</td><td>Sep-2018</td><td>null</td><td>2024-07-05 15:01:...</td></tr>\n",
       "<tr><td>86523233</td><td>2522.48</td><td>520.2</td><td>0.0</td><td>3042.68</td><td>98.21</td><td>Mar-2019</td><td>Apr-2019</td><td>2024-07-05 15:01:...</td></tr>\n",
       "<tr><td>86022413</td><td>40000.0</td><td>2302.1</td><td>0.0</td><td>42302.098</td><td>36827.7</td><td>Jan-2017</td><td>null</td><td>2024-07-05 15:01:...</td></tr>\n",
       "<tr><td>86432956</td><td>12000.0</td><td>1173.17</td><td>0.0</td><td>13173.168</td><td>7455.91</td><td>Dec-2017</td><td>null</td><td>2024-07-05 15:01:...</td></tr>\n",
       "<tr><td>85992799</td><td>7566.74</td><td>1555.18</td><td>0.0</td><td>9121.92</td><td>294.61</td><td>Mar-2019</td><td>Apr-2019</td><td>2024-07-05 15:01:...</td></tr>\n",
       "<tr><td>86453222</td><td>9484.55</td><td>4480.34</td><td>0.0</td><td>13964.89</td><td>451.27</td><td>Mar-2019</td><td>Apr-2019</td><td>2024-07-05 15:01:...</td></tr>\n",
       "<tr><td>85805832</td><td>12611.0</td><td>2591.99</td><td>0.0</td><td>15202.99</td><td>491.01</td><td>Mar-2019</td><td>Apr-2019</td><td>2024-07-05 15:01:...</td></tr>\n",
       "<tr><td>86423193</td><td>5000.0</td><td>315.32</td><td>0.0</td><td>5315.323</td><td>4318.04</td><td>Mar-2017</td><td>null</td><td>2024-07-05 15:01:...</td></tr>\n",
       "<tr><td>86012238</td><td>1168.63</td><td>420.17</td><td>0.0</td><td>1588.8</td><td>196.41</td><td>Apr-2017</td><td>null</td><td>2024-07-05 15:01:...</td></tr>\n",
       "<tr><td>86377338</td><td>12147.78</td><td>2142.14</td><td>0.0</td><td>14289.92</td><td>461.21</td><td>Mar-2019</td><td>Apr-2019</td><td>2024-07-05 15:01:...</td></tr>\n",
       "<tr><td>86602165</td><td>10000.0</td><td>1565.31</td><td>0.0</td><td>11565.312</td><td>334.3</td><td>May-2018</td><td>null</td><td>2024-07-05 15:01:...</td></tr>\n",
       "<tr><td>86206722</td><td>8800.0</td><td>1485.9</td><td>0.0</td><td>10285.902</td><td>790.63</td><td>Jan-2019</td><td>null</td><td>2024-07-05 15:01:...</td></tr>\n",
       "</table>\n",
       "only showing top 20 rows\n"
      ],
      "text/plain": [
       "+--------+------------------------+-----------------------+-----------------------+-------------+-------------------+-----------------+-----------------+--------------------+\n",
       "| loan_id|total_principle_received|total_interest_received|total_late_fee_received|total_payment|last_payment_amount|last_payment_date|next_payment_date|      ingestion_date|\n",
       "+--------+------------------------+-----------------------+-----------------------+-------------+-------------------+-----------------+-----------------+--------------------+\n",
       "|84647143|                  4000.0|                 614.11|                    0.0|    4614.1104|            1235.28|         Oct-2018|             null|2024-07-05 15:01:...|\n",
       "|86463837|                 9967.93|                6417.24|                    0.0|     16385.17|             529.11|         Mar-2019|         Apr-2019|2024-07-05 15:01:...|\n",
       "|86643264|                 15200.0|                2329.24|                    0.0|    17529.244|           14837.07|         Mar-2017|             null|2024-07-05 15:01:...|\n",
       "|85610005|                 1001.45|                 469.25|                    0.0|       1470.7|             246.05|         Feb-2017|             null|2024-07-05 15:01:...|\n",
       "|86101113|                 1316.02|                  517.0|                    0.0|      2001.23|              87.39|         May-2018|             null|2024-07-05 15:01:...|\n",
       "|85952284|                 14000.0|                1851.72|                    0.0|    15851.718|            4733.71|         Oct-2018|             null|2024-07-05 15:01:...|\n",
       "|84666301|                25193.35|                5450.84|                    0.0|     30644.19|             989.14|         Mar-2019|         Apr-2019|2024-07-05 15:01:...|\n",
       "|85872910|                  4525.0|                 616.49|                    0.0|     5141.489|            3693.97|         Jun-2017|             null|2024-07-05 15:01:...|\n",
       "|85615895|                  7500.0|                1764.84|                    0.0|     9264.843|            2976.53|         Sep-2018|             null|2024-07-05 15:01:...|\n",
       "|86523233|                 2522.48|                  520.2|                    0.0|      3042.68|              98.21|         Mar-2019|         Apr-2019|2024-07-05 15:01:...|\n",
       "|86022413|                 40000.0|                 2302.1|                    0.0|    42302.098|            36827.7|         Jan-2017|             null|2024-07-05 15:01:...|\n",
       "|86432956|                 12000.0|                1173.17|                    0.0|    13173.168|            7455.91|         Dec-2017|             null|2024-07-05 15:01:...|\n",
       "|85992799|                 7566.74|                1555.18|                    0.0|      9121.92|             294.61|         Mar-2019|         Apr-2019|2024-07-05 15:01:...|\n",
       "|86453222|                 9484.55|                4480.34|                    0.0|     13964.89|             451.27|         Mar-2019|         Apr-2019|2024-07-05 15:01:...|\n",
       "|85805832|                 12611.0|                2591.99|                    0.0|     15202.99|             491.01|         Mar-2019|         Apr-2019|2024-07-05 15:01:...|\n",
       "|86423193|                  5000.0|                 315.32|                    0.0|     5315.323|            4318.04|         Mar-2017|             null|2024-07-05 15:01:...|\n",
       "|86012238|                 1168.63|                 420.17|                    0.0|       1588.8|             196.41|         Apr-2017|             null|2024-07-05 15:01:...|\n",
       "|86377338|                12147.78|                2142.14|                    0.0|     14289.92|             461.21|         Mar-2019|         Apr-2019|2024-07-05 15:01:...|\n",
       "|86602165|                 10000.0|                1565.31|                    0.0|    11565.312|              334.3|         May-2018|             null|2024-07-05 15:01:...|\n",
       "|86206722|                  8800.0|                 1485.9|                    0.0|    10285.902|             790.63|         Jan-2019|             null|2024-07-05 15:01:...|\n",
       "+--------+------------------------+-----------------------+-----------------------+-------------+-------------------+-----------------+-----------------+--------------------+\n",
       "only showing top 20 rows"
      ]
     },
     "execution_count": 24,
     "metadata": {},
     "output_type": "execute_result"
    }
   ],
   "source": [
    "spark.sql(\"select * from itv010130_Loan_Database.repayment\")"
   ]
  },
  {
   "cell_type": "markdown",
   "id": "abd91633",
   "metadata": {},
   "source": [
    "### 4. Defaulters External Table Creation"
   ]
  },
  {
   "cell_type": "code",
   "execution_count": 26,
   "id": "8740f91b",
   "metadata": {},
   "outputs": [],
   "source": [
    "defaulters_df=spark.read \\\n",
    ".format(\"parquet\") \\\n",
    ".load(\"/user/itv010130/loanproject/clean/detailed_defaulters_data_parquet\")"
   ]
  },
  {
   "cell_type": "code",
   "execution_count": 30,
   "id": "78b00df8",
   "metadata": {},
   "outputs": [
    {
     "name": "stdout",
     "output_type": "stream",
     "text": [
      "root\n",
      " |-- member_id: string (nullable = true)\n",
      " |-- pub_rec: integer (nullable = true)\n",
      " |-- pub_record_bankruptcies: integer (nullable = true)\n",
      " |-- inquiry_in_last_6mths: integer (nullable = true)\n",
      "\n"
     ]
    }
   ],
   "source": [
    "defaulters_df.printSchema()"
   ]
  },
  {
   "cell_type": "code",
   "execution_count": 32,
   "id": "ff85bbf6",
   "metadata": {},
   "outputs": [
    {
     "data": {
      "text/html": [
       "<table border='1'>\n",
       "<tr><th></th></tr>\n",
       "</table>\n"
      ],
      "text/plain": [
       "++\n",
       "||\n",
       "++\n",
       "++"
      ]
     },
     "execution_count": 32,
     "metadata": {},
     "output_type": "execute_result"
    }
   ],
   "source": [
    "spark.sql(\"\"\"\n",
    "CREATE EXTERNAL TABLE itv010130_Loan_Database.defaulters(member_id string,pub_rec int,pub_record_bankruptcies int,inquiry_in_last_6mths int) stored as parquet LOCATION '/user/itv010130/loanproject/clean/detailed_defaulters_data_parquet'\n",
    "\"\"\")"
   ]
  },
  {
   "cell_type": "code",
   "execution_count": 33,
   "id": "65739951",
   "metadata": {},
   "outputs": [
    {
     "data": {
      "text/html": [
       "<table border='1'>\n",
       "<tr><th>member_id</th><th>pub_rec</th><th>pub_record_bankruptcies</th><th>inquiry_in_last_6mths</th></tr>\n",
       "<tr><td>b59d80da191f5b573...</td><td>0</td><td>0</td><td>1</td></tr>\n",
       "<tr><td>202d9f56ecb7c3bc9...</td><td>0</td><td>0</td><td>0</td></tr>\n",
       "<tr><td>e5a140c0922b554b9...</td><td>0</td><td>0</td><td>0</td></tr>\n",
       "<tr><td>e12aefc548f750777...</td><td>0</td><td>0</td><td>0</td></tr>\n",
       "<tr><td>1b3a50d854fbbf97e...</td><td>0</td><td>0</td><td>0</td></tr>\n",
       "<tr><td>1c4329e5f17697127...</td><td>0</td><td>0</td><td>0</td></tr>\n",
       "<tr><td>5026c86ad983175eb...</td><td>1</td><td>0</td><td>2</td></tr>\n",
       "<tr><td>9847d8c1e9d0b2084...</td><td>2</td><td>0</td><td>0</td></tr>\n",
       "<tr><td>8340dbe1adea41fb4...</td><td>0</td><td>0</td><td>0</td></tr>\n",
       "<tr><td>d4de0de3ab7d79ad4...</td><td>0</td><td>0</td><td>0</td></tr>\n",
       "<tr><td>3df3cdeddb74a8712...</td><td>0</td><td>0</td><td>0</td></tr>\n",
       "<tr><td>9dd72636b1b4045b4...</td><td>0</td><td>0</td><td>3</td></tr>\n",
       "<tr><td>1d4e1ef4353b73c00...</td><td>0</td><td>0</td><td>2</td></tr>\n",
       "<tr><td>6f196952e71277fd4...</td><td>0</td><td>0</td><td>0</td></tr>\n",
       "<tr><td>9c617cbc6e3e3d6a1...</td><td>0</td><td>0</td><td>2</td></tr>\n",
       "<tr><td>45eb04dd75400a942...</td><td>0</td><td>0</td><td>2</td></tr>\n",
       "<tr><td>08d233c81f9e50726...</td><td>0</td><td>0</td><td>1</td></tr>\n",
       "<tr><td>8ff4d0ed17a1cab92...</td><td>2</td><td>0</td><td>2</td></tr>\n",
       "<tr><td>aec13cfd611b2cfea...</td><td>0</td><td>0</td><td>1</td></tr>\n",
       "<tr><td>9ba8c96ccba6cd1f0...</td><td>0</td><td>0</td><td>0</td></tr>\n",
       "</table>\n",
       "only showing top 20 rows\n"
      ],
      "text/plain": [
       "+--------------------+-------+-----------------------+---------------------+\n",
       "|           member_id|pub_rec|pub_record_bankruptcies|inquiry_in_last_6mths|\n",
       "+--------------------+-------+-----------------------+---------------------+\n",
       "|b59d80da191f5b573...|      0|                      0|                    1|\n",
       "|202d9f56ecb7c3bc9...|      0|                      0|                    0|\n",
       "|e5a140c0922b554b9...|      0|                      0|                    0|\n",
       "|e12aefc548f750777...|      0|                      0|                    0|\n",
       "|1b3a50d854fbbf97e...|      0|                      0|                    0|\n",
       "|1c4329e5f17697127...|      0|                      0|                    0|\n",
       "|5026c86ad983175eb...|      1|                      0|                    2|\n",
       "|9847d8c1e9d0b2084...|      2|                      0|                    0|\n",
       "|8340dbe1adea41fb4...|      0|                      0|                    0|\n",
       "|d4de0de3ab7d79ad4...|      0|                      0|                    0|\n",
       "|3df3cdeddb74a8712...|      0|                      0|                    0|\n",
       "|9dd72636b1b4045b4...|      0|                      0|                    3|\n",
       "|1d4e1ef4353b73c00...|      0|                      0|                    2|\n",
       "|6f196952e71277fd4...|      0|                      0|                    0|\n",
       "|9c617cbc6e3e3d6a1...|      0|                      0|                    2|\n",
       "|45eb04dd75400a942...|      0|                      0|                    2|\n",
       "|08d233c81f9e50726...|      0|                      0|                    1|\n",
       "|8ff4d0ed17a1cab92...|      2|                      0|                    2|\n",
       "|aec13cfd611b2cfea...|      0|                      0|                    1|\n",
       "|9ba8c96ccba6cd1f0...|      0|                      0|                    0|\n",
       "+--------------------+-------+-----------------------+---------------------+\n",
       "only showing top 20 rows"
      ]
     },
     "execution_count": 33,
     "metadata": {},
     "output_type": "execute_result"
    }
   ],
   "source": [
    "spark.sql(\"select * from itv010130_Loan_Database.defaulters\")"
   ]
  },
  {
   "cell_type": "markdown",
   "id": "199502c6",
   "metadata": {},
   "source": [
    "### 5. Delinquent External Table Creation"
   ]
  },
  {
   "cell_type": "code",
   "execution_count": 36,
   "id": "1012f67c",
   "metadata": {},
   "outputs": [],
   "source": [
    "delinquent_df=spark.read \\\n",
    ".format(\"parquet\") \\\n",
    ".load(\"/user/itv010130/loanproject/clean/defaulters_data_parquet\")"
   ]
  },
  {
   "cell_type": "code",
   "execution_count": 37,
   "id": "b5e4e52b",
   "metadata": {},
   "outputs": [
    {
     "name": "stdout",
     "output_type": "stream",
     "text": [
      "root\n",
      " |-- member_id: string (nullable = true)\n",
      " |-- delinq_in_2yrs: integer (nullable = true)\n",
      " |-- delinq_amount: float (nullable = true)\n",
      " |-- months_since_last_delinq: float (nullable = true)\n",
      "\n"
     ]
    }
   ],
   "source": [
    "delinquent_df.printSchema()"
   ]
  },
  {
   "cell_type": "code",
   "execution_count": 50,
   "id": "191b432f",
   "metadata": {},
   "outputs": [
    {
     "data": {
      "text/html": [
       "<table border='1'>\n",
       "<tr><th></th></tr>\n",
       "</table>\n"
      ],
      "text/plain": [
       "++\n",
       "||\n",
       "++\n",
       "++"
      ]
     },
     "execution_count": 50,
     "metadata": {},
     "output_type": "execute_result"
    }
   ],
   "source": [
    "spark.sql(\"\"\"\n",
    "CREATE EXTERNAL TABLE itv010130_Loan_Database.defaulters_delinquent(member_id string,delinq_in_2yrs int,delinq_amount float,months_since_last_delinq float) stored as parquet LOCATION '/user/itv010130/loanproject/clean/defaulters_data_parquet'\n",
    "\"\"\")"
   ]
  },
  {
   "cell_type": "code",
   "execution_count": 51,
   "id": "2d23a042",
   "metadata": {},
   "outputs": [
    {
     "data": {
      "text/html": [
       "<table border='1'>\n",
       "<tr><th>member_id</th><th>delinq_in_2yrs</th><th>delinq_amount</th><th>months_since_last_delinq</th></tr>\n",
       "<tr><td>b59d80da191f5b573...</td><td>0</td><td>0.0</td><td>31.0</td></tr>\n",
       "<tr><td>202d9f56ecb7c3bc9...</td><td>1</td><td>0.0</td><td>6.0</td></tr>\n",
       "<tr><td>e5a140c0922b554b9...</td><td>0</td><td>0.0</td><td>47.0</td></tr>\n",
       "<tr><td>e12aefc548f750777...</td><td>0</td><td>0.0</td><td>33.0</td></tr>\n",
       "<tr><td>1b3a50d854fbbf97e...</td><td>1</td><td>0.0</td><td>21.0</td></tr>\n",
       "<tr><td>9847d8c1e9d0b2084...</td><td>1</td><td>0.0</td><td>6.0</td></tr>\n",
       "<tr><td>8340dbe1adea41fb4...</td><td>0</td><td>0.0</td><td>36.0</td></tr>\n",
       "<tr><td>d4de0de3ab7d79ad4...</td><td>0</td><td>0.0</td><td>35.0</td></tr>\n",
       "<tr><td>1d4e1ef4353b73c00...</td><td>0</td><td>0.0</td><td>30.0</td></tr>\n",
       "<tr><td>6f196952e71277fd4...</td><td>4</td><td>0.0</td><td>5.0</td></tr>\n",
       "<tr><td>9c617cbc6e3e3d6a1...</td><td>1</td><td>0.0</td><td>20.0</td></tr>\n",
       "<tr><td>45eb04dd75400a942...</td><td>0</td><td>0.0</td><td>28.0</td></tr>\n",
       "<tr><td>8ff4d0ed17a1cab92...</td><td>1</td><td>0.0</td><td>15.0</td></tr>\n",
       "<tr><td>aec13cfd611b2cfea...</td><td>1</td><td>0.0</td><td>19.0</td></tr>\n",
       "<tr><td>9ba8c96ccba6cd1f0...</td><td>0</td><td>0.0</td><td>37.0</td></tr>\n",
       "<tr><td>2cf47faee0c996343...</td><td>0</td><td>0.0</td><td>24.0</td></tr>\n",
       "<tr><td>220e4dd490018abff...</td><td>0</td><td>0.0</td><td>57.0</td></tr>\n",
       "<tr><td>aaa32c29cb9ccc7ff...</td><td>0</td><td>0.0</td><td>35.0</td></tr>\n",
       "<tr><td>af7a8a661df3318bd...</td><td>2</td><td>0.0</td><td>7.0</td></tr>\n",
       "<tr><td>0e744cffa05697dfa...</td><td>0</td><td>0.0</td><td>45.0</td></tr>\n",
       "</table>\n",
       "only showing top 20 rows\n"
      ],
      "text/plain": [
       "+--------------------+--------------+-------------+------------------------+\n",
       "|           member_id|delinq_in_2yrs|delinq_amount|months_since_last_delinq|\n",
       "+--------------------+--------------+-------------+------------------------+\n",
       "|b59d80da191f5b573...|             0|          0.0|                    31.0|\n",
       "|202d9f56ecb7c3bc9...|             1|          0.0|                     6.0|\n",
       "|e5a140c0922b554b9...|             0|          0.0|                    47.0|\n",
       "|e12aefc548f750777...|             0|          0.0|                    33.0|\n",
       "|1b3a50d854fbbf97e...|             1|          0.0|                    21.0|\n",
       "|9847d8c1e9d0b2084...|             1|          0.0|                     6.0|\n",
       "|8340dbe1adea41fb4...|             0|          0.0|                    36.0|\n",
       "|d4de0de3ab7d79ad4...|             0|          0.0|                    35.0|\n",
       "|1d4e1ef4353b73c00...|             0|          0.0|                    30.0|\n",
       "|6f196952e71277fd4...|             4|          0.0|                     5.0|\n",
       "|9c617cbc6e3e3d6a1...|             1|          0.0|                    20.0|\n",
       "|45eb04dd75400a942...|             0|          0.0|                    28.0|\n",
       "|8ff4d0ed17a1cab92...|             1|          0.0|                    15.0|\n",
       "|aec13cfd611b2cfea...|             1|          0.0|                    19.0|\n",
       "|9ba8c96ccba6cd1f0...|             0|          0.0|                    37.0|\n",
       "|2cf47faee0c996343...|             0|          0.0|                    24.0|\n",
       "|220e4dd490018abff...|             0|          0.0|                    57.0|\n",
       "|aaa32c29cb9ccc7ff...|             0|          0.0|                    35.0|\n",
       "|af7a8a661df3318bd...|             2|          0.0|                     7.0|\n",
       "|0e744cffa05697dfa...|             0|          0.0|                    45.0|\n",
       "+--------------------+--------------+-------------+------------------------+\n",
       "only showing top 20 rows"
      ]
     },
     "execution_count": 51,
     "metadata": {},
     "output_type": "execute_result"
    }
   ],
   "source": [
    "spark.sql(\"select * from itv010130_Loan_Database.defaulters_delinquent\")"
   ]
  },
  {
   "cell_type": "markdown",
   "id": "4e2df9d2",
   "metadata": {},
   "source": [
    "### 5.1 Drop defaulters_delinquent Table"
   ]
  },
  {
   "cell_type": "code",
   "execution_count": 48,
   "id": "0701c009",
   "metadata": {},
   "outputs": [
    {
     "data": {
      "text/html": [
       "<table border='1'>\n",
       "<tr><th></th></tr>\n",
       "</table>\n"
      ],
      "text/plain": [
       "++\n",
       "||\n",
       "++\n",
       "++"
      ]
     },
     "execution_count": 48,
     "metadata": {},
     "output_type": "execute_result"
    }
   ],
   "source": [
    "spark.sql(\"drop table itv010130_Loan_Database.defaulters_delinquent\")"
   ]
  },
  {
   "cell_type": "code",
   "execution_count": 49,
   "id": "ebee709f",
   "metadata": {},
   "outputs": [
    {
     "ename": "AnalysisException",
     "evalue": "Table or view not found: itv010130_Loan_Database.defaulters_delinquent; line 1 pos 14;\n'Project [*]\n+- 'UnresolvedRelation [itv010130_Loan_Database, defaulters_delinquent], [], false\n",
     "output_type": "error",
     "traceback": [
      "\u001b[0;31m---------------------------------------------------------------------------\u001b[0m",
      "\u001b[0;31mAnalysisException\u001b[0m                         Traceback (most recent call last)",
      "\u001b[0;32m<ipython-input-49-aabe07f06089>\u001b[0m in \u001b[0;36m<module>\u001b[0;34m\u001b[0m\n\u001b[0;32m----> 1\u001b[0;31m \u001b[0mspark\u001b[0m\u001b[0;34m.\u001b[0m\u001b[0msql\u001b[0m\u001b[0;34m(\u001b[0m\u001b[0;34m\"select * from itv010130_Loan_Database.defaulters_delinquent\"\u001b[0m\u001b[0;34m)\u001b[0m\u001b[0;34m\u001b[0m\u001b[0;34m\u001b[0m\u001b[0m\n\u001b[0m",
      "\u001b[0;32m/opt/spark-3.1.2-bin-hadoop3.2/python/pyspark/sql/session.py\u001b[0m in \u001b[0;36msql\u001b[0;34m(self, sqlQuery)\u001b[0m\n\u001b[1;32m    721\u001b[0m         \u001b[0;34m[\u001b[0m\u001b[0mRow\u001b[0m\u001b[0;34m(\u001b[0m\u001b[0mf1\u001b[0m\u001b[0;34m=\u001b[0m\u001b[0;36m1\u001b[0m\u001b[0;34m,\u001b[0m \u001b[0mf2\u001b[0m\u001b[0;34m=\u001b[0m\u001b[0;34m'row1'\u001b[0m\u001b[0;34m)\u001b[0m\u001b[0;34m,\u001b[0m \u001b[0mRow\u001b[0m\u001b[0;34m(\u001b[0m\u001b[0mf1\u001b[0m\u001b[0;34m=\u001b[0m\u001b[0;36m2\u001b[0m\u001b[0;34m,\u001b[0m \u001b[0mf2\u001b[0m\u001b[0;34m=\u001b[0m\u001b[0;34m'row2'\u001b[0m\u001b[0;34m)\u001b[0m\u001b[0;34m,\u001b[0m \u001b[0mRow\u001b[0m\u001b[0;34m(\u001b[0m\u001b[0mf1\u001b[0m\u001b[0;34m=\u001b[0m\u001b[0;36m3\u001b[0m\u001b[0;34m,\u001b[0m \u001b[0mf2\u001b[0m\u001b[0;34m=\u001b[0m\u001b[0;34m'row3'\u001b[0m\u001b[0;34m)\u001b[0m\u001b[0;34m]\u001b[0m\u001b[0;34m\u001b[0m\u001b[0;34m\u001b[0m\u001b[0m\n\u001b[1;32m    722\u001b[0m         \"\"\"\n\u001b[0;32m--> 723\u001b[0;31m         \u001b[0;32mreturn\u001b[0m \u001b[0mDataFrame\u001b[0m\u001b[0;34m(\u001b[0m\u001b[0mself\u001b[0m\u001b[0;34m.\u001b[0m\u001b[0m_jsparkSession\u001b[0m\u001b[0;34m.\u001b[0m\u001b[0msql\u001b[0m\u001b[0;34m(\u001b[0m\u001b[0msqlQuery\u001b[0m\u001b[0;34m)\u001b[0m\u001b[0;34m,\u001b[0m \u001b[0mself\u001b[0m\u001b[0;34m.\u001b[0m\u001b[0m_wrapped\u001b[0m\u001b[0;34m)\u001b[0m\u001b[0;34m\u001b[0m\u001b[0;34m\u001b[0m\u001b[0m\n\u001b[0m\u001b[1;32m    724\u001b[0m \u001b[0;34m\u001b[0m\u001b[0m\n\u001b[1;32m    725\u001b[0m     \u001b[0;32mdef\u001b[0m \u001b[0mtable\u001b[0m\u001b[0;34m(\u001b[0m\u001b[0mself\u001b[0m\u001b[0;34m,\u001b[0m \u001b[0mtableName\u001b[0m\u001b[0;34m)\u001b[0m\u001b[0;34m:\u001b[0m\u001b[0;34m\u001b[0m\u001b[0;34m\u001b[0m\u001b[0m\n",
      "\u001b[0;32m/opt/spark-3.1.2-bin-hadoop3.2/python/lib/py4j-0.10.9-src.zip/py4j/java_gateway.py\u001b[0m in \u001b[0;36m__call__\u001b[0;34m(self, *args)\u001b[0m\n\u001b[1;32m   1303\u001b[0m         \u001b[0manswer\u001b[0m \u001b[0;34m=\u001b[0m \u001b[0mself\u001b[0m\u001b[0;34m.\u001b[0m\u001b[0mgateway_client\u001b[0m\u001b[0;34m.\u001b[0m\u001b[0msend_command\u001b[0m\u001b[0;34m(\u001b[0m\u001b[0mcommand\u001b[0m\u001b[0;34m)\u001b[0m\u001b[0;34m\u001b[0m\u001b[0;34m\u001b[0m\u001b[0m\n\u001b[1;32m   1304\u001b[0m         return_value = get_return_value(\n\u001b[0;32m-> 1305\u001b[0;31m             answer, self.gateway_client, self.target_id, self.name)\n\u001b[0m\u001b[1;32m   1306\u001b[0m \u001b[0;34m\u001b[0m\u001b[0m\n\u001b[1;32m   1307\u001b[0m         \u001b[0;32mfor\u001b[0m \u001b[0mtemp_arg\u001b[0m \u001b[0;32min\u001b[0m \u001b[0mtemp_args\u001b[0m\u001b[0;34m:\u001b[0m\u001b[0;34m\u001b[0m\u001b[0;34m\u001b[0m\u001b[0m\n",
      "\u001b[0;32m/opt/spark-3.1.2-bin-hadoop3.2/python/pyspark/sql/utils.py\u001b[0m in \u001b[0;36mdeco\u001b[0;34m(*a, **kw)\u001b[0m\n\u001b[1;32m    115\u001b[0m                 \u001b[0;31m# Hide where the exception came from that shows a non-Pythonic\u001b[0m\u001b[0;34m\u001b[0m\u001b[0;34m\u001b[0m\u001b[0;34m\u001b[0m\u001b[0m\n\u001b[1;32m    116\u001b[0m                 \u001b[0;31m# JVM exception message.\u001b[0m\u001b[0;34m\u001b[0m\u001b[0;34m\u001b[0m\u001b[0;34m\u001b[0m\u001b[0m\n\u001b[0;32m--> 117\u001b[0;31m                 \u001b[0;32mraise\u001b[0m \u001b[0mconverted\u001b[0m \u001b[0;32mfrom\u001b[0m \u001b[0;32mNone\u001b[0m\u001b[0;34m\u001b[0m\u001b[0;34m\u001b[0m\u001b[0m\n\u001b[0m\u001b[1;32m    118\u001b[0m             \u001b[0;32melse\u001b[0m\u001b[0;34m:\u001b[0m\u001b[0;34m\u001b[0m\u001b[0;34m\u001b[0m\u001b[0m\n\u001b[1;32m    119\u001b[0m                 \u001b[0;32mraise\u001b[0m\u001b[0;34m\u001b[0m\u001b[0;34m\u001b[0m\u001b[0m\n",
      "\u001b[0;31mAnalysisException\u001b[0m: Table or view not found: itv010130_Loan_Database.defaulters_delinquent; line 1 pos 14;\n'Project [*]\n+- 'UnresolvedRelation [itv010130_Loan_Database, defaulters_delinquent], [], false\n"
     ]
    }
   ],
   "source": [
    "spark.sql(\"select * from itv010130_Loan_Database.defaulters_delinquent\")"
   ]
  },
  {
   "cell_type": "code",
   "execution_count": 9,
   "id": "c2592394",
   "metadata": {},
   "outputs": [],
   "source": [
    "spark.stop()"
   ]
  },
  {
   "cell_type": "code",
   "execution_count": null,
   "id": "6c706b08",
   "metadata": {},
   "outputs": [],
   "source": []
  }
 ],
 "metadata": {
  "kernelspec": {
   "display_name": "Pyspark 3",
   "language": "python",
   "name": "pyspark3"
  },
  "language_info": {
   "codemirror_mode": {
    "name": "ipython",
    "version": 3
   },
   "file_extension": ".py",
   "mimetype": "text/x-python",
   "name": "python",
   "nbconvert_exporter": "python",
   "pygments_lexer": "ipython3",
   "version": "3.6.12"
  }
 },
 "nbformat": 4,
 "nbformat_minor": 5
}
