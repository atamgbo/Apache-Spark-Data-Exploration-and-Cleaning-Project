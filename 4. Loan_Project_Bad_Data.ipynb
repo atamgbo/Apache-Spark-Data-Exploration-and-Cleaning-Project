{
 "cells": [
  {
   "cell_type": "code",
   "execution_count": 93,
   "id": "00982521",
   "metadata": {},
   "outputs": [],
   "source": [
    "from pyspark.sql import SparkSession\n",
    "import getpass\n",
    "username = getpass.getuser()\n",
    "spark = SparkSession. \\\n",
    "    builder. \\\n",
    "    config('spark.ui.port','0'). \\\n",
    "    config(\"spark.shuffle.useOldFetchProtocol\",\"true\"). \\\n",
    "    config(\"spark.sql.warehouse.dir\",f\"/user/itv010130/warehouse\"). \\\n",
    "    enableHiveSupport(). \\\n",
    "    master('yarn'). \\\n",
    "    getOrCreate()"
   ]
  },
  {
   "cell_type": "markdown",
   "id": "dec7fb0a",
   "metadata": {},
   "source": [
    "### Identifying The Bad Data"
   ]
  },
  {
   "cell_type": "code",
   "execution_count": 94,
   "id": "83e141f5",
   "metadata": {},
   "outputs": [
    {
     "data": {
      "text/html": [
       "<table border='1'>\n",
       "<tr><th>member_id</th><th>total</th></tr>\n",
       "<tr><td>e4c167053d5418230...</td><td>5</td></tr>\n",
       "<tr><td>76b577467eda5bdbc...</td><td>4</td></tr>\n",
       "<tr><td>3f87585a20f702838...</td><td>4</td></tr>\n",
       "<tr><td>ad8e5d384dae17e06...</td><td>4</td></tr>\n",
       "<tr><td>22593a1870543b2db...</td><td>3</td></tr>\n",
       "<tr><td>819453be77718d747...</td><td>3</td></tr>\n",
       "<tr><td>498bb6b1f0099cb47...</td><td>3</td></tr>\n",
       "<tr><td>f54295a60946dedad...</td><td>3</td></tr>\n",
       "<tr><td>53789bea7edc660ed...</td><td>3</td></tr>\n",
       "<tr><td>c563428cb58da48ff...</td><td>3</td></tr>\n",
       "<tr><td>d9ce4046daf599732...</td><td>3</td></tr>\n",
       "<tr><td>3ae415acd6bbfaac1...</td><td>3</td></tr>\n",
       "<tr><td>291ca1b09ef11ca3e...</td><td>3</td></tr>\n",
       "<tr><td>066ddaa64bee66dff...</td><td>3</td></tr>\n",
       "<tr><td>5d52e7773cb0efff3...</td><td>3</td></tr>\n",
       "<tr><td>4ab6205de571ccb7b...</td><td>3</td></tr>\n",
       "<tr><td>d3731bad3e6a82515...</td><td>3</td></tr>\n",
       "<tr><td>035bf3d8288d803bd...</td><td>3</td></tr>\n",
       "<tr><td>c92062bb371842b3d...</td><td>3</td></tr>\n",
       "<tr><td>e7d8d16928817ec8f...</td><td>3</td></tr>\n",
       "</table>\n",
       "only showing top 20 rows\n"
      ],
      "text/plain": [
       "+--------------------+-----+\n",
       "|           member_id|total|\n",
       "+--------------------+-----+\n",
       "|e4c167053d5418230...|    5|\n",
       "|ad8e5d384dae17e06...|    4|\n",
       "|3f87585a20f702838...|    4|\n",
       "|76b577467eda5bdbc...|    4|\n",
       "|498bb6b1f0099cb47...|    3|\n",
       "|f54295a60946dedad...|    3|\n",
       "|035bf3d8288d803bd...|    3|\n",
       "|066ddaa64bee66dff...|    3|\n",
       "|819453be77718d747...|    3|\n",
       "|4ab6205de571ccb7b...|    3|\n",
       "|d3731bad3e6a82515...|    3|\n",
       "|53789bea7edc660ed...|    3|\n",
       "|c92062bb371842b3d...|    3|\n",
       "|291ca1b09ef11ca3e...|    3|\n",
       "|22593a1870543b2db...|    3|\n",
       "|a2356725aa9da92c6...|    3|\n",
       "|5d52e7773cb0efff3...|    3|\n",
       "|c563428cb58da48ff...|    3|\n",
       "|059d401bb603d9a80...|    3|\n",
       "|3ae415acd6bbfaac1...|    3|\n",
       "+--------------------+-----+\n",
       "only showing top 20 rows"
      ]
     },
     "execution_count": 94,
     "metadata": {},
     "output_type": "execute_result"
    }
   ],
   "source": [
    "spark.sql(\"select member_id,count(member_id) as total from itv010130_Loan_Database.customers group by member_id order by total desc\")"
   ]
  },
  {
   "cell_type": "code",
   "execution_count": 95,
   "id": "9b88f273",
   "metadata": {},
   "outputs": [
    {
     "data": {
      "text/html": [
       "<table border='1'>\n",
       "<tr><th>member_id</th><th>emp_title</th><th>emp_length</th><th>home_ownership</th><th>annual_income</th><th>address_state</th><th>address_zipcode</th><th>address_country</th><th>grade</th><th>sub_grade</th><th>verification_status</th><th>total_high_credit_limit</th><th>application_type</th><th>join_annual_income</th><th>verification_status_joint</th><th>ingestion_date</th></tr>\n",
       "<tr><td>e4c167053d5418230...</td><td>null</td><td>6</td><td>MORTGAGE</td><td>55000.0</td><td>IL</td><td>604xx</td><td>USA</td><td>B</td><td>B5</td><td>Verified</td><td>110907.0</td><td>Individual</td><td>null</td><td>null</td><td>2024-07-15 16:44:...</td></tr>\n",
       "<tr><td>e4c167053d5418230...</td><td>null</td><td>6</td><td>MORTGAGE</td><td>55000.0</td><td>IL</td><td>604xx</td><td>USA</td><td>B</td><td>B5</td><td>Verified</td><td>129833.0</td><td>Individual</td><td>null</td><td>null</td><td>2024-07-15 16:44:...</td></tr>\n",
       "<tr><td>e4c167053d5418230...</td><td>null</td><td>6</td><td>MORTGAGE</td><td>55000.0</td><td>IL</td><td>604xx</td><td>USA</td><td>B</td><td>B5</td><td>Verified</td><td>138780.0</td><td>Individual</td><td>null</td><td>null</td><td>2024-07-15 16:44:...</td></tr>\n",
       "<tr><td>e4c167053d5418230...</td><td>null</td><td>6</td><td>MORTGAGE</td><td>55000.0</td><td>IL</td><td>604xx</td><td>USA</td><td>B</td><td>B5</td><td>Verified</td><td>207300.0</td><td>Individual</td><td>null</td><td>null</td><td>2024-07-15 16:44:...</td></tr>\n",
       "<tr><td>e4c167053d5418230...</td><td>null</td><td>6</td><td>MORTGAGE</td><td>55000.0</td><td>IL</td><td>604xx</td><td>USA</td><td>B</td><td>B5</td><td>Verified</td><td>171165.0</td><td>Individual</td><td>null</td><td>null</td><td>2024-07-15 16:44:...</td></tr>\n",
       "</table>\n"
      ],
      "text/plain": [
       "+--------------------+---------+----------+--------------+-------------+-------------+---------------+---------------+-----+---------+-------------------+-----------------------+----------------+------------------+-------------------------+--------------------+\n",
       "|           member_id|emp_title|emp_length|home_ownership|annual_income|address_state|address_zipcode|address_country|grade|sub_grade|verification_status|total_high_credit_limit|application_type|join_annual_income|verification_status_joint|      ingestion_date|\n",
       "+--------------------+---------+----------+--------------+-------------+-------------+---------------+---------------+-----+---------+-------------------+-----------------------+----------------+------------------+-------------------------+--------------------+\n",
       "|e4c167053d5418230...|     null|         6|      MORTGAGE|      55000.0|           IL|          604xx|            USA|    B|       B5|           Verified|               110907.0|      Individual|              null|                     null|2024-07-15 16:44:...|\n",
       "|e4c167053d5418230...|     null|         6|      MORTGAGE|      55000.0|           IL|          604xx|            USA|    B|       B5|           Verified|               129833.0|      Individual|              null|                     null|2024-07-15 16:44:...|\n",
       "|e4c167053d5418230...|     null|         6|      MORTGAGE|      55000.0|           IL|          604xx|            USA|    B|       B5|           Verified|               138780.0|      Individual|              null|                     null|2024-07-15 16:44:...|\n",
       "|e4c167053d5418230...|     null|         6|      MORTGAGE|      55000.0|           IL|          604xx|            USA|    B|       B5|           Verified|               207300.0|      Individual|              null|                     null|2024-07-15 16:44:...|\n",
       "|e4c167053d5418230...|     null|         6|      MORTGAGE|      55000.0|           IL|          604xx|            USA|    B|       B5|           Verified|               171165.0|      Individual|              null|                     null|2024-07-15 16:44:...|\n",
       "+--------------------+---------+----------+--------------+-------------+-------------+---------------+---------------+-----+---------+-------------------+-----------------------+----------------+------------------+-------------------------+--------------------+"
      ]
     },
     "execution_count": 95,
     "metadata": {},
     "output_type": "execute_result"
    }
   ],
   "source": [
    "spark.sql(\"select * from itv010130_Loan_Database.customers where member_id like 'e4c167053d5418230%'\")"
   ]
  },
  {
   "cell_type": "code",
   "execution_count": 96,
   "id": "5110dfc8",
   "metadata": {},
   "outputs": [
    {
     "data": {
      "text/html": [
       "<table border='1'>\n",
       "<tr><th>member_id</th><th>total</th></tr>\n",
       "<tr><td>ee2d0dd6ad9e048b8...</td><td>3</td></tr>\n",
       "<tr><td>793b618a7de10f813...</td><td>3</td></tr>\n",
       "<tr><td>b67f4aa39e82954f2...</td><td>3</td></tr>\n",
       "<tr><td>bca141343d9405a9a...</td><td>3</td></tr>\n",
       "<tr><td>6f88761291d14b65e...</td><td>3</td></tr>\n",
       "</table>\n"
      ],
      "text/plain": [
       "+--------------------+-----+\n",
       "|           member_id|total|\n",
       "+--------------------+-----+\n",
       "|bca141343d9405a9a...|    3|\n",
       "|793b618a7de10f813...|    3|\n",
       "|6f88761291d14b65e...|    3|\n",
       "|1f392553105eebc55...|    3|\n",
       "|ee2d0dd6ad9e048b8...|    3|\n",
       "+--------------------+-----+"
      ]
     },
     "execution_count": 96,
     "metadata": {},
     "output_type": "execute_result"
    }
   ],
   "source": [
    "spark.sql(\"select member_id,count(member_id) as total from itv010130_Loan_Database.defaulters_delinquent group by member_id order by total desc limit 5\")"
   ]
  },
  {
   "cell_type": "code",
   "execution_count": 97,
   "id": "3d0dc3e0",
   "metadata": {},
   "outputs": [
    {
     "data": {
      "text/html": [
       "<table border='1'>\n",
       "<tr><th>member_id</th><th>delinq_in_2yrs</th><th>delinq_amount</th><th>months_since_last_delinq</th></tr>\n",
       "<tr><td>ee2d0dd6ad9e048b8...</td><td>0</td><td>0.0</td><td>25.0</td></tr>\n",
       "<tr><td>ee2d0dd6ad9e048b8...</td><td>0</td><td>0.0</td><td>66.0</td></tr>\n",
       "<tr><td>ee2d0dd6ad9e048b8...</td><td>1</td><td>0.0</td><td>18.0</td></tr>\n",
       "</table>\n"
      ],
      "text/plain": [
       "+--------------------+--------------+-------------+------------------------+\n",
       "|           member_id|delinq_in_2yrs|delinq_amount|months_since_last_delinq|\n",
       "+--------------------+--------------+-------------+------------------------+\n",
       "|ee2d0dd6ad9e048b8...|             0|          0.0|                    25.0|\n",
       "|ee2d0dd6ad9e048b8...|             0|          0.0|                    66.0|\n",
       "|ee2d0dd6ad9e048b8...|             1|          0.0|                    18.0|\n",
       "+--------------------+--------------+-------------+------------------------+"
      ]
     },
     "execution_count": 97,
     "metadata": {},
     "output_type": "execute_result"
    }
   ],
   "source": [
    "spark.sql(\"select * from itv010130_Loan_Database.defaulters_delinquent where member_id like 'ee2d0dd6ad9e048b8%'\")"
   ]
  },
  {
   "cell_type": "code",
   "execution_count": 98,
   "id": "6b277012",
   "metadata": {},
   "outputs": [
    {
     "data": {
      "text/html": [
       "<table border='1'>\n",
       "<tr><th>member_id</th><th>total</th></tr>\n",
       "<tr><td>e3b0c44298fc1c149...</td><td>33</td></tr>\n",
       "<tr><td>e4c167053d5418230...</td><td>5</td></tr>\n",
       "<tr><td>ad8e5d384dae17e06...</td><td>4</td></tr>\n",
       "<tr><td>76b577467eda5bdbc...</td><td>4</td></tr>\n",
       "<tr><td>3f87585a20f702838...</td><td>4</td></tr>\n",
       "</table>\n"
      ],
      "text/plain": [
       "+--------------------+-----+\n",
       "|           member_id|total|\n",
       "+--------------------+-----+\n",
       "|e3b0c44298fc1c149...|   33|\n",
       "|e4c167053d5418230...|    5|\n",
       "|3f87585a20f702838...|    4|\n",
       "|76b577467eda5bdbc...|    4|\n",
       "|ad8e5d384dae17e06...|    4|\n",
       "+--------------------+-----+"
      ]
     },
     "execution_count": 98,
     "metadata": {},
     "output_type": "execute_result"
    }
   ],
   "source": [
    "spark.sql(\"select member_id,count(member_id) as total from itv010130_Loan_Database.defaulters group by member_id order by total desc limit 5\")"
   ]
  },
  {
   "cell_type": "code",
   "execution_count": 99,
   "id": "d2a04269",
   "metadata": {},
   "outputs": [
    {
     "data": {
      "text/html": [
       "<table border='1'>\n",
       "<tr><th>member_id</th><th>pub_rec</th><th>pub_record_bankruptcies</th><th>inquiry_in_last_6mths</th></tr>\n",
       "<tr><td>e4c167053d5418230...</td><td>0</td><td>0</td><td>0</td></tr>\n",
       "<tr><td>e4c167053d5418230...</td><td>0</td><td>0</td><td>1</td></tr>\n",
       "<tr><td>e4c167053d5418230...</td><td>0</td><td>0</td><td>0</td></tr>\n",
       "<tr><td>e4c167053d5418230...</td><td>0</td><td>0</td><td>3</td></tr>\n",
       "<tr><td>e4c167053d5418230...</td><td>0</td><td>0</td><td>2</td></tr>\n",
       "</table>\n"
      ],
      "text/plain": [
       "+--------------------+-------+-----------------------+---------------------+\n",
       "|           member_id|pub_rec|pub_record_bankruptcies|inquiry_in_last_6mths|\n",
       "+--------------------+-------+-----------------------+---------------------+\n",
       "|e4c167053d5418230...|      0|                      0|                    0|\n",
       "|e4c167053d5418230...|      0|                      0|                    1|\n",
       "|e4c167053d5418230...|      0|                      0|                    0|\n",
       "|e4c167053d5418230...|      0|                      0|                    3|\n",
       "|e4c167053d5418230...|      0|                      0|                    2|\n",
       "+--------------------+-------+-----------------------+---------------------+"
      ]
     },
     "execution_count": 99,
     "metadata": {},
     "output_type": "execute_result"
    }
   ],
   "source": [
    "spark.sql(\"select * from itv010130_Loan_Database.defaulters where member_id like 'e4c167053d5418230%'\")"
   ]
  },
  {
   "cell_type": "markdown",
   "id": "f678ffe7",
   "metadata": {},
   "source": [
    "### Creating DataFrame and Saving The Bad Data"
   ]
  },
  {
   "cell_type": "code",
   "execution_count": 102,
   "id": "f5f45a31",
   "metadata": {},
   "outputs": [],
   "source": [
    "customer_bad_data_df = spark.sql(\"\"\"select member_id from (select member_id,count(*) as total from itv010130_Loan_Database.customers group by member_id having total > 1)\"\"\")"
   ]
  },
  {
   "cell_type": "code",
   "execution_count": 103,
   "id": "90153002",
   "metadata": {},
   "outputs": [
    {
     "data": {
      "text/plain": [
       "3157"
      ]
     },
     "execution_count": 103,
     "metadata": {},
     "output_type": "execute_result"
    }
   ],
   "source": [
    "customer_bad_data_df.count()"
   ]
  },
  {
   "cell_type": "code",
   "execution_count": 104,
   "id": "4d3d3d19",
   "metadata": {},
   "outputs": [],
   "source": [
    "defaulter_delinquent_bad_data_df = spark.sql(\"\"\"select member_id from (select member_id,count(*) as total from itv010130_Loan_Database.defaulters_delinquent group by member_id having total > 1)\"\"\")"
   ]
  },
  {
   "cell_type": "code",
   "execution_count": 112,
   "id": "a7f5fff7",
   "metadata": {},
   "outputs": [
    {
     "data": {
      "text/plain": [
       "939"
      ]
     },
     "execution_count": 112,
     "metadata": {},
     "output_type": "execute_result"
    }
   ],
   "source": [
    "defaulter_delinquent_bad_data_df.count()"
   ]
  },
  {
   "cell_type": "code",
   "execution_count": 106,
   "id": "e8e5f18f",
   "metadata": {},
   "outputs": [],
   "source": [
    "defaulter_bad_data_df = spark.sql(\"\"\"select member_id from (select member_id,count(*) as total from itv010130_Loan_Database.defaulters group by member_id having total > 1)\"\"\")"
   ]
  },
  {
   "cell_type": "code",
   "execution_count": 107,
   "id": "247d9ea8",
   "metadata": {},
   "outputs": [
    {
     "data": {
      "text/plain": [
       "3189"
      ]
     },
     "execution_count": 107,
     "metadata": {},
     "output_type": "execute_result"
    }
   ],
   "source": [
    "defaulter_bad_data_df.count()"
   ]
  },
  {
   "cell_type": "code",
   "execution_count": 108,
   "id": "07e4e5ab",
   "metadata": {},
   "outputs": [],
   "source": [
    "customer_bad_data_df.repartition(1).write \\\n",
    ".format('csv') \\\n",
    ".option('header',True) \\\n",
    ".mode('overwrite') \\\n",
    ".option(\"path\",\"/user/itv010130/loanproject/bad/customer_bad_data_csv\") \\\n",
    ".save()"
   ]
  },
  {
   "cell_type": "code",
   "execution_count": 58,
   "id": "c5121995",
   "metadata": {},
   "outputs": [
    {
     "name": "stdout",
     "output_type": "stream",
     "text": [
      "Found 1 items\n",
      "drwxr-xr-x   - itv010130 supergroup          0 2024-07-17 17:02 /user/itv010130/loanproject/bad/customer_bad_data_csv\n"
     ]
    }
   ],
   "source": [
    "!hadoop fs -ls /user/itv010130/loanproject/bad"
   ]
  },
  {
   "cell_type": "code",
   "execution_count": 109,
   "id": "f5e32cd0",
   "metadata": {},
   "outputs": [],
   "source": [
    "defaulter_delinquent_bad_data_df.repartition(1).write \\\n",
    ".format('csv') \\\n",
    ".option('header',True) \\\n",
    ".mode('overwrite') \\\n",
    ".option(\"path\",\"/user/itv010130/loanproject/bad/defaulter_delinquent_bad_data_csv\") \\\n",
    ".save()"
   ]
  },
  {
   "cell_type": "code",
   "execution_count": 110,
   "id": "6dfd4634",
   "metadata": {},
   "outputs": [],
   "source": [
    "defaulter_bad_data_df.repartition(1).write \\\n",
    ".format('csv') \\\n",
    ".option('header',True) \\\n",
    ".mode('overwrite') \\\n",
    ".option(\"path\",\"/user/itv010130/loanproject/bad/defaulter_bad_data_csv\") \\\n",
    ".save()"
   ]
  },
  {
   "cell_type": "code",
   "execution_count": 61,
   "id": "dad4f1e0",
   "metadata": {},
   "outputs": [
    {
     "name": "stdout",
     "output_type": "stream",
     "text": [
      "Found 3 items\n",
      "drwxr-xr-x   - itv010130 supergroup          0 2024-07-17 17:02 /user/itv010130/loanproject/bad/customer_bad_data_csv\n",
      "drwxr-xr-x   - itv010130 supergroup          0 2024-07-17 17:03 /user/itv010130/loanproject/bad/defaulter_bad_data_csv\n",
      "drwxr-xr-x   - itv010130 supergroup          0 2024-07-17 17:03 /user/itv010130/loanproject/bad/defaulter_delinquent_bad_data_csv\n"
     ]
    }
   ],
   "source": [
    "!hadoop fs -ls /user/itv010130/loanproject/bad"
   ]
  },
  {
   "cell_type": "markdown",
   "id": "32240cb9",
   "metadata": {},
   "source": [
    "### Combining and Storing All Bad Data"
   ]
  },
  {
   "cell_type": "code",
   "execution_count": 113,
   "id": "5cb7f4ef",
   "metadata": {},
   "outputs": [],
   "source": [
    "all_bad_data = customer_bad_data_df.select(\"member_id\") \\\n",
    ".union(defaulter_delinquent_bad_data_df.select(\"member_id\")) \\\n",
    ".union(defaulter_bad_data_df.select(\"member_id\"))"
   ]
  },
  {
   "cell_type": "code",
   "execution_count": 116,
   "id": "39ae610a",
   "metadata": {},
   "outputs": [],
   "source": [
    "distinct_all_bad_data = all_bad_data.distinct()"
   ]
  },
  {
   "cell_type": "code",
   "execution_count": 117,
   "id": "8f5e23c0",
   "metadata": {},
   "outputs": [
    {
     "data": {
      "text/plain": [
       "3189"
      ]
     },
     "execution_count": 117,
     "metadata": {},
     "output_type": "execute_result"
    }
   ],
   "source": [
    "distinct_all_bad_data.count()"
   ]
  },
  {
   "cell_type": "code",
   "execution_count": 118,
   "id": "def550d3",
   "metadata": {},
   "outputs": [],
   "source": [
    "distinct_all_bad_data.repartition(1).write \\\n",
    ".format('csv') \\\n",
    ".option('header',True) \\\n",
    ".mode('overwrite') \\\n",
    ".option(\"path\",\"/user/itv010130/loanproject/bad/customer_final_bad_data_csv\") \\\n",
    ".save()"
   ]
  },
  {
   "cell_type": "code",
   "execution_count": 67,
   "id": "a8ce4fda",
   "metadata": {},
   "outputs": [
    {
     "name": "stdout",
     "output_type": "stream",
     "text": [
      "Found 4 items\n",
      "drwxr-xr-x   - itv010130 supergroup          0 2024-07-17 17:02 /user/itv010130/loanproject/bad/customer_bad_data_csv\n",
      "drwxr-xr-x   - itv010130 supergroup          0 2024-07-17 17:12 /user/itv010130/loanproject/bad/customer_final_bad_data_csv\n",
      "drwxr-xr-x   - itv010130 supergroup          0 2024-07-17 17:03 /user/itv010130/loanproject/bad/defaulter_bad_data_csv\n",
      "drwxr-xr-x   - itv010130 supergroup          0 2024-07-17 17:03 /user/itv010130/loanproject/bad/defaulter_delinquent_bad_data_csv\n"
     ]
    }
   ],
   "source": [
    "!hadoop fs -ls /user/itv010130/loanproject/bad"
   ]
  },
  {
   "cell_type": "code",
   "execution_count": 68,
   "id": "48e2e259",
   "metadata": {},
   "outputs": [
    {
     "name": "stdout",
     "output_type": "stream",
     "text": [
      "Found 2 items\n",
      "-rw-r--r--   3 itv010130 supergroup          0 2024-07-17 17:12 /user/itv010130/loanproject/bad/customer_final_bad_data_csv/_SUCCESS\n",
      "-rw-r--r--   3 itv010130 supergroup     207295 2024-07-17 17:12 /user/itv010130/loanproject/bad/customer_final_bad_data_csv/part-00000-4350abec-f3d2-49a8-9d91-12aae61b23fa-c000.csv\n"
     ]
    }
   ],
   "source": [
    "!hadoop fs -ls /user/itv010130/loanproject/bad/customer_final_bad_data_csv"
   ]
  },
  {
   "cell_type": "code",
   "execution_count": 69,
   "id": "91e5116f",
   "metadata": {},
   "outputs": [
    {
     "name": "stdout",
     "output_type": "stream",
     "text": [
      "3190\n"
     ]
    }
   ],
   "source": [
    "!hadoop fs -cat /user/itv010130/loanproject/bad/customer_final_bad_data_csv/part-00000-4350abec-f3d2-49a8-9d91-12aae61b23fa-c000.csv | wc -l"
   ]
  },
  {
   "cell_type": "markdown",
   "id": "887f50f8",
   "metadata": {},
   "source": [
    "### Saving Updates Clean Files and Creating Tables"
   ]
  },
  {
   "cell_type": "code",
   "execution_count": 119,
   "id": "e049fd97",
   "metadata": {},
   "outputs": [],
   "source": [
    "distinct_all_bad_data.createOrReplaceTempView(\"all_bad_data\")"
   ]
  },
  {
   "cell_type": "code",
   "execution_count": 120,
   "id": "dce2a166",
   "metadata": {},
   "outputs": [],
   "source": [
    "new_customer_df = spark.sql(\"\"\"select * from itv010130_Loan_Database.customers where member_id NOT IN (select member_id from all_bad_data)\"\"\")"
   ]
  },
  {
   "cell_type": "code",
   "execution_count": 123,
   "id": "470e5dd9",
   "metadata": {},
   "outputs": [],
   "source": [
    "new_customer_df.write \\\n",
    ".format(\"parquet\") \\\n",
    ".mode(\"overwrite\") \\\n",
    ".option(\"path\",\"/user/itv010130/loanproject/new_cleaned/customers_data_parquet\") \\\n",
    ".save()"
   ]
  },
  {
   "cell_type": "code",
   "execution_count": 124,
   "id": "43d5844d",
   "metadata": {},
   "outputs": [],
   "source": [
    "new_defaulters_df = spark.sql(\"\"\"select * from itv010130_Loan_Database.defaulters where member_id NOT IN (select member_id from all_bad_data)\"\"\")"
   ]
  },
  {
   "cell_type": "code",
   "execution_count": 125,
   "id": "edad421b",
   "metadata": {},
   "outputs": [],
   "source": [
    "new_defaulters_df.write \\\n",
    ".format(\"parquet\") \\\n",
    ".mode(\"overwrite\") \\\n",
    ".option(\"path\",\"/user/itv010130/loanproject/new_cleaned/defaulters_data_parquet\") \\\n",
    ".save()"
   ]
  },
  {
   "cell_type": "code",
   "execution_count": 126,
   "id": "8a03ef33",
   "metadata": {},
   "outputs": [],
   "source": [
    "new_defaulters_delinquent_df = spark.sql(\"\"\"select * from itv010130_Loan_Database.defaulters_delinquent where member_id NOT IN (select member_id from all_bad_data)\"\"\")"
   ]
  },
  {
   "cell_type": "code",
   "execution_count": 127,
   "id": "647d2e78",
   "metadata": {},
   "outputs": [],
   "source": [
    "new_defaulters_delinquent_df.write \\\n",
    ".format(\"parquet\") \\\n",
    ".mode(\"overwrite\") \\\n",
    ".option(\"path\",\"/user/itv010130/loanproject/new_cleaned/defaulters_delinquent_data_parquet\") \\\n",
    ".save()"
   ]
  },
  {
   "cell_type": "markdown",
   "id": "441b113d",
   "metadata": {},
   "source": [
    "### Creating New External Tables"
   ]
  },
  {
   "cell_type": "code",
   "execution_count": 131,
   "id": "6391cbfd",
   "metadata": {},
   "outputs": [
    {
     "data": {
      "text/html": [
       "<table border='1'>\n",
       "<tr><th></th></tr>\n",
       "</table>\n"
      ],
      "text/plain": [
       "++\n",
       "||\n",
       "++\n",
       "++"
      ]
     },
     "execution_count": 131,
     "metadata": {},
     "output_type": "execute_result"
    }
   ],
   "source": [
    "spark.sql(\"\"\"\n",
    "CREATE EXTERNAL TABLE itv010130_Loan_Database.customers_new(member_id string,emp_title string,emp_length int,home_ownership string,annual_income float,address_state string,address_zipcode string,address_country string,grade string,sub_grade string,verification_status string,total_high_credit_limit float,application_type string,join_annual_income float,verification_status_joint string,ingestion_date timestamp) stored as parquet LOCATION '/user/itv010130/loanproject/new_cleaned/customers_data_parquet'\n",
    "\"\"\")"
   ]
  },
  {
   "cell_type": "code",
   "execution_count": 133,
   "id": "082ef287",
   "metadata": {},
   "outputs": [
    {
     "data": {
      "text/html": [
       "<table border='1'>\n",
       "<tr><th></th></tr>\n",
       "</table>\n"
      ],
      "text/plain": [
       "++\n",
       "||\n",
       "++\n",
       "++"
      ]
     },
     "execution_count": 133,
     "metadata": {},
     "output_type": "execute_result"
    }
   ],
   "source": [
    "spark.sql(\"\"\"\n",
    "CREATE EXTERNAL TABLE itv010130_Loan_Database.defaulters_new(member_id string,pub_rec int,pub_record_bankruptcies int,inquiry_in_last_6mths int) stored as parquet LOCATION '/user/itv010130/loanproject/new_cleaned/defaulters_data_parquet'\n",
    "\"\"\")"
   ]
  },
  {
   "cell_type": "code",
   "execution_count": 134,
   "id": "9740ffb5",
   "metadata": {},
   "outputs": [
    {
     "data": {
      "text/html": [
       "<table border='1'>\n",
       "<tr><th></th></tr>\n",
       "</table>\n"
      ],
      "text/plain": [
       "++\n",
       "||\n",
       "++\n",
       "++"
      ]
     },
     "execution_count": 134,
     "metadata": {},
     "output_type": "execute_result"
    }
   ],
   "source": [
    "spark.sql(\"\"\"\n",
    "CREATE EXTERNAL TABLE itv010130_Loan_Database.defaulters_delinquent_new(member_id string,delinq_in_2yrs int,delinq_amount float,months_since_last_delinq float) stored as parquet LOCATION '/user/itv010130/loanproject/new_cleaned/defaulters_delinquent_data_parquet'\n",
    "\"\"\")"
   ]
  },
  {
   "cell_type": "code",
   "execution_count": 135,
   "id": "352a54fe",
   "metadata": {},
   "outputs": [
    {
     "data": {
      "text/html": [
       "<table border='1'>\n",
       "<tr><th>member_id</th><th>total</th></tr>\n",
       "<tr><td>60f71322249c5f3ce...</td><td>1</td></tr>\n",
       "<tr><td>55a7b0d5e9ffaff74...</td><td>1</td></tr>\n",
       "<tr><td>4d23236b420459814...</td><td>1</td></tr>\n",
       "<tr><td>191062375281c4b23...</td><td>1</td></tr>\n",
       "<tr><td>8f712742d8569edf4...</td><td>1</td></tr>\n",
       "<tr><td>f1d6af0ceb261763a...</td><td>1</td></tr>\n",
       "<tr><td>b005861ee8ed595f1...</td><td>1</td></tr>\n",
       "<tr><td>d147010c35a2b6285...</td><td>1</td></tr>\n",
       "<tr><td>c106edf445b61dbae...</td><td>1</td></tr>\n",
       "<tr><td>babfc3aa487b63d5b...</td><td>1</td></tr>\n",
       "</table>\n"
      ],
      "text/plain": [
       "+--------------------+-----+\n",
       "|           member_id|total|\n",
       "+--------------------+-----+\n",
       "|35eaedb21a64ca76f...|    1|\n",
       "|026d42b2370107b9b...|    1|\n",
       "|a94d423c80975b01b...|    1|\n",
       "|2da321562ba679057...|    1|\n",
       "|0f1f62aae8a68a0f7...|    1|\n",
       "|f7953ea7a4b3f14d1...|    1|\n",
       "|90164361ebb97b9ed...|    1|\n",
       "|a850c18e059eea7ce...|    1|\n",
       "|496e23be267b56053...|    1|\n",
       "|f593ed8887e2d7dcb...|    1|\n",
       "+--------------------+-----+"
      ]
     },
     "execution_count": 135,
     "metadata": {},
     "output_type": "execute_result"
    }
   ],
   "source": [
    "spark.sql(\"select member_id, count(member_id) as total from itv010130_Loan_Database.customers_new group by member_id order by total desc limit 10\")"
   ]
  },
  {
   "cell_type": "code",
   "execution_count": 136,
   "id": "a4206729",
   "metadata": {},
   "outputs": [
    {
     "data": {
      "text/html": [
       "<table border='1'>\n",
       "<tr><th>member_id</th><th>total</th></tr>\n",
       "<tr><td>3df3cdeddb74a8712...</td><td>1</td></tr>\n",
       "<tr><td>0b6beb388edd047d8...</td><td>1</td></tr>\n",
       "<tr><td>c02f5f84058c5f952...</td><td>1</td></tr>\n",
       "<tr><td>0b9083d10c1a1db0b...</td><td>1</td></tr>\n",
       "<tr><td>57cf658ad87be221b...</td><td>1</td></tr>\n",
       "<tr><td>576209768213e3f3b...</td><td>1</td></tr>\n",
       "<tr><td>dfcbd6434a458f952...</td><td>1</td></tr>\n",
       "<tr><td>c2da27a4d1f99fba9...</td><td>1</td></tr>\n",
       "<tr><td>38c9e9077eac24f54...</td><td>1</td></tr>\n",
       "<tr><td>a85ccb7523cd134c1...</td><td>1</td></tr>\n",
       "</table>\n"
      ],
      "text/plain": [
       "+--------------------+-----+\n",
       "|           member_id|total|\n",
       "+--------------------+-----+\n",
       "|ecbc2cebd03b01935...|    1|\n",
       "|81ff6fceb88b63133...|    1|\n",
       "|aa4000a210810625b...|    1|\n",
       "|2f1a0fe8c60b65170...|    1|\n",
       "|d68981011a5008bf2...|    1|\n",
       "|d7ed0de1961357d87...|    1|\n",
       "|5966d5391d1c719af...|    1|\n",
       "|d93120ee14c4697f8...|    1|\n",
       "|7a9772c14571c4550...|    1|\n",
       "|429596bf95936ef52...|    1|\n",
       "+--------------------+-----+"
      ]
     },
     "execution_count": 136,
     "metadata": {},
     "output_type": "execute_result"
    }
   ],
   "source": [
    "spark.sql(\"select member_id, count(member_id) as total from itv010130_Loan_Database.defaulters_new group by member_id order by total desc limit 10\")"
   ]
  },
  {
   "cell_type": "code",
   "execution_count": 137,
   "id": "a73ed2f3",
   "metadata": {},
   "outputs": [
    {
     "data": {
      "text/html": [
       "<table border='1'>\n",
       "<tr><th>member_id</th><th>total</th></tr>\n",
       "<tr><td>dfcbd6434a458f952...</td><td>1</td></tr>\n",
       "<tr><td>38c9e9077eac24f54...</td><td>1</td></tr>\n",
       "<tr><td>37e30f66471454fba...</td><td>1</td></tr>\n",
       "<tr><td>b7ae8015bb4d13156...</td><td>1</td></tr>\n",
       "<tr><td>3082229e95dbf3a24...</td><td>1</td></tr>\n",
       "<tr><td>3b69b138136f83111...</td><td>1</td></tr>\n",
       "<tr><td>6c92f938d9f6ce989...</td><td>1</td></tr>\n",
       "<tr><td>1ce674fddf9f7c11e...</td><td>1</td></tr>\n",
       "<tr><td>fc0a58f165d67a681...</td><td>1</td></tr>\n",
       "<tr><td>e17ac2a96a5776fae...</td><td>1</td></tr>\n",
       "</table>\n"
      ],
      "text/plain": [
       "+--------------------+-----+\n",
       "|           member_id|total|\n",
       "+--------------------+-----+\n",
       "|297b3685bff900558...|    1|\n",
       "|b5a2dad88536a8490...|    1|\n",
       "|f905feb44b4a6e434...|    1|\n",
       "|eecbacb5aa8c38a2c...|    1|\n",
       "|1884e4b07401cbfa8...|    1|\n",
       "|959dfccf75808d71d...|    1|\n",
       "|7d6676a24c4cfc817...|    1|\n",
       "|e17dfee4e3130d8d9...|    1|\n",
       "|bd843590310ed61c8...|    1|\n",
       "|1745a20452540f955...|    1|\n",
       "+--------------------+-----+"
      ]
     },
     "execution_count": 137,
     "metadata": {},
     "output_type": "execute_result"
    }
   ],
   "source": [
    "spark.sql(\"select member_id, count(member_id) as total from itv010130_Loan_Database.defaulters_delinquent_new group by member_id order by total desc limit 10\")"
   ]
  },
  {
   "cell_type": "code",
   "execution_count": 138,
   "id": "9261d746",
   "metadata": {},
   "outputs": [],
   "source": [
    "spark.stop()"
   ]
  },
  {
   "cell_type": "code",
   "execution_count": null,
   "id": "f00d6609",
   "metadata": {},
   "outputs": [],
   "source": []
  }
 ],
 "metadata": {
  "kernelspec": {
   "display_name": "Pyspark 3",
   "language": "python",
   "name": "pyspark3"
  },
  "language_info": {
   "codemirror_mode": {
    "name": "ipython",
    "version": 3
   },
   "file_extension": ".py",
   "mimetype": "text/x-python",
   "name": "python",
   "nbconvert_exporter": "python",
   "pygments_lexer": "ipython3",
   "version": "3.6.12"
  }
 },
 "nbformat": 4,
 "nbformat_minor": 5
}
